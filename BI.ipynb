{
 "cells": [
  {
   "cell_type": "markdown",
   "id": "c3741d2c",
   "metadata": {},
   "source": [
    "## E-Commerce Project : \n",
    "### This project is all about helping VS Group, a U.S.-based e-commerce company, grow smarter.  \n",
    "\n"
   ]
  },
  {
   "cell_type": "markdown",
   "id": "24bf88e0",
   "metadata": {},
   "source": [
    "To identify the encoding to read csv file install charded"
   ]
  },
  {
   "cell_type": "code",
   "execution_count": 3,
   "id": "de6754e4",
   "metadata": {},
   "outputs": [],
   "source": [
    "# pip install chardet\n"
   ]
  },
  {
   "cell_type": "code",
   "execution_count": 4,
   "id": "31c3e85a",
   "metadata": {},
   "outputs": [
    {
     "name": "stdout",
     "output_type": "stream",
     "text": [
      "{'encoding': 'Windows-1252', 'confidence': 0.73, 'language': ''}\n"
     ]
    }
   ],
   "source": [
    "import pandas as pd \n",
    "import chardet \n",
    "\n",
    "with open('Superstore.csv', 'rb') as f:\n",
    "    result = chardet.detect(f.read(50000))  \n",
    "    print(result)"
   ]
  },
  {
   "cell_type": "markdown",
   "id": "330c40bb",
   "metadata": {},
   "source": [
    "### loading csv file using encoding='Windows-1252'"
   ]
  },
  {
   "cell_type": "code",
   "execution_count": 5,
   "id": "fb04ec98",
   "metadata": {},
   "outputs": [],
   "source": [
    "\n",
    "business_data = pd.read_csv('Superstore.csv', encoding='Windows-1252')\n"
   ]
  },
  {
   "cell_type": "code",
   "execution_count": 6,
   "id": "51a87c87",
   "metadata": {},
   "outputs": [
    {
     "data": {
      "text/html": [
       "<div>\n",
       "<style scoped>\n",
       "    .dataframe tbody tr th:only-of-type {\n",
       "        vertical-align: middle;\n",
       "    }\n",
       "\n",
       "    .dataframe tbody tr th {\n",
       "        vertical-align: top;\n",
       "    }\n",
       "\n",
       "    .dataframe thead th {\n",
       "        text-align: right;\n",
       "    }\n",
       "</style>\n",
       "<table border=\"1\" class=\"dataframe\">\n",
       "  <thead>\n",
       "    <tr style=\"text-align: right;\">\n",
       "      <th></th>\n",
       "      <th>Row ID</th>\n",
       "      <th>Order ID</th>\n",
       "      <th>Order Date</th>\n",
       "      <th>Ship Date</th>\n",
       "      <th>Ship Mode</th>\n",
       "      <th>Customer ID</th>\n",
       "      <th>Customer Name</th>\n",
       "      <th>Segment</th>\n",
       "      <th>Country</th>\n",
       "      <th>City</th>\n",
       "      <th>...</th>\n",
       "      <th>Postal Code</th>\n",
       "      <th>Region</th>\n",
       "      <th>Product ID</th>\n",
       "      <th>Category</th>\n",
       "      <th>Sub-Category</th>\n",
       "      <th>Product Name</th>\n",
       "      <th>Sales</th>\n",
       "      <th>Quantity</th>\n",
       "      <th>Discount</th>\n",
       "      <th>Profit</th>\n",
       "    </tr>\n",
       "  </thead>\n",
       "  <tbody>\n",
       "    <tr>\n",
       "      <th>0</th>\n",
       "      <td>1</td>\n",
       "      <td>CA-2016-152156</td>\n",
       "      <td>11/8/2016</td>\n",
       "      <td>11/11/2016</td>\n",
       "      <td>Second Class</td>\n",
       "      <td>CG-12520</td>\n",
       "      <td>Claire Gute</td>\n",
       "      <td>Consumer</td>\n",
       "      <td>United States</td>\n",
       "      <td>Henderson</td>\n",
       "      <td>...</td>\n",
       "      <td>42420</td>\n",
       "      <td>South</td>\n",
       "      <td>FUR-BO-10001798</td>\n",
       "      <td>Furniture</td>\n",
       "      <td>Bookcases</td>\n",
       "      <td>Bush Somerset Collection Bookcase</td>\n",
       "      <td>261.9600</td>\n",
       "      <td>2</td>\n",
       "      <td>0.00</td>\n",
       "      <td>41.9136</td>\n",
       "    </tr>\n",
       "    <tr>\n",
       "      <th>1</th>\n",
       "      <td>2</td>\n",
       "      <td>CA-2016-152156</td>\n",
       "      <td>11/8/2016</td>\n",
       "      <td>11/11/2016</td>\n",
       "      <td>Second Class</td>\n",
       "      <td>CG-12520</td>\n",
       "      <td>Claire Gute</td>\n",
       "      <td>Consumer</td>\n",
       "      <td>United States</td>\n",
       "      <td>Henderson</td>\n",
       "      <td>...</td>\n",
       "      <td>42420</td>\n",
       "      <td>South</td>\n",
       "      <td>FUR-CH-10000454</td>\n",
       "      <td>Furniture</td>\n",
       "      <td>Chairs</td>\n",
       "      <td>Hon Deluxe Fabric Upholstered Stacking Chairs,...</td>\n",
       "      <td>731.9400</td>\n",
       "      <td>3</td>\n",
       "      <td>0.00</td>\n",
       "      <td>219.5820</td>\n",
       "    </tr>\n",
       "    <tr>\n",
       "      <th>2</th>\n",
       "      <td>3</td>\n",
       "      <td>CA-2016-138688</td>\n",
       "      <td>6/12/2016</td>\n",
       "      <td>6/16/2016</td>\n",
       "      <td>Second Class</td>\n",
       "      <td>DV-13045</td>\n",
       "      <td>Darrin Van Huff</td>\n",
       "      <td>Corporate</td>\n",
       "      <td>United States</td>\n",
       "      <td>Los Angeles</td>\n",
       "      <td>...</td>\n",
       "      <td>90036</td>\n",
       "      <td>West</td>\n",
       "      <td>OFF-LA-10000240</td>\n",
       "      <td>Office Supplies</td>\n",
       "      <td>Labels</td>\n",
       "      <td>Self-Adhesive Address Labels for Typewriters b...</td>\n",
       "      <td>14.6200</td>\n",
       "      <td>2</td>\n",
       "      <td>0.00</td>\n",
       "      <td>6.8714</td>\n",
       "    </tr>\n",
       "    <tr>\n",
       "      <th>3</th>\n",
       "      <td>4</td>\n",
       "      <td>US-2015-108966</td>\n",
       "      <td>10/11/2015</td>\n",
       "      <td>10/18/2015</td>\n",
       "      <td>Standard Class</td>\n",
       "      <td>SO-20335</td>\n",
       "      <td>Sean O'Donnell</td>\n",
       "      <td>Consumer</td>\n",
       "      <td>United States</td>\n",
       "      <td>Fort Lauderdale</td>\n",
       "      <td>...</td>\n",
       "      <td>33311</td>\n",
       "      <td>South</td>\n",
       "      <td>FUR-TA-10000577</td>\n",
       "      <td>Furniture</td>\n",
       "      <td>Tables</td>\n",
       "      <td>Bretford CR4500 Series Slim Rectangular Table</td>\n",
       "      <td>957.5775</td>\n",
       "      <td>5</td>\n",
       "      <td>0.45</td>\n",
       "      <td>-383.0310</td>\n",
       "    </tr>\n",
       "    <tr>\n",
       "      <th>4</th>\n",
       "      <td>5</td>\n",
       "      <td>US-2015-108966</td>\n",
       "      <td>10/11/2015</td>\n",
       "      <td>10/18/2015</td>\n",
       "      <td>Standard Class</td>\n",
       "      <td>SO-20335</td>\n",
       "      <td>Sean O'Donnell</td>\n",
       "      <td>Consumer</td>\n",
       "      <td>United States</td>\n",
       "      <td>Fort Lauderdale</td>\n",
       "      <td>...</td>\n",
       "      <td>33311</td>\n",
       "      <td>South</td>\n",
       "      <td>OFF-ST-10000760</td>\n",
       "      <td>Office Supplies</td>\n",
       "      <td>Storage</td>\n",
       "      <td>Eldon Fold 'N Roll Cart System</td>\n",
       "      <td>22.3680</td>\n",
       "      <td>2</td>\n",
       "      <td>0.20</td>\n",
       "      <td>2.5164</td>\n",
       "    </tr>\n",
       "    <tr>\n",
       "      <th>...</th>\n",
       "      <td>...</td>\n",
       "      <td>...</td>\n",
       "      <td>...</td>\n",
       "      <td>...</td>\n",
       "      <td>...</td>\n",
       "      <td>...</td>\n",
       "      <td>...</td>\n",
       "      <td>...</td>\n",
       "      <td>...</td>\n",
       "      <td>...</td>\n",
       "      <td>...</td>\n",
       "      <td>...</td>\n",
       "      <td>...</td>\n",
       "      <td>...</td>\n",
       "      <td>...</td>\n",
       "      <td>...</td>\n",
       "      <td>...</td>\n",
       "      <td>...</td>\n",
       "      <td>...</td>\n",
       "      <td>...</td>\n",
       "      <td>...</td>\n",
       "    </tr>\n",
       "    <tr>\n",
       "      <th>9989</th>\n",
       "      <td>9990</td>\n",
       "      <td>CA-2014-110422</td>\n",
       "      <td>1/21/2014</td>\n",
       "      <td>1/23/2014</td>\n",
       "      <td>Second Class</td>\n",
       "      <td>TB-21400</td>\n",
       "      <td>Tom Boeckenhauer</td>\n",
       "      <td>Consumer</td>\n",
       "      <td>United States</td>\n",
       "      <td>Miami</td>\n",
       "      <td>...</td>\n",
       "      <td>33180</td>\n",
       "      <td>South</td>\n",
       "      <td>FUR-FU-10001889</td>\n",
       "      <td>Furniture</td>\n",
       "      <td>Furnishings</td>\n",
       "      <td>Ultra Door Pull Handle</td>\n",
       "      <td>25.2480</td>\n",
       "      <td>3</td>\n",
       "      <td>0.20</td>\n",
       "      <td>4.1028</td>\n",
       "    </tr>\n",
       "    <tr>\n",
       "      <th>9990</th>\n",
       "      <td>9991</td>\n",
       "      <td>CA-2017-121258</td>\n",
       "      <td>2/26/2017</td>\n",
       "      <td>3/3/2017</td>\n",
       "      <td>Standard Class</td>\n",
       "      <td>DB-13060</td>\n",
       "      <td>Dave Brooks</td>\n",
       "      <td>Consumer</td>\n",
       "      <td>United States</td>\n",
       "      <td>Costa Mesa</td>\n",
       "      <td>...</td>\n",
       "      <td>92627</td>\n",
       "      <td>West</td>\n",
       "      <td>FUR-FU-10000747</td>\n",
       "      <td>Furniture</td>\n",
       "      <td>Furnishings</td>\n",
       "      <td>Tenex B1-RE Series Chair Mats for Low Pile Car...</td>\n",
       "      <td>91.9600</td>\n",
       "      <td>2</td>\n",
       "      <td>0.00</td>\n",
       "      <td>15.6332</td>\n",
       "    </tr>\n",
       "    <tr>\n",
       "      <th>9991</th>\n",
       "      <td>9992</td>\n",
       "      <td>CA-2017-121258</td>\n",
       "      <td>2/26/2017</td>\n",
       "      <td>3/3/2017</td>\n",
       "      <td>Standard Class</td>\n",
       "      <td>DB-13060</td>\n",
       "      <td>Dave Brooks</td>\n",
       "      <td>Consumer</td>\n",
       "      <td>United States</td>\n",
       "      <td>Costa Mesa</td>\n",
       "      <td>...</td>\n",
       "      <td>92627</td>\n",
       "      <td>West</td>\n",
       "      <td>TEC-PH-10003645</td>\n",
       "      <td>Technology</td>\n",
       "      <td>Phones</td>\n",
       "      <td>Aastra 57i VoIP phone</td>\n",
       "      <td>258.5760</td>\n",
       "      <td>2</td>\n",
       "      <td>0.20</td>\n",
       "      <td>19.3932</td>\n",
       "    </tr>\n",
       "    <tr>\n",
       "      <th>9992</th>\n",
       "      <td>9993</td>\n",
       "      <td>CA-2017-121258</td>\n",
       "      <td>2/26/2017</td>\n",
       "      <td>3/3/2017</td>\n",
       "      <td>Standard Class</td>\n",
       "      <td>DB-13060</td>\n",
       "      <td>Dave Brooks</td>\n",
       "      <td>Consumer</td>\n",
       "      <td>United States</td>\n",
       "      <td>Costa Mesa</td>\n",
       "      <td>...</td>\n",
       "      <td>92627</td>\n",
       "      <td>West</td>\n",
       "      <td>OFF-PA-10004041</td>\n",
       "      <td>Office Supplies</td>\n",
       "      <td>Paper</td>\n",
       "      <td>It's Hot Message Books with Stickers, 2 3/4\" x 5\"</td>\n",
       "      <td>29.6000</td>\n",
       "      <td>4</td>\n",
       "      <td>0.00</td>\n",
       "      <td>13.3200</td>\n",
       "    </tr>\n",
       "    <tr>\n",
       "      <th>9993</th>\n",
       "      <td>9994</td>\n",
       "      <td>CA-2017-119914</td>\n",
       "      <td>5/4/2017</td>\n",
       "      <td>5/9/2017</td>\n",
       "      <td>Second Class</td>\n",
       "      <td>CC-12220</td>\n",
       "      <td>Chris Cortes</td>\n",
       "      <td>Consumer</td>\n",
       "      <td>United States</td>\n",
       "      <td>Westminster</td>\n",
       "      <td>...</td>\n",
       "      <td>92683</td>\n",
       "      <td>West</td>\n",
       "      <td>OFF-AP-10002684</td>\n",
       "      <td>Office Supplies</td>\n",
       "      <td>Appliances</td>\n",
       "      <td>Acco 7-Outlet Masterpiece Power Center, Wihtou...</td>\n",
       "      <td>243.1600</td>\n",
       "      <td>2</td>\n",
       "      <td>0.00</td>\n",
       "      <td>72.9480</td>\n",
       "    </tr>\n",
       "  </tbody>\n",
       "</table>\n",
       "<p>9994 rows × 21 columns</p>\n",
       "</div>"
      ],
      "text/plain": [
       "      Row ID        Order ID  Order Date   Ship Date       Ship Mode  \\\n",
       "0          1  CA-2016-152156   11/8/2016  11/11/2016    Second Class   \n",
       "1          2  CA-2016-152156   11/8/2016  11/11/2016    Second Class   \n",
       "2          3  CA-2016-138688   6/12/2016   6/16/2016    Second Class   \n",
       "3          4  US-2015-108966  10/11/2015  10/18/2015  Standard Class   \n",
       "4          5  US-2015-108966  10/11/2015  10/18/2015  Standard Class   \n",
       "...      ...             ...         ...         ...             ...   \n",
       "9989    9990  CA-2014-110422   1/21/2014   1/23/2014    Second Class   \n",
       "9990    9991  CA-2017-121258   2/26/2017    3/3/2017  Standard Class   \n",
       "9991    9992  CA-2017-121258   2/26/2017    3/3/2017  Standard Class   \n",
       "9992    9993  CA-2017-121258   2/26/2017    3/3/2017  Standard Class   \n",
       "9993    9994  CA-2017-119914    5/4/2017    5/9/2017    Second Class   \n",
       "\n",
       "     Customer ID     Customer Name    Segment        Country             City  \\\n",
       "0       CG-12520       Claire Gute   Consumer  United States        Henderson   \n",
       "1       CG-12520       Claire Gute   Consumer  United States        Henderson   \n",
       "2       DV-13045   Darrin Van Huff  Corporate  United States      Los Angeles   \n",
       "3       SO-20335    Sean O'Donnell   Consumer  United States  Fort Lauderdale   \n",
       "4       SO-20335    Sean O'Donnell   Consumer  United States  Fort Lauderdale   \n",
       "...          ...               ...        ...            ...              ...   \n",
       "9989    TB-21400  Tom Boeckenhauer   Consumer  United States            Miami   \n",
       "9990    DB-13060       Dave Brooks   Consumer  United States       Costa Mesa   \n",
       "9991    DB-13060       Dave Brooks   Consumer  United States       Costa Mesa   \n",
       "9992    DB-13060       Dave Brooks   Consumer  United States       Costa Mesa   \n",
       "9993    CC-12220      Chris Cortes   Consumer  United States      Westminster   \n",
       "\n",
       "      ... Postal Code  Region       Product ID         Category Sub-Category  \\\n",
       "0     ...       42420   South  FUR-BO-10001798        Furniture    Bookcases   \n",
       "1     ...       42420   South  FUR-CH-10000454        Furniture       Chairs   \n",
       "2     ...       90036    West  OFF-LA-10000240  Office Supplies       Labels   \n",
       "3     ...       33311   South  FUR-TA-10000577        Furniture       Tables   \n",
       "4     ...       33311   South  OFF-ST-10000760  Office Supplies      Storage   \n",
       "...   ...         ...     ...              ...              ...          ...   \n",
       "9989  ...       33180   South  FUR-FU-10001889        Furniture  Furnishings   \n",
       "9990  ...       92627    West  FUR-FU-10000747        Furniture  Furnishings   \n",
       "9991  ...       92627    West  TEC-PH-10003645       Technology       Phones   \n",
       "9992  ...       92627    West  OFF-PA-10004041  Office Supplies        Paper   \n",
       "9993  ...       92683    West  OFF-AP-10002684  Office Supplies   Appliances   \n",
       "\n",
       "                                           Product Name     Sales  Quantity  \\\n",
       "0                     Bush Somerset Collection Bookcase  261.9600         2   \n",
       "1     Hon Deluxe Fabric Upholstered Stacking Chairs,...  731.9400         3   \n",
       "2     Self-Adhesive Address Labels for Typewriters b...   14.6200         2   \n",
       "3         Bretford CR4500 Series Slim Rectangular Table  957.5775         5   \n",
       "4                        Eldon Fold 'N Roll Cart System   22.3680         2   \n",
       "...                                                 ...       ...       ...   \n",
       "9989                             Ultra Door Pull Handle   25.2480         3   \n",
       "9990  Tenex B1-RE Series Chair Mats for Low Pile Car...   91.9600         2   \n",
       "9991                              Aastra 57i VoIP phone  258.5760         2   \n",
       "9992  It's Hot Message Books with Stickers, 2 3/4\" x 5\"   29.6000         4   \n",
       "9993  Acco 7-Outlet Masterpiece Power Center, Wihtou...  243.1600         2   \n",
       "\n",
       "      Discount    Profit  \n",
       "0         0.00   41.9136  \n",
       "1         0.00  219.5820  \n",
       "2         0.00    6.8714  \n",
       "3         0.45 -383.0310  \n",
       "4         0.20    2.5164  \n",
       "...        ...       ...  \n",
       "9989      0.20    4.1028  \n",
       "9990      0.00   15.6332  \n",
       "9991      0.20   19.3932  \n",
       "9992      0.00   13.3200  \n",
       "9993      0.00   72.9480  \n",
       "\n",
       "[9994 rows x 21 columns]"
      ]
     },
     "execution_count": 6,
     "metadata": {},
     "output_type": "execute_result"
    }
   ],
   "source": [
    "business_data"
   ]
  },
  {
   "cell_type": "code",
   "execution_count": 7,
   "id": "9d5082ac",
   "metadata": {},
   "outputs": [
    {
     "name": "stdout",
     "output_type": "stream",
     "text": [
      "<class 'pandas.core.frame.DataFrame'>\n",
      "RangeIndex: 9994 entries, 0 to 9993\n",
      "Data columns (total 21 columns):\n",
      " #   Column         Non-Null Count  Dtype  \n",
      "---  ------         --------------  -----  \n",
      " 0   Row ID         9994 non-null   int64  \n",
      " 1   Order ID       9994 non-null   object \n",
      " 2   Order Date     9994 non-null   object \n",
      " 3   Ship Date      9994 non-null   object \n",
      " 4   Ship Mode      9994 non-null   object \n",
      " 5   Customer ID    9994 non-null   object \n",
      " 6   Customer Name  9994 non-null   object \n",
      " 7   Segment        9994 non-null   object \n",
      " 8   Country        9994 non-null   object \n",
      " 9   City           9994 non-null   object \n",
      " 10  State          9994 non-null   object \n",
      " 11  Postal Code    9994 non-null   int64  \n",
      " 12  Region         9994 non-null   object \n",
      " 13  Product ID     9994 non-null   object \n",
      " 14  Category       9994 non-null   object \n",
      " 15  Sub-Category   9994 non-null   object \n",
      " 16  Product Name   9994 non-null   object \n",
      " 17  Sales          9994 non-null   float64\n",
      " 18  Quantity       9994 non-null   int64  \n",
      " 19  Discount       9994 non-null   float64\n",
      " 20  Profit         9994 non-null   float64\n",
      "dtypes: float64(3), int64(3), object(15)\n",
      "memory usage: 1.6+ MB\n"
     ]
    }
   ],
   "source": [
    "business_data.info()"
   ]
  },
  {
   "cell_type": "markdown",
   "id": "32b8fa75",
   "metadata": {},
   "source": [
    "### Remove the space from Column Header"
   ]
  },
  {
   "cell_type": "code",
   "execution_count": 8,
   "id": "bde49e5a",
   "metadata": {},
   "outputs": [
    {
     "data": {
      "text/html": [
       "<div>\n",
       "<style scoped>\n",
       "    .dataframe tbody tr th:only-of-type {\n",
       "        vertical-align: middle;\n",
       "    }\n",
       "\n",
       "    .dataframe tbody tr th {\n",
       "        vertical-align: top;\n",
       "    }\n",
       "\n",
       "    .dataframe thead th {\n",
       "        text-align: right;\n",
       "    }\n",
       "</style>\n",
       "<table border=\"1\" class=\"dataframe\">\n",
       "  <thead>\n",
       "    <tr style=\"text-align: right;\">\n",
       "      <th></th>\n",
       "      <th>RowID</th>\n",
       "      <th>OrderID</th>\n",
       "      <th>OrderDate</th>\n",
       "      <th>ShipDate</th>\n",
       "      <th>ShipMode</th>\n",
       "      <th>CustomerID</th>\n",
       "      <th>CustomerName</th>\n",
       "      <th>Segment</th>\n",
       "      <th>Country</th>\n",
       "      <th>City</th>\n",
       "      <th>...</th>\n",
       "      <th>PostalCode</th>\n",
       "      <th>Region</th>\n",
       "      <th>ProductID</th>\n",
       "      <th>Category</th>\n",
       "      <th>Sub-Category</th>\n",
       "      <th>ProductName</th>\n",
       "      <th>Sales</th>\n",
       "      <th>Quantity</th>\n",
       "      <th>Discount</th>\n",
       "      <th>Profit</th>\n",
       "    </tr>\n",
       "  </thead>\n",
       "  <tbody>\n",
       "    <tr>\n",
       "      <th>0</th>\n",
       "      <td>1</td>\n",
       "      <td>CA-2016-152156</td>\n",
       "      <td>11/8/2016</td>\n",
       "      <td>11/11/2016</td>\n",
       "      <td>Second Class</td>\n",
       "      <td>CG-12520</td>\n",
       "      <td>Claire Gute</td>\n",
       "      <td>Consumer</td>\n",
       "      <td>United States</td>\n",
       "      <td>Henderson</td>\n",
       "      <td>...</td>\n",
       "      <td>42420</td>\n",
       "      <td>South</td>\n",
       "      <td>FUR-BO-10001798</td>\n",
       "      <td>Furniture</td>\n",
       "      <td>Bookcases</td>\n",
       "      <td>Bush Somerset Collection Bookcase</td>\n",
       "      <td>261.9600</td>\n",
       "      <td>2</td>\n",
       "      <td>0.00</td>\n",
       "      <td>41.9136</td>\n",
       "    </tr>\n",
       "    <tr>\n",
       "      <th>1</th>\n",
       "      <td>2</td>\n",
       "      <td>CA-2016-152156</td>\n",
       "      <td>11/8/2016</td>\n",
       "      <td>11/11/2016</td>\n",
       "      <td>Second Class</td>\n",
       "      <td>CG-12520</td>\n",
       "      <td>Claire Gute</td>\n",
       "      <td>Consumer</td>\n",
       "      <td>United States</td>\n",
       "      <td>Henderson</td>\n",
       "      <td>...</td>\n",
       "      <td>42420</td>\n",
       "      <td>South</td>\n",
       "      <td>FUR-CH-10000454</td>\n",
       "      <td>Furniture</td>\n",
       "      <td>Chairs</td>\n",
       "      <td>Hon Deluxe Fabric Upholstered Stacking Chairs,...</td>\n",
       "      <td>731.9400</td>\n",
       "      <td>3</td>\n",
       "      <td>0.00</td>\n",
       "      <td>219.5820</td>\n",
       "    </tr>\n",
       "    <tr>\n",
       "      <th>2</th>\n",
       "      <td>3</td>\n",
       "      <td>CA-2016-138688</td>\n",
       "      <td>6/12/2016</td>\n",
       "      <td>6/16/2016</td>\n",
       "      <td>Second Class</td>\n",
       "      <td>DV-13045</td>\n",
       "      <td>Darrin Van Huff</td>\n",
       "      <td>Corporate</td>\n",
       "      <td>United States</td>\n",
       "      <td>Los Angeles</td>\n",
       "      <td>...</td>\n",
       "      <td>90036</td>\n",
       "      <td>West</td>\n",
       "      <td>OFF-LA-10000240</td>\n",
       "      <td>Office Supplies</td>\n",
       "      <td>Labels</td>\n",
       "      <td>Self-Adhesive Address Labels for Typewriters b...</td>\n",
       "      <td>14.6200</td>\n",
       "      <td>2</td>\n",
       "      <td>0.00</td>\n",
       "      <td>6.8714</td>\n",
       "    </tr>\n",
       "    <tr>\n",
       "      <th>3</th>\n",
       "      <td>4</td>\n",
       "      <td>US-2015-108966</td>\n",
       "      <td>10/11/2015</td>\n",
       "      <td>10/18/2015</td>\n",
       "      <td>Standard Class</td>\n",
       "      <td>SO-20335</td>\n",
       "      <td>Sean O'Donnell</td>\n",
       "      <td>Consumer</td>\n",
       "      <td>United States</td>\n",
       "      <td>Fort Lauderdale</td>\n",
       "      <td>...</td>\n",
       "      <td>33311</td>\n",
       "      <td>South</td>\n",
       "      <td>FUR-TA-10000577</td>\n",
       "      <td>Furniture</td>\n",
       "      <td>Tables</td>\n",
       "      <td>Bretford CR4500 Series Slim Rectangular Table</td>\n",
       "      <td>957.5775</td>\n",
       "      <td>5</td>\n",
       "      <td>0.45</td>\n",
       "      <td>-383.0310</td>\n",
       "    </tr>\n",
       "    <tr>\n",
       "      <th>4</th>\n",
       "      <td>5</td>\n",
       "      <td>US-2015-108966</td>\n",
       "      <td>10/11/2015</td>\n",
       "      <td>10/18/2015</td>\n",
       "      <td>Standard Class</td>\n",
       "      <td>SO-20335</td>\n",
       "      <td>Sean O'Donnell</td>\n",
       "      <td>Consumer</td>\n",
       "      <td>United States</td>\n",
       "      <td>Fort Lauderdale</td>\n",
       "      <td>...</td>\n",
       "      <td>33311</td>\n",
       "      <td>South</td>\n",
       "      <td>OFF-ST-10000760</td>\n",
       "      <td>Office Supplies</td>\n",
       "      <td>Storage</td>\n",
       "      <td>Eldon Fold 'N Roll Cart System</td>\n",
       "      <td>22.3680</td>\n",
       "      <td>2</td>\n",
       "      <td>0.20</td>\n",
       "      <td>2.5164</td>\n",
       "    </tr>\n",
       "    <tr>\n",
       "      <th>...</th>\n",
       "      <td>...</td>\n",
       "      <td>...</td>\n",
       "      <td>...</td>\n",
       "      <td>...</td>\n",
       "      <td>...</td>\n",
       "      <td>...</td>\n",
       "      <td>...</td>\n",
       "      <td>...</td>\n",
       "      <td>...</td>\n",
       "      <td>...</td>\n",
       "      <td>...</td>\n",
       "      <td>...</td>\n",
       "      <td>...</td>\n",
       "      <td>...</td>\n",
       "      <td>...</td>\n",
       "      <td>...</td>\n",
       "      <td>...</td>\n",
       "      <td>...</td>\n",
       "      <td>...</td>\n",
       "      <td>...</td>\n",
       "      <td>...</td>\n",
       "    </tr>\n",
       "    <tr>\n",
       "      <th>9989</th>\n",
       "      <td>9990</td>\n",
       "      <td>CA-2014-110422</td>\n",
       "      <td>1/21/2014</td>\n",
       "      <td>1/23/2014</td>\n",
       "      <td>Second Class</td>\n",
       "      <td>TB-21400</td>\n",
       "      <td>Tom Boeckenhauer</td>\n",
       "      <td>Consumer</td>\n",
       "      <td>United States</td>\n",
       "      <td>Miami</td>\n",
       "      <td>...</td>\n",
       "      <td>33180</td>\n",
       "      <td>South</td>\n",
       "      <td>FUR-FU-10001889</td>\n",
       "      <td>Furniture</td>\n",
       "      <td>Furnishings</td>\n",
       "      <td>Ultra Door Pull Handle</td>\n",
       "      <td>25.2480</td>\n",
       "      <td>3</td>\n",
       "      <td>0.20</td>\n",
       "      <td>4.1028</td>\n",
       "    </tr>\n",
       "    <tr>\n",
       "      <th>9990</th>\n",
       "      <td>9991</td>\n",
       "      <td>CA-2017-121258</td>\n",
       "      <td>2/26/2017</td>\n",
       "      <td>3/3/2017</td>\n",
       "      <td>Standard Class</td>\n",
       "      <td>DB-13060</td>\n",
       "      <td>Dave Brooks</td>\n",
       "      <td>Consumer</td>\n",
       "      <td>United States</td>\n",
       "      <td>Costa Mesa</td>\n",
       "      <td>...</td>\n",
       "      <td>92627</td>\n",
       "      <td>West</td>\n",
       "      <td>FUR-FU-10000747</td>\n",
       "      <td>Furniture</td>\n",
       "      <td>Furnishings</td>\n",
       "      <td>Tenex B1-RE Series Chair Mats for Low Pile Car...</td>\n",
       "      <td>91.9600</td>\n",
       "      <td>2</td>\n",
       "      <td>0.00</td>\n",
       "      <td>15.6332</td>\n",
       "    </tr>\n",
       "    <tr>\n",
       "      <th>9991</th>\n",
       "      <td>9992</td>\n",
       "      <td>CA-2017-121258</td>\n",
       "      <td>2/26/2017</td>\n",
       "      <td>3/3/2017</td>\n",
       "      <td>Standard Class</td>\n",
       "      <td>DB-13060</td>\n",
       "      <td>Dave Brooks</td>\n",
       "      <td>Consumer</td>\n",
       "      <td>United States</td>\n",
       "      <td>Costa Mesa</td>\n",
       "      <td>...</td>\n",
       "      <td>92627</td>\n",
       "      <td>West</td>\n",
       "      <td>TEC-PH-10003645</td>\n",
       "      <td>Technology</td>\n",
       "      <td>Phones</td>\n",
       "      <td>Aastra 57i VoIP phone</td>\n",
       "      <td>258.5760</td>\n",
       "      <td>2</td>\n",
       "      <td>0.20</td>\n",
       "      <td>19.3932</td>\n",
       "    </tr>\n",
       "    <tr>\n",
       "      <th>9992</th>\n",
       "      <td>9993</td>\n",
       "      <td>CA-2017-121258</td>\n",
       "      <td>2/26/2017</td>\n",
       "      <td>3/3/2017</td>\n",
       "      <td>Standard Class</td>\n",
       "      <td>DB-13060</td>\n",
       "      <td>Dave Brooks</td>\n",
       "      <td>Consumer</td>\n",
       "      <td>United States</td>\n",
       "      <td>Costa Mesa</td>\n",
       "      <td>...</td>\n",
       "      <td>92627</td>\n",
       "      <td>West</td>\n",
       "      <td>OFF-PA-10004041</td>\n",
       "      <td>Office Supplies</td>\n",
       "      <td>Paper</td>\n",
       "      <td>It's Hot Message Books with Stickers, 2 3/4\" x 5\"</td>\n",
       "      <td>29.6000</td>\n",
       "      <td>4</td>\n",
       "      <td>0.00</td>\n",
       "      <td>13.3200</td>\n",
       "    </tr>\n",
       "    <tr>\n",
       "      <th>9993</th>\n",
       "      <td>9994</td>\n",
       "      <td>CA-2017-119914</td>\n",
       "      <td>5/4/2017</td>\n",
       "      <td>5/9/2017</td>\n",
       "      <td>Second Class</td>\n",
       "      <td>CC-12220</td>\n",
       "      <td>Chris Cortes</td>\n",
       "      <td>Consumer</td>\n",
       "      <td>United States</td>\n",
       "      <td>Westminster</td>\n",
       "      <td>...</td>\n",
       "      <td>92683</td>\n",
       "      <td>West</td>\n",
       "      <td>OFF-AP-10002684</td>\n",
       "      <td>Office Supplies</td>\n",
       "      <td>Appliances</td>\n",
       "      <td>Acco 7-Outlet Masterpiece Power Center, Wihtou...</td>\n",
       "      <td>243.1600</td>\n",
       "      <td>2</td>\n",
       "      <td>0.00</td>\n",
       "      <td>72.9480</td>\n",
       "    </tr>\n",
       "  </tbody>\n",
       "</table>\n",
       "<p>9994 rows × 21 columns</p>\n",
       "</div>"
      ],
      "text/plain": [
       "      RowID         OrderID   OrderDate    ShipDate        ShipMode  \\\n",
       "0         1  CA-2016-152156   11/8/2016  11/11/2016    Second Class   \n",
       "1         2  CA-2016-152156   11/8/2016  11/11/2016    Second Class   \n",
       "2         3  CA-2016-138688   6/12/2016   6/16/2016    Second Class   \n",
       "3         4  US-2015-108966  10/11/2015  10/18/2015  Standard Class   \n",
       "4         5  US-2015-108966  10/11/2015  10/18/2015  Standard Class   \n",
       "...     ...             ...         ...         ...             ...   \n",
       "9989   9990  CA-2014-110422   1/21/2014   1/23/2014    Second Class   \n",
       "9990   9991  CA-2017-121258   2/26/2017    3/3/2017  Standard Class   \n",
       "9991   9992  CA-2017-121258   2/26/2017    3/3/2017  Standard Class   \n",
       "9992   9993  CA-2017-121258   2/26/2017    3/3/2017  Standard Class   \n",
       "9993   9994  CA-2017-119914    5/4/2017    5/9/2017    Second Class   \n",
       "\n",
       "     CustomerID      CustomerName    Segment        Country             City  \\\n",
       "0      CG-12520       Claire Gute   Consumer  United States        Henderson   \n",
       "1      CG-12520       Claire Gute   Consumer  United States        Henderson   \n",
       "2      DV-13045   Darrin Van Huff  Corporate  United States      Los Angeles   \n",
       "3      SO-20335    Sean O'Donnell   Consumer  United States  Fort Lauderdale   \n",
       "4      SO-20335    Sean O'Donnell   Consumer  United States  Fort Lauderdale   \n",
       "...         ...               ...        ...            ...              ...   \n",
       "9989   TB-21400  Tom Boeckenhauer   Consumer  United States            Miami   \n",
       "9990   DB-13060       Dave Brooks   Consumer  United States       Costa Mesa   \n",
       "9991   DB-13060       Dave Brooks   Consumer  United States       Costa Mesa   \n",
       "9992   DB-13060       Dave Brooks   Consumer  United States       Costa Mesa   \n",
       "9993   CC-12220      Chris Cortes   Consumer  United States      Westminster   \n",
       "\n",
       "      ... PostalCode  Region        ProductID         Category Sub-Category  \\\n",
       "0     ...      42420   South  FUR-BO-10001798        Furniture    Bookcases   \n",
       "1     ...      42420   South  FUR-CH-10000454        Furniture       Chairs   \n",
       "2     ...      90036    West  OFF-LA-10000240  Office Supplies       Labels   \n",
       "3     ...      33311   South  FUR-TA-10000577        Furniture       Tables   \n",
       "4     ...      33311   South  OFF-ST-10000760  Office Supplies      Storage   \n",
       "...   ...        ...     ...              ...              ...          ...   \n",
       "9989  ...      33180   South  FUR-FU-10001889        Furniture  Furnishings   \n",
       "9990  ...      92627    West  FUR-FU-10000747        Furniture  Furnishings   \n",
       "9991  ...      92627    West  TEC-PH-10003645       Technology       Phones   \n",
       "9992  ...      92627    West  OFF-PA-10004041  Office Supplies        Paper   \n",
       "9993  ...      92683    West  OFF-AP-10002684  Office Supplies   Appliances   \n",
       "\n",
       "                                            ProductName     Sales  Quantity  \\\n",
       "0                     Bush Somerset Collection Bookcase  261.9600         2   \n",
       "1     Hon Deluxe Fabric Upholstered Stacking Chairs,...  731.9400         3   \n",
       "2     Self-Adhesive Address Labels for Typewriters b...   14.6200         2   \n",
       "3         Bretford CR4500 Series Slim Rectangular Table  957.5775         5   \n",
       "4                        Eldon Fold 'N Roll Cart System   22.3680         2   \n",
       "...                                                 ...       ...       ...   \n",
       "9989                             Ultra Door Pull Handle   25.2480         3   \n",
       "9990  Tenex B1-RE Series Chair Mats for Low Pile Car...   91.9600         2   \n",
       "9991                              Aastra 57i VoIP phone  258.5760         2   \n",
       "9992  It's Hot Message Books with Stickers, 2 3/4\" x 5\"   29.6000         4   \n",
       "9993  Acco 7-Outlet Masterpiece Power Center, Wihtou...  243.1600         2   \n",
       "\n",
       "      Discount    Profit  \n",
       "0         0.00   41.9136  \n",
       "1         0.00  219.5820  \n",
       "2         0.00    6.8714  \n",
       "3         0.45 -383.0310  \n",
       "4         0.20    2.5164  \n",
       "...        ...       ...  \n",
       "9989      0.20    4.1028  \n",
       "9990      0.00   15.6332  \n",
       "9991      0.20   19.3932  \n",
       "9992      0.00   13.3200  \n",
       "9993      0.00   72.9480  \n",
       "\n",
       "[9994 rows x 21 columns]"
      ]
     },
     "execution_count": 8,
     "metadata": {},
     "output_type": "execute_result"
    }
   ],
   "source": [
    "business_data.columns = [col.replace(\" \", \"\") for col in business_data]\n",
    "business_data"
   ]
  },
  {
   "cell_type": "code",
   "execution_count": null,
   "id": "e0c172ce",
   "metadata": {},
   "outputs": [],
   "source": []
  },
  {
   "cell_type": "code",
   "execution_count": 9,
   "id": "2d229c4a",
   "metadata": {},
   "outputs": [
    {
     "data": {
      "text/html": [
       "<div>\n",
       "<style scoped>\n",
       "    .dataframe tbody tr th:only-of-type {\n",
       "        vertical-align: middle;\n",
       "    }\n",
       "\n",
       "    .dataframe tbody tr th {\n",
       "        vertical-align: top;\n",
       "    }\n",
       "\n",
       "    .dataframe thead th {\n",
       "        text-align: right;\n",
       "    }\n",
       "</style>\n",
       "<table border=\"1\" class=\"dataframe\">\n",
       "  <thead>\n",
       "    <tr style=\"text-align: right;\">\n",
       "      <th></th>\n",
       "      <th>RowID</th>\n",
       "      <th>OrderID</th>\n",
       "      <th>OrderDate</th>\n",
       "      <th>ShipDate</th>\n",
       "      <th>ShipMode</th>\n",
       "      <th>CustomerID</th>\n",
       "      <th>CustomerName</th>\n",
       "      <th>Segment</th>\n",
       "      <th>Country</th>\n",
       "      <th>City</th>\n",
       "      <th>...</th>\n",
       "      <th>Region</th>\n",
       "      <th>ProductID</th>\n",
       "      <th>Category</th>\n",
       "      <th>Sub-Category</th>\n",
       "      <th>ProductName</th>\n",
       "      <th>Sales</th>\n",
       "      <th>Quantity</th>\n",
       "      <th>Discount</th>\n",
       "      <th>Profit</th>\n",
       "      <th>LocationID</th>\n",
       "    </tr>\n",
       "  </thead>\n",
       "  <tbody>\n",
       "    <tr>\n",
       "      <th>0</th>\n",
       "      <td>1</td>\n",
       "      <td>CA-2016-152156</td>\n",
       "      <td>11/8/2016</td>\n",
       "      <td>11/11/2016</td>\n",
       "      <td>Second Class</td>\n",
       "      <td>CG-12520</td>\n",
       "      <td>Claire Gute</td>\n",
       "      <td>Consumer</td>\n",
       "      <td>United States</td>\n",
       "      <td>Henderson</td>\n",
       "      <td>...</td>\n",
       "      <td>South</td>\n",
       "      <td>FUR-BO-10001798</td>\n",
       "      <td>Furniture</td>\n",
       "      <td>Bookcases</td>\n",
       "      <td>Bush Somerset Collection Bookcase</td>\n",
       "      <td>261.9600</td>\n",
       "      <td>2</td>\n",
       "      <td>0.00</td>\n",
       "      <td>41.9136</td>\n",
       "      <td>L001</td>\n",
       "    </tr>\n",
       "    <tr>\n",
       "      <th>1</th>\n",
       "      <td>2</td>\n",
       "      <td>CA-2016-152156</td>\n",
       "      <td>11/8/2016</td>\n",
       "      <td>11/11/2016</td>\n",
       "      <td>Second Class</td>\n",
       "      <td>CG-12520</td>\n",
       "      <td>Claire Gute</td>\n",
       "      <td>Consumer</td>\n",
       "      <td>United States</td>\n",
       "      <td>Henderson</td>\n",
       "      <td>...</td>\n",
       "      <td>South</td>\n",
       "      <td>FUR-CH-10000454</td>\n",
       "      <td>Furniture</td>\n",
       "      <td>Chairs</td>\n",
       "      <td>Hon Deluxe Fabric Upholstered Stacking Chairs,...</td>\n",
       "      <td>731.9400</td>\n",
       "      <td>3</td>\n",
       "      <td>0.00</td>\n",
       "      <td>219.5820</td>\n",
       "      <td>L002</td>\n",
       "    </tr>\n",
       "    <tr>\n",
       "      <th>2</th>\n",
       "      <td>3</td>\n",
       "      <td>CA-2016-138688</td>\n",
       "      <td>6/12/2016</td>\n",
       "      <td>6/16/2016</td>\n",
       "      <td>Second Class</td>\n",
       "      <td>DV-13045</td>\n",
       "      <td>Darrin Van Huff</td>\n",
       "      <td>Corporate</td>\n",
       "      <td>United States</td>\n",
       "      <td>Los Angeles</td>\n",
       "      <td>...</td>\n",
       "      <td>West</td>\n",
       "      <td>OFF-LA-10000240</td>\n",
       "      <td>Office Supplies</td>\n",
       "      <td>Labels</td>\n",
       "      <td>Self-Adhesive Address Labels for Typewriters b...</td>\n",
       "      <td>14.6200</td>\n",
       "      <td>2</td>\n",
       "      <td>0.00</td>\n",
       "      <td>6.8714</td>\n",
       "      <td>L003</td>\n",
       "    </tr>\n",
       "    <tr>\n",
       "      <th>3</th>\n",
       "      <td>4</td>\n",
       "      <td>US-2015-108966</td>\n",
       "      <td>10/11/2015</td>\n",
       "      <td>10/18/2015</td>\n",
       "      <td>Standard Class</td>\n",
       "      <td>SO-20335</td>\n",
       "      <td>Sean O'Donnell</td>\n",
       "      <td>Consumer</td>\n",
       "      <td>United States</td>\n",
       "      <td>Fort Lauderdale</td>\n",
       "      <td>...</td>\n",
       "      <td>South</td>\n",
       "      <td>FUR-TA-10000577</td>\n",
       "      <td>Furniture</td>\n",
       "      <td>Tables</td>\n",
       "      <td>Bretford CR4500 Series Slim Rectangular Table</td>\n",
       "      <td>957.5775</td>\n",
       "      <td>5</td>\n",
       "      <td>0.45</td>\n",
       "      <td>-383.0310</td>\n",
       "      <td>L004</td>\n",
       "    </tr>\n",
       "    <tr>\n",
       "      <th>4</th>\n",
       "      <td>5</td>\n",
       "      <td>US-2015-108966</td>\n",
       "      <td>10/11/2015</td>\n",
       "      <td>10/18/2015</td>\n",
       "      <td>Standard Class</td>\n",
       "      <td>SO-20335</td>\n",
       "      <td>Sean O'Donnell</td>\n",
       "      <td>Consumer</td>\n",
       "      <td>United States</td>\n",
       "      <td>Fort Lauderdale</td>\n",
       "      <td>...</td>\n",
       "      <td>South</td>\n",
       "      <td>OFF-ST-10000760</td>\n",
       "      <td>Office Supplies</td>\n",
       "      <td>Storage</td>\n",
       "      <td>Eldon Fold 'N Roll Cart System</td>\n",
       "      <td>22.3680</td>\n",
       "      <td>2</td>\n",
       "      <td>0.20</td>\n",
       "      <td>2.5164</td>\n",
       "      <td>L005</td>\n",
       "    </tr>\n",
       "    <tr>\n",
       "      <th>...</th>\n",
       "      <td>...</td>\n",
       "      <td>...</td>\n",
       "      <td>...</td>\n",
       "      <td>...</td>\n",
       "      <td>...</td>\n",
       "      <td>...</td>\n",
       "      <td>...</td>\n",
       "      <td>...</td>\n",
       "      <td>...</td>\n",
       "      <td>...</td>\n",
       "      <td>...</td>\n",
       "      <td>...</td>\n",
       "      <td>...</td>\n",
       "      <td>...</td>\n",
       "      <td>...</td>\n",
       "      <td>...</td>\n",
       "      <td>...</td>\n",
       "      <td>...</td>\n",
       "      <td>...</td>\n",
       "      <td>...</td>\n",
       "      <td>...</td>\n",
       "    </tr>\n",
       "    <tr>\n",
       "      <th>9989</th>\n",
       "      <td>9990</td>\n",
       "      <td>CA-2014-110422</td>\n",
       "      <td>1/21/2014</td>\n",
       "      <td>1/23/2014</td>\n",
       "      <td>Second Class</td>\n",
       "      <td>TB-21400</td>\n",
       "      <td>Tom Boeckenhauer</td>\n",
       "      <td>Consumer</td>\n",
       "      <td>United States</td>\n",
       "      <td>Miami</td>\n",
       "      <td>...</td>\n",
       "      <td>South</td>\n",
       "      <td>FUR-FU-10001889</td>\n",
       "      <td>Furniture</td>\n",
       "      <td>Furnishings</td>\n",
       "      <td>Ultra Door Pull Handle</td>\n",
       "      <td>25.2480</td>\n",
       "      <td>3</td>\n",
       "      <td>0.20</td>\n",
       "      <td>4.1028</td>\n",
       "      <td>L9990</td>\n",
       "    </tr>\n",
       "    <tr>\n",
       "      <th>9990</th>\n",
       "      <td>9991</td>\n",
       "      <td>CA-2017-121258</td>\n",
       "      <td>2/26/2017</td>\n",
       "      <td>3/3/2017</td>\n",
       "      <td>Standard Class</td>\n",
       "      <td>DB-13060</td>\n",
       "      <td>Dave Brooks</td>\n",
       "      <td>Consumer</td>\n",
       "      <td>United States</td>\n",
       "      <td>Costa Mesa</td>\n",
       "      <td>...</td>\n",
       "      <td>West</td>\n",
       "      <td>FUR-FU-10000747</td>\n",
       "      <td>Furniture</td>\n",
       "      <td>Furnishings</td>\n",
       "      <td>Tenex B1-RE Series Chair Mats for Low Pile Car...</td>\n",
       "      <td>91.9600</td>\n",
       "      <td>2</td>\n",
       "      <td>0.00</td>\n",
       "      <td>15.6332</td>\n",
       "      <td>L9991</td>\n",
       "    </tr>\n",
       "    <tr>\n",
       "      <th>9991</th>\n",
       "      <td>9992</td>\n",
       "      <td>CA-2017-121258</td>\n",
       "      <td>2/26/2017</td>\n",
       "      <td>3/3/2017</td>\n",
       "      <td>Standard Class</td>\n",
       "      <td>DB-13060</td>\n",
       "      <td>Dave Brooks</td>\n",
       "      <td>Consumer</td>\n",
       "      <td>United States</td>\n",
       "      <td>Costa Mesa</td>\n",
       "      <td>...</td>\n",
       "      <td>West</td>\n",
       "      <td>TEC-PH-10003645</td>\n",
       "      <td>Technology</td>\n",
       "      <td>Phones</td>\n",
       "      <td>Aastra 57i VoIP phone</td>\n",
       "      <td>258.5760</td>\n",
       "      <td>2</td>\n",
       "      <td>0.20</td>\n",
       "      <td>19.3932</td>\n",
       "      <td>L9992</td>\n",
       "    </tr>\n",
       "    <tr>\n",
       "      <th>9992</th>\n",
       "      <td>9993</td>\n",
       "      <td>CA-2017-121258</td>\n",
       "      <td>2/26/2017</td>\n",
       "      <td>3/3/2017</td>\n",
       "      <td>Standard Class</td>\n",
       "      <td>DB-13060</td>\n",
       "      <td>Dave Brooks</td>\n",
       "      <td>Consumer</td>\n",
       "      <td>United States</td>\n",
       "      <td>Costa Mesa</td>\n",
       "      <td>...</td>\n",
       "      <td>West</td>\n",
       "      <td>OFF-PA-10004041</td>\n",
       "      <td>Office Supplies</td>\n",
       "      <td>Paper</td>\n",
       "      <td>It's Hot Message Books with Stickers, 2 3/4\" x 5\"</td>\n",
       "      <td>29.6000</td>\n",
       "      <td>4</td>\n",
       "      <td>0.00</td>\n",
       "      <td>13.3200</td>\n",
       "      <td>L9993</td>\n",
       "    </tr>\n",
       "    <tr>\n",
       "      <th>9993</th>\n",
       "      <td>9994</td>\n",
       "      <td>CA-2017-119914</td>\n",
       "      <td>5/4/2017</td>\n",
       "      <td>5/9/2017</td>\n",
       "      <td>Second Class</td>\n",
       "      <td>CC-12220</td>\n",
       "      <td>Chris Cortes</td>\n",
       "      <td>Consumer</td>\n",
       "      <td>United States</td>\n",
       "      <td>Westminster</td>\n",
       "      <td>...</td>\n",
       "      <td>West</td>\n",
       "      <td>OFF-AP-10002684</td>\n",
       "      <td>Office Supplies</td>\n",
       "      <td>Appliances</td>\n",
       "      <td>Acco 7-Outlet Masterpiece Power Center, Wihtou...</td>\n",
       "      <td>243.1600</td>\n",
       "      <td>2</td>\n",
       "      <td>0.00</td>\n",
       "      <td>72.9480</td>\n",
       "      <td>L9994</td>\n",
       "    </tr>\n",
       "  </tbody>\n",
       "</table>\n",
       "<p>9994 rows × 22 columns</p>\n",
       "</div>"
      ],
      "text/plain": [
       "      RowID         OrderID   OrderDate    ShipDate        ShipMode  \\\n",
       "0         1  CA-2016-152156   11/8/2016  11/11/2016    Second Class   \n",
       "1         2  CA-2016-152156   11/8/2016  11/11/2016    Second Class   \n",
       "2         3  CA-2016-138688   6/12/2016   6/16/2016    Second Class   \n",
       "3         4  US-2015-108966  10/11/2015  10/18/2015  Standard Class   \n",
       "4         5  US-2015-108966  10/11/2015  10/18/2015  Standard Class   \n",
       "...     ...             ...         ...         ...             ...   \n",
       "9989   9990  CA-2014-110422   1/21/2014   1/23/2014    Second Class   \n",
       "9990   9991  CA-2017-121258   2/26/2017    3/3/2017  Standard Class   \n",
       "9991   9992  CA-2017-121258   2/26/2017    3/3/2017  Standard Class   \n",
       "9992   9993  CA-2017-121258   2/26/2017    3/3/2017  Standard Class   \n",
       "9993   9994  CA-2017-119914    5/4/2017    5/9/2017    Second Class   \n",
       "\n",
       "     CustomerID      CustomerName    Segment        Country             City  \\\n",
       "0      CG-12520       Claire Gute   Consumer  United States        Henderson   \n",
       "1      CG-12520       Claire Gute   Consumer  United States        Henderson   \n",
       "2      DV-13045   Darrin Van Huff  Corporate  United States      Los Angeles   \n",
       "3      SO-20335    Sean O'Donnell   Consumer  United States  Fort Lauderdale   \n",
       "4      SO-20335    Sean O'Donnell   Consumer  United States  Fort Lauderdale   \n",
       "...         ...               ...        ...            ...              ...   \n",
       "9989   TB-21400  Tom Boeckenhauer   Consumer  United States            Miami   \n",
       "9990   DB-13060       Dave Brooks   Consumer  United States       Costa Mesa   \n",
       "9991   DB-13060       Dave Brooks   Consumer  United States       Costa Mesa   \n",
       "9992   DB-13060       Dave Brooks   Consumer  United States       Costa Mesa   \n",
       "9993   CC-12220      Chris Cortes   Consumer  United States      Westminster   \n",
       "\n",
       "      ... Region        ProductID         Category Sub-Category  \\\n",
       "0     ...  South  FUR-BO-10001798        Furniture    Bookcases   \n",
       "1     ...  South  FUR-CH-10000454        Furniture       Chairs   \n",
       "2     ...   West  OFF-LA-10000240  Office Supplies       Labels   \n",
       "3     ...  South  FUR-TA-10000577        Furniture       Tables   \n",
       "4     ...  South  OFF-ST-10000760  Office Supplies      Storage   \n",
       "...   ...    ...              ...              ...          ...   \n",
       "9989  ...  South  FUR-FU-10001889        Furniture  Furnishings   \n",
       "9990  ...   West  FUR-FU-10000747        Furniture  Furnishings   \n",
       "9991  ...   West  TEC-PH-10003645       Technology       Phones   \n",
       "9992  ...   West  OFF-PA-10004041  Office Supplies        Paper   \n",
       "9993  ...   West  OFF-AP-10002684  Office Supplies   Appliances   \n",
       "\n",
       "                                            ProductName     Sales Quantity  \\\n",
       "0                     Bush Somerset Collection Bookcase  261.9600        2   \n",
       "1     Hon Deluxe Fabric Upholstered Stacking Chairs,...  731.9400        3   \n",
       "2     Self-Adhesive Address Labels for Typewriters b...   14.6200        2   \n",
       "3         Bretford CR4500 Series Slim Rectangular Table  957.5775        5   \n",
       "4                        Eldon Fold 'N Roll Cart System   22.3680        2   \n",
       "...                                                 ...       ...      ...   \n",
       "9989                             Ultra Door Pull Handle   25.2480        3   \n",
       "9990  Tenex B1-RE Series Chair Mats for Low Pile Car...   91.9600        2   \n",
       "9991                              Aastra 57i VoIP phone  258.5760        2   \n",
       "9992  It's Hot Message Books with Stickers, 2 3/4\" x 5\"   29.6000        4   \n",
       "9993  Acco 7-Outlet Masterpiece Power Center, Wihtou...  243.1600        2   \n",
       "\n",
       "      Discount    Profit  LocationID  \n",
       "0         0.00   41.9136        L001  \n",
       "1         0.00  219.5820        L002  \n",
       "2         0.00    6.8714        L003  \n",
       "3         0.45 -383.0310        L004  \n",
       "4         0.20    2.5164        L005  \n",
       "...        ...       ...         ...  \n",
       "9989      0.20    4.1028       L9990  \n",
       "9990      0.00   15.6332       L9991  \n",
       "9991      0.20   19.3932       L9992  \n",
       "9992      0.00   13.3200       L9993  \n",
       "9993      0.00   72.9480       L9994  \n",
       "\n",
       "[9994 rows x 22 columns]"
      ]
     },
     "execution_count": 9,
     "metadata": {},
     "output_type": "execute_result"
    }
   ],
   "source": [
    "df_business_data_new = business_data.copy()\n",
    "\n",
    "# Generate sequential numbers starting from 1\n",
    "df_business_data_new['LocationID'] = range(1, len(df_business_data_new) + 1)\n",
    "\n",
    "# Format them as L001, L002, L003...\n",
    "df_business_data_new['LocationID'] = df_business_data_new['LocationID'].apply(lambda x: f\"L{x:03}\")\n",
    "\n",
    "# Save to CSV\n",
    "new_file = \"ecomm_data.csv\"\n",
    "df_business_data_new.to_csv(new_file, index=False)\n",
    "\n",
    "df_business_data_new\n"
   ]
  },
  {
   "cell_type": "markdown",
   "id": "cf733634",
   "metadata": {},
   "source": [
    "# Create Table"
   ]
  },
  {
   "cell_type": "code",
   "execution_count": 10,
   "id": "a2db93ac",
   "metadata": {},
   "outputs": [],
   "source": [
    "import sqlite3\n",
    "conn = sqlite3.connect('E-comm.db')\n",
    "cur = conn.cursor()\n",
    "\n",
    "cur.execute(\"PRAGMA foreign_keys = ON;\")\n",
    "\n",
    "cur.execute(\"\"\"\n",
    "CREATE TABLE IF NOT EXISTS Location (\n",
    "    LocationID TEXT PRIMARY KEY,\n",
    "    Country TEXT,\n",
    "    City TEXT,\n",
    "    State TEXT,\n",
    "    Region TEXT,\n",
    "    PostalCode TEXT\n",
    ")\n",
    "\"\"\")\n",
    "\n",
    "cur.execute(\"\"\"\n",
    "CREATE TABLE IF NOT EXISTS Customer (\n",
    "    CustomerID TEXT PRIMARY KEY,\n",
    "    LocationID TEXT NOT NULL,\n",
    "    CustomerName TEXT,\n",
    "    Segment TEXT,\n",
    "    FOREIGN KEY (LocationID) REFERENCES Location(LocationID)\n",
    ")\n",
    "\"\"\")\n",
    "\n",
    "cur.execute(\"\"\"\n",
    "CREATE TABLE IF NOT EXISTS Product (\n",
    "    ProductID TEXT PRIMARY KEY,\n",
    "    Category TEXT,\n",
    "    SubCategory TEXT,\n",
    "    ProductName TEXT\n",
    ")\n",
    "\"\"\")\n",
    "\n",
    "cur.execute(\"\"\"\n",
    "CREATE TABLE IF NOT EXISTS Orders (\n",
    "    OrderID TEXT PRIMARY KEY,\n",
    "    CustomerID TEXT NOT NULL,\n",
    "    OrderDate TIMESTAMP,\n",
    "    ShipMode TEXT,\n",
    "    FOREIGN KEY (CustomerID) REFERENCES Customer(CustomerID)\n",
    ")\n",
    "\"\"\")\n",
    "\n",
    "cur.execute(\"\"\"\n",
    "CREATE TABLE IF NOT EXISTS OrderDetails (\n",
    "    OrderID TEXT NOT NULL,\n",
    "    ProductID TEXT NOT NULL,\n",
    "    Sales REAL,\n",
    "    Quantity INTEGER,\n",
    "    Discount REAL,\n",
    "    Profit REAL,\n",
    "    PRIMARY KEY (OrderID, ProductID),\n",
    "    FOREIGN KEY (OrderID) REFERENCES Orders(OrderID),\n",
    "    FOREIGN KEY (ProductID) REFERENCES Product(ProductID)\n",
    ")\n",
    "\"\"\")\n",
    "\n",
    "conn.commit()\n",
    "cur.close()\n",
    "conn.close()\n"
   ]
  },
  {
   "cell_type": "code",
   "execution_count": 11,
   "id": "ff81464a",
   "metadata": {},
   "outputs": [
    {
     "name": "stdout",
     "output_type": "stream",
     "text": [
      "Tables in the database:\n",
      "Order\n",
      "Customer\n",
      "Location\n",
      "Orders\n",
      "OrderDetails\n",
      "Product\n"
     ]
    }
   ],
   "source": [
    "\n",
    "conn = sqlite3.connect(\"E-comm.db\")\n",
    "cur = conn.cursor()\n",
    "\n",
    "# List all tables\n",
    "cur.execute(\"SELECT name FROM sqlite_master WHERE type='table';\")\n",
    "tables = cur.fetchall()\n",
    "\n",
    "print(\"Tables in the database:\")\n",
    "for table in tables:\n",
    "    print(table[0])\n",
    "\n",
    "cur.close()\n",
    "conn.close()\n",
    "\n"
   ]
  },
  {
   "cell_type": "code",
   "execution_count": 12,
   "id": "2889d763",
   "metadata": {},
   "outputs": [],
   "source": [
    "df_business_data_new.drop_duplicates(inplace=True)\n",
    "#df_business_data_new"
   ]
  },
  {
   "cell_type": "markdown",
   "id": "0fca4851",
   "metadata": {},
   "source": [
    "# Create Sub categories"
   ]
  },
  {
   "cell_type": "code",
   "execution_count": 13,
   "id": "666285c6",
   "metadata": {},
   "outputs": [],
   "source": [
    "Customer = df_business_data_new[['CustomerID','LocationID','CustomerName','Segment']].copy()\n",
    "Customer.drop_duplicates(inplace=True)\n",
    "\n"
   ]
  },
  {
   "cell_type": "code",
   "execution_count": 14,
   "id": "ba3c4afb",
   "metadata": {},
   "outputs": [],
   "source": [
    "Location = df_business_data_new[['LocationID','Country','City','State','Region','PostalCode']].copy()\n",
    "Location.drop_duplicates(inplace=True)"
   ]
  },
  {
   "cell_type": "code",
   "execution_count": 15,
   "id": "0200226f",
   "metadata": {},
   "outputs": [],
   "source": [
    "Order = df_business_data_new[['OrderID','CustomerID','OrderDate','ShipMode']].copy()\n",
    "Order.drop_duplicates(inplace=True)"
   ]
  },
  {
   "cell_type": "code",
   "execution_count": 16,
   "id": "196df16e",
   "metadata": {},
   "outputs": [],
   "source": [
    "OrderDetails = df_business_data_new[['OrderID','ProductID','Sales','Quantity','Discount','Profit']].copy()\n",
    "OrderDetails.drop_duplicates(inplace=True)"
   ]
  },
  {
   "cell_type": "code",
   "execution_count": 17,
   "id": "0805b1cb",
   "metadata": {},
   "outputs": [],
   "source": [
    "Product = df_business_data_new[['ProductID','Category','Sub-Category','ProductName']].copy()\n",
    "Product.drop_duplicates(inplace=True)"
   ]
  },
  {
   "cell_type": "markdown",
   "id": "02d30844",
   "metadata": {},
   "source": [
    "# Populate"
   ]
  },
  {
   "cell_type": "code",
   "execution_count": 18,
   "id": "f457574f",
   "metadata": {},
   "outputs": [],
   "source": [
    "import sqlite3\n",
    "conn = sqlite3.connect(\"E-comm.db\")\n",
    "Customer.to_sql(\n",
    "   \"Customer\", # the name of the table\n",
    "   con=conn, # the connection variable\n",
    "   index=False, # whether to include the index column\n",
    "   if_exists=\"replace\" # drops the table first, then recreates it\n",
    ")\n",
    "\n",
    "conn.close()\n"
   ]
  },
  {
   "cell_type": "code",
   "execution_count": 19,
   "id": "7f9dc0fd",
   "metadata": {},
   "outputs": [],
   "source": [
    "conn = sqlite3.connect(\"E-comm.db\")\n",
    "Location.to_sql(\n",
    "   \"Location\", # the name of the table\n",
    "   con=conn, # the connection variable\n",
    "   index=False, # whether to include the index column\n",
    "   if_exists=\"replace\" # drops the table first, then recreates it\n",
    "   \n",
    ")\n",
    "\n",
    "conn.close()\n"
   ]
  },
  {
   "cell_type": "code",
   "execution_count": 20,
   "id": "a2154937",
   "metadata": {},
   "outputs": [],
   "source": [
    "\n",
    "conn = sqlite3.connect(\"E-comm.db\")\n",
    "Order.to_sql(\n",
    "   \"Orders\", # the name of the table\n",
    "   con=conn, # the connection variable\n",
    "   index=False, # whether to include the index column\n",
    "   if_exists=\"replace\" # define behavior if table already exists\n",
    ")\n",
    "\n",
    "conn.close()\n"
   ]
  },
  {
   "cell_type": "code",
   "execution_count": 21,
   "id": "ae919977",
   "metadata": {},
   "outputs": [],
   "source": [
    "conn = sqlite3.connect(\"E-comm.db\")\n",
    "OrderDetails.to_sql(\n",
    "   \"OrderDetails\", # the name of the table\n",
    "   con=conn, # the connection variable\n",
    "   index=False, # whether to include the index column\n",
    "   if_exists=\"replace\" \n",
    ")\n",
    "\n",
    "conn.close()"
   ]
  },
  {
   "cell_type": "code",
   "execution_count": 22,
   "id": "e0042d53",
   "metadata": {},
   "outputs": [],
   "source": [
    "conn = sqlite3.connect(\"E-comm.db\")\n",
    "Product.to_sql(\n",
    "   \"Product\", # the name of the table\n",
    "   con=conn, # the connection variable\n",
    "   index=False, # whether to include the index column\n",
    "   if_exists=\"replace\" \n",
    ")\n",
    "\n",
    "conn.close()"
   ]
  },
  {
   "cell_type": "markdown",
   "id": "6dfb5c90",
   "metadata": {},
   "source": [
    "# Queries"
   ]
  },
  {
   "cell_type": "code",
   "execution_count": 23,
   "id": "178c6f63",
   "metadata": {},
   "outputs": [
    {
     "name": "stdout",
     "output_type": "stream",
     "text": [
      "  CustomerID LocationID CustomerName\n",
      "0   CG-12520       L001  Claire Gute\n",
      "1   CG-12520       L002  Claire Gute\n",
      "2   CG-12520      L5492  Claire Gute\n",
      "3   CG-12520      L6878  Claire Gute\n",
      "4   CG-12520      L6879  Claire Gute\n"
     ]
    }
   ],
   "source": [
    "conn = sqlite3.connect(\"E-comm.db\")\n",
    "cur = conn.cursor()\n",
    "\n",
    "# query to fetch from Customer table\n",
    "query = \"\"\"\n",
    "SELECT CustomerID, LocationID, CustomerName\n",
    "FROM Customer\n",
    "WHERE CustomerID = 'CG-12520'\n",
    "\"\"\"\n",
    "\n",
    "cur.execute(query)\n",
    "rows = cur.fetchall()\n",
    "\n",
    "# Convert to DataFrame for easy viewing\n",
    "customer_df = pd.DataFrame(rows, columns=['CustomerID','LocationID','CustomerName'])\n",
    "print(customer_df)\n",
    "\n",
    "cur.close()\n",
    "conn.close()\n"
   ]
  },
  {
   "cell_type": "markdown",
   "id": "d6a6d858",
   "metadata": {},
   "source": [
    "### Customer Data"
   ]
  },
  {
   "cell_type": "code",
   "execution_count": 24,
   "id": "ea1404c6",
   "metadata": {},
   "outputs": [
    {
     "name": "stdout",
     "output_type": "stream",
     "text": [
      "  CustomerID LocationID     CustomerName    Segment\n",
      "0   CG-12520       L001      Claire Gute   Consumer\n",
      "1   CG-12520       L002      Claire Gute   Consumer\n",
      "2   DV-13045       L003  Darrin Van Huff  Corporate\n",
      "3   SO-20335       L004   Sean O'Donnell   Consumer\n",
      "4   SO-20335       L005   Sean O'Donnell   Consumer\n",
      "5   BH-11710       L006  Brosina Hoffman   Consumer\n",
      "6   BH-11710       L007  Brosina Hoffman   Consumer\n",
      "7   BH-11710       L008  Brosina Hoffman   Consumer\n",
      "8   BH-11710       L009  Brosina Hoffman   Consumer\n",
      "9   BH-11710       L010  Brosina Hoffman   Consumer\n"
     ]
    }
   ],
   "source": [
    "conn = sqlite3.connect(\"E-comm.db\")\n",
    "cur = conn.cursor()\n",
    "\n",
    "# query to fetch from Customer table\n",
    "query = \"\"\"\n",
    "SELECT *\n",
    "FROM Customer\n",
    "\"\"\"\n",
    "\n",
    "cur.execute(query)\n",
    "rows = cur.fetchall()\n",
    "column_names = [description[0] for description in cur.description]\n",
    "customer_df = pd.DataFrame (rows,columns= column_names )\n",
    "\n",
    "print(customer_df.head(10))\n",
    "cur.close()\n",
    "conn.close()"
   ]
  },
  {
   "cell_type": "markdown",
   "id": "42275e4e",
   "metadata": {},
   "source": [
    "### 1.  What is the category generating the maximum sales revenue? What about the profit in this category?\n",
    "### Are they making a loss in any categories or subcategories?"
   ]
  },
  {
   "cell_type": "code",
   "execution_count": 25,
   "id": "4a0d2383",
   "metadata": {},
   "outputs": [
    {
     "name": "stdout",
     "output_type": "stream",
     "text": [
      "          Sales    Profit         Category Sub-Category\n",
      "0      261.9600   41.9136        Furniture    Bookcases\n",
      "1      731.9400  219.5820        Furniture       Chairs\n",
      "2       14.6200    6.8714  Office Supplies       Labels\n",
      "3      957.5775 -383.0310        Furniture       Tables\n",
      "4       22.3680    2.5164  Office Supplies      Storage\n",
      "...         ...       ...              ...          ...\n",
      "10325   25.2480    4.1028        Furniture  Furnishings\n",
      "10326   91.9600   15.6332        Furniture  Furnishings\n",
      "10327  258.5760   19.3932       Technology       Phones\n",
      "10328   29.6000   13.3200  Office Supplies        Paper\n",
      "10329  243.1600   72.9480  Office Supplies   Appliances\n",
      "\n",
      "[10330 rows x 4 columns]\n"
     ]
    }
   ],
   "source": [
    "## Combine data from both table\n",
    "\n",
    "conn = sqlite3.connect(\"E-comm.db\")\n",
    "cur = conn.cursor()\n",
    "\n",
    "query = \"\"\"\n",
    "SELECT od.Sales, od.Profit, p.Category, p.\"Sub-Category\"\n",
    "FROM OrderDetails od\n",
    "INNER JOIN Product p\n",
    "ON od.ProductID = p.ProductID \n",
    "\"\"\"\n",
    "\n",
    "cur.execute(query)\n",
    "rows = cur.fetchall()\n",
    "\n",
    "column_names = [desc[0] for desc in cur.description]\n",
    "df = pd.DataFrame(rows, columns=column_names)\n",
    "\n",
    "print(df)\n",
    "\n",
    "cur.close()\n",
    "conn.close()\n"
   ]
  },
  {
   "cell_type": "markdown",
   "id": "d916da4a",
   "metadata": {},
   "source": [
    "# 1. Category with maximum sales revenue & Profit\n"
   ]
  },
  {
   "cell_type": "code",
   "execution_count": 26,
   "id": "d59a849c",
   "metadata": {},
   "outputs": [
    {
     "name": "stdout",
     "output_type": "stream",
     "text": [
      "Category with Maximum Sales Revenue\n",
      "Category: Technology\n",
      "Total Sales: 893633.28\n",
      "Total Profit: 153415.7\n"
     ]
    }
   ],
   "source": [
    "conn = sqlite3.connect(\"E-comm.db\")\n",
    "cur = conn.cursor()\n",
    "\n",
    "cur.execute(\"\"\"\n",
    "SELECT p.Category, SUM(od.Sales) AS TotalSales, SUM(od.Profit) AS TotalProfit\n",
    "FROM OrderDetails od\n",
    "JOIN Product p\n",
    "ON od.ProductID = p.ProductID\n",
    "GROUP BY p.Category\n",
    "ORDER BY TotalSales DESC\n",
    "LIMIT 1;\n",
    "\"\"\")\n",
    "\n",
    "top_category = cur.fetchone()\n",
    "\n",
    "print(\"Category with Maximum Sales Revenue\")\n",
    "print(\"Category:\", top_category[0])\n",
    "print(\"Total Sales:\", round(top_category[1], 2))\n",
    "print(\"Total Profit:\", round(top_category[2], 2))\n",
    "cur.close()\n",
    "conn.close()\n"
   ]
  },
  {
   "cell_type": "code",
   "execution_count": 27,
   "id": "a7868bdf",
   "metadata": {},
   "outputs": [
    {
     "name": "stdout",
     "output_type": "stream",
     "text": [
      "\n",
      " Categories with Loss \n",
      "None\n",
      "\n",
      "Subcategories with Loss \n",
      "Furniture : Bookcases : Profit: -3452.87\n",
      "Furniture : Tables : Profit: -17725.48\n",
      "Office Supplies : Supplies : Profit: -1189.1\n"
     ]
    }
   ],
   "source": [
    "conn = sqlite3.connect(\"E-comm.db\")\n",
    "cur = conn.cursor()\n",
    "\n",
    "\n",
    "# Categories with negative profit/loss\n",
    "cur.execute(\"\"\"\n",
    "SELECT p.Category, SUM(od.Profit) AS TotalProfit\n",
    "FROM OrderDetails od\n",
    "JOIN Product p\n",
    "ON od.ProductID = p.ProductID\n",
    "GROUP BY p.Category\n",
    "HAVING TotalProfit < 0;\n",
    "\"\"\")\n",
    "loss_categories = cur.fetchall()\n",
    "\n",
    "print(\"\\n Categories with Loss \")\n",
    "if loss_categories:\n",
    "    for row in loss_categories:\n",
    "        print(row[0], \": Profit:\", round(row[1], 2))\n",
    "else:\n",
    "    print(\"None\")\n",
    "\n",
    "# Subcategories with negative profit/loss \n",
    "cur.execute(\"\"\"\n",
    "SELECT p.Category, p.\"Sub-Category\", SUM(od.Profit) AS TotalProfit\n",
    "FROM OrderDetails od\n",
    "JOIN Product p\n",
    "ON od.ProductID = p.ProductID\n",
    "GROUP BY p.Category, p.\"Sub-Category\"\n",
    "HAVING TotalProfit < 0;\n",
    "\"\"\")\n",
    "loss_subcategories = cur.fetchall()\n",
    "\n",
    "print(\"\\nSubcategories with Loss \")\n",
    "if loss_subcategories:\n",
    "    for row in loss_subcategories:\n",
    "        print(row[0], \":\", row[1], \": Profit:\", round(row[2], 2))\n",
    "else:\n",
    "    print(\"None\")\n",
    "\n",
    "# Close the connection\n",
    "cur.close()\n",
    "conn.close()\n"
   ]
  },
  {
   "cell_type": "markdown",
   "id": "3b3c6598",
   "metadata": {},
   "source": [
    "### 2. What are 5 states generating the maximum and minimum sales revenue?\n"
   ]
  },
  {
   "cell_type": "code",
   "execution_count": 28,
   "id": "141251b8",
   "metadata": {},
   "outputs": [
    {
     "name": "stdout",
     "output_type": "stream",
     "text": [
      " Top 5 States by Sales \n",
      "California : 7033586.87\n",
      "New York : 4214982.64\n",
      "Texas : 3395068.85\n",
      "Pennsylvania : 2072147.9\n",
      "Washington : 1877345.49\n"
     ]
    }
   ],
   "source": [
    "conn = sqlite3.connect(\"E-comm.db\")\n",
    "cur = conn.cursor()\n",
    "\n",
    "# Top 5 states with maximum revenue\n",
    "query_top = \"\"\"\n",
    "SELECT l.State, SUM(od.Sales) AS TotalSales\n",
    "FROM OrderDetails od\n",
    "JOIN \"Order\" o ON od.OrderID = o.OrderID\n",
    "JOIN Customer c ON o.CustomerID = c.CustomerID\n",
    "JOIN Location l ON c.LocationID = l.LocationID\n",
    "GROUP BY l.State\n",
    "ORDER BY TotalSales DESC\n",
    "LIMIT 5;\n",
    "\"\"\"\n",
    "cur.execute(query_top)\n",
    "top_states = cur.fetchall()\n",
    "print(\" Top 5 States by Sales \")\n",
    "for row in top_states:\n",
    "    print(row[0], \":\", round(row[1],2))\n",
    "\n",
    "\n",
    "cur.close()\n",
    "conn.close()\n"
   ]
  },
  {
   "cell_type": "code",
   "execution_count": 29,
   "id": "df023044",
   "metadata": {},
   "outputs": [
    {
     "name": "stdout",
     "output_type": "stream",
     "text": [
      "\n",
      "Bottom 5 States by Sales \n",
      "Wyoming : 2453.28\n",
      "West Virginia : 17570.78\n",
      "North Dakota : 19610.74\n",
      "Vermont : 37330.11\n",
      "District of Columbia : 45812.66\n"
     ]
    }
   ],
   "source": [
    "conn = sqlite3.connect(\"E-comm.db\")\n",
    "cur = conn.cursor()\n",
    "\n",
    "# Bottom 5 states with minimum revinue \n",
    "query_bottom = \"\"\"\n",
    "SELECT l.State, SUM(od.Sales) AS TotalSales\n",
    "FROM OrderDetails od\n",
    "JOIN \"Order\" o ON od.OrderID = o.OrderID\n",
    "JOIN Customer c ON o.CustomerID = c.CustomerID\n",
    "JOIN Location l ON c.LocationID = l.LocationID\n",
    "GROUP BY l.State\n",
    "ORDER BY TotalSales ASC\n",
    "LIMIT 5;\n",
    "\"\"\"\n",
    "cur.execute(query_bottom)\n",
    "bottom_states = cur.fetchall()\n",
    "print(\"\\nBottom 5 States by Sales \")\n",
    "for row in bottom_states:\n",
    "    print(row[0], \":\", round(row[1],2))\n",
    "\n",
    "\n",
    "cur.close()\n",
    "conn.close()\n"
   ]
  },
  {
   "cell_type": "markdown",
   "id": "3f15a887",
   "metadata": {},
   "source": [
    "### 3. What are the 3 products in each product segment with the highest sales?\n",
    "### Are they the 3 most profitable products as well?"
   ]
  },
  {
   "cell_type": "code",
   "execution_count": 30,
   "id": "6f846078",
   "metadata": {},
   "outputs": [
    {
     "name": "stdout",
     "output_type": "stream",
     "text": [
      "\n",
      "Top 3 Products per Segment by Profit\n",
      "  CustomerSegment                                        ProductName  \\\n",
      "0        Consumer              Canon imageCLASS 2200 Advanced Copier   \n",
      "1        Consumer               Ibico EPK-21 Electric Binding System   \n",
      "2        Consumer   GBC Ibimaster 500 Manual ProClick Binding System   \n",
      "3       Corporate              Canon imageCLASS 2200 Advanced Copier   \n",
      "4       Corporate                  Zebra ZM400 Thermal Label Printer   \n",
      "5       Corporate                 Canon PC1060 Personal Laser Copier   \n",
      "6     Home Office               Hewlett Packard LaserJet 3310 Copier   \n",
      "7     Home Office  Fellowes PB500 Electric Punch Plastic Comb Bin...   \n",
      "8     Home Office              Canon imageCLASS 2200 Advanced Copier   \n",
      "\n",
      "   TotalSales  TotalProfit  \n",
      "0  459898.686  188719.4608  \n",
      "1  207898.900  101870.4610  \n",
      "2  287802.636   77011.1760  \n",
      "3  209999.400  100799.7120  \n",
      "4  130026.400   62412.6720  \n",
      "5   97998.600   46059.3420  \n",
      "6  119158.014   50831.1528  \n",
      "7  125828.010   40036.1850  \n",
      "8  111999.680   39199.8880  \n"
     ]
    },
    {
     "name": "stderr",
     "output_type": "stream",
     "text": [
      "/var/folders/tj/8m4f2hl545d85f9bhjg24z500000gn/T/ipykernel_79563/2359946498.py:28: FutureWarning: DataFrameGroupBy.apply operated on the grouping columns. This behavior is deprecated, and in a future version of pandas the grouping columns will be excluded from the operation. Either pass `include_groups=False` to exclude the groupings or explicitly select the grouping columns after groupby to silence this warning.\n",
      "  top3_profit = df_products.groupby(\"CustomerSegment\").apply(lambda x: x.nlargest(3, 'TotalProfit')).reset_index(drop=True)\n"
     ]
    }
   ],
   "source": [
    "conn = sqlite3.connect(\"E-comm.db\")\n",
    "cur = conn.cursor()\n",
    "\n",
    "#  combining sales and profit per product per customer segment\n",
    "query = \"\"\"\n",
    "SELECT c.Segment AS CustomerSegment,\n",
    "       p.ProductName,\n",
    "       SUM(od.Sales) AS TotalSales,\n",
    "       SUM(od.Profit) AS TotalProfit\n",
    "FROM OrderDetails od\n",
    "JOIN \"Order\" o ON od.OrderID = o.OrderID\n",
    "JOIN Customer c ON o.CustomerID = c.CustomerID\n",
    "JOIN Product p ON od.ProductID = p.ProductID\n",
    "GROUP BY c.Segment, p.ProductName\n",
    "ORDER BY c.Segment, TotalSales DESC;\n",
    "\"\"\"\n",
    "cur.execute(query)\n",
    "rows = cur.fetchall()\n",
    "\n",
    "# DataFrame\n",
    "column_names = [desc[0] for desc in cur.description]\n",
    "df_products = pd.DataFrame(rows, columns=column_names)\n",
    "\n",
    "# Top 3 products per customer segment by Sales\n",
    "top3_sales = df_products.groupby(\"CustomerSegment\").head(3).reset_index(drop=True)\n",
    "\n",
    "# Top 3 products per customer segment by Profit\n",
    "top3_profit = df_products.groupby(\"CustomerSegment\").apply(lambda x: x.nlargest(3, 'TotalProfit')).reset_index(drop=True)\n",
    "\n",
    "print('\\nTop 3 Products per Segment by Profit')\n",
    "print(top3_profit)\n",
    "\n",
    "\n",
    "cur.close()\n",
    "conn.close()"
   ]
  },
  {
   "cell_type": "markdown",
   "id": "d68eb75b",
   "metadata": {},
   "source": [
    "### Category wise from Product"
   ]
  },
  {
   "cell_type": "code",
   "execution_count": 31,
   "id": "7367bd9d",
   "metadata": {},
   "outputs": [
    {
     "name": "stdout",
     "output_type": "stream",
     "text": [
      "Top 3 Products per Segment by Sales\n",
      "              Segment                                        ProductName  \\\n",
      "0           Furniture       HON 5400 Series Task Chairs for Big and Tall   \n",
      "1           Furniture  Riverside Palais Royal Lawyers Bookcase, Royal...   \n",
      "2           Furniture         Bretford Rectangular Conference Table Tops   \n",
      "380   Office Supplies  Fellowes PB500 Electric Punch Plastic Comb Bin...   \n",
      "381   Office Supplies         GBC DocuBind TL300 Electric Binding System   \n",
      "382   Office Supplies   GBC Ibimaster 500 Manual ProClick Binding System   \n",
      "1438       Technology              Canon imageCLASS 2200 Advanced Copier   \n",
      "1439       Technology  Cisco TelePresence System EX90 Videoconferenci...   \n",
      "1440       Technology               Hewlett Packard LaserJet 3310 Copier   \n",
      "\n",
      "      TotalSales   TotalProfit  \n",
      "0     21870.5760  8.526513e-14  \n",
      "1     15610.9656 -6.695448e+02  \n",
      "2     12995.2915 -3.272331e+02  \n",
      "380   27453.3840  7.753039e+03  \n",
      "381   19823.4790  2.233505e+03  \n",
      "382   19024.5000  7.609800e+02  \n",
      "1438  61599.8240  2.519993e+04  \n",
      "1439  22638.4800 -1.811078e+03  \n",
      "1440  18839.6860  6.983884e+03  \n",
      "\n",
      "Top 3 Products per Segment by Profit\n",
      "           Segment                                        ProductName  \\\n",
      "0        Furniture  Hon Deluxe Fabric Upholstered Stacking Chairs,...   \n",
      "1        Furniture            Global Deluxe High-Back Manager's Chair   \n",
      "2        Furniture                         Hon Pagoda Stacking Chairs   \n",
      "3  Office Supplies  Fellowes PB500 Electric Punch Plastic Comb Bin...   \n",
      "4  Office Supplies               Ibico EPK-21 Electric Binding System   \n",
      "5  Office Supplies  Honeywell Enviracaire Portable HEPA Air Cleane...   \n",
      "6       Technology              Canon imageCLASS 2200 Advanced Copier   \n",
      "7       Technology               Hewlett Packard LaserJet 3310 Copier   \n",
      "8       Technology                 Canon PC1060 Personal Laser Copier   \n",
      "\n",
      "   TotalSales  TotalProfit  \n",
      "0   10637.528    1927.4420  \n",
      "1    8665.194    1558.5910  \n",
      "2    6483.796    1540.7040  \n",
      "3   27453.384    7753.0390  \n",
      "4   15875.916    3345.2823  \n",
      "5   11304.440    3247.0200  \n",
      "6   61599.824   25199.9280  \n",
      "7   18839.686    6983.8836  \n",
      "8   11619.834    4570.9347  \n"
     ]
    },
    {
     "name": "stderr",
     "output_type": "stream",
     "text": [
      "/var/folders/tj/8m4f2hl545d85f9bhjg24z500000gn/T/ipykernel_79563/3810192307.py:27: FutureWarning: DataFrameGroupBy.apply operated on the grouping columns. This behavior is deprecated, and in a future version of pandas the grouping columns will be excluded from the operation. Either pass `include_groups=False` to exclude the groupings or explicitly select the grouping columns after groupby to silence this warning.\n",
      "  top3_profit = df_products.groupby(\"Segment\").apply(lambda x: x.nlargest(3, 'TotalProfit')).reset_index(drop=True)\n"
     ]
    }
   ],
   "source": [
    "conn = sqlite3.connect(\"E-comm.db\")\n",
    "cur = conn.cursor()\n",
    "\n",
    "# all products with total Sales and Profit per segment\n",
    "query = \"\"\"\n",
    "SELECT p.Category AS Segment, p.ProductName, \n",
    "       SUM(od.Sales) AS TotalSales, \n",
    "       SUM(od.Profit) AS TotalProfit\n",
    "FROM OrderDetails od\n",
    "JOIN Product p ON od.ProductID = p.ProductID\n",
    "GROUP BY p.Category, p.ProductName\n",
    "ORDER BY p.Category, TotalSales DESC;\n",
    "\"\"\"\n",
    "cur.execute(query)\n",
    "rows = cur.fetchall()\n",
    "\n",
    "column_names = [desc[0] for desc in cur.description] \n",
    "df_products = pd.DataFrame(rows, columns=column_names)\n",
    "\n",
    "## Top 3 products per segment by Sales\n",
    "\n",
    "top3_sales = df_products.groupby('Segment').head(3)\n",
    "print('Top 3 Products per Segment by Sales')\n",
    "print(top3_sales)\n",
    "\n",
    "# Top 3 products per segment by Profit\n",
    "top3_profit = df_products.groupby(\"Segment\").apply(lambda x: x.nlargest(3, 'TotalProfit')).reset_index(drop=True)\n",
    "print('\\nTop 3 Products per Segment by Profit')\n",
    "print(top3_profit)\n",
    "\n",
    "cur.close()\n",
    "conn.close()\n"
   ]
  },
  {
   "cell_type": "markdown",
   "id": "4629311a",
   "metadata": {},
   "source": [
    "### Segment from Customer"
   ]
  },
  {
   "cell_type": "code",
   "execution_count": 32,
   "id": "06bd3de3",
   "metadata": {},
   "outputs": [
    {
     "name": "stdout",
     "output_type": "stream",
     "text": [
      "Top 3 Products per Segment by Sales\n",
      "           Segment                                        ProductName  \\\n",
      "0        Furniture       HON 5400 Series Task Chairs for Big and Tall   \n",
      "1        Furniture  Riverside Palais Royal Lawyers Bookcase, Royal...   \n",
      "2        Furniture         Bretford Rectangular Conference Table Tops   \n",
      "3  Office Supplies  Fellowes PB500 Electric Punch Plastic Comb Bin...   \n",
      "4  Office Supplies         GBC DocuBind TL300 Electric Binding System   \n",
      "5  Office Supplies   GBC Ibimaster 500 Manual ProClick Binding System   \n",
      "6       Technology              Canon imageCLASS 2200 Advanced Copier   \n",
      "7       Technology  Cisco TelePresence System EX90 Videoconferenci...   \n",
      "8       Technology               Hewlett Packard LaserJet 3310 Copier   \n",
      "\n",
      "   TotalSales   TotalProfit  TopProfit  \n",
      "0  21870.5760  8.526513e-14      False  \n",
      "1  15610.9656 -6.695448e+02      False  \n",
      "2  12995.2915 -3.272331e+02      False  \n",
      "3  27453.3840  7.753039e+03       True  \n",
      "4  19823.4790  2.233505e+03      False  \n",
      "5  19024.5000  7.609800e+02      False  \n",
      "6  61599.8240  2.519993e+04       True  \n",
      "7  22638.4800 -1.811078e+03      False  \n",
      "8  18839.6860  6.983884e+03       True  \n"
     ]
    },
    {
     "name": "stderr",
     "output_type": "stream",
     "text": [
      "/var/folders/tj/8m4f2hl545d85f9bhjg24z500000gn/T/ipykernel_79563/2598166380.py:25: FutureWarning: DataFrameGroupBy.apply operated on the grouping columns. This behavior is deprecated, and in a future version of pandas the grouping columns will be excluded from the operation. Either pass `include_groups=False` to exclude the groupings or explicitly select the grouping columns after groupby to silence this warning.\n",
      "  top3_profit = df_products.groupby(\"Segment\").apply(lambda x: x.nlargest(3, 'TotalProfit')).reset_index(drop=True)\n"
     ]
    }
   ],
   "source": [
    "conn = sqlite3.connect(\"E-comm.db\")\n",
    "cur = conn.cursor()\n",
    "\n",
    "# Aggregate sales and profit per product per segment\n",
    "query = \"\"\"\n",
    "SELECT p.Category AS Segment,\n",
    "       p.ProductName,\n",
    "       SUM(od.Sales) AS TotalSales,\n",
    "       SUM(od.Profit) AS TotalProfit\n",
    "FROM OrderDetails od\n",
    "JOIN Product p ON od.ProductID = p.ProductID\n",
    "GROUP BY p.Category, p.ProductName\n",
    "ORDER BY p.Category, TotalSales DESC;\n",
    "\"\"\"\n",
    "cur.execute(query)\n",
    "rows = cur.fetchall()\n",
    "\n",
    "column_names = [desc[0] for desc in cur.description]\n",
    "df_products = pd.DataFrame(rows, columns=column_names)\n",
    "\n",
    "# Top 3 products per segment by Sales\n",
    "top3_sales = df_products.groupby(\"Segment\").head(3).reset_index(drop=True)\n",
    "\n",
    "# Top 3 products per segment by Profit\n",
    "top3_profit = df_products.groupby(\"Segment\").apply(lambda x: x.nlargest(3, 'TotalProfit')).reset_index(drop=True)\n",
    "\n",
    "#  Mark if top sales products are also top profit products\n",
    "top3_sales['TopProfit'] = top3_sales.apply(\n",
    "    lambda row: row['ProductName'] in top3_profit[top3_profit['Segment']==row['Segment']]['ProductName'].values,\n",
    "    axis=1\n",
    ")\n",
    "\n",
    "# final table\n",
    "print(\"Top 3 Products per Segment by Sales\")\n",
    "print(top3_sales[['Segment', 'ProductName', 'TotalSales', 'TotalProfit', 'TopProfit']])\n",
    "\n",
    "cur.close()\n",
    "conn.close()\n"
   ]
  },
  {
   "cell_type": "markdown",
   "id": "58305058",
   "metadata": {},
   "source": [
    "4. What are the 3 best-seller products in each product segment? (Quantity-wise)\n"
   ]
  },
  {
   "cell_type": "code",
   "execution_count": 33,
   "id": "c72d1168",
   "metadata": {},
   "outputs": [
    {
     "name": "stdout",
     "output_type": "stream",
     "text": [
      "Top 3 Best-Selling Products per Segment (Quantity-wise)\n",
      "          Segment                             ProductName  TotalQuantity\n",
      "0        Consumer                         Staple envelope           1680\n",
      "1        Consumer                                 Staples           1596\n",
      "2        Consumer                 Staples in misc. colors           1145\n",
      "1709    Corporate                                 Staples           1608\n",
      "1710    Corporate                         Staple envelope           1043\n",
      "1711    Corporate                       Easy-staple paper            653\n",
      "3163  Home Office                       Easy-staple paper            677\n",
      "3164  Home Office  Global Stack Chair without Arms, Black            538\n",
      "3165  Home Office                              Xerox 1908            529\n"
     ]
    }
   ],
   "source": [
    "conn = sqlite3.connect(\"E-comm.db\")\n",
    "cur = conn.cursor()\n",
    "\n",
    "# 3 best-selling products by quantity in each segment\n",
    "query = \"\"\"\n",
    "SELECT c.Segment,\n",
    "       p.ProductName,\n",
    "       SUM(od.Quantity) AS TotalQuantity\n",
    "FROM OrderDetails od\n",
    "JOIN Orders o ON od.OrderID = o.OrderID\n",
    "JOIN Customer c ON o.CustomerID = c.CustomerID\n",
    "JOIN Product p ON od.ProductID = p.ProductID\n",
    "GROUP BY c.Segment, p.ProductName\n",
    "ORDER BY c.Segment, TotalQuantity DESC\n",
    "\"\"\"\n",
    "\n",
    "df_best_sellers = pd.read_sql_query(query, conn)\n",
    "\n",
    "# Get top 3 products per segment\n",
    "top3_per_segment = df_best_sellers.groupby(\"Segment\").head(3)\n",
    "\n",
    "print('Top 3 Best-Selling Products per Segment (Quantity-wise)')\n",
    "print(top3_per_segment)\n",
    "\n",
    "cur.close()\n",
    "conn.close()\n"
   ]
  },
  {
   "cell_type": "markdown",
   "id": "221ee7e6",
   "metadata": {},
   "source": [
    "5. What are the top 3 worst-selling products in every category? (Quantity-wise)\n"
   ]
  },
  {
   "cell_type": "code",
   "execution_count": 34,
   "id": "58118abd",
   "metadata": {},
   "outputs": [
    {
     "name": "stdout",
     "output_type": "stream",
     "text": [
      "Bottom 3 Worst-Selling Products per Product Category (Quantity-wise)\n",
      "   ProductCategory                                        ProductName  \\\n",
      "0        Furniture  Bush Saratoga Collection 5-Shelf Bookcase, Han...   \n",
      "1        Furniture  Global Enterprise Series Seating Low-Back Swiv...   \n",
      "2        Furniture  Barricks Non-Folding Utility Table with Steel ...   \n",
      "3  Office Supplies              Boston 1900 Electric Pencil Sharpener   \n",
      "4  Office Supplies                                           Xerox 20   \n",
      "5  Office Supplies                                            Avery 5   \n",
      "6       Technology                Penpower WorldCard Pro Card Scanner   \n",
      "7       Technology  Canon imageCLASS MF7460 Monochrome Digital Las...   \n",
      "8       Technology  Hewlett-Packard Deskjet F4180 All-in-One Color...   \n",
      "\n",
      "   TotalQuantity  TotalProfit  BottomProfit  \n",
      "0              1     -12.6882         False  \n",
      "1              1      25.8980         False  \n",
      "2              2      15.3522         False  \n",
      "3              1       4.4940         False  \n",
      "4              1       3.1104         False  \n",
      "5              2       2.8224         False  \n",
      "6              1      -1.8295         False  \n",
      "7              2    1995.9900         False  \n",
      "8              2     -71.3958         False  \n"
     ]
    },
    {
     "name": "stderr",
     "output_type": "stream",
     "text": [
      "/var/folders/tj/8m4f2hl545d85f9bhjg24z500000gn/T/ipykernel_79563/1747163646.py:22: FutureWarning: DataFrameGroupBy.apply operated on the grouping columns. This behavior is deprecated, and in a future version of pandas the grouping columns will be excluded from the operation. Either pass `include_groups=False` to exclude the groupings or explicitly select the grouping columns after groupby to silence this warning.\n",
      "  bottom3_profit = df_products.groupby(\"ProductCategory\").apply(lambda x: x.nsmallest(3, 'TotalProfit')).reset_index(drop=True)\n"
     ]
    }
   ],
   "source": [
    "\n",
    "conn = sqlite3.connect(\"E-comm.db\")\n",
    "cur = conn.cursor()\n",
    "\n",
    "query = \"\"\"\n",
    "SELECT p.Category AS ProductCategory,p.ProductName,SUM(od.Quantity) AS TotalQuantity,SUM(od.Profit) AS TotalProfit\n",
    "FROM OrderDetails od\n",
    "JOIN Product p ON od.ProductID = p.ProductID\n",
    "GROUP BY p.Category, p.ProductName\n",
    "ORDER BY p.Category, TotalQuantity ASC;\n",
    "\"\"\"\n",
    "cur.execute(query)\n",
    "rows = cur.fetchall()\n",
    "\n",
    "# dataframe\n",
    "column_names = [desc[0] for desc in cur.description]\n",
    "df_products = pd.DataFrame(rows, columns=column_names)\n",
    "\n",
    "# Bottom 3 products per category by Quantity\n",
    "bottom3_quantity = df_products.groupby(\"ProductCategory\").head(3).reset_index(drop=True)\n",
    "\n",
    "# Bottom 3 products per category by Profit\n",
    "bottom3_profit = df_products.groupby(\"ProductCategory\").apply(lambda x: x.nsmallest(3, 'TotalProfit')).reset_index(drop=True)\n",
    "\n",
    "# Mark if bottom quantity products are also bottom profit products\n",
    "bottom3_quantity['BottomProfit'] = bottom3_quantity.apply(\n",
    "    lambda row: row['ProductName'] in bottom3_profit[bottom3_profit['ProductCategory']==row['ProductCategory']]['ProductName'].values,\n",
    "    axis=1\n",
    ")\n",
    "\n",
    "# final result\n",
    "print(\"Bottom 3 Worst-Selling Products per Product Category (Quantity-wise)\")\n",
    "print(bottom3_quantity[['ProductCategory', 'ProductName', 'TotalQuantity', 'TotalProfit', 'BottomProfit']])\n",
    "\n",
    "cur.close()\n",
    "conn.close()\n"
   ]
  },
  {
   "cell_type": "markdown",
   "id": "7de261e4",
   "metadata": {},
   "source": [
    "### 6. How many unique customers per month are there for the year 2016.\n",
    "(There's a catch here: contrary to other 'heavier' RDBMS, SQLite does not support the functions YEAR() or MONTH() to extract the year or the month in a date. You will have to create two new columns: year and month.)"
   ]
  },
  {
   "cell_type": "code",
   "execution_count": 35,
   "id": "ba115466",
   "metadata": {},
   "outputs": [
    {
     "name": "stdout",
     "output_type": "stream",
     "text": [
      "Unique Customers per Month for 2016\n",
      "    Month  UniqueCustomers\n",
      "0       1               46\n",
      "1       2               42\n",
      "2       3               80\n",
      "3       4               83\n",
      "4       5               96\n",
      "5       6               90\n",
      "6       7               89\n",
      "7       8               86\n",
      "8       9              176\n",
      "9      10               95\n",
      "10     11              165\n",
      "11     12              157\n"
     ]
    }
   ],
   "source": [
    "\n",
    "# Connect to database\n",
    "conn = sqlite3.connect(\"E-comm.db\")\n",
    "\n",
    "# Fetch Orders table\n",
    "orders_df = pd.read_sql_query(\"SELECT * FROM Orders\", conn)\n",
    "\n",
    "# Create Year and Month columns from OrderDate\n",
    "orders_df['OrderDate'] = pd.to_datetime(orders_df['OrderDate'], errors='coerce')\n",
    "orders_df['Year'] = orders_df['OrderDate'].dt.year\n",
    "orders_df['Month'] = orders_df['OrderDate'].dt.month\n",
    "\n",
    "# Filter for 2016\n",
    "orders_2016 = orders_df[orders_df['Year'] == 2016]\n",
    "\n",
    "# Count unique customers per month\n",
    "unique_customers_per_month = (\n",
    "    orders_2016.groupby('Month')['CustomerID']\n",
    "    .nunique()\n",
    "    .reset_index(name='UniqueCustomers')\n",
    ")\n",
    "\n",
    "print('Unique Customers per Month for 2016')\n",
    "print(unique_customers_per_month)\n",
    "\n",
    "conn.close()\n"
   ]
  },
  {
   "cell_type": "markdown",
   "id": "57ae01e5",
   "metadata": {},
   "source": [
    "# EDA Begins \n",
    "####          Importing libraries "
   ]
  },
  {
   "cell_type": "code",
   "execution_count": 36,
   "id": "b0b861e4",
   "metadata": {},
   "outputs": [],
   "source": [
    "import pandas as pd\n",
    "import numpy as num\n",
    "import seaborn as sns \n",
    "import matplotlib.pyplot as plt \n",
    "import datetime as dt \n",
    "\n"
   ]
  },
  {
   "cell_type": "markdown",
   "id": "10c3a553",
   "metadata": {},
   "source": [
    "Rename column "
   ]
  },
  {
   "cell_type": "code",
   "execution_count": 37,
   "id": "6e74f172",
   "metadata": {},
   "outputs": [],
   "source": [
    "#df_business_data_new.columns = [col.replace(' ', '')for col in df_business_data_new]\n",
    "ecom_df_n = df_business_data_new.rename(columns= {'Sub-Category':'SubCategory'})\n"
   ]
  },
  {
   "cell_type": "markdown",
   "id": "eab46fde",
   "metadata": {},
   "source": [
    "### Data precprocessing and cleaning "
   ]
  },
  {
   "cell_type": "code",
   "execution_count": 38,
   "id": "fc86f349",
   "metadata": {},
   "outputs": [
    {
     "name": "stdout",
     "output_type": "stream",
     "text": [
      "<class 'pandas.core.frame.DataFrame'>\n",
      "RangeIndex: 9994 entries, 0 to 9993\n",
      "Data columns (total 22 columns):\n",
      " #   Column        Non-Null Count  Dtype  \n",
      "---  ------        --------------  -----  \n",
      " 0   RowID         9994 non-null   int64  \n",
      " 1   OrderID       9994 non-null   object \n",
      " 2   OrderDate     9994 non-null   object \n",
      " 3   ShipDate      9994 non-null   object \n",
      " 4   ShipMode      9994 non-null   object \n",
      " 5   CustomerID    9994 non-null   object \n",
      " 6   CustomerName  9994 non-null   object \n",
      " 7   Segment       9994 non-null   object \n",
      " 8   Country       9994 non-null   object \n",
      " 9   City          9994 non-null   object \n",
      " 10  State         9994 non-null   object \n",
      " 11  PostalCode    9994 non-null   int64  \n",
      " 12  Region        9994 non-null   object \n",
      " 13  ProductID     9994 non-null   object \n",
      " 14  Category      9994 non-null   object \n",
      " 15  SubCategory   9994 non-null   object \n",
      " 16  ProductName   9994 non-null   object \n",
      " 17  Sales         9994 non-null   float64\n",
      " 18  Quantity      9994 non-null   int64  \n",
      " 19  Discount      9994 non-null   float64\n",
      " 20  Profit        9994 non-null   float64\n",
      " 21  LocationID    9994 non-null   object \n",
      "dtypes: float64(3), int64(3), object(16)\n",
      "memory usage: 1.7+ MB\n"
     ]
    }
   ],
   "source": [
    "ecom_df_n.head(50)\n",
    "ecom_df_n.info()\n"
   ]
  },
  {
   "cell_type": "code",
   "execution_count": 39,
   "id": "f36720c1",
   "metadata": {},
   "outputs": [
    {
     "data": {
      "text/html": [
       "<div>\n",
       "<style scoped>\n",
       "    .dataframe tbody tr th:only-of-type {\n",
       "        vertical-align: middle;\n",
       "    }\n",
       "\n",
       "    .dataframe tbody tr th {\n",
       "        vertical-align: top;\n",
       "    }\n",
       "\n",
       "    .dataframe thead th {\n",
       "        text-align: right;\n",
       "    }\n",
       "</style>\n",
       "<table border=\"1\" class=\"dataframe\">\n",
       "  <thead>\n",
       "    <tr style=\"text-align: right;\">\n",
       "      <th></th>\n",
       "      <th>RowID</th>\n",
       "      <th>PostalCode</th>\n",
       "      <th>Sales</th>\n",
       "      <th>Quantity</th>\n",
       "      <th>Discount</th>\n",
       "      <th>Profit</th>\n",
       "    </tr>\n",
       "  </thead>\n",
       "  <tbody>\n",
       "    <tr>\n",
       "      <th>count</th>\n",
       "      <td>9994.000000</td>\n",
       "      <td>9994.000000</td>\n",
       "      <td>9994.000000</td>\n",
       "      <td>9994.000000</td>\n",
       "      <td>9994.000000</td>\n",
       "      <td>9994.000000</td>\n",
       "    </tr>\n",
       "    <tr>\n",
       "      <th>mean</th>\n",
       "      <td>4997.500000</td>\n",
       "      <td>55190.379428</td>\n",
       "      <td>229.858001</td>\n",
       "      <td>3.789574</td>\n",
       "      <td>0.156203</td>\n",
       "      <td>28.656896</td>\n",
       "    </tr>\n",
       "    <tr>\n",
       "      <th>std</th>\n",
       "      <td>2885.163629</td>\n",
       "      <td>32063.693350</td>\n",
       "      <td>623.245101</td>\n",
       "      <td>2.225110</td>\n",
       "      <td>0.206452</td>\n",
       "      <td>234.260108</td>\n",
       "    </tr>\n",
       "    <tr>\n",
       "      <th>min</th>\n",
       "      <td>1.000000</td>\n",
       "      <td>1040.000000</td>\n",
       "      <td>0.444000</td>\n",
       "      <td>1.000000</td>\n",
       "      <td>0.000000</td>\n",
       "      <td>-6599.978000</td>\n",
       "    </tr>\n",
       "    <tr>\n",
       "      <th>25%</th>\n",
       "      <td>2499.250000</td>\n",
       "      <td>23223.000000</td>\n",
       "      <td>17.280000</td>\n",
       "      <td>2.000000</td>\n",
       "      <td>0.000000</td>\n",
       "      <td>1.728750</td>\n",
       "    </tr>\n",
       "    <tr>\n",
       "      <th>50%</th>\n",
       "      <td>4997.500000</td>\n",
       "      <td>56430.500000</td>\n",
       "      <td>54.490000</td>\n",
       "      <td>3.000000</td>\n",
       "      <td>0.200000</td>\n",
       "      <td>8.666500</td>\n",
       "    </tr>\n",
       "    <tr>\n",
       "      <th>75%</th>\n",
       "      <td>7495.750000</td>\n",
       "      <td>90008.000000</td>\n",
       "      <td>209.940000</td>\n",
       "      <td>5.000000</td>\n",
       "      <td>0.200000</td>\n",
       "      <td>29.364000</td>\n",
       "    </tr>\n",
       "    <tr>\n",
       "      <th>max</th>\n",
       "      <td>9994.000000</td>\n",
       "      <td>99301.000000</td>\n",
       "      <td>22638.480000</td>\n",
       "      <td>14.000000</td>\n",
       "      <td>0.800000</td>\n",
       "      <td>8399.976000</td>\n",
       "    </tr>\n",
       "  </tbody>\n",
       "</table>\n",
       "</div>"
      ],
      "text/plain": [
       "             RowID    PostalCode         Sales     Quantity     Discount  \\\n",
       "count  9994.000000   9994.000000   9994.000000  9994.000000  9994.000000   \n",
       "mean   4997.500000  55190.379428    229.858001     3.789574     0.156203   \n",
       "std    2885.163629  32063.693350    623.245101     2.225110     0.206452   \n",
       "min       1.000000   1040.000000      0.444000     1.000000     0.000000   \n",
       "25%    2499.250000  23223.000000     17.280000     2.000000     0.000000   \n",
       "50%    4997.500000  56430.500000     54.490000     3.000000     0.200000   \n",
       "75%    7495.750000  90008.000000    209.940000     5.000000     0.200000   \n",
       "max    9994.000000  99301.000000  22638.480000    14.000000     0.800000   \n",
       "\n",
       "            Profit  \n",
       "count  9994.000000  \n",
       "mean     28.656896  \n",
       "std     234.260108  \n",
       "min   -6599.978000  \n",
       "25%       1.728750  \n",
       "50%       8.666500  \n",
       "75%      29.364000  \n",
       "max    8399.976000  "
      ]
     },
     "execution_count": 39,
     "metadata": {},
     "output_type": "execute_result"
    }
   ],
   "source": [
    "ecom_df_n.describe()"
   ]
  },
  {
   "cell_type": "code",
   "execution_count": 40,
   "id": "b7a5b6e1",
   "metadata": {},
   "outputs": [
    {
     "data": {
      "text/plain": [
       "RowID           0\n",
       "OrderID         0\n",
       "OrderDate       0\n",
       "ShipDate        0\n",
       "ShipMode        0\n",
       "CustomerID      0\n",
       "CustomerName    0\n",
       "Segment         0\n",
       "Country         0\n",
       "City            0\n",
       "State           0\n",
       "PostalCode      0\n",
       "Region          0\n",
       "ProductID       0\n",
       "Category        0\n",
       "SubCategory     0\n",
       "ProductName     0\n",
       "Sales           0\n",
       "Quantity        0\n",
       "Discount        0\n",
       "Profit          0\n",
       "LocationID      0\n",
       "dtype: int64"
      ]
     },
     "execution_count": 40,
     "metadata": {},
     "output_type": "execute_result"
    }
   ],
   "source": [
    "ecom_df_n.isnull().sum()\n"
   ]
  },
  {
   "cell_type": "markdown",
   "id": "b5d77c14",
   "metadata": {},
   "source": [
    "Converts the date column to proper datetime objects"
   ]
  },
  {
   "cell_type": "code",
   "execution_count": 41,
   "id": "7bd227ba",
   "metadata": {},
   "outputs": [],
   "source": [
    "ecom_df_n.loc[:, ['OrderDate', 'ShipDate']] = ecom_df_n[['OrderDate', 'ShipDate']].apply(\n",
    "lambda x: pd.to_datetime(x, errors='coerce').dt.date)\n",
    "\n",
    "#ecom_df_n.loc[: , ] = pd.to_datetime(ecom_df_n['ShipDate'], errors='coerce').dt.date"
   ]
  },
  {
   "cell_type": "code",
   "execution_count": 42,
   "id": "5c771533",
   "metadata": {},
   "outputs": [
    {
     "data": {
      "text/plain": [
       "np.int64(0)"
      ]
     },
     "execution_count": 42,
     "metadata": {},
     "output_type": "execute_result"
    }
   ],
   "source": [
    "ecom_df_n.duplicated().sum()"
   ]
  },
  {
   "cell_type": "markdown",
   "id": "86ac3591",
   "metadata": {},
   "source": [
    "### Data Visualization"
   ]
  },
  {
   "cell_type": "code",
   "execution_count": 43,
   "id": "dde66bb3",
   "metadata": {},
   "outputs": [
    {
     "name": "stdout",
     "output_type": "stream",
     "text": [
      "   RowID         OrderID   OrderDate    ShipDate        ShipMode CustomerID  \\\n",
      "0      1  CA-2016-152156  2016-11-08  2016-11-11    Second Class   CG-12520   \n",
      "1      2  CA-2016-152156  2016-11-08  2016-11-11    Second Class   CG-12520   \n",
      "2      3  CA-2016-138688  2016-06-12  2016-06-16    Second Class   DV-13045   \n",
      "3      4  US-2015-108966  2015-10-11  2015-10-18  Standard Class   SO-20335   \n",
      "4      5  US-2015-108966  2015-10-11  2015-10-18  Standard Class   SO-20335   \n",
      "\n",
      "      CustomerName    Segment        Country             City  ... Region  \\\n",
      "0      Claire Gute   Consumer  United States        Henderson  ...  South   \n",
      "1      Claire Gute   Consumer  United States        Henderson  ...  South   \n",
      "2  Darrin Van Huff  Corporate  United States      Los Angeles  ...   West   \n",
      "3   Sean O'Donnell   Consumer  United States  Fort Lauderdale  ...  South   \n",
      "4   Sean O'Donnell   Consumer  United States  Fort Lauderdale  ...  South   \n",
      "\n",
      "         ProductID         Category SubCategory  \\\n",
      "0  FUR-BO-10001798        Furniture   Bookcases   \n",
      "1  FUR-CH-10000454        Furniture      Chairs   \n",
      "2  OFF-LA-10000240  Office Supplies      Labels   \n",
      "3  FUR-TA-10000577        Furniture      Tables   \n",
      "4  OFF-ST-10000760  Office Supplies     Storage   \n",
      "\n",
      "                                         ProductName     Sales Quantity  \\\n",
      "0                  Bush Somerset Collection Bookcase  261.9600        2   \n",
      "1  Hon Deluxe Fabric Upholstered Stacking Chairs,...  731.9400        3   \n",
      "2  Self-Adhesive Address Labels for Typewriters b...   14.6200        2   \n",
      "3      Bretford CR4500 Series Slim Rectangular Table  957.5775        5   \n",
      "4                     Eldon Fold 'N Roll Cart System   22.3680        2   \n",
      "\n",
      "   Discount    Profit  LocationID  \n",
      "0      0.00   41.9136        L001  \n",
      "1      0.00  219.5820        L002  \n",
      "2      0.00    6.8714        L003  \n",
      "3      0.45 -383.0310        L004  \n",
      "4      0.20    2.5164        L005  \n",
      "\n",
      "[5 rows x 22 columns]\n"
     ]
    }
   ],
   "source": [
    "print(ecom_df_n.head(5))\n",
    "#print(ecom_df_n.info())\n"
   ]
  },
  {
   "cell_type": "markdown",
   "id": "46bc55c6",
   "metadata": {},
   "source": [
    "### Sales Trend Over Time"
   ]
  },
  {
   "cell_type": "code",
   "execution_count": 44,
   "id": "da69c8a2",
   "metadata": {},
   "outputs": [
    {
     "data": {
      "image/png": "[encoded data removed]",
      "text/plain": [
       "<Figure size 1200x600 with 1 Axes>"
      ]
     },
     "metadata": {},
     "output_type": "display_data"
    }
   ],
   "source": [
    "sales_trend = ecom_df_n.groupby('OrderDate')['Sales'].sum()\n",
    "plt.figure(figsize=(12, 6))\n",
    "plt.plot(sales_trend.index, sales_trend.values)\n",
    "plt.title('Sales Trend Over Time')\n",
    "plt.xlabel('Order Date')\n",
    "plt.ylabel('Total Sales')\n",
    "plt.grid(False)\n",
    "plt.show()\n"
   ]
  },
  {
   "cell_type": "markdown",
   "id": "1cb8013e",
   "metadata": {},
   "source": [
    "### Sales by Category "
   ]
  },
  {
   "cell_type": "code",
   "execution_count": 45,
   "id": "3bd3d36f",
   "metadata": {},
   "outputs": [
    {
     "data": {
      "image/png": "[encoded data removed]",
      "text/plain": [
       "<Figure size 800x500 with 1 Axes>"
      ]
     },
     "metadata": {},
     "output_type": "display_data"
    }
   ],
   "source": [
    "category_sales = ecom_df_n.groupby('Category')['Sales'].sum().sort_values()\n",
    "\n",
    "category_sales.plot(kind='barh', figsize=(8, 5))\n",
    "plt.title(\"Sales by Category\")\n",
    "plt.xlabel(\"Total Sales\")\n",
    "plt.ylabel(\"Category\")\n",
    "plt.show()\n",
    "\n"
   ]
  },
  {
   "cell_type": "code",
   "execution_count": 46,
   "id": "b88bfd08",
   "metadata": {},
   "outputs": [
    {
     "data": {
      "image/png": "[encoded data removed]",
      "text/plain": [
       "<Figure size 800x500 with 1 Axes>"
      ]
     },
     "metadata": {},
     "output_type": "display_data"
    }
   ],
   "source": [
    "plt.figure(figsize=(8, 5))\n",
    "plt.scatter(ecom_df_n['Sales'], ecom_df_n['Profit'], alpha=0.5)\n",
    "plt.title(\"Sales vs Profit\")\n",
    "plt.xlabel(\"Sales\")\n",
    "plt.ylabel(\"Profit\")\n",
    "plt.axhline(0, color='red', linestyle='--')  # mark zero profit line\n",
    "plt.show()\n"
   ]
  },
  {
   "cell_type": "markdown",
   "id": "19581962",
   "metadata": {},
   "source": [
    "### Sales by Region"
   ]
  },
  {
   "cell_type": "code",
   "execution_count": 47,
   "id": "99bf4ef1",
   "metadata": {},
   "outputs": [
    {
     "data": {
      "image/png": "[encoded data removed]",
      "text/plain": [
       "<Figure size 700x400 with 1 Axes>"
      ]
     },
     "metadata": {},
     "output_type": "display_data"
    }
   ],
   "source": [
    "region_sales = ecom_df_n.groupby('Region')['Sales'].sum()\n",
    "\n",
    "region_sales.plot(kind='bar', figsize=(7, 4))\n",
    "plt.title(\"Sales by Region\")\n",
    "plt.ylabel(\"Total Sales\")\n",
    "plt.show()\n"
   ]
  },
  {
   "cell_type": "markdown",
   "id": "22795e66",
   "metadata": {},
   "source": [
    "### Impact of Discount on profit "
   ]
  },
  {
   "cell_type": "code",
   "execution_count": 48,
   "id": "69beb355",
   "metadata": {},
   "outputs": [
    {
     "data": {
      "image/png": "[encoded data removed]",
      "text/plain": [
       "<Figure size 800x500 with 1 Axes>"
      ]
     },
     "metadata": {},
     "output_type": "display_data"
    }
   ],
   "source": [
    "plt.figure(figsize=(8, 5))\n",
    "plt.scatter(ecom_df_n['Discount'], ecom_df_n['Profit'], alpha=0.5)\n",
    "plt.title('Discount vs Profit')\n",
    "plt.xlabel('Discount')\n",
    "plt.ylabel('Profit')\n",
    "plt.axhline(0, color='red', linestyle='--')\n",
    "plt.show()\n"
   ]
  },
  {
   "cell_type": "markdown",
   "id": "ede7a993",
   "metadata": {},
   "source": [
    "What customer purchasing patterns can you discover? Such as activity on different days of the week, or weekly, monthly, quarterly, yearly, etc."
   ]
  },
  {
   "cell_type": "markdown",
   "id": "1343619a",
   "metadata": {},
   "source": [
    "### Prepare Date Columns"
   ]
  },
  {
   "cell_type": "code",
   "execution_count": 49,
   "id": "56c05c35",
   "metadata": {},
   "outputs": [],
   "source": [
    "## This clearly indicates weekdays are busiest for purchase\n",
    "# Ensure OrderDate is datetime\n",
    "ecom_df_n['OrderDate'] = pd.to_datetime(ecom_df_n['OrderDate'], errors='coerce')\n",
    "\n",
    "# Extract additional time features\n",
    "ecom_df_n['Year'] = ecom_df_n['OrderDate'].dt.year\n",
    "ecom_df_n['Quarter'] = ecom_df_n['OrderDate'].dt.to_period('Q')\n",
    "ecom_df_n['Month'] = ecom_df_n['OrderDate'].dt.month\n",
    "ecom_df_n['Week'] = ecom_df_n['OrderDate'].dt.isocalendar().week\n",
    "ecom_df_n['DayOfWeek'] = ecom_df_n['OrderDate'].dt.day_name()\n"
   ]
  },
  {
   "cell_type": "markdown",
   "id": "74dbd1c4",
   "metadata": {},
   "source": [
    "### Customers by Day of Week\n"
   ]
  },
  {
   "cell_type": "code",
   "execution_count": 50,
   "id": "c0b0d27d",
   "metadata": {},
   "outputs": [
    {
     "name": "stdout",
     "output_type": "stream",
     "text": [
      "Unique customers per day of week:\n",
      "DayOfWeek\n",
      "Monday       557\n",
      "Tuesday      398\n",
      "Wednesday    164\n",
      "Thursday     474\n",
      "Friday       544\n",
      "Saturday     513\n",
      "Sunday       535\n",
      "Name: CustomerID, dtype: int64\n"
     ]
    }
   ],
   "source": [
    "customers_by_day = ecom_df_n.groupby('DayOfWeek')['CustomerID'].nunique().reindex(\n",
    "    ['Monday','Tuesday','Wednesday','Thursday','Friday','Saturday','Sunday']\n",
    ")\n",
    "print(\"Unique customers per day of week:\")\n",
    "print(customers_by_day)\n"
   ]
  },
  {
   "cell_type": "markdown",
   "id": "f5c08f9d",
   "metadata": {},
   "source": [
    "### Customers by Month"
   ]
  },
  {
   "cell_type": "code",
   "execution_count": 51,
   "id": "0bb20607",
   "metadata": {},
   "outputs": [
    {
     "name": "stdout",
     "output_type": "stream",
     "text": [
      "\n",
      "Unique customers per year:\n",
      "Year\n",
      "2014    595\n",
      "2015    573\n",
      "2016    638\n",
      "2017    693\n",
      "Name: CustomerID, dtype: int64\n"
     ]
    }
   ],
   "source": [
    "customers_by_year = ecom_df_n.groupby('Year')['CustomerID'].nunique()\n",
    "print(\"\\nUnique customers per year:\")\n",
    "print(customers_by_year)\n"
   ]
  },
  {
   "cell_type": "markdown",
   "id": "253415b2",
   "metadata": {},
   "source": [
    "### Customers by Quarter"
   ]
  },
  {
   "cell_type": "code",
   "execution_count": 52,
   "id": "36f40642",
   "metadata": {},
   "outputs": [
    {
     "name": "stdout",
     "output_type": "stream",
     "text": [
      "\n",
      "Unique customers per quarter:\n",
      "Quarter\n",
      "2014Q1    121\n",
      "2014Q2    180\n",
      "2014Q3    228\n",
      "2014Q4    305\n",
      "2015Q1    135\n",
      "2015Q2    192\n",
      "2015Q3    233\n",
      "2015Q4    310\n",
      "2016Q1    162\n",
      "2016Q2    240\n",
      "2016Q3    300\n",
      "2016Q4    345\n",
      "2017Q1    218\n",
      "2017Q2    288\n",
      "2017Q3    343\n",
      "2017Q4    436\n",
      "Freq: Q-DEC, Name: CustomerID, dtype: int64\n"
     ]
    }
   ],
   "source": [
    "customers_by_quarter = ecom_df_n.groupby('Quarter')['CustomerID'].nunique()\n",
    "print(\"\\nUnique customers per quarter:\")\n",
    "print(customers_by_quarter)\n"
   ]
  },
  {
   "cell_type": "markdown",
   "id": "26704208",
   "metadata": {},
   "source": [
    "### Customers by Year"
   ]
  },
  {
   "cell_type": "code",
   "execution_count": 53,
   "id": "c9dbffdd",
   "metadata": {},
   "outputs": [
    {
     "name": "stdout",
     "output_type": "stream",
     "text": [
      "\n",
      "Unique customers per year:\n",
      "Year\n",
      "2014    595\n",
      "2015    573\n",
      "2016    638\n",
      "2017    693\n",
      "Name: CustomerID, dtype: int64\n"
     ]
    }
   ],
   "source": [
    "customers_by_year = ecom_df_n.groupby('Year')['CustomerID'].nunique()\n",
    "print(\"\\nUnique customers per year:\")\n",
    "print(customers_by_year)\n"
   ]
  },
  {
   "cell_type": "markdown",
   "id": "229202b2",
   "metadata": {},
   "source": [
    "### visualization of Dayily,Monthly,Quaterly and Yearly customer pattern"
   ]
  },
  {
   "cell_type": "code",
   "execution_count": 54,
   "id": "7fa3f360",
   "metadata": {},
   "outputs": [
    {
     "data": {
      "image/png": "[encoded data removed]",
      "text/plain": [
       "<Figure size 800x400 with 1 Axes>"
      ]
     },
     "metadata": {},
     "output_type": "display_data"
    },
    {
     "data": {
      "image/png": "[encoded data removed]",
      "text/plain": [
       "<Figure size 800x400 with 1 Axes>"
      ]
     },
     "metadata": {},
     "output_type": "display_data"
    },
    {
     "data": {
      "image/png": "[encoded data removed]",
      "text/plain": [
       "<Figure size 600x400 with 1 Axes>"
      ]
     },
     "metadata": {},
     "output_type": "display_data"
    },
    {
     "data": {
      "image/png": "[encoded data removed]",
      "text/plain": [
       "<Figure size 600x400 with 1 Axes>"
      ]
     },
     "metadata": {},
     "output_type": "display_data"
    }
   ],
   "source": [
    "# Day of Week\n",
    "customers_by_day.plot(kind='bar', title='Unique Customers by Day of Week', figsize=(8,4))\n",
    "plt.show()\n",
    "\n",
    "# Month\n",
    "customers_by_month = ecom_df_n.groupby('Month')['CustomerID'].nunique()\n",
    "customers_by_month.plot(kind='bar', title='Unique Customers by Month', figsize=(8,4))\n",
    "plt.show()\n",
    "\n",
    "# Quarter\n",
    "customers_by_quarter.plot(kind='bar', title='Unique Customers by Quarter', figsize=(6,4))\n",
    "plt.show()\n",
    "\n",
    "# Year\n",
    "customers_by_year.plot(kind='bar', title='Unique Customers by Year', figsize=(6,4))\n",
    "plt.show()\n"
   ]
  },
  {
   "cell_type": "code",
   "execution_count": 55,
   "id": "892f7909",
   "metadata": {},
   "outputs": [
    {
     "name": "stdout",
     "output_type": "stream",
     "text": [
      "DayOfWeek\n",
      "Monday       557\n",
      "Tuesday      398\n",
      "Wednesday    164\n",
      "Thursday     474\n",
      "Friday       544\n",
      "Saturday     513\n",
      "Sunday       535\n",
      "Name: CustomerID, dtype: int64\n",
      "Month\n",
      "1     159\n",
      "2     146\n",
      "3     290\n",
      "4     282\n",
      "5     301\n",
      "6     290\n",
      "7     281\n",
      "8     280\n",
      "9     459\n",
      "10    323\n",
      "11    483\n",
      "12    454\n",
      "Name: CustomerID, dtype: int64\n",
      "Quarter\n",
      "2014Q1    121\n",
      "2014Q2    180\n",
      "2014Q3    228\n",
      "2014Q4    305\n",
      "2015Q1    135\n",
      "2015Q2    192\n",
      "2015Q3    233\n",
      "2015Q4    310\n",
      "2016Q1    162\n",
      "2016Q2    240\n",
      "2016Q3    300\n",
      "2016Q4    345\n",
      "2017Q1    218\n",
      "2017Q2    288\n",
      "2017Q3    343\n",
      "2017Q4    436\n",
      "Freq: Q-DEC, Name: CustomerID, dtype: int64\n",
      "Year\n",
      "2014    595\n",
      "2015    573\n",
      "2016    638\n",
      "2017    693\n",
      "Name: CustomerID, dtype: int64\n"
     ]
    },
    {
     "data": {
      "image/png": "[encoded data removed]",
      "text/plain": [
       "<Figure size 800x550 with 1 Axes>"
      ]
     },
     "metadata": {},
     "output_type": "display_data"
    },
    {
     "data": {
      "image/png": "[encoded data removed]",
      "text/plain": [
       "<Figure size 800x550 with 1 Axes>"
      ]
     },
     "metadata": {},
     "output_type": "display_data"
    }
   ],
   "source": [
    "\n",
    "# Convert OrderDate to datetime\n",
    "ecom_df_n['OrderDate'] = pd.to_datetime(ecom_df_n['OrderDate'], errors='coerce')\n",
    "\n",
    "# Extract time features\n",
    "ecom_df_n['Year'] = ecom_df_n['OrderDate'].dt.year\n",
    "ecom_df_n['Quarter'] = ecom_df_n['OrderDate'].dt.to_period('Q')\n",
    "ecom_df_n['Month'] = ecom_df_n['OrderDate'].dt.month\n",
    "ecom_df_n['Week'] = ecom_df_n['OrderDate'].dt.isocalendar().week\n",
    "ecom_df_n['DayOfWeek'] = ecom_df_n['OrderDate'].dt.day_name()\n",
    "\n",
    "# Customers by Day of Week\n",
    "customers_by_day = ecom_df_n.groupby('DayOfWeek')['CustomerID'].nunique().reindex(\n",
    "    ['Monday','Tuesday','Wednesday','Thursday','Friday','Saturday','Sunday']\n",
    ")\n",
    "print(customers_by_day)\n",
    "\n",
    "# Customers by Month\n",
    "customers_by_month = ecom_df_n.groupby('Month')['CustomerID'].nunique()\n",
    "print(customers_by_month)\n",
    "\n",
    "# Customers by Quarter\n",
    "customers_by_quarter = ecom_df_n.groupby('Quarter')['CustomerID'].nunique()\n",
    "print(customers_by_quarter)\n",
    "\n",
    "# Customers by Year\n",
    "customers_by_year = ecom_df_n.groupby('Year')['CustomerID'].nunique()\n",
    "print(customers_by_year)\n",
    "\n",
    "# Optional: Simple plots\n",
    "customers_by_day.plot(kind='bar', title='Unique Customers by Day of Week')\n",
    "plt.show()\n",
    "\n",
    "customers_by_month.plot(kind='bar', title='Unique Customers by Month')\n",
    "plt.show()\n"
   ]
  },
  {
   "cell_type": "markdown",
   "id": "007f7e0d",
   "metadata": {},
   "source": [
    "State with Highest number of Order"
   ]
  },
  {
   "cell_type": "code",
   "execution_count": 56,
   "id": "ae0543de",
   "metadata": {},
   "outputs": [
    {
     "name": "stdout",
     "output_type": "stream",
     "text": [
      "\n",
      "Top 5 States by Number of Orders:\n",
      "          State  TotalOrders\n",
      "0    California         3982\n",
      "1      New York         2916\n",
      "2         Texas         2616\n",
      "3  Pennsylvania         1854\n",
      "4      Illinois         1717\n"
     ]
    }
   ],
   "source": [
    "conn = sqlite3.connect(\"E-comm.db\")\n",
    "cur = conn.cursor()\n",
    "\n",
    "# Top 5 states by number of orders\n",
    "cur.execute(\"\"\"\n",
    "SELECT l.State, COUNT(DISTINCT o.OrderID) AS TotalOrders\n",
    "FROM Orders o\n",
    "JOIN Customer c ON o.CustomerID = c.CustomerID\n",
    "JOIN Location l ON c.LocationID = l.LocationID\n",
    "GROUP BY l.State\n",
    "ORDER BY TotalOrders DESC\n",
    "LIMIT 5;\n",
    "\"\"\")\n",
    "\n",
    "top_states = pd.DataFrame(cur.fetchall(), columns=[\"State\", \"TotalOrders\"])\n",
    "print(\"\\nTop 5 States by Number of Orders:\")\n",
    "print(top_states)\n"
   ]
  },
  {
   "cell_type": "code",
   "execution_count": 57,
   "id": "940c4444",
   "metadata": {},
   "outputs": [
    {
     "name": "stdout",
     "output_type": "stream",
     "text": [
      "\n",
      "Top 5 Customers by Number of Orders:\n",
      "       CustomerName  TotalOrders\n",
      "0        Emily Phan           17\n",
      "1  Zuschuss Carroll           13\n",
      "2     Sally Hughsby           13\n",
      "3   Patrick Gardner           13\n",
      "4      Noel Staavos           13\n"
     ]
    }
   ],
   "source": [
    "# Top 5 customers by number of orders\n",
    "cur.execute(\"\"\"\n",
    "SELECT c.CustomerName, COUNT(DISTINCT o.OrderID) AS TotalOrders\n",
    "FROM Orders o\n",
    "JOIN Customer c ON o.CustomerID = c.CustomerID\n",
    "GROUP BY c.CustomerName\n",
    "ORDER BY TotalOrders DESC\n",
    "LIMIT 5;\n",
    "\"\"\")\n",
    "\n",
    "top_customers_orders = pd.DataFrame(cur.fetchall(), columns=[\"CustomerName\", \"TotalOrders\"])\n",
    "print(\"\\nTop 5 Customers by Number of Orders:\")\n",
    "print(top_customers_orders)\n"
   ]
  },
  {
   "cell_type": "code",
   "execution_count": 58,
   "id": "cc340ede",
   "metadata": {},
   "outputs": [
    {
     "name": "stdout",
     "output_type": "stream",
     "text": [
      "\n",
      "Top 5 Customers by Total Sales:\n",
      "   CustomerName  TotalSales\n",
      "0  Ken Lonsdale  411081.641\n",
      "1   Sean Miller  375645.750\n",
      "2   Seth Vernon  367070.400\n",
      "3     Greg Tran  342783.480\n",
      "4      John Lee  333197.382\n"
     ]
    }
   ],
   "source": [
    "# Top 5 customers by total spend\n",
    "cur.execute(\"\"\"\n",
    "SELECT c.CustomerName, SUM(od.Sales) AS TotalSales\n",
    "FROM OrderDetails od\n",
    "JOIN Orders o ON od.OrderID = o.OrderID\n",
    "JOIN Customer c ON o.CustomerID = c.CustomerID\n",
    "GROUP BY c.CustomerName\n",
    "ORDER BY TotalSales DESC\n",
    "LIMIT 5;\n",
    "\"\"\")\n",
    "\n",
    "top_customers_sales = pd.DataFrame(cur.fetchall(), columns=[\"CustomerName\", \"TotalSales\"])\n",
    "print(\"\\nTop 5 Customers by Total Sales:\")\n",
    "print(top_customers_sales)\n"
   ]
  },
  {
   "cell_type": "markdown",
   "id": "efc513db",
   "metadata": {},
   "source": [
    "## Top 5 States generating the most and least sales revenue?"
   ]
  },
  {
   "cell_type": "code",
   "execution_count": 59,
   "id": "411466a0",
   "metadata": {},
   "outputs": [
    {
     "name": "stdout",
     "output_type": "stream",
     "text": [
      "Data prepared and saved to top_bottom_state_sales.csv\n",
      "                   State    TotalSales     Group\n",
      "0             California  7.033587e+06     Top 5\n",
      "1               New York  4.214983e+06     Top 5\n",
      "2                  Texas  3.395069e+06     Top 5\n",
      "3           Pennsylvania  2.072148e+06     Top 5\n",
      "4             Washington  1.877345e+06     Top 5\n",
      "44  District of Columbia  4.581266e+04  Bottom 5\n",
      "45               Vermont  3.733011e+04  Bottom 5\n",
      "46          North Dakota  1.961074e+04  Bottom 5\n",
      "47         West Virginia  1.757078e+04  Bottom 5\n",
      "48               Wyoming  2.453284e+03  Bottom 5\n"
     ]
    }
   ],
   "source": [
    "\n",
    "#  Connect to database\n",
    "conn = sqlite3.connect(\"E-comm.db\")\n",
    "\n",
    "# Step 2: Query state-wise sales\n",
    "query = \"\"\"\n",
    "SELECT l.State, SUM(od.Sales) AS TotalSales\n",
    "FROM OrderDetails od\n",
    "JOIN Orders o ON od.OrderID = o.OrderID\n",
    "JOIN Customer c ON o.CustomerID = c.CustomerID\n",
    "JOIN Location l ON c.LocationID = l.LocationID\n",
    "GROUP BY l.State\n",
    "ORDER BY TotalSales DESC;\n",
    "\"\"\"\n",
    "state_sales = pd.read_sql_query(query, conn)\n",
    "conn.close()\n",
    "\n",
    "# Select Top 5 and Bottom 5\n",
    "top_5 = state_sales.head(5).copy()\n",
    "bottom_5 = state_sales.tail(5).copy()\n",
    "\n",
    "# Add a column to label group (for easy Tableau filtering)\n",
    "top_5[\"Group\"] = \"Top 5\"\n",
    "bottom_5[\"Group\"] = \"Bottom 5\"\n",
    "\n",
    "# Combine into one DataFrame\n",
    "final_data = pd.concat([top_5, bottom_5])\n",
    "\n",
    "# Export to CSV for Tableau or future visualization\n",
    "final_data.to_csv(\"top_bottom_state_sales.csv\", index=False)\n",
    "\n",
    "print(\"Data prepared and saved to top_bottom_state_sales.csv\")\n",
    "print(final_data)\n"
   ]
  },
  {
   "cell_type": "markdown",
   "id": "bf330586",
   "metadata": {},
   "source": [
    "Visualization of top 5 Sales revenue"
   ]
  },
  {
   "cell_type": "code",
   "execution_count": 60,
   "id": "d212ee69",
   "metadata": {},
   "outputs": [
    {
     "data": {
      "image/png": "[encoded data removed]",
      "text/plain": [
       "<Figure size 1000x600 with 1 Axes>"
      ]
     },
     "metadata": {},
     "output_type": "display_data"
    }
   ],
   "source": [
    "\n",
    "#  Load the prepared CSV\n",
    "data = pd.read_csv(\"top_bottom_state_sales.csv\")\n",
    "\n",
    "# Sort by TotalSales for better visualization\n",
    "data = data.sort_values(by=\"TotalSales\", ascending=True)\n",
    "\n",
    "plt.figure(figsize=(10, 6))\n",
    "colors = data[\"Group\"].map({\"Top 5\": \"green\", \"Bottom 5\": \"red\"})\n",
    "plt.barh(data[\"State\"], data[\"TotalSales\"], color=colors)\n",
    "plt.xlabel(\"Total Sales Revenue\")\n",
    "plt.title(\"Top 5 and Bottom 5 States by Sales Revenue\")\n",
    "plt.tight_layout()\n",
    "plt.show()\n"
   ]
  },
  {
   "cell_type": "code",
   "execution_count": 61,
   "id": "d8032507",
   "metadata": {},
   "outputs": [],
   "source": [
    "# #remove outliers\n",
    "# def remove_outliers(df, column):\n",
    "#     Q1 = df[column].quantile(0.25)\n",
    "#     Q3 = df[column].quantile(0.75)\n",
    "#     IQR = Q3 - Q1\n",
    "#     lower_bound = Q1 - 1.5 * IQR\n",
    "#     upper_bound = Q3 + 1.5 * IQR\n",
    "#     return df[(df[column] >= lower_bound) & (df[column] <= upper_bound)]    \n",
    "\n",
    "\n",
    "\n",
    "# all_wine "
   ]
  },
  {
   "cell_type": "markdown",
   "id": "f38a14b9",
   "metadata": {},
   "source": [
    "# ML Clustering with K-means"
   ]
  },
  {
   "cell_type": "markdown",
   "id": "d281c8af",
   "metadata": {},
   "source": [
    "Importing all the libraries "
   ]
  },
  {
   "cell_type": "code",
   "execution_count": 62,
   "id": "57331878",
   "metadata": {},
   "outputs": [],
   "source": [
    "from sklearn.datasets import make_blobs\n",
    "from sklearn.cluster import KMeans\n",
    "from sklearn.metrics import silhouette_score\n",
    "import pandas as pd\n",
    "import plotly.express as px\n",
    "from plotly.subplots import make_subplots\n",
    "import plotly.graph_objects as go\n",
    "from yellowbrick.cluster import SilhouetteVisualizer\n",
    "import numpy as np\n",
    "from sklearn.preprocessing import StandardScaler\n",
    "import matplotlib.pyplot as plt\n",
    "import seaborn as sns\n",
    "from sklearn.decomposition import PCA\n"
   ]
  },
  {
   "cell_type": "markdown",
   "id": "53b1ff93",
   "metadata": {},
   "source": [
    "To ensure proper data format"
   ]
  },
  {
   "cell_type": "code",
   "execution_count": 82,
   "id": "14a52fd2",
   "metadata": {},
   "outputs": [
    {
     "data": {
      "text/html": [
       "<div>\n",
       "<style scoped>\n",
       "    .dataframe tbody tr th:only-of-type {\n",
       "        vertical-align: middle;\n",
       "    }\n",
       "\n",
       "    .dataframe tbody tr th {\n",
       "        vertical-align: top;\n",
       "    }\n",
       "\n",
       "    .dataframe thead th {\n",
       "        text-align: right;\n",
       "    }\n",
       "</style>\n",
       "<table border=\"1\" class=\"dataframe\">\n",
       "  <thead>\n",
       "    <tr style=\"text-align: right;\">\n",
       "      <th></th>\n",
       "      <th>RowID</th>\n",
       "      <th>OrderID</th>\n",
       "      <th>OrderDate</th>\n",
       "      <th>ShipDate</th>\n",
       "      <th>ShipMode</th>\n",
       "      <th>CustomerID</th>\n",
       "      <th>CustomerName</th>\n",
       "      <th>Segment</th>\n",
       "      <th>Country</th>\n",
       "      <th>City</th>\n",
       "      <th>...</th>\n",
       "      <th>Sales</th>\n",
       "      <th>Quantity</th>\n",
       "      <th>Discount</th>\n",
       "      <th>Profit</th>\n",
       "      <th>LocationID</th>\n",
       "      <th>Year</th>\n",
       "      <th>Quarter</th>\n",
       "      <th>Month</th>\n",
       "      <th>Week</th>\n",
       "      <th>DayOfWeek</th>\n",
       "    </tr>\n",
       "  </thead>\n",
       "  <tbody>\n",
       "    <tr>\n",
       "      <th>0</th>\n",
       "      <td>1</td>\n",
       "      <td>CA-2016-152156</td>\n",
       "      <td>2016-11-08</td>\n",
       "      <td>2016-11-11</td>\n",
       "      <td>Second Class</td>\n",
       "      <td>CG-12520</td>\n",
       "      <td>Claire Gute</td>\n",
       "      <td>Consumer</td>\n",
       "      <td>United States</td>\n",
       "      <td>Henderson</td>\n",
       "      <td>...</td>\n",
       "      <td>261.9600</td>\n",
       "      <td>2</td>\n",
       "      <td>0.00</td>\n",
       "      <td>41.9136</td>\n",
       "      <td>L001</td>\n",
       "      <td>2016</td>\n",
       "      <td>2016Q4</td>\n",
       "      <td>11</td>\n",
       "      <td>45</td>\n",
       "      <td>Tuesday</td>\n",
       "    </tr>\n",
       "    <tr>\n",
       "      <th>1</th>\n",
       "      <td>2</td>\n",
       "      <td>CA-2016-152156</td>\n",
       "      <td>2016-11-08</td>\n",
       "      <td>2016-11-11</td>\n",
       "      <td>Second Class</td>\n",
       "      <td>CG-12520</td>\n",
       "      <td>Claire Gute</td>\n",
       "      <td>Consumer</td>\n",
       "      <td>United States</td>\n",
       "      <td>Henderson</td>\n",
       "      <td>...</td>\n",
       "      <td>731.9400</td>\n",
       "      <td>3</td>\n",
       "      <td>0.00</td>\n",
       "      <td>219.5820</td>\n",
       "      <td>L002</td>\n",
       "      <td>2016</td>\n",
       "      <td>2016Q4</td>\n",
       "      <td>11</td>\n",
       "      <td>45</td>\n",
       "      <td>Tuesday</td>\n",
       "    </tr>\n",
       "    <tr>\n",
       "      <th>2</th>\n",
       "      <td>3</td>\n",
       "      <td>CA-2016-138688</td>\n",
       "      <td>2016-06-12</td>\n",
       "      <td>2016-06-16</td>\n",
       "      <td>Second Class</td>\n",
       "      <td>DV-13045</td>\n",
       "      <td>Darrin Van Huff</td>\n",
       "      <td>Corporate</td>\n",
       "      <td>United States</td>\n",
       "      <td>Los Angeles</td>\n",
       "      <td>...</td>\n",
       "      <td>14.6200</td>\n",
       "      <td>2</td>\n",
       "      <td>0.00</td>\n",
       "      <td>6.8714</td>\n",
       "      <td>L003</td>\n",
       "      <td>2016</td>\n",
       "      <td>2016Q2</td>\n",
       "      <td>6</td>\n",
       "      <td>23</td>\n",
       "      <td>Sunday</td>\n",
       "    </tr>\n",
       "    <tr>\n",
       "      <th>3</th>\n",
       "      <td>4</td>\n",
       "      <td>US-2015-108966</td>\n",
       "      <td>2015-10-11</td>\n",
       "      <td>2015-10-18</td>\n",
       "      <td>Standard Class</td>\n",
       "      <td>SO-20335</td>\n",
       "      <td>Sean O'Donnell</td>\n",
       "      <td>Consumer</td>\n",
       "      <td>United States</td>\n",
       "      <td>Fort Lauderdale</td>\n",
       "      <td>...</td>\n",
       "      <td>957.5775</td>\n",
       "      <td>5</td>\n",
       "      <td>0.45</td>\n",
       "      <td>-383.0310</td>\n",
       "      <td>L004</td>\n",
       "      <td>2015</td>\n",
       "      <td>2015Q4</td>\n",
       "      <td>10</td>\n",
       "      <td>41</td>\n",
       "      <td>Sunday</td>\n",
       "    </tr>\n",
       "    <tr>\n",
       "      <th>4</th>\n",
       "      <td>5</td>\n",
       "      <td>US-2015-108966</td>\n",
       "      <td>2015-10-11</td>\n",
       "      <td>2015-10-18</td>\n",
       "      <td>Standard Class</td>\n",
       "      <td>SO-20335</td>\n",
       "      <td>Sean O'Donnell</td>\n",
       "      <td>Consumer</td>\n",
       "      <td>United States</td>\n",
       "      <td>Fort Lauderdale</td>\n",
       "      <td>...</td>\n",
       "      <td>22.3680</td>\n",
       "      <td>2</td>\n",
       "      <td>0.20</td>\n",
       "      <td>2.5164</td>\n",
       "      <td>L005</td>\n",
       "      <td>2015</td>\n",
       "      <td>2015Q4</td>\n",
       "      <td>10</td>\n",
       "      <td>41</td>\n",
       "      <td>Sunday</td>\n",
       "    </tr>\n",
       "    <tr>\n",
       "      <th>...</th>\n",
       "      <td>...</td>\n",
       "      <td>...</td>\n",
       "      <td>...</td>\n",
       "      <td>...</td>\n",
       "      <td>...</td>\n",
       "      <td>...</td>\n",
       "      <td>...</td>\n",
       "      <td>...</td>\n",
       "      <td>...</td>\n",
       "      <td>...</td>\n",
       "      <td>...</td>\n",
       "      <td>...</td>\n",
       "      <td>...</td>\n",
       "      <td>...</td>\n",
       "      <td>...</td>\n",
       "      <td>...</td>\n",
       "      <td>...</td>\n",
       "      <td>...</td>\n",
       "      <td>...</td>\n",
       "      <td>...</td>\n",
       "      <td>...</td>\n",
       "    </tr>\n",
       "    <tr>\n",
       "      <th>9989</th>\n",
       "      <td>9990</td>\n",
       "      <td>CA-2014-110422</td>\n",
       "      <td>2014-01-21</td>\n",
       "      <td>2014-01-23</td>\n",
       "      <td>Second Class</td>\n",
       "      <td>TB-21400</td>\n",
       "      <td>Tom Boeckenhauer</td>\n",
       "      <td>Consumer</td>\n",
       "      <td>United States</td>\n",
       "      <td>Miami</td>\n",
       "      <td>...</td>\n",
       "      <td>25.2480</td>\n",
       "      <td>3</td>\n",
       "      <td>0.20</td>\n",
       "      <td>4.1028</td>\n",
       "      <td>L9990</td>\n",
       "      <td>2014</td>\n",
       "      <td>2014Q1</td>\n",
       "      <td>1</td>\n",
       "      <td>4</td>\n",
       "      <td>Tuesday</td>\n",
       "    </tr>\n",
       "    <tr>\n",
       "      <th>9990</th>\n",
       "      <td>9991</td>\n",
       "      <td>CA-2017-121258</td>\n",
       "      <td>2017-02-26</td>\n",
       "      <td>2017-03-03</td>\n",
       "      <td>Standard Class</td>\n",
       "      <td>DB-13060</td>\n",
       "      <td>Dave Brooks</td>\n",
       "      <td>Consumer</td>\n",
       "      <td>United States</td>\n",
       "      <td>Costa Mesa</td>\n",
       "      <td>...</td>\n",
       "      <td>91.9600</td>\n",
       "      <td>2</td>\n",
       "      <td>0.00</td>\n",
       "      <td>15.6332</td>\n",
       "      <td>L9991</td>\n",
       "      <td>2017</td>\n",
       "      <td>2017Q1</td>\n",
       "      <td>2</td>\n",
       "      <td>8</td>\n",
       "      <td>Sunday</td>\n",
       "    </tr>\n",
       "    <tr>\n",
       "      <th>9991</th>\n",
       "      <td>9992</td>\n",
       "      <td>CA-2017-121258</td>\n",
       "      <td>2017-02-26</td>\n",
       "      <td>2017-03-03</td>\n",
       "      <td>Standard Class</td>\n",
       "      <td>DB-13060</td>\n",
       "      <td>Dave Brooks</td>\n",
       "      <td>Consumer</td>\n",
       "      <td>United States</td>\n",
       "      <td>Costa Mesa</td>\n",
       "      <td>...</td>\n",
       "      <td>258.5760</td>\n",
       "      <td>2</td>\n",
       "      <td>0.20</td>\n",
       "      <td>19.3932</td>\n",
       "      <td>L9992</td>\n",
       "      <td>2017</td>\n",
       "      <td>2017Q1</td>\n",
       "      <td>2</td>\n",
       "      <td>8</td>\n",
       "      <td>Sunday</td>\n",
       "    </tr>\n",
       "    <tr>\n",
       "      <th>9992</th>\n",
       "      <td>9993</td>\n",
       "      <td>CA-2017-121258</td>\n",
       "      <td>2017-02-26</td>\n",
       "      <td>2017-03-03</td>\n",
       "      <td>Standard Class</td>\n",
       "      <td>DB-13060</td>\n",
       "      <td>Dave Brooks</td>\n",
       "      <td>Consumer</td>\n",
       "      <td>United States</td>\n",
       "      <td>Costa Mesa</td>\n",
       "      <td>...</td>\n",
       "      <td>29.6000</td>\n",
       "      <td>4</td>\n",
       "      <td>0.00</td>\n",
       "      <td>13.3200</td>\n",
       "      <td>L9993</td>\n",
       "      <td>2017</td>\n",
       "      <td>2017Q1</td>\n",
       "      <td>2</td>\n",
       "      <td>8</td>\n",
       "      <td>Sunday</td>\n",
       "    </tr>\n",
       "    <tr>\n",
       "      <th>9993</th>\n",
       "      <td>9994</td>\n",
       "      <td>CA-2017-119914</td>\n",
       "      <td>2017-05-04</td>\n",
       "      <td>2017-05-09</td>\n",
       "      <td>Second Class</td>\n",
       "      <td>CC-12220</td>\n",
       "      <td>Chris Cortes</td>\n",
       "      <td>Consumer</td>\n",
       "      <td>United States</td>\n",
       "      <td>Westminster</td>\n",
       "      <td>...</td>\n",
       "      <td>243.1600</td>\n",
       "      <td>2</td>\n",
       "      <td>0.00</td>\n",
       "      <td>72.9480</td>\n",
       "      <td>L9994</td>\n",
       "      <td>2017</td>\n",
       "      <td>2017Q2</td>\n",
       "      <td>5</td>\n",
       "      <td>18</td>\n",
       "      <td>Thursday</td>\n",
       "    </tr>\n",
       "  </tbody>\n",
       "</table>\n",
       "<p>9994 rows × 27 columns</p>\n",
       "</div>"
      ],
      "text/plain": [
       "      RowID         OrderID  OrderDate    ShipDate        ShipMode CustomerID  \\\n",
       "0         1  CA-2016-152156 2016-11-08  2016-11-11    Second Class   CG-12520   \n",
       "1         2  CA-2016-152156 2016-11-08  2016-11-11    Second Class   CG-12520   \n",
       "2         3  CA-2016-138688 2016-06-12  2016-06-16    Second Class   DV-13045   \n",
       "3         4  US-2015-108966 2015-10-11  2015-10-18  Standard Class   SO-20335   \n",
       "4         5  US-2015-108966 2015-10-11  2015-10-18  Standard Class   SO-20335   \n",
       "...     ...             ...        ...         ...             ...        ...   \n",
       "9989   9990  CA-2014-110422 2014-01-21  2014-01-23    Second Class   TB-21400   \n",
       "9990   9991  CA-2017-121258 2017-02-26  2017-03-03  Standard Class   DB-13060   \n",
       "9991   9992  CA-2017-121258 2017-02-26  2017-03-03  Standard Class   DB-13060   \n",
       "9992   9993  CA-2017-121258 2017-02-26  2017-03-03  Standard Class   DB-13060   \n",
       "9993   9994  CA-2017-119914 2017-05-04  2017-05-09    Second Class   CC-12220   \n",
       "\n",
       "          CustomerName    Segment        Country             City  ...  \\\n",
       "0          Claire Gute   Consumer  United States        Henderson  ...   \n",
       "1          Claire Gute   Consumer  United States        Henderson  ...   \n",
       "2      Darrin Van Huff  Corporate  United States      Los Angeles  ...   \n",
       "3       Sean O'Donnell   Consumer  United States  Fort Lauderdale  ...   \n",
       "4       Sean O'Donnell   Consumer  United States  Fort Lauderdale  ...   \n",
       "...                ...        ...            ...              ...  ...   \n",
       "9989  Tom Boeckenhauer   Consumer  United States            Miami  ...   \n",
       "9990       Dave Brooks   Consumer  United States       Costa Mesa  ...   \n",
       "9991       Dave Brooks   Consumer  United States       Costa Mesa  ...   \n",
       "9992       Dave Brooks   Consumer  United States       Costa Mesa  ...   \n",
       "9993      Chris Cortes   Consumer  United States      Westminster  ...   \n",
       "\n",
       "         Sales  Quantity Discount    Profit LocationID  Year Quarter  Month  \\\n",
       "0     261.9600         2     0.00   41.9136       L001  2016  2016Q4     11   \n",
       "1     731.9400         3     0.00  219.5820       L002  2016  2016Q4     11   \n",
       "2      14.6200         2     0.00    6.8714       L003  2016  2016Q2      6   \n",
       "3     957.5775         5     0.45 -383.0310       L004  2015  2015Q4     10   \n",
       "4      22.3680         2     0.20    2.5164       L005  2015  2015Q4     10   \n",
       "...        ...       ...      ...       ...        ...   ...     ...    ...   \n",
       "9989   25.2480         3     0.20    4.1028      L9990  2014  2014Q1      1   \n",
       "9990   91.9600         2     0.00   15.6332      L9991  2017  2017Q1      2   \n",
       "9991  258.5760         2     0.20   19.3932      L9992  2017  2017Q1      2   \n",
       "9992   29.6000         4     0.00   13.3200      L9993  2017  2017Q1      2   \n",
       "9993  243.1600         2     0.00   72.9480      L9994  2017  2017Q2      5   \n",
       "\n",
       "      Week  DayOfWeek  \n",
       "0       45    Tuesday  \n",
       "1       45    Tuesday  \n",
       "2       23     Sunday  \n",
       "3       41     Sunday  \n",
       "4       41     Sunday  \n",
       "...    ...        ...  \n",
       "9989     4    Tuesday  \n",
       "9990     8     Sunday  \n",
       "9991     8     Sunday  \n",
       "9992     8     Sunday  \n",
       "9993    18   Thursday  \n",
       "\n",
       "[9994 rows x 27 columns]"
      ]
     },
     "execution_count": 82,
     "metadata": {},
     "output_type": "execute_result"
    }
   ],
   "source": [
    "ecom_df_n['OrderDate'] = pd.to_datetime(ecom_df_n['OrderDate'], errors='coerce')\n",
    "ecom_df_n\n"
   ]
  },
  {
   "cell_type": "markdown",
   "id": "f538312c",
   "metadata": {},
   "source": [
    "### Customer Segmentation\n",
    "Build RFM per customer (Mon, Freq, Rec)\n",
    "\n"
   ]
  },
  {
   "cell_type": "code",
   "execution_count": 87,
   "id": "dad361e9",
   "metadata": {},
   "outputs": [
    {
     "name": "stdout",
     "output_type": "stream",
     "text": [
      "  CustomerID  Recency  Frequency  Monetary\n",
      "0   AA-10315      185          5  5563.560\n",
      "1   AA-10375       20          9  1056.390\n",
      "2   AA-10480      260          4  1790.512\n",
      "3   AA-10645       56          6  5086.935\n",
      "4   AB-10015      416          3   886.156\n"
     ]
    }
   ],
   "source": [
    "# Reference date = max order date + 1\n",
    "reference_date = ecom_df_n['OrderDate'].max() + pd.Timedelta(days=1)\n",
    "\n",
    "# Build RFM\n",
    "rfm_df = ecom_df_n.groupby('CustomerID').agg({\n",
    "    'OrderDate': lambda x: (reference_date - x.max()).days,  # Recency\n",
    "    'OrderID': 'nunique',                                    # Frequency\n",
    "    'Sales': 'sum'                                           # Monetary\n",
    "}).reset_index()\n",
    "\n",
    "# Rename columns\n",
    "rfm_df.columns = ['CustomerID', 'Recency', 'Frequency', 'Monetary']\n",
    "\n",
    "print(rfm_df.head())\n"
   ]
  },
  {
   "cell_type": "markdown",
   "id": "52c61342",
   "metadata": {},
   "source": [
    "### Pre-Processing\n",
    "Outliers Check"
   ]
  },
  {
   "cell_type": "code",
   "execution_count": 98,
   "id": "6ee13950",
   "metadata": {},
   "outputs": [
    {
     "name": "stdout",
     "output_type": "stream",
     "text": [
      "Shape before outlier removal: (793, 4)\n"
     ]
    }
   ],
   "source": [
    "print(\"Shape before outlier removal:\", rfm_df.shape)\n"
   ]
  },
  {
   "cell_type": "code",
   "execution_count": null,
   "id": "550e7f98",
   "metadata": {},
   "outputs": [
    {
     "data": {
      "image/png": "[encoded data removed]",
      "text/plain": [
       "<Figure size 1500x500 with 3 Axes>"
      ]
     },
     "metadata": {},
     "output_type": "display_data"
    }
   ],
   "source": [
    "# Plot before removing outliers \n",
    "plt.figure(figsize=(15, 5))\n",
    "for i, col in enumerate(['Recency', 'Frequency', 'Monetary']):\n",
    "    plt.subplot(1, 3, i+1)\n",
    "    sns.boxplot(y=rfm_df[col])\n",
    "    plt.title(f'Before Outlier Removal - {col}')\n",
    "plt.tight_layout()\n",
    "plt.show()"
   ]
  },
  {
   "cell_type": "markdown",
   "id": "44d259e8",
   "metadata": {},
   "source": [
    "### Removing Outier using IQR method"
   ]
  },
  {
   "cell_type": "code",
   "execution_count": 96,
   "id": "b1286630",
   "metadata": {},
   "outputs": [
    {
     "name": "stdout",
     "output_type": "stream",
     "text": [
      "Shape after outlier removal: (719, 3)\n"
     ]
    }
   ],
   "source": [
    "# Select only the RFM features\n",
    "rfm = rfm_df[['Monetary', 'Frequency', 'Recency']].copy()\n",
    "\n",
    "# Step 2: Define a function for IQR outlier removal\n",
    "def remove_outliers_iqr(df, column):\n",
    "    Q1 = df[column].quantile(0.25)   # 25th percentile\n",
    "    Q3 = df[column].quantile(0.75)   # 75th percentile\n",
    "    IQR = Q3 - Q1                    # Interquartile range\n",
    "    \n",
    "    lower_bound = Q1 - 1.5 * IQR\n",
    "    upper_bound = Q3 + 1.5 * IQR\n",
    "    \n",
    "    return df[(df[column] >= lower_bound) & (df[column] <= upper_bound)]\n",
    "\n",
    "# Step 3: Apply the function to each column\n",
    "rfm_clean = rfm_df.copy()\n",
    "for col in ['Monetary', 'Frequency', 'Recency']:\n",
    "    rfm_clean = remove_outliers_iqr(rfm, col)\n",
    "\n",
    "print(\"Shape after outlier removal:\", rfm_clean.shape)\n"
   ]
  },
  {
   "cell_type": "code",
   "execution_count": 97,
   "id": "9469b3d6",
   "metadata": {},
   "outputs": [
    {
     "data": {
      "image/png": "[encoded data removed]",
      "text/plain": [
       "<Figure size 1500x500 with 3 Axes>"
      ]
     },
     "metadata": {},
     "output_type": "display_data"
    }
   ],
   "source": [
    "# ---- Plot after removing outliers ----\n",
    "plt.figure(figsize=(15, 5))\n",
    "for i, col in enumerate(['Recency', 'Frequency', 'Monetary']):\n",
    "    plt.subplot(1, 3, i+1)\n",
    "    sns.boxplot(y=rfm_clean[col])\n",
    "    plt.title(f'After Outlier Removal - {col}')\n",
    "plt.tight_layout()\n",
    "plt.show()"
   ]
  },
  {
   "cell_type": "code",
   "execution_count": null,
   "id": "f9d1fe6b",
   "metadata": {},
   "outputs": [],
   "source": [
    "def remove_outliers_iqr(df, columns):\n",
    "    df_clean = df.copy()\n",
    "    for col in columns:\n",
    "        Q1 = df_clean[col].quantile(0.25)\n",
    "        Q3 = df_clean[col].quantile(0.75)\n",
    "        IQR = Q3 - Q1\n",
    "        lower_bound = Q1 - 1.5 * IQR\n",
    "        upper_bound = Q3 + 1.5 * IQR\n",
    "        df_clean = df_clean[(df_clean[col] >= lower_bound) & (df_clean[col] <= upper_bound)]\n",
    "    return df_clean\n"
   ]
  },
  {
   "cell_type": "markdown",
   "id": "dc3020f2",
   "metadata": {},
   "source": [
    "Applying to data"
   ]
  },
  {
   "cell_type": "markdown",
   "id": "80540bf3",
   "metadata": {},
   "source": [
    "Enviroment creation"
   ]
  },
  {
   "cell_type": "code",
   "execution_count": 99,
   "id": "e36da126",
   "metadata": {},
   "outputs": [
    {
     "data": {
      "text/plain": [
       "False"
      ]
     },
     "execution_count": 99,
     "metadata": {},
     "output_type": "execute_result"
    }
   ],
   "source": [
    "from dotenv import load_dotenv\n",
    "load_dotenv()"
   ]
  },
  {
   "cell_type": "markdown",
   "id": "264650f0",
   "metadata": {},
   "source": [
    "### Arranging in 3 Dimensions "
   ]
  },
  {
   "cell_type": "markdown",
   "id": "0943bc17",
   "metadata": {},
   "source": [
    "### using StandardScaler for rescales"
   ]
  },
  {
   "cell_type": "code",
   "execution_count": 73,
   "id": "dd2915d2",
   "metadata": {},
   "outputs": [
    {
     "data": {
      "text/plain": [
       "(793, 3)"
      ]
     },
     "execution_count": 73,
     "metadata": {},
     "output_type": "execute_result"
    }
   ],
   "source": [
    "from sklearn.preprocessing import StandardScaler\n",
    "\n",
    "rfm_scaled_df = rfm_df[['Monetary', 'Frequency', 'Recency']].copy()\n",
    "\n",
    "# Instantiate StandardScaler\n",
    "scaler = StandardScaler()\n",
    "\n",
    "# Fit and transform\n",
    "rfm_scaled_array = scaler.fit_transform(rfm_scaled_df)\n",
    "rfm_scaled_array.shape\n"
   ]
  },
  {
   "cell_type": "code",
   "execution_count": 74,
   "id": "fd6b5e82",
   "metadata": {},
   "outputs": [
    {
     "name": "stdout",
     "output_type": "stream",
     "text": [
      "   Monetary  Frequency   Recency\n",
      "0  1.015112  -0.516429  0.199889\n",
      "1 -0.700590   1.052644 -0.686762\n",
      "2 -0.421139  -0.908697  0.602912\n",
      "3  0.833680  -0.124161 -0.493311\n",
      "4 -0.765391  -1.300965  1.441199\n"
     ]
    }
   ],
   "source": [
    "\n",
    "# Convert back to DataFrame\n",
    "rfm_scaled_df = pd.DataFrame(rfm_scaled_array, columns=['Monetary', 'Frequency', 'Recency'])\n",
    "\n",
    "# Preview\n",
    "print(rfm_scaled_df.head())\n"
   ]
  },
  {
   "cell_type": "markdown",
   "id": "b98e00c0",
   "metadata": {},
   "source": [
    "### Scale the Features"
   ]
  },
  {
   "cell_type": "code",
   "execution_count": 100,
   "id": "9daa8536",
   "metadata": {},
   "outputs": [
    {
     "data": {
      "text/html": [
       "<div>\n",
       "<style scoped>\n",
       "    .dataframe tbody tr th:only-of-type {\n",
       "        vertical-align: middle;\n",
       "    }\n",
       "\n",
       "    .dataframe tbody tr th {\n",
       "        vertical-align: top;\n",
       "    }\n",
       "\n",
       "    .dataframe thead th {\n",
       "        text-align: right;\n",
       "    }\n",
       "</style>\n",
       "<table border=\"1\" class=\"dataframe\">\n",
       "  <thead>\n",
       "    <tr style=\"text-align: right;\">\n",
       "      <th></th>\n",
       "      <th>Recency</th>\n",
       "      <th>Frequency</th>\n",
       "      <th>Monetary</th>\n",
       "    </tr>\n",
       "  </thead>\n",
       "  <tbody>\n",
       "    <tr>\n",
       "      <th>0</th>\n",
       "      <td>0.871106</td>\n",
       "      <td>-0.644938</td>\n",
       "      <td>0.961672</td>\n",
       "    </tr>\n",
       "    <tr>\n",
       "      <th>1</th>\n",
       "      <td>-0.807941</td>\n",
       "      <td>0.973598</td>\n",
       "      <td>-0.737685</td>\n",
       "    </tr>\n",
       "    <tr>\n",
       "      <th>2</th>\n",
       "      <td>1.634310</td>\n",
       "      <td>-1.049572</td>\n",
       "      <td>-0.460896</td>\n",
       "    </tr>\n",
       "    <tr>\n",
       "      <th>3</th>\n",
       "      <td>-0.441604</td>\n",
       "      <td>-0.240304</td>\n",
       "      <td>0.781968</td>\n",
       "    </tr>\n",
       "    <tr>\n",
       "      <th>4</th>\n",
       "      <td>-0.451780</td>\n",
       "      <td>0.568964</td>\n",
       "      <td>1.788153</td>\n",
       "    </tr>\n",
       "  </tbody>\n",
       "</table>\n",
       "</div>"
      ],
      "text/plain": [
       "    Recency  Frequency  Monetary\n",
       "0  0.871106  -0.644938  0.961672\n",
       "1 -0.807941   0.973598 -0.737685\n",
       "2  1.634310  -1.049572 -0.460896\n",
       "3 -0.441604  -0.240304  0.781968\n",
       "4 -0.451780   0.568964  1.788153"
      ]
     },
     "execution_count": 100,
     "metadata": {},
     "output_type": "execute_result"
    }
   ],
   "source": [
    "# Select only RFM features for scaling\n",
    "rfm_features = rfm_clean[['Recency', 'Frequency', 'Monetary']]\n",
    "\n",
    "scaler = StandardScaler()\n",
    "rfm_scaled = scaler.fit_transform(rfm_features)\n",
    "\n",
    "# Optional: convert back to DataFrame for easier inspection\n",
    "rfm_scaled_df = pd.DataFrame(rfm_scaled, columns=['Recency', 'Frequency', 'Monetary'])\n",
    "rfm_scaled_df.head()\n"
   ]
  },
  {
   "cell_type": "code",
   "execution_count": 101,
   "id": "7997ec8f",
   "metadata": {},
   "outputs": [
    {
     "name": "stdout",
     "output_type": "stream",
     "text": [
      "Means: [-7.65884034e-17  4.69412795e-17  1.28470870e-16]\n",
      "Std Devs: [1. 1. 1.]\n"
     ]
    }
   ],
   "source": [
    "print(\"Means:\", np.mean(rfm_scaled, axis=0))\n",
    "print(\"Std Devs:\", np.std(rfm_scaled, axis=0))\n"
   ]
  },
  {
   "cell_type": "markdown",
   "id": "c7364d0e",
   "metadata": {},
   "source": [
    "### Building the model"
   ]
  },
  {
   "cell_type": "markdown",
   "id": "4a496206",
   "metadata": {},
   "source": [
    "finding the value of K(Optimal K using Elbow + Silhouette Method)"
   ]
  },
  {
   "cell_type": "code",
   "execution_count": 105,
   "id": "e8a1d31a",
   "metadata": {},
   "outputs": [
    {
     "data": {
      "image/png": "[encoded data removed]",
      "text/plain": [
       "<Figure size 800x500 with 1 Axes>"
      ]
     },
     "metadata": {},
     "output_type": "display_data"
    }
   ],
   "source": [
    "# Elbow-curve \n",
    "# Range of k to test\n",
    "K_range = range(2, 11)\n",
    "\n",
    "# 1️⃣ Elbow method (inertia)\n",
    "inertia = []\n",
    "for k in K_range:\n",
    "    kmeans = KMeans(n_clusters=k, random_state=42)\n",
    "    kmeans.fit(rfm_scaled)\n",
    "    inertia.append(kmeans.inertia_)\n",
    "\n",
    "plt.figure(figsize=(8,5))\n",
    "plt.plot(K_range, inertia, marker='o')\n",
    "plt.xlabel('Number of clusters (k)')\n",
    "plt.ylabel('Inertia')\n",
    "plt.title('Elbow Method')\n",
    "plt.show()\n"
   ]
  },
  {
   "cell_type": "markdown",
   "id": "3b12a682",
   "metadata": {},
   "source": [
    "### Silhouette Analysis\n",
    "Distance of data point to other clusters. Ideally, we want a higher silhouette score, which indicates good separation between clusters, and tightness within clusters."
   ]
  },
  {
   "cell_type": "code",
   "execution_count": 107,
   "id": "f6bdbb4b",
   "metadata": {},
   "outputs": [
    {
     "name": "stdout",
     "output_type": "stream",
     "text": [
      "k=2, Silhouette Score=0.352\n",
      "k=3, Silhouette Score=0.333\n",
      "k=4, Silhouette Score=0.339\n",
      "k=5, Silhouette Score=0.320\n",
      "k=6, Silhouette Score=0.320\n",
      "k=7, Silhouette Score=0.282\n",
      "k=8, Silhouette Score=0.243\n",
      "k=9, Silhouette Score=0.241\n",
      "k=10, Silhouette Score=0.249\n"
     ]
    }
   ],
   "source": [
    "#Clearly K=4 have highest score\n",
    "# Silhouette score\n",
    "for k in K_range:\n",
    "    kmeans = KMeans(n_clusters=k, random_state=42)\n",
    "    labels = kmeans.fit_predict(rfm_scaled)\n",
    "    score = silhouette_score(rfm_scaled, labels)\n",
    "    print(f'k={k}, Silhouette Score={score:.3f}')\n"
   ]
  },
  {
   "cell_type": "markdown",
   "id": "ca57204c",
   "metadata": {},
   "source": [
    "### Fit K Means \n",
    "K = 4 (Optimal Value observed)\n"
   ]
  },
  {
   "cell_type": "code",
   "execution_count": 109,
   "id": "42a9ae4c",
   "metadata": {},
   "outputs": [
    {
     "name": "stderr",
     "output_type": "stream",
     "text": [
      "/var/folders/tj/8m4f2hl545d85f9bhjg24z500000gn/T/ipykernel_79563/788016212.py:3: SettingWithCopyWarning: \n",
      "A value is trying to be set on a copy of a slice from a DataFrame.\n",
      "Try using .loc[row_indexer,col_indexer] = value instead\n",
      "\n",
      "See the caveats in the documentation: https://pandas.pydata.org/pandas-docs/stable/user_guide/indexing.html#returning-a-view-versus-a-copy\n",
      "  rfm_clean['Cluster'] = kmeans.fit_predict(rfm_scaled)\n"
     ]
    }
   ],
   "source": [
    "optimal_k = 4  # Example, pick based on Elbow + Silhouette\n",
    "kmeans = KMeans(n_clusters=optimal_k, random_state=42)\n",
    "rfm_clean['Cluster'] = kmeans.fit_predict(rfm_scaled)\n"
   ]
  },
  {
   "cell_type": "code",
   "execution_count": 110,
   "id": "b6966b5d",
   "metadata": {},
   "outputs": [
    {
     "name": "stderr",
     "output_type": "stream",
     "text": [
      "/var/folders/tj/8m4f2hl545d85f9bhjg24z500000gn/T/ipykernel_79563/20073990.py:2: SettingWithCopyWarning: \n",
      "A value is trying to be set on a copy of a slice from a DataFrame.\n",
      "Try using .loc[row_indexer,col_indexer] = value instead\n",
      "\n",
      "See the caveats in the documentation: https://pandas.pydata.org/pandas-docs/stable/user_guide/indexing.html#returning-a-view-versus-a-copy\n",
      "  rfm_clean['Cluster_Id'] = kmeans.labels_\n"
     ]
    },
    {
     "data": {
      "text/html": [
       "<div>\n",
       "<style scoped>\n",
       "    .dataframe tbody tr th:only-of-type {\n",
       "        vertical-align: middle;\n",
       "    }\n",
       "\n",
       "    .dataframe tbody tr th {\n",
       "        vertical-align: top;\n",
       "    }\n",
       "\n",
       "    .dataframe thead th {\n",
       "        text-align: right;\n",
       "    }\n",
       "</style>\n",
       "<table border=\"1\" class=\"dataframe\">\n",
       "  <thead>\n",
       "    <tr style=\"text-align: right;\">\n",
       "      <th></th>\n",
       "      <th>Monetary</th>\n",
       "      <th>Frequency</th>\n",
       "      <th>Recency</th>\n",
       "      <th>Cluster</th>\n",
       "      <th>Cluster_Id</th>\n",
       "    </tr>\n",
       "  </thead>\n",
       "  <tbody>\n",
       "    <tr>\n",
       "      <th>0</th>\n",
       "      <td>5563.560</td>\n",
       "      <td>5</td>\n",
       "      <td>185</td>\n",
       "      <td>1</td>\n",
       "      <td>1</td>\n",
       "    </tr>\n",
       "    <tr>\n",
       "      <th>1</th>\n",
       "      <td>1056.390</td>\n",
       "      <td>9</td>\n",
       "      <td>20</td>\n",
       "      <td>2</td>\n",
       "      <td>2</td>\n",
       "    </tr>\n",
       "    <tr>\n",
       "      <th>2</th>\n",
       "      <td>1790.512</td>\n",
       "      <td>4</td>\n",
       "      <td>260</td>\n",
       "      <td>1</td>\n",
       "      <td>1</td>\n",
       "    </tr>\n",
       "    <tr>\n",
       "      <th>3</th>\n",
       "      <td>5086.935</td>\n",
       "      <td>6</td>\n",
       "      <td>56</td>\n",
       "      <td>2</td>\n",
       "      <td>2</td>\n",
       "    </tr>\n",
       "    <tr>\n",
       "      <th>5</th>\n",
       "      <td>7755.620</td>\n",
       "      <td>8</td>\n",
       "      <td>55</td>\n",
       "      <td>0</td>\n",
       "      <td>0</td>\n",
       "    </tr>\n",
       "  </tbody>\n",
       "</table>\n",
       "</div>"
      ],
      "text/plain": [
       "   Monetary  Frequency  Recency  Cluster  Cluster_Id\n",
       "0  5563.560          5      185        1           1\n",
       "1  1056.390          9       20        2           2\n",
       "2  1790.512          4      260        1           1\n",
       "3  5086.935          6       56        2           2\n",
       "5  7755.620          8       55        0           0"
      ]
     },
     "execution_count": 110,
     "metadata": {},
     "output_type": "execute_result"
    }
   ],
   "source": [
    "\n",
    "# assign the label\n",
    "rfm_clean['Cluster_Id'] = kmeans.labels_\n",
    "rfm_clean.head()\n"
   ]
  },
  {
   "cell_type": "code",
   "execution_count": 113,
   "id": "50282cf0",
   "metadata": {},
   "outputs": [
    {
     "data": {
      "text/plain": [
       "<Axes: xlabel='Cluster_Id', ylabel='Monetary'>"
      ]
     },
     "execution_count": 113,
     "metadata": {},
     "output_type": "execute_result"
    },
    {
     "data": {
      "image/png": "[encoded data removed]",
      "text/plain": [
       "<Figure size 800x550 with 1 Axes>"
      ]
     },
     "metadata": {},
     "output_type": "display_data"
    }
   ],
   "source": [
    "# Box plot to visualize Cluster Id vs Monetary\n",
    "sns.boxplot(x='Cluster_Id', y='Monetary', data=rfm_clean)"
   ]
  },
  {
   "cell_type": "code",
   "execution_count": 111,
   "id": "fdd9f015",
   "metadata": {},
   "outputs": [
    {
     "data": {
      "text/plain": [
       "<Axes: xlabel='Cluster_Id', ylabel='Frequency'>"
      ]
     },
     "execution_count": 111,
     "metadata": {},
     "output_type": "execute_result"
    },
    {
     "data": {
      "image/png": "[encoded data removed]",
      "text/plain": [
       "<Figure size 800x550 with 1 Axes>"
      ]
     },
     "metadata": {},
     "output_type": "display_data"
    }
   ],
   "source": [
    "# Box plot to visualize Cluster Id vs Frequency\n",
    "sns.boxplot(x='Cluster_Id', y='Frequency', data=rfm_clean)"
   ]
  },
  {
   "cell_type": "code",
   "execution_count": 112,
   "id": "9bc400b7",
   "metadata": {},
   "outputs": [
    {
     "data": {
      "text/plain": [
       "<Axes: xlabel='Cluster_Id', ylabel='Recency'>"
      ]
     },
     "execution_count": 112,
     "metadata": {},
     "output_type": "execute_result"
    },
    {
     "data": {
      "image/png": "[encoded data removed]",
      "text/plain": [
       "<Figure size 800x550 with 1 Axes>"
      ]
     },
     "metadata": {},
     "output_type": "display_data"
    }
   ],
   "source": [
    "# Box plot to visualize Cluster Id vs Recency\n",
    "sns.boxplot(x='Cluster_Id', y='Recency', data=rfm_clean)"
   ]
  },
  {
   "cell_type": "code",
   "execution_count": 114,
   "id": "61b7043a",
   "metadata": {},
   "outputs": [
    {
     "name": "stderr",
     "output_type": "stream",
     "text": [
      "/var/folders/tj/8m4f2hl545d85f9bhjg24z500000gn/T/ipykernel_79563/1918235406.py:6: SettingWithCopyWarning: \n",
      "A value is trying to be set on a copy of a slice from a DataFrame.\n",
      "Try using .loc[row_indexer,col_indexer] = value instead\n",
      "\n",
      "See the caveats in the documentation: https://pandas.pydata.org/pandas-docs/stable/user_guide/indexing.html#returning-a-view-versus-a-copy\n",
      "  rfm_clean['PCA1'] = rfm_pca[:, 0]\n",
      "/var/folders/tj/8m4f2hl545d85f9bhjg24z500000gn/T/ipykernel_79563/1918235406.py:7: SettingWithCopyWarning: \n",
      "A value is trying to be set on a copy of a slice from a DataFrame.\n",
      "Try using .loc[row_indexer,col_indexer] = value instead\n",
      "\n",
      "See the caveats in the documentation: https://pandas.pydata.org/pandas-docs/stable/user_guide/indexing.html#returning-a-view-versus-a-copy\n",
      "  rfm_clean['PCA2'] = rfm_pca[:, 1]\n"
     ]
    },
    {
     "data": {
      "image/png": "[encoded data removed]",
      "text/plain": [
       "<Figure size 800x600 with 1 Axes>"
      ]
     },
     "metadata": {},
     "output_type": "display_data"
    }
   ],
   "source": [
    "# Apply PCA to reduce to 2 dimensions\n",
    "pca = PCA(n_components=2)\n",
    "rfm_pca = pca.fit_transform(rfm_scaled)\n",
    "\n",
    "# Add PCA results to DataFrame\n",
    "rfm_clean['PCA1'] = rfm_pca[:, 0]\n",
    "rfm_clean['PCA2'] = rfm_pca[:, 1]\n",
    "\n",
    "# Plot clusters\n",
    "plt.figure(figsize=(8,6))\n",
    "sns.scatterplot(\n",
    "    x='PCA1', \n",
    "    y='PCA2', \n",
    "    hue='Cluster', \n",
    "    data=rfm_clean, \n",
    "    palette='viridis',\n",
    "    alpha=0.7\n",
    ")\n",
    "plt.title('Customer Segments (K-Means Clusters) in 2D PCA')\n",
    "plt.show()\n"
   ]
  },
  {
   "cell_type": "code",
   "execution_count": 116,
   "id": "067c7c87",
   "metadata": {},
   "outputs": [
    {
     "data": {
      "application/vnd.plotly.v1+json": {
       "config": {
        "plotlyServerURL": "https://plot.ly"
       },
       "data": [
        {
         "legendgroup": "Cluster 0",
         "marker": {
          "color": "#636EFA"
         },
         "mode": "markers",
         "name": "Cluster 0",
         "type": "scatter",
         "x": {
          "bdata": "NwAqAJsBNAEiACwAvgAdASYAMwBVAIgAcQA5ACUALAADAHYAiwEqADEALwAeABYAbgArAHEAYgAwAJsAEQArABIBBwBQAKEAiwCtAAoABQBiAO0AYQB5AL0AMABeAckACgBQAGYARgDLAJABJQA3AA==",
          "dtype": "i2"
         },
         "xaxis": "x",
         "y": {
          "bdata": "CAoMBAsFCAwECAsMCQMLBgoICwgHCgYLBwYMBwwLDAoKBwcHBwcMCwoHBgcGBwkJCwUKBAcFBg0=",
          "dtype": "i1"
         },
         "yaxis": "y"
        },
        {
         "legendgroup": "Cluster 1",
         "marker": {
          "color": "#EF553B"
         },
         "mode": "markers",
         "name": "Cluster 1",
         "type": "scatter",
         "x": {
          "bdata": "uQAEAekAGwEXAecAwQAXAUgB/wAKAVEBLwFPAdUAzACSAZABUwFuAYIB6QD/AGEB8gAJAbwAFgHaAGcB2gDzANoAlgEvASAB1QBrAYQB+ACaAYcBLQHCAOIA4ACVASAB2AApAZgBIgEoAYgB8ACCAfoAiAGzAM4AuwCQAb4AcgEJAXkB8QC1AMwAGwHhAM0AuAC+AJcB0wCbAcUAgwFyAS8BhwFaASwBygDjAP4ASAGDAUEBXgEeAVIBWQFfAcIAZgHjAO8AlwEfAd4AywA=",
          "dtype": "i2"
         },
         "xaxis": "x",
         "y": {
          "bdata": "BQQDBQUFBwIGBgIFBgUDBgUFAwEFBQUEBQUEBgcJBQcIBgQEBAMCBAMHAwYFBgQDBQkGBQMHBAkGBQYDBgUEBQEEBAIEBgUFBgcGBQkGAwYFCAYBAwMFBgkJBwUFBQQFAgUFAwUEBQ==",
          "dtype": "i1"
         },
         "yaxis": "y"
        },
        {
         "legendgroup": "Cluster 2",
         "marker": {
          "color": "#00CC96"
         },
         "mode": "markers",
         "name": "Cluster 2",
         "type": "scatter",
         "x": {
          "bdata": "FAA4ABoApwAMAB4AKgBPAGIAYQAjAAcADgBMAKcAowAqAGMABwA7AFkAHQAOAC8AHQDLACIAJABiAEsAEQAdABgA2wASAAIADQACABUAegA5AHkAMAAbAMYAawAVAAEAKAAjAB4AKAAsAFMAHABTAKEAGgAbAAcAAwA7AGEABgA9ABYAEQAxAAoANgBsACIAJgAxABYAKwALABQAZQAXAE0AOgAXAIYAfwAHAAQAGACZADEAJABlAIgAmQA4ADEADQAdAGIARwC5ACYABgAIACUAkgAnABgAlgAGAD8ALABMAFQAawAdAAgARgAVABYAGAAHAJgAHwCgAI8AXQAIAJ8ANABCAHoANwACAC0APgC1AFUAdgA6ADoACQBnAAUA5wAbACkAFwA7AAMAEQA5AB0AFABjAGUAmQAcACoADgAXABYACgAbABUAIwAWAEEAMQBNABwAcQACACoAdgAdAB4AZABWAGMABgAXAB0ARgAeAAgAPgBWAGkASQARAHoAHAASAB4ASAAUABwAcwD1ABoArwBWAGIAJQA6ACgAHwABAKEARgAvABoABgAsAA0AFAAKACEASQC1ABYADwBzAFoABwB6ACQAIgAdACUAWgBAACkAvAAeAB8AJQBaALwAKgA8ADEAuAAeABgAYABHABoAUAAwAFAAxQAQABUAAwCjACQAbAAfABwAmgAmAHYASQBoAFsACQDHADgAIAC4AA0AQQA3AEwAHQAVACwACgA=",
          "dtype": "i2"
         },
         "xaxis": "x",
         "y": {
          "bdata": "CQYICQcIBwgHCgoJCgcHCAgKBggHCQoHCQkMBgcICwgICgwJBwcHCAkHCggIBwwKCQcHDQsJBggICwwLCQYICQgIBwcKCAcHCQgMBwkICAgIBwgJCQgJCQ0JCgoICggGEQkHBwcKCAoJCQoICAsLCQkHCgcJBwgHDAcIBwcHCAoJDQcLCAsIBwkKCgoJBwkHDAgIBwkHCAgICQgKCAgICQcJBwYJCAcLCggICAcKBwgHCQgHCQcICQcLCAkICQkJCQcHCwkJBwoGDQkIDQkICAcJCAoJCQcJCAwICAoKCAkHCAgHDAgICQoJCAcJBwoLBwkJCA0KDAcMBwkKCAgHCAcLCQkICQkIBwgHCQcHBwgHBwcHCgsLCA==",
          "dtype": "i1"
         },
         "yaxis": "y"
        },
        {
         "legendgroup": "Cluster 3",
         "marker": {
          "color": "#AB63FA"
         },
         "mode": "markers",
         "name": "Cluster 3",
         "type": "scatter",
         "x": {
          "bdata": "KgAzAAcAdwAJAHMATgANAD0AOAAWAFYASwAdAHAAfgAPACoAFwAUAF0AFgAVAA8AoQBqAEYACgBeAHgAYwBcACgAGgBCADoAJQA6AE4AZQAZAAoAigBMAFQAWgAoAB0AJABcAGEADgAcACkANwArADIAeQBrAGoAhAAJABsACQA6AE8AVgBcAKMAHAAXAA0AGAAqACEADQAuAAgACwA6ADoAcwAbAF4AFAAeAEYAYwB4AFsAogABAHIAUwA2ABcAAwBqADoALQBOAIUAmAAwAHIAnwApACMADgAGADMAAwARAJkAdgAjAJ4ADQA3AEkAfwAOACQASAAsAAgAcwCwADoAdgBxABUAagADAAMABgCvACoAPgAdAAkABwB4ADIAJgAmAGcAAQAJAF0AJgBFACIAeAArAB0ABgAlAHYAAgBiADoAKgACAA8AEAA1AGEAMQA3ABYAmAADACkAhQBhACMAGwBZACIALQA0ACUAXQAIAF0AdQBVAHgAnAAyADcAUABlAKkAIwBJAH4AGwAyABQALQAfACoAMQAxAEcAOwA7AAcAQgBoABoAOgADAHMARwCHABAANABXACUAbABIAFoAPgBFABoANwBvAHMAKwAhAHgABwAUAKsATQAUAFAAlgBdAH8AHwCEADwACQBtAB4ACQBwAB4ARwAJAG8AeQB+AE0AUgAfAKMAeAA7ADIAkwBrAAUAcwA7AIMAaQCtAAwAJAA3AA4AmwB2AB8ABQA=",
          "dtype": "i2"
         },
         "xaxis": "x",
         "y": {
          "bdata": "BQQFBAUFBAcHBAQHAwUEBQUCBQYHBgQEBgUGAwYFBQcEAwQDBgYGBgQFBQIFBgUFBgUGBAMFAwIGBQQFBgQGBgQEAwUGAgYHBQYFAwUFAgYEBwcEBQYGBQUFBQQGBgUFBwYFBAIFBQQEAwUHBQQEAgYGAwQEBAUCBQUFBAcFBAEFBQYDBgYGBAYHBQMGBQUGBgUHBQUGBwEFBAQGBwcDBwQEBgYGBQUFAwUGAwUEBQYGAwUGBwYFBAUEBQQGBAUGAwIEBgQEBgYHAgQGBQUHBAUEBQYDBAQFAQcFBAUFBgQFBQIFBAYFBAUDBQIGBQIFBAUGBAIHAwYGAwYGBgUGBQcEBwYDBQQEBQEHBAQDBQUGBAYFBgUDBQ==",
          "dtype": "i1"
         },
         "yaxis": "y"
        },
        {
         "legendgroup": "Cluster 0",
         "marker": {
          "color": "#636EFA"
         },
         "mode": "markers",
         "name": "Cluster 0",
         "showlegend": false,
         "type": "scatter",
         "x": {
          "bdata": "NwAqAJsBNAEiACwAvgAdASYAMwBVAIgAcQA5ACUALAADAHYAiwEqADEALwAeABYAbgArAHEAYgAwAJsAEQArABIBBwBQAKEAiwCtAAoABQBiAO0AYQB5AL0AMABeAckACgBQAGYARgDLAJABJQA3AA==",
          "dtype": "i2"
         },
         "xaxis": "x2",
         "y": {
          "bdata": "hetRuJ5LvkABK4cWyUTMQAaBlUNL0L5APQrXo9AGx0DD9ShcL368QKnGSzeJsMdAJzEIrHzOxUDP91PjRUDFQPUoXI8CfcFAd76fGm9PwEBBYOXQwh68QD4K16NwI8RA7FG4HkVhuUBg5dAim0PCQML1KFwPFsdAGi/dJKYkyUD+ZffkYRbAQJhuEoMgKsJAv58aL926vUBEi2znAz7BQOXQItv5Sr5AQ4ts5+v8wEBpke18/xK/QBsv3ST2I8NAgGq8dBPJvUBYObTItim+QMdLN4lB9b9AXrpJDCK2xEBlO99Pna/LQNv5fmqc8MBATDeJQSDvvUC/nxov3dPEQD4K16OwE71A30+Nl94YwEA/NV66aUHAQNNNYhBYO7lAhetRuC7fvkAlBoGVA0K8QDvfT41348BAjErqBNQxvUD4U+Olm1S8QKrx0k2iu7pArBxaZKuGzUCyne+nZuW8QNEi2/n+CrlAvHSTGOR5v0BuEoPAKp/LQL6fGi8d6bdA1E1iELjYx0AzMzMzw3TYQJmZmZl5Z8ZAw/UoXM+BzECF61G4/tbBQKJFtvMNm9JAppvEIOA5x0BGtvP9tFm/QA==",
          "dtype": "f8"
         },
         "yaxis": "y2"
        },
        {
         "legendgroup": "Cluster 1",
         "marker": {
          "color": "#EF553B"
         },
         "mode": "markers",
         "name": "Cluster 1",
         "showlegend": false,
         "type": "scatter",
         "x": {
          "bdata": "uQAEAekAGwEXAecAwQAXAUgB/wAKAVEBLwFPAdUAzACSAZABUwFuAYIB6QD/AGEB8gAJAbwAFgHaAGcB2gDzANoAlgEvASAB1QBrAYQB+ACaAYcBLQHCAOIA4ACVASAB2AApAZgBIgEoAYgB8ACCAfoAiAGzAM4AuwCQAb4AcgEJAXkB8QC1AMwAGwHhAM0AuAC+AJcB0wCbAcUAgwFyAS8BhwFaASwBygDjAP4ASAGDAUEBXgEeAVIBWQFfAcIAZgHjAO8AlwEfAd4AywA=",
          "dtype": "i2"
         },
         "xaxis": "x2",
         "y": {
          "bdata": "w/UoXI+7tUA2XrpJDPqbQGZmZmZm7oxASgwCK4eKhECe76fGyy2kQDqSy3/IfqNAv58aL91EgkBxPQrXowh0QH0/NV66k4RA+FPjpZv+mkA+CtejcKuNQFpkO99PD6RA5tAi2zkVoUA830+NF82XQMdLN4lBGHhAtMh2vp8pm0A4iUFg5T6aQLByaJHtEp1AhutRuB7zkUCF61G4HoUwQIGVQ4tsA6JAjGzn+6ljikDGSzeJQR2mQLgehetRmGNATfOOU3QupkC+nxov3eWQQFTjpZvEvppAHVpkO99Es0CuR+F6lLegQE1iEFi5aLVA46WbxKCXtEAj2/l+atOSQO18PzVeYYVAmZmZmZnPiUACK4cWWeSgQKwcWmS7LqFAIbByaJG+oUAAAAAAAPBTQObQItv5RJVAke18PzUCh0D2KFyPQnGmQE5iEFh5QrNAqMZLN4m7hUB9PzVeurKVQKJFtvP92I1AUI2XbhKMl0BANV66yaChQKJFtvP9/HdAMQisHFoLkUBg5dAi24WYQMUgsHLokaBA61G4HgWHoUCR7Xw/NR5WQDMzMzMz4qdA5/up8dLjc0DHSzeJwS6bQMQgsHJoaqVAarx0kxgLlUDXo3A9ijqmQFyPwvUorJNAIbByaJEqo0DZzvdTI1CxQKwcWmQ72YhAoUW28/23mEB3vp8aL70wQMdLN4lBAHlAxSCwcmgekEDwp8ZLN0ljQPcGX5jMnZRAWmQ7388JpEArhxbZzjqjQIcW2c73dpxAXI/C9eiapkCuR+F6lOKkQG8Sg8DKMpNA/Knx0o1+okCuR+F6FH6YQAAAAAAApKVA+FPjpZv1lUCDwMqhRTOOQCGwcmiRZYtAzczMzEzaqUA3iUFg5bWWQGZmZmZmllhArkfhehQQlUAMAiuHFvlHQMl2vp8am5RA001iEFholEA6tMh2vkGdQEjhehROCbBAL90kBoEJmUDb+X5qPK6VQDm0yHa+5KdAz/dT46XtokDC9Shcj0KeQKfGSzeJH4VAokW28/1UE0DGSzeJQXaOQKabxCAwUKpAAAAAAAB4e0DLoUW287V6QIGVQ4vsf5BAsp3vp8ZXl0A=",
          "dtype": "f8"
         },
         "yaxis": "y2"
        },
        {
         "legendgroup": "Cluster 2",
         "marker": {
          "color": "#00CC96"
         },
         "mode": "markers",
         "name": "Cluster 2",
         "showlegend": false,
         "type": "scatter",
         "x": {
          "bdata": "FAA4ABoApwAMAB4AKgBPAGIAYQAjAAcADgBMAKcAowAqAGMABwA7AFkAHQAOAC8AHQDLACIAJABiAEsAEQAdABgA2wASAAIADQACABUAegA5AHkAMAAbAMYAawAVAAEAKAAjAB4AKAAsAFMAHABTAKEAGgAbAAcAAwA7AGEABgA9ABYAEQAxAAoANgBsACIAJgAxABYAKwALABQAZQAXAE0AOgAXAIYAfwAHAAQAGACZADEAJABlAIgAmQA4ADEADQAdAGIARwC5ACYABgAIACUAkgAnABgAlgAGAD8ALABMAFQAawAdAAgARgAVABYAGAAHAJgAHwCgAI8AXQAIAJ8ANABCAHoANwACAC0APgC1AFUAdgA6ADoACQBnAAUA5wAbACkAFwA7AAMAEQA5AB0AFABjAGUAmQAcACoADgAXABYACgAbABUAIwAWAEEAMQBNABwAcQACACoAdgAdAB4AZABWAGMABgAXAB0ARgAeAAgAPgBWAGkASQARAHoAHAASAB4ASAAUABwAcwD1ABoArwBWAGIAJQA6ACgAHwABAKEARgAvABoABgAsAA0AFAAKACEASQC1ABYADwBzAFoABwB6ACQAIgAdACUAWgBAACkAvAAeAB8AJQBaALwAKgA8ADEAuAAeABgAYABHABoAUAAwAFAAxQAQABUAAwCjACQAbAAfABwAmgAmAHYASQBoAFsACQDHADgAIAC4AA0AQQA3AEwAHQAVACwACgA=",
          "dtype": "i2"
         },
         "xaxis": "x2",
         "y": {
          "bdata": "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",
          "dtype": "f8"
         },
         "yaxis": "y2"
        },
        {
         "legendgroup": "Cluster 3",
         "marker": {
          "color": "#AB63FA"
         },
         "mode": "markers",
         "name": "Cluster 3",
         "showlegend": false,
         "type": "scatter",
         "x": {
          "bdata": "KgAzAAcAdwAJAHMATgANAD0AOAAWAFYASwAdAHAAfgAPACoAFwAUAF0AFgAVAA8AoQBqAEYACgBeAHgAYwBcACgAGgBCADoAJQA6AE4AZQAZAAoAigBMAFQAWgAoAB0AJABcAGEADgAcACkANwArADIAeQBrAGoAhAAJABsACQA6AE8AVgBcAKMAHAAXAA0AGAAqACEADQAuAAgACwA6ADoAcwAbAF4AFAAeAEYAYwB4AFsAogABAHIAUwA2ABcAAwBqADoALQBOAIUAmAAwAHIAnwApACMADgAGADMAAwARAJkAdgAjAJ4ADQA3AEkAfwAOACQASAAsAAgAcwCwADoAdgBxABUAagADAAMABgCvACoAPgAdAAkABwB4ADIAJgAmAGcAAQAJAF0AJgBFACIAeAArAB0ABgAlAHYAAgBiADoAKgACAA8AEAA1AGEAMQA3ABYAmAADACkAhQBhACMAGwBZACIALQA0ACUAXQAIAF0AdQBVAHgAnAAyADcAUABlAKkAIwBJAH4AGwAyABQALQAfACoAMQAxAEcAOwA7AAcAQgBoABoAOgADAHMARwCHABAANABXACUAbABIAFoAPgBFABoANwBvAHMAKwAhAHgABwAUAKsATQAUAFAAlgBdAH8AHwCEADwACQBtAB4ACQBwAB4ARwAJAG8AeQB+AE0AUgAfAKMAeAA7ADIAkwBrAAUAcwA7AIMAaQCtAAwAJAA3AA4AmwB2AB8ABQA=",
          "dtype": "i2"
         },
         "xaxis": "x2",
         "y": {
          "bdata": "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",
          "dtype": "f8"
         },
         "yaxis": "y2"
        },
        {
         "legendgroup": "Cluster 0",
         "marker": {
          "color": "#636EFA"
         },
         "mode": "markers",
         "name": "Cluster 0",
         "showlegend": false,
         "type": "scatter",
         "x": {
          "bdata": "CAoMBAsFCAwECAsMCQMLBgoICwgHCgYLBwYMBwwLDAoKBwcHBwcMCwoHBgcGBwkJCwUKBAcFBg0=",
          "dtype": "i1"
         },
         "xaxis": "x3",
         "y": {
          "bdata": "hetRuJ5LvkABK4cWyUTMQAaBlUNL0L5APQrXo9AGx0DD9ShcL368QKnGSzeJsMdAJzEIrHzOxUDP91PjRUDFQPUoXI8CfcFAd76fGm9PwEBBYOXQwh68QD4K16NwI8RA7FG4HkVhuUBg5dAim0PCQML1KFwPFsdAGi/dJKYkyUD+ZffkYRbAQJhuEoMgKsJAv58aL926vUBEi2znAz7BQOXQItv5Sr5AQ4ts5+v8wEBpke18/xK/QBsv3ST2I8NAgGq8dBPJvUBYObTItim+QMdLN4lB9b9AXrpJDCK2xEBlO99Pna/LQNv5fmqc8MBATDeJQSDvvUC/nxov3dPEQD4K16OwE71A30+Nl94YwEA/NV66aUHAQNNNYhBYO7lAhetRuC7fvkAlBoGVA0K8QDvfT41348BAjErqBNQxvUD4U+Olm1S8QKrx0k2iu7pArBxaZKuGzUCyne+nZuW8QNEi2/n+CrlAvHSTGOR5v0BuEoPAKp/LQL6fGi8d6bdA1E1iELjYx0AzMzMzw3TYQJmZmZl5Z8ZAw/UoXM+BzECF61G4/tbBQKJFtvMNm9JAppvEIOA5x0BGtvP9tFm/QA==",
          "dtype": "f8"
         },
         "yaxis": "y3"
        },
        {
         "legendgroup": "Cluster 1",
         "marker": {
          "color": "#EF553B"
         },
         "mode": "markers",
         "name": "Cluster 1",
         "showlegend": false,
         "type": "scatter",
         "x": {
          "bdata": "BQQDBQUFBwIGBgIFBgUDBgUFAwEFBQUEBQUEBgcJBQcIBgQEBAMCBAMHAwYFBgQDBQkGBQMHBAkGBQYDBgUEBQEEBAIEBgUFBgcGBQkGAwYFCAYBAwMFBgkJBwUFBQQFAgUFAwUEBQ==",
          "dtype": "i1"
         },
         "xaxis": "x3",
         "y": {
          "bdata": "w/UoXI+7tUA2XrpJDPqbQGZmZmZm7oxASgwCK4eKhECe76fGyy2kQDqSy3/IfqNAv58aL91EgkBxPQrXowh0QH0/NV66k4RA+FPjpZv+mkA+CtejcKuNQFpkO99PD6RA5tAi2zkVoUA830+NF82XQMdLN4lBGHhAtMh2vp8pm0A4iUFg5T6aQLByaJHtEp1AhutRuB7zkUCF61G4HoUwQIGVQ4tsA6JAjGzn+6ljikDGSzeJQR2mQLgehetRmGNATfOOU3QupkC+nxov3eWQQFTjpZvEvppAHVpkO99Es0CuR+F6lLegQE1iEFi5aLVA46WbxKCXtEAj2/l+atOSQO18PzVeYYVAmZmZmZnPiUACK4cWWeSgQKwcWmS7LqFAIbByaJG+oUAAAAAAAPBTQObQItv5RJVAke18PzUCh0D2KFyPQnGmQE5iEFh5QrNAqMZLN4m7hUB9PzVeurKVQKJFtvP92I1AUI2XbhKMl0BANV66yaChQKJFtvP9/HdAMQisHFoLkUBg5dAi24WYQMUgsHLokaBA61G4HgWHoUCR7Xw/NR5WQDMzMzMz4qdA5/up8dLjc0DHSzeJwS6bQMQgsHJoaqVAarx0kxgLlUDXo3A9ijqmQFyPwvUorJNAIbByaJEqo0DZzvdTI1CxQKwcWmQ72YhAoUW28/23mEB3vp8aL70wQMdLN4lBAHlAxSCwcmgekEDwp8ZLN0ljQPcGX5jMnZRAWmQ7388JpEArhxbZzjqjQIcW2c73dpxAXI/C9eiapkCuR+F6lOKkQG8Sg8DKMpNA/Knx0o1+okCuR+F6FH6YQAAAAAAApKVA+FPjpZv1lUCDwMqhRTOOQCGwcmiRZYtAzczMzEzaqUA3iUFg5bWWQGZmZmZmllhArkfhehQQlUAMAiuHFvlHQMl2vp8am5RA001iEFholEA6tMh2vkGdQEjhehROCbBAL90kBoEJmUDb+X5qPK6VQDm0yHa+5KdAz/dT46XtokDC9Shcj0KeQKfGSzeJH4VAokW28/1UE0DGSzeJQXaOQKabxCAwUKpAAAAAAAB4e0DLoUW287V6QIGVQ4vsf5BAsp3vp8ZXl0A=",
          "dtype": "f8"
         },
         "yaxis": "y3"
        },
        {
         "legendgroup": "Cluster 2",
         "marker": {
          "color": "#00CC96"
         },
         "mode": "markers",
         "name": "Cluster 2",
         "showlegend": false,
         "type": "scatter",
         "x": {
          "bdata": "CQYICQcIBwgHCgoJCgcHCAgKBggHCQoHCQkMBgcICwgICgwJBwcHCAkHCggIBwwKCQcHDQsJBggICwwLCQYICQgIBwcKCAcHCQgMBwkICAgIBwgJCQgJCQ0JCgoICggGEQkHBwcKCAoJCQoICAsLCQkHCgcJBwgHDAcIBwcHCAoJDQcLCAsIBwkKCgoJBwkHDAgIBwkHCAgICQgKCAgICQcJBwYJCAcLCggICAcKBwgHCQgHCQcICQcLCAkICQkJCQcHCwkJBwoGDQkIDQkICAcJCAoJCQcJCAwICAoKCAkHCAgHDAgICQoJCAcJBwoLBwkJCA0KDAcMBwkKCAgHCAcLCQkICQkIBwgHCQcHBwgHBwcHCgsLCA==",
          "dtype": "i1"
         },
         "xaxis": "x3",
         "y": {
          "bdata": "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",
          "dtype": "f8"
         },
         "yaxis": "y3"
        },
        {
         "legendgroup": "Cluster 3",
         "marker": {
          "color": "#AB63FA"
         },
         "mode": "markers",
         "name": "Cluster 3",
         "showlegend": false,
         "type": "scatter",
         "x": {
          "bdata": "BQQFBAUFBAcHBAQHAwUEBQUCBQYHBgQEBgUGAwYFBQcEAwQDBgYGBgQFBQIFBgUFBgUGBAMFAwIGBQQFBgQGBgQEAwUGAgYHBQYFAwUFAgYEBwcEBQYGBQUFBQQGBgUFBwYFBAIFBQQEAwUHBQQEAgYGAwQEBAUCBQUFBAcFBAEFBQYDBgYGBAYHBQMGBQUGBgUHBQUGBwEFBAQGBwcDBwQEBgYGBQUFAwUGAwUEBQYGAwUGBwYFBAUEBQQGBAUGAwIEBgQEBgYHAgQGBQUHBAUEBQYDBAQFAQcFBAUFBgQFBQIFBAYFBAUDBQIGBQIFBAUGBAIHAwYGAwYGBgUGBQcEBwYDBQQEBQEHBAQDBQUGBAYFBgUDBQ==",
          "dtype": "i1"
         },
         "xaxis": "x3",
         "y": {
          "bdata": "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",
          "dtype": "f8"
         },
         "yaxis": "y3"
        }
       ],
       "layout": {
        "height": 400,
        "template": {
         "data": {
          "bar": [
           {
            "error_x": {
             "color": "#2a3f5f"
            },
            "error_y": {
             "color": "#2a3f5f"
            },
            "marker": {
             "line": {
              "color": "#E5ECF6",
              "width": 0.5
             },
             "pattern": {
              "fillmode": "overlay",
              "size": 10,
              "solidity": 0.2
             }
            },
            "type": "bar"
           }
          ],
          "barpolar": [
           {
            "marker": {
             "line": {
              "color": "#E5ECF6",
              "width": 0.5
             },
             "pattern": {
              "fillmode": "overlay",
              "size": 10,
              "solidity": 0.2
             }
            },
            "type": "barpolar"
           }
          ],
          "carpet": [
           {
            "aaxis": {
             "endlinecolor": "#2a3f5f",
             "gridcolor": "white",
             "linecolor": "white",
             "minorgridcolor": "white",
             "startlinecolor": "#2a3f5f"
            },
            "baxis": {
             "endlinecolor": "#2a3f5f",
             "gridcolor": "white",
             "linecolor": "white",
             "minorgridcolor": "white",
             "startlinecolor": "#2a3f5f"
            },
            "type": "carpet"
           }
          ],
          "choropleth": [
           {
            "colorbar": {
             "outlinewidth": 0,
             "ticks": ""
            },
            "type": "choropleth"
           }
          ],
          "contour": [
           {
            "colorbar": {
             "outlinewidth": 0,
             "ticks": ""
            },
            "colorscale": [
             [
              0,
              "#0d0887"
             ],
             [
              0.1111111111111111,
              "#46039f"
             ],
             [
              0.2222222222222222,
              "#7201a8"
             ],
             [
              0.3333333333333333,
              "#9c179e"
             ],
             [
              0.4444444444444444,
              "#bd3786"
             ],
             [
              0.5555555555555556,
              "#d8576b"
             ],
             [
              0.6666666666666666,
              "#ed7953"
             ],
             [
              0.7777777777777778,
              "#fb9f3a"
             ],
             [
              0.8888888888888888,
              "#fdca26"
             ],
             [
              1,
              "#f0f921"
             ]
            ],
            "type": "contour"
           }
          ],
          "contourcarpet": [
           {
            "colorbar": {
             "outlinewidth": 0,
             "ticks": ""
            },
            "type": "contourcarpet"
           }
          ],
          "heatmap": [
           {
            "colorbar": {
             "outlinewidth": 0,
             "ticks": ""
            },
            "colorscale": [
             [
              0,
              "#0d0887"
             ],
             [
              0.1111111111111111,
              "#46039f"
             ],
             [
              0.2222222222222222,
              "#7201a8"
             ],
             [
              0.3333333333333333,
              "#9c179e"
             ],
             [
              0.4444444444444444,
              "#bd3786"
             ],
             [
              0.5555555555555556,
              "#d8576b"
             ],
             [
              0.6666666666666666,
              "#ed7953"
             ],
             [
              0.7777777777777778,
              "#fb9f3a"
             ],
             [
              0.8888888888888888,
              "#fdca26"
             ],
             [
              1,
              "#f0f921"
             ]
            ],
            "type": "heatmap"
           }
          ],
          "histogram": [
           {
            "marker": {
             "pattern": {
              "fillmode": "overlay",
              "size": 10,
              "solidity": 0.2
             }
            },
            "type": "histogram"
           }
          ],
          "histogram2d": [
           {
            "colorbar": {
             "outlinewidth": 0,
             "ticks": ""
            },
            "colorscale": [
             [
              0,
              "#0d0887"
             ],
             [
              0.1111111111111111,
              "#46039f"
             ],
             [
              0.2222222222222222,
              "#7201a8"
             ],
             [
              0.3333333333333333,
              "#9c179e"
             ],
             [
              0.4444444444444444,
              "#bd3786"
             ],
             [
              0.5555555555555556,
              "#d8576b"
             ],
             [
              0.6666666666666666,
              "#ed7953"
             ],
             [
              0.7777777777777778,
              "#fb9f3a"
             ],
             [
              0.8888888888888888,
              "#fdca26"
             ],
             [
              1,
              "#f0f921"
             ]
            ],
            "type": "histogram2d"
           }
          ],
          "histogram2dcontour": [
           {
            "colorbar": {
             "outlinewidth": 0,
             "ticks": ""
            },
            "colorscale": [
             [
              0,
              "#0d0887"
             ],
             [
              0.1111111111111111,
              "#46039f"
             ],
             [
              0.2222222222222222,
              "#7201a8"
             ],
             [
              0.3333333333333333,
              "#9c179e"
             ],
             [
              0.4444444444444444,
              "#bd3786"
             ],
             [
              0.5555555555555556,
              "#d8576b"
             ],
             [
              0.6666666666666666,
              "#ed7953"
             ],
             [
              0.7777777777777778,
              "#fb9f3a"
             ],
             [
              0.8888888888888888,
              "#fdca26"
             ],
             [
              1,
              "#f0f921"
             ]
            ],
            "type": "histogram2dcontour"
           }
          ],
          "mesh3d": [
           {
            "colorbar": {
             "outlinewidth": 0,
             "ticks": ""
            },
            "type": "mesh3d"
           }
          ],
          "parcoords": [
           {
            "line": {
             "colorbar": {
              "outlinewidth": 0,
              "ticks": ""
             }
            },
            "type": "parcoords"
           }
          ],
          "pie": [
           {
            "automargin": true,
            "type": "pie"
           }
          ],
          "scatter": [
           {
            "fillpattern": {
             "fillmode": "overlay",
             "size": 10,
             "solidity": 0.2
            },
            "type": "scatter"
           }
          ],
          "scatter3d": [
           {
            "line": {
             "colorbar": {
              "outlinewidth": 0,
              "ticks": ""
             }
            },
            "marker": {
             "colorbar": {
              "outlinewidth": 0,
              "ticks": ""
             }
            },
            "type": "scatter3d"
           }
          ],
          "scattercarpet": [
           {
            "marker": {
             "colorbar": {
              "outlinewidth": 0,
              "ticks": ""
             }
            },
            "type": "scattercarpet"
           }
          ],
          "scattergeo": [
           {
            "marker": {
             "colorbar": {
              "outlinewidth": 0,
              "ticks": ""
             }
            },
            "type": "scattergeo"
           }
          ],
          "scattergl": [
           {
            "marker": {
             "colorbar": {
              "outlinewidth": 0,
              "ticks": ""
             }
            },
            "type": "scattergl"
           }
          ],
          "scattermap": [
           {
            "marker": {
             "colorbar": {
              "outlinewidth": 0,
              "ticks": ""
             }
            },
            "type": "scattermap"
           }
          ],
          "scattermapbox": [
           {
            "marker": {
             "colorbar": {
              "outlinewidth": 0,
              "ticks": ""
             }
            },
            "type": "scattermapbox"
           }
          ],
          "scatterpolar": [
           {
            "marker": {
             "colorbar": {
              "outlinewidth": 0,
              "ticks": ""
             }
            },
            "type": "scatterpolar"
           }
          ],
          "scatterpolargl": [
           {
            "marker": {
             "colorbar": {
              "outlinewidth": 0,
              "ticks": ""
             }
            },
            "type": "scatterpolargl"
           }
          ],
          "scatterternary": [
           {
            "marker": {
             "colorbar": {
              "outlinewidth": 0,
              "ticks": ""
             }
            },
            "type": "scatterternary"
           }
          ],
          "surface": [
           {
            "colorbar": {
             "outlinewidth": 0,
             "ticks": ""
            },
            "colorscale": [
             [
              0,
              "#0d0887"
             ],
             [
              0.1111111111111111,
              "#46039f"
             ],
             [
              0.2222222222222222,
              "#7201a8"
             ],
             [
              0.3333333333333333,
              "#9c179e"
             ],
             [
              0.4444444444444444,
              "#bd3786"
             ],
             [
              0.5555555555555556,
              "#d8576b"
             ],
             [
              0.6666666666666666,
              "#ed7953"
             ],
             [
              0.7777777777777778,
              "#fb9f3a"
             ],
             [
              0.8888888888888888,
              "#fdca26"
             ],
             [
              1,
              "#f0f921"
             ]
            ],
            "type": "surface"
           }
          ],
          "table": [
           {
            "cells": {
             "fill": {
              "color": "#EBF0F8"
             },
             "line": {
              "color": "white"
             }
            },
            "header": {
             "fill": {
              "color": "#C8D4E3"
             },
             "line": {
              "color": "white"
             }
            },
            "type": "table"
           }
          ]
         },
         "layout": {
          "annotationdefaults": {
           "arrowcolor": "#2a3f5f",
           "arrowhead": 0,
           "arrowwidth": 1
          },
          "autotypenumbers": "strict",
          "coloraxis": {
           "colorbar": {
            "outlinewidth": 0,
            "ticks": ""
           }
          },
          "colorscale": {
           "diverging": [
            [
             0,
             "#8e0152"
            ],
            [
             0.1,
             "#c51b7d"
            ],
            [
             0.2,
             "#de77ae"
            ],
            [
             0.3,
             "#f1b6da"
            ],
            [
             0.4,
             "#fde0ef"
            ],
            [
             0.5,
             "#f7f7f7"
            ],
            [
             0.6,
             "#e6f5d0"
            ],
            [
             0.7,
             "#b8e186"
            ],
            [
             0.8,
             "#7fbc41"
            ],
            [
             0.9,
             "#4d9221"
            ],
            [
             1,
             "#276419"
            ]
           ],
           "sequential": [
            [
             0,
             "#0d0887"
            ],
            [
             0.1111111111111111,
             "#46039f"
            ],
            [
             0.2222222222222222,
             "#7201a8"
            ],
            [
             0.3333333333333333,
             "#9c179e"
            ],
            [
             0.4444444444444444,
             "#bd3786"
            ],
            [
             0.5555555555555556,
             "#d8576b"
            ],
            [
             0.6666666666666666,
             "#ed7953"
            ],
            [
             0.7777777777777778,
             "#fb9f3a"
            ],
            [
             0.8888888888888888,
             "#fdca26"
            ],
            [
             1,
             "#f0f921"
            ]
           ],
           "sequentialminus": [
            [
             0,
             "#0d0887"
            ],
            [
             0.1111111111111111,
             "#46039f"
            ],
            [
             0.2222222222222222,
             "#7201a8"
            ],
            [
             0.3333333333333333,
             "#9c179e"
            ],
            [
             0.4444444444444444,
             "#bd3786"
            ],
            [
             0.5555555555555556,
             "#d8576b"
            ],
            [
             0.6666666666666666,
             "#ed7953"
            ],
            [
             0.7777777777777778,
             "#fb9f3a"
            ],
            [
             0.8888888888888888,
             "#fdca26"
            ],
            [
             1,
             "#f0f921"
            ]
           ]
          },
          "colorway": [
           "#636efa",
           "#EF553B",
           "#00cc96",
           "#ab63fa",
           "#FFA15A",
           "#19d3f3",
           "#FF6692",
           "#B6E880",
           "#FF97FF",
           "#FECB52"
          ],
          "font": {
           "color": "#2a3f5f"
          },
          "geo": {
           "bgcolor": "white",
           "lakecolor": "white",
           "landcolor": "#E5ECF6",
           "showlakes": true,
           "showland": true,
           "subunitcolor": "white"
          },
          "hoverlabel": {
           "align": "left"
          },
          "hovermode": "closest",
          "mapbox": {
           "style": "light"
          },
          "paper_bgcolor": "white",
          "plot_bgcolor": "#E5ECF6",
          "polar": {
           "angularaxis": {
            "gridcolor": "white",
            "linecolor": "white",
            "ticks": ""
           },
           "bgcolor": "#E5ECF6",
           "radialaxis": {
            "gridcolor": "white",
            "linecolor": "white",
            "ticks": ""
           }
          },
          "scene": {
           "xaxis": {
            "backgroundcolor": "#E5ECF6",
            "gridcolor": "white",
            "gridwidth": 2,
            "linecolor": "white",
            "showbackground": true,
            "ticks": "",
            "zerolinecolor": "white"
           },
           "yaxis": {
            "backgroundcolor": "#E5ECF6",
            "gridcolor": "white",
            "gridwidth": 2,
            "linecolor": "white",
            "showbackground": true,
            "ticks": "",
            "zerolinecolor": "white"
           },
           "zaxis": {
            "backgroundcolor": "#E5ECF6",
            "gridcolor": "white",
            "gridwidth": 2,
            "linecolor": "white",
            "showbackground": true,
            "ticks": "",
            "zerolinecolor": "white"
           }
          },
          "shapedefaults": {
           "line": {
            "color": "#2a3f5f"
           }
          },
          "ternary": {
           "aaxis": {
            "gridcolor": "white",
            "linecolor": "white",
            "ticks": ""
           },
           "baxis": {
            "gridcolor": "white",
            "linecolor": "white",
            "ticks": ""
           },
           "bgcolor": "#E5ECF6",
           "caxis": {
            "gridcolor": "white",
            "linecolor": "white",
            "ticks": ""
           }
          },
          "title": {
           "x": 0.05
          },
          "xaxis": {
           "automargin": true,
           "gridcolor": "white",
           "linecolor": "white",
           "ticks": "",
           "title": {
            "standoff": 15
           },
           "zerolinecolor": "white",
           "zerolinewidth": 2
          },
          "yaxis": {
           "automargin": true,
           "gridcolor": "white",
           "linecolor": "white",
           "ticks": "",
           "title": {
            "standoff": 15
           },
           "zerolinecolor": "white",
           "zerolinewidth": 2
          }
         }
        },
        "title": {
         "text": "RFM Feature Pairs Colored by Cluster"
        },
        "width": 900,
        "xaxis": {
         "anchor": "y",
         "domain": [
          0,
          0.2888888888888889
         ],
         "title": {
          "text": "Recency"
         }
        },
        "xaxis2": {
         "anchor": "y2",
         "domain": [
          0.35555555555555557,
          0.6444444444444445
         ],
         "title": {
          "text": "Recency"
         }
        },
        "xaxis3": {
         "anchor": "y3",
         "domain": [
          0.7111111111111111,
          1
         ],
         "title": {
          "text": "Frequency"
         }
        },
        "yaxis": {
         "anchor": "x",
         "domain": [
          0,
          1
         ],
         "title": {
          "text": "Frequency"
         }
        },
        "yaxis2": {
         "anchor": "x2",
         "domain": [
          0,
          1
         ],
         "title": {
          "text": "Monetary"
         }
        },
        "yaxis3": {
         "anchor": "x3",
         "domain": [
          0,
          1
         ],
         "title": {
          "text": "Monetary"
         }
        }
       }
      }
     },
     "metadata": {},
     "output_type": "display_data"
    }
   ],
   "source": [
    "import plotly.graph_objects as go\n",
    "from plotly.subplots import make_subplots\n",
    "import plotly.express as px\n",
    "\n",
    "# Use your RFM clustered DataFrame\n",
    "df = rfm_clean.copy()  \n",
    "\n",
    "# RFM features\n",
    "features = ['Recency', 'Frequency', 'Monetary']\n",
    "\n",
    "fig = make_subplots(rows=1, cols=3)\n",
    "\n",
    "clusters = list(df[\"Cluster\"].unique())\n",
    "clusters.sort()\n",
    "colors = px.colors.qualitative.Plotly\n",
    "\n",
    "# Subplot 1: Recency vs Frequency\n",
    "for i, c in enumerate(clusters):\n",
    "    subset = df[df['Cluster'] == c]\n",
    "    fig.add_trace(go.Scatter(\n",
    "        x=subset[\"Recency\"], \n",
    "        y=subset[\"Frequency\"], \n",
    "        mode='markers',\n",
    "        name=f\"Cluster {c}\",\n",
    "        legendgroup=f\"Cluster {c}\",\n",
    "        marker=dict(color=colors[i])\n",
    "    ), row=1, col=1)\n",
    "\n",
    "fig.update_xaxes(title_text=\"Recency\", row=1, col=1)\n",
    "fig.update_yaxes(title_text=\"Frequency\", row=1, col=1)\n",
    "\n",
    "# Subplot 2: Recency vs Monetary\n",
    "for i, c in enumerate(clusters):\n",
    "    subset = df[df['Cluster'] == c]\n",
    "    fig.add_trace(go.Scatter(\n",
    "        x=subset[\"Recency\"], \n",
    "        y=subset[\"Monetary\"], \n",
    "        mode='markers',\n",
    "        name=f\"Cluster {c}\",\n",
    "        legendgroup=f\"Cluster {c}\",\n",
    "        showlegend=False,  # hide repeated legend\n",
    "        marker=dict(color=colors[i])\n",
    "    ), row=1, col=2)\n",
    "\n",
    "fig.update_xaxes(title_text=\"Recency\", row=1, col=2)\n",
    "fig.update_yaxes(title_text=\"Monetary\", row=1, col=2)\n",
    "\n",
    "# Subplot 3: Frequency vs Monetary\n",
    "for i, c in enumerate(clusters):\n",
    "    subset = df[df['Cluster'] == c]\n",
    "    fig.add_trace(go.Scatter(\n",
    "        x=subset[\"Frequency\"], \n",
    "        y=subset[\"Monetary\"],  \n",
    "        mode='markers',\n",
    "        name=f\"Cluster {c}\",\n",
    "        legendgroup=f\"Cluster {c}\",\n",
    "        showlegend=False,\n",
    "        marker=dict(color=colors[i])\n",
    "    ), row=1, col=3)\n",
    "\n",
    "fig.update_xaxes(title_text=\"Frequency\", row=1, col=3)\n",
    "fig.update_yaxes(title_text=\"Monetary\", row=1, col=3)\n",
    "\n",
    "fig.update_layout(height=400, width=900, title_text=\"RFM Feature Pairs Colored by Cluster\")\n",
    "fig.show()\n"
   ]
  },
  {
   "cell_type": "code",
   "execution_count": 118,
   "id": "4cd09b5a",
   "metadata": {},
   "outputs": [
    {
     "data": {
      "application/vnd.plotly.v1+json": {
       "config": {
        "plotlyServerURL": "https://plot.ly"
       },
       "data": [
        {
         "hovertemplate": "color=1<br>Recency=%{x}<br>Frequency=%{y}<br>Monetary=%{z}<extra></extra>",
         "legendgroup": "1",
         "marker": {
          "color": "#636efa",
          "size": 5,
          "symbol": "circle"
         },
         "mode": "markers",
         "name": "1",
         "scene": "scene",
         "showlegend": true,
         "type": "scatter3d",
         "x": {
          "bdata": "uQAEAekAGwEXAecAwQAXAUgB/wAKAVEBLwFPAdUAzACSAZABUwFuAYIB6QD/AGEB8gAJAbwAFgHaAGcB2gDzANoAlgEvASAB1QBrAYQB+ACaAYcBLQHCAOIA4ACVASAB2AApAZgBIgEoAYgB8ACCAfoAiAGzAM4AuwCQAb4AcgEJAXkB8QC1AMwAGwHhAM0AuAC+AJcB0wCbAcUAgwFyAS8BhwFaASwBygDjAP4ASAGDAUEBXgEeAVIBWQFfAcIAZgHjAO8AlwEfAd4AywA=",
          "dtype": "i2"
         },
         "y": {
          "bdata": "BQQDBQUFBwIGBgIFBgUDBgUFAwEFBQUEBQUEBgcJBQcIBgQEBAMCBAMHAwYFBgQDBQkGBQMHBAkGBQYDBgUEBQEEBAIEBgUFBgcGBQkGAwYFCAYBAwMFBgkJBwUFBQQFAgUFAwUEBQ==",
          "dtype": "i1"
         },
         "z": {
          "bdata": "w/UoXI+7tUA2XrpJDPqbQGZmZmZm7oxASgwCK4eKhECe76fGyy2kQDqSy3/IfqNAv58aL91EgkBxPQrXowh0QH0/NV66k4RA+FPjpZv+mkA+CtejcKuNQFpkO99PD6RA5tAi2zkVoUA830+NF82XQMdLN4lBGHhAtMh2vp8pm0A4iUFg5T6aQLByaJHtEp1AhutRuB7zkUCF61G4HoUwQIGVQ4tsA6JAjGzn+6ljikDGSzeJQR2mQLgehetRmGNATfOOU3QupkC+nxov3eWQQFTjpZvEvppAHVpkO99Es0CuR+F6lLegQE1iEFi5aLVA46WbxKCXtEAj2/l+atOSQO18PzVeYYVAmZmZmZnPiUACK4cWWeSgQKwcWmS7LqFAIbByaJG+oUAAAAAAAPBTQObQItv5RJVAke18PzUCh0D2KFyPQnGmQE5iEFh5QrNAqMZLN4m7hUB9PzVeurKVQKJFtvP92I1AUI2XbhKMl0BANV66yaChQKJFtvP9/HdAMQisHFoLkUBg5dAi24WYQMUgsHLokaBA61G4HgWHoUCR7Xw/NR5WQDMzMzMz4qdA5/up8dLjc0DHSzeJwS6bQMQgsHJoaqVAarx0kxgLlUDXo3A9ijqmQFyPwvUorJNAIbByaJEqo0DZzvdTI1CxQKwcWmQ72YhAoUW28/23mEB3vp8aL70wQMdLN4lBAHlAxSCwcmgekEDwp8ZLN0ljQPcGX5jMnZRAWmQ7388JpEArhxbZzjqjQIcW2c73dpxAXI/C9eiapkCuR+F6lOKkQG8Sg8DKMpNA/Knx0o1+okCuR+F6FH6YQAAAAAAApKVA+FPjpZv1lUCDwMqhRTOOQCGwcmiRZYtAzczMzEzaqUA3iUFg5bWWQGZmZmZmllhArkfhehQQlUAMAiuHFvlHQMl2vp8am5RA001iEFholEA6tMh2vkGdQEjhehROCbBAL90kBoEJmUDb+X5qPK6VQDm0yHa+5KdAz/dT46XtokDC9Shcj0KeQKfGSzeJH4VAokW28/1UE0DGSzeJQXaOQKabxCAwUKpAAAAAAAB4e0DLoUW287V6QIGVQ4vsf5BAsp3vp8ZXl0A=",
          "dtype": "f8"
         }
        },
        {
         "hovertemplate": "color=2<br>Recency=%{x}<br>Frequency=%{y}<br>Monetary=%{z}<extra></extra>",
         "legendgroup": "2",
         "marker": {
          "color": "#EF553B",
          "size": 5,
          "symbol": "circle"
         },
         "mode": "markers",
         "name": "2",
         "scene": "scene",
         "showlegend": true,
         "type": "scatter3d",
         "x": {
          "bdata": "FAA4ABoApwAMAB4AKgBPAGIAYQAjAAcADgBMAKcAowAqAGMABwA7AFkAHQAOAC8AHQDLACIAJABiAEsAEQAdABgA2wASAAIADQACABUAegA5AHkAMAAbAMYAawAVAAEAKAAjAB4AKAAsAFMAHABTAKEAGgAbAAcAAwA7AGEABgA9ABYAEQAxAAoANgBsACIAJgAxABYAKwALABQAZQAXAE0AOgAXAIYAfwAHAAQAGACZADEAJABlAIgAmQA4ADEADQAdAGIARwC5ACYABgAIACUAkgAnABgAlgAGAD8ALABMAFQAawAdAAgARgAVABYAGAAHAJgAHwCgAI8AXQAIAJ8ANABCAHoANwACAC0APgC1AFUAdgA6ADoACQBnAAUA5wAbACkAFwA7AAMAEQA5AB0AFABjAGUAmQAcACoADgAXABYACgAbABUAIwAWAEEAMQBNABwAcQACACoAdgAdAB4AZABWAGMABgAXAB0ARgAeAAgAPgBWAGkASQARAHoAHAASAB4ASAAUABwAcwD1ABoArwBWAGIAJQA6ACgAHwABAKEARgAvABoABgAsAA0AFAAKACEASQC1ABYADwBzAFoABwB6ACQAIgAdACUAWgBAACkAvAAeAB8AJQBaALwAKgA8ADEAuAAeABgAYABHABoAUAAwAFAAxQAQABUAAwCjACQAbAAfABwAmgAmAHYASQBoAFsACQDHADgAIAC4AA0AQQA3AEwAHQAVACwACgA=",
          "dtype": "i2"
         },
         "y": {
          "bdata": "CQYICQcIBwgHCgoJCgcHCAgKBggHCQoHCQkMBgcICwgICgwJBwcHCAkHCggIBwwKCQcHDQsJBggICwwLCQYICQgIBwcKCAcHCQgMBwkICAgIBwgJCQgJCQ0JCgoICggGEQkHBwcKCAoJCQoICAsLCQkHCgcJBwgHDAcIBwcHCAoJDQcLCAsIBwkKCgoJBwkHDAgIBwkHCAgICQgKCAgICQcJBwYJCAcLCggICAcKBwgHCQgHCQcICQcLCAkICQkJCQcHCwkJBwoGDQkIDQkICAcJCAoJCQcJCAwICAoKCAkHCAgHDAgICQoJCAcJBwoLBwkJCA0KDAcMBwkKCAgHCAcLCQkICQkIBwgHCQcHBwgHBwcHCgsLCA==",
          "dtype": "i1"
         },
         "z": {
          "bdata": "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",
          "dtype": "f8"
         }
        },
        {
         "hovertemplate": "color=0<br>Recency=%{x}<br>Frequency=%{y}<br>Monetary=%{z}<extra></extra>",
         "legendgroup": "0",
         "marker": {
          "color": "#00cc96",
          "size": 5,
          "symbol": "circle"
         },
         "mode": "markers",
         "name": "0",
         "scene": "scene",
         "showlegend": true,
         "type": "scatter3d",
         "x": {
          "bdata": "NwAqAJsBNAEiACwAvgAdASYAMwBVAIgAcQA5ACUALAADAHYAiwEqADEALwAeABYAbgArAHEAYgAwAJsAEQArABIBBwBQAKEAiwCtAAoABQBiAO0AYQB5AL0AMABeAckACgBQAGYARgDLAJABJQA3AA==",
          "dtype": "i2"
         },
         "y": {
          "bdata": "CAoMBAsFCAwECAsMCQMLBgoICwgHCgYLBwYMBwwLDAoKBwcHBwcMCwoHBgcGBwkJCwUKBAcFBg0=",
          "dtype": "i1"
         },
         "z": {
          "bdata": "hetRuJ5LvkABK4cWyUTMQAaBlUNL0L5APQrXo9AGx0DD9ShcL368QKnGSzeJsMdAJzEIrHzOxUDP91PjRUDFQPUoXI8CfcFAd76fGm9PwEBBYOXQwh68QD4K16NwI8RA7FG4HkVhuUBg5dAim0PCQML1KFwPFsdAGi/dJKYkyUD+ZffkYRbAQJhuEoMgKsJAv58aL926vUBEi2znAz7BQOXQItv5Sr5AQ4ts5+v8wEBpke18/xK/QBsv3ST2I8NAgGq8dBPJvUBYObTItim+QMdLN4lB9b9AXrpJDCK2xEBlO99Pna/LQNv5fmqc8MBATDeJQSDvvUC/nxov3dPEQD4K16OwE71A30+Nl94YwEA/NV66aUHAQNNNYhBYO7lAhetRuC7fvkAlBoGVA0K8QDvfT41348BAjErqBNQxvUD4U+Olm1S8QKrx0k2iu7pArBxaZKuGzUCyne+nZuW8QNEi2/n+CrlAvHSTGOR5v0BuEoPAKp/LQL6fGi8d6bdA1E1iELjYx0AzMzMzw3TYQJmZmZl5Z8ZAw/UoXM+BzECF61G4/tbBQKJFtvMNm9JAppvEIOA5x0BGtvP9tFm/QA==",
          "dtype": "f8"
         }
        },
        {
         "hovertemplate": "color=3<br>Recency=%{x}<br>Frequency=%{y}<br>Monetary=%{z}<extra></extra>",
         "legendgroup": "3",
         "marker": {
          "color": "#ab63fa",
          "size": 5,
          "symbol": "circle"
         },
         "mode": "markers",
         "name": "3",
         "scene": "scene",
         "showlegend": true,
         "type": "scatter3d",
         "x": {
          "bdata": "KgAzAAcAdwAJAHMATgANAD0AOAAWAFYASwAdAHAAfgAPACoAFwAUAF0AFgAVAA8AoQBqAEYACgBeAHgAYwBcACgAGgBCADoAJQA6AE4AZQAZAAoAigBMAFQAWgAoAB0AJABcAGEADgAcACkANwArADIAeQBrAGoAhAAJABsACQA6AE8AVgBcAKMAHAAXAA0AGAAqACEADQAuAAgACwA6ADoAcwAbAF4AFAAeAEYAYwB4AFsAogABAHIAUwA2ABcAAwBqADoALQBOAIUAmAAwAHIAnwApACMADgAGADMAAwARAJkAdgAjAJ4ADQA3AEkAfwAOACQASAAsAAgAcwCwADoAdgBxABUAagADAAMABgCvACoAPgAdAAkABwB4ADIAJgAmAGcAAQAJAF0AJgBFACIAeAArAB0ABgAlAHYAAgBiADoAKgACAA8AEAA1AGEAMQA3ABYAmAADACkAhQBhACMAGwBZACIALQA0ACUAXQAIAF0AdQBVAHgAnAAyADcAUABlAKkAIwBJAH4AGwAyABQALQAfACoAMQAxAEcAOwA7AAcAQgBoABoAOgADAHMARwCHABAANABXACUAbABIAFoAPgBFABoANwBvAHMAKwAhAHgABwAUAKsATQAUAFAAlgBdAH8AHwCEADwACQBtAB4ACQBwAB4ARwAJAG8AeQB+AE0AUgAfAKMAeAA7ADIAkwBrAAUAcwA7AIMAaQCtAAwAJAA3AA4AmwB2AB8ABQA=",
          "dtype": "i2"
         },
         "y": {
          "bdata": "BQQFBAUFBAcHBAQHAwUEBQUCBQYHBgQEBgUGAwYFBQcEAwQDBgYGBgQFBQIFBgUFBgUGBAMFAwIGBQQFBgQGBgQEAwUGAgYHBQYFAwUFAgYEBwcEBQYGBQUFBQQGBgUFBwYFBAIFBQQEAwUHBQQEAgYGAwQEBAUCBQUFBAcFBAEFBQYDBgYGBAYHBQMGBQUGBgUHBQUGBwEFBAQGBwcDBwQEBgYGBQUFAwUGAwUEBQYGAwUGBwYFBAUEBQQGBAUGAwIEBgQEBgYHAgQGBQUHBAUEBQYDBAQFAQcFBAUFBgQFBQIFBAYFBAUDBQIGBQIFBAUGBAIHAwYGAwYGBgUGBQcEBwYDBQQEBQEHBAQDBQUGBAYFBgUDBQ==",
          "dtype": "i1"
         },
         "z": {
          "bdata": "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",
          "dtype": "f8"
         }
        }
       ],
       "layout": {
        "height": 600,
        "legend": {
         "title": {
          "text": "color"
         },
         "tracegroupgap": 0
        },
        "scene": {
         "domain": {
          "x": [
           0,
           1
          ],
          "y": [
           0,
           1
          ]
         },
         "xaxis": {
          "title": {
           "text": "Recency"
          }
         },
         "yaxis": {
          "title": {
           "text": "Frequency"
          }
         },
         "zaxis": {
          "title": {
           "text": "Monetary"
          }
         }
        },
        "template": {
         "data": {
          "bar": [
           {
            "error_x": {
             "color": "#2a3f5f"
            },
            "error_y": {
             "color": "#2a3f5f"
            },
            "marker": {
             "line": {
              "color": "#E5ECF6",
              "width": 0.5
             },
             "pattern": {
              "fillmode": "overlay",
              "size": 10,
              "solidity": 0.2
             }
            },
            "type": "bar"
           }
          ],
          "barpolar": [
           {
            "marker": {
             "line": {
              "color": "#E5ECF6",
              "width": 0.5
             },
             "pattern": {
              "fillmode": "overlay",
              "size": 10,
              "solidity": 0.2
             }
            },
            "type": "barpolar"
           }
          ],
          "carpet": [
           {
            "aaxis": {
             "endlinecolor": "#2a3f5f",
             "gridcolor": "white",
             "linecolor": "white",
             "minorgridcolor": "white",
             "startlinecolor": "#2a3f5f"
            },
            "baxis": {
             "endlinecolor": "#2a3f5f",
             "gridcolor": "white",
             "linecolor": "white",
             "minorgridcolor": "white",
             "startlinecolor": "#2a3f5f"
            },
            "type": "carpet"
           }
          ],
          "choropleth": [
           {
            "colorbar": {
             "outlinewidth": 0,
             "ticks": ""
            },
            "type": "choropleth"
           }
          ],
          "contour": [
           {
            "colorbar": {
             "outlinewidth": 0,
             "ticks": ""
            },
            "colorscale": [
             [
              0,
              "#0d0887"
             ],
             [
              0.1111111111111111,
              "#46039f"
             ],
             [
              0.2222222222222222,
              "#7201a8"
             ],
             [
              0.3333333333333333,
              "#9c179e"
             ],
             [
              0.4444444444444444,
              "#bd3786"
             ],
             [
              0.5555555555555556,
              "#d8576b"
             ],
             [
              0.6666666666666666,
              "#ed7953"
             ],
             [
              0.7777777777777778,
              "#fb9f3a"
             ],
             [
              0.8888888888888888,
              "#fdca26"
             ],
             [
              1,
              "#f0f921"
             ]
            ],
            "type": "contour"
           }
          ],
          "contourcarpet": [
           {
            "colorbar": {
             "outlinewidth": 0,
             "ticks": ""
            },
            "type": "contourcarpet"
           }
          ],
          "heatmap": [
           {
            "colorbar": {
             "outlinewidth": 0,
             "ticks": ""
            },
            "colorscale": [
             [
              0,
              "#0d0887"
             ],
             [
              0.1111111111111111,
              "#46039f"
             ],
             [
              0.2222222222222222,
              "#7201a8"
             ],
             [
              0.3333333333333333,
              "#9c179e"
             ],
             [
              0.4444444444444444,
              "#bd3786"
             ],
             [
              0.5555555555555556,
              "#d8576b"
             ],
             [
              0.6666666666666666,
              "#ed7953"
             ],
             [
              0.7777777777777778,
              "#fb9f3a"
             ],
             [
              0.8888888888888888,
              "#fdca26"
             ],
             [
              1,
              "#f0f921"
             ]
            ],
            "type": "heatmap"
           }
          ],
          "histogram": [
           {
            "marker": {
             "pattern": {
              "fillmode": "overlay",
              "size": 10,
              "solidity": 0.2
             }
            },
            "type": "histogram"
           }
          ],
          "histogram2d": [
           {
            "colorbar": {
             "outlinewidth": 0,
             "ticks": ""
            },
            "colorscale": [
             [
              0,
              "#0d0887"
             ],
             [
              0.1111111111111111,
              "#46039f"
             ],
             [
              0.2222222222222222,
              "#7201a8"
             ],
             [
              0.3333333333333333,
              "#9c179e"
             ],
             [
              0.4444444444444444,
              "#bd3786"
             ],
             [
              0.5555555555555556,
              "#d8576b"
             ],
             [
              0.6666666666666666,
              "#ed7953"
             ],
             [
              0.7777777777777778,
              "#fb9f3a"
             ],
             [
              0.8888888888888888,
              "#fdca26"
             ],
             [
              1,
              "#f0f921"
             ]
            ],
            "type": "histogram2d"
           }
          ],
          "histogram2dcontour": [
           {
            "colorbar": {
             "outlinewidth": 0,
             "ticks": ""
            },
            "colorscale": [
             [
              0,
              "#0d0887"
             ],
             [
              0.1111111111111111,
              "#46039f"
             ],
             [
              0.2222222222222222,
              "#7201a8"
             ],
             [
              0.3333333333333333,
              "#9c179e"
             ],
             [
              0.4444444444444444,
              "#bd3786"
             ],
             [
              0.5555555555555556,
              "#d8576b"
             ],
             [
              0.6666666666666666,
              "#ed7953"
             ],
             [
              0.7777777777777778,
              "#fb9f3a"
             ],
             [
              0.8888888888888888,
              "#fdca26"
             ],
             [
              1,
              "#f0f921"
             ]
            ],
            "type": "histogram2dcontour"
           }
          ],
          "mesh3d": [
           {
            "colorbar": {
             "outlinewidth": 0,
             "ticks": ""
            },
            "type": "mesh3d"
           }
          ],
          "parcoords": [
           {
            "line": {
             "colorbar": {
              "outlinewidth": 0,
              "ticks": ""
             }
            },
            "type": "parcoords"
           }
          ],
          "pie": [
           {
            "automargin": true,
            "type": "pie"
           }
          ],
          "scatter": [
           {
            "fillpattern": {
             "fillmode": "overlay",
             "size": 10,
             "solidity": 0.2
            },
            "type": "scatter"
           }
          ],
          "scatter3d": [
           {
            "line": {
             "colorbar": {
              "outlinewidth": 0,
              "ticks": ""
             }
            },
            "marker": {
             "colorbar": {
              "outlinewidth": 0,
              "ticks": ""
             }
            },
            "type": "scatter3d"
           }
          ],
          "scattercarpet": [
           {
            "marker": {
             "colorbar": {
              "outlinewidth": 0,
              "ticks": ""
             }
            },
            "type": "scattercarpet"
           }
          ],
          "scattergeo": [
           {
            "marker": {
             "colorbar": {
              "outlinewidth": 0,
              "ticks": ""
             }
            },
            "type": "scattergeo"
           }
          ],
          "scattergl": [
           {
            "marker": {
             "colorbar": {
              "outlinewidth": 0,
              "ticks": ""
             }
            },
            "type": "scattergl"
           }
          ],
          "scattermap": [
           {
            "marker": {
             "colorbar": {
              "outlinewidth": 0,
              "ticks": ""
             }
            },
            "type": "scattermap"
           }
          ],
          "scattermapbox": [
           {
            "marker": {
             "colorbar": {
              "outlinewidth": 0,
              "ticks": ""
             }
            },
            "type": "scattermapbox"
           }
          ],
          "scatterpolar": [
           {
            "marker": {
             "colorbar": {
              "outlinewidth": 0,
              "ticks": ""
             }
            },
            "type": "scatterpolar"
           }
          ],
          "scatterpolargl": [
           {
            "marker": {
             "colorbar": {
              "outlinewidth": 0,
              "ticks": ""
             }
            },
            "type": "scatterpolargl"
           }
          ],
          "scatterternary": [
           {
            "marker": {
             "colorbar": {
              "outlinewidth": 0,
              "ticks": ""
             }
            },
            "type": "scatterternary"
           }
          ],
          "surface": [
           {
            "colorbar": {
             "outlinewidth": 0,
             "ticks": ""
            },
            "colorscale": [
             [
              0,
              "#0d0887"
             ],
             [
              0.1111111111111111,
              "#46039f"
             ],
             [
              0.2222222222222222,
              "#7201a8"
             ],
             [
              0.3333333333333333,
              "#9c179e"
             ],
             [
              0.4444444444444444,
              "#bd3786"
             ],
             [
              0.5555555555555556,
              "#d8576b"
             ],
             [
              0.6666666666666666,
              "#ed7953"
             ],
             [
              0.7777777777777778,
              "#fb9f3a"
             ],
             [
              0.8888888888888888,
              "#fdca26"
             ],
             [
              1,
              "#f0f921"
             ]
            ],
            "type": "surface"
           }
          ],
          "table": [
           {
            "cells": {
             "fill": {
              "color": "#EBF0F8"
             },
             "line": {
              "color": "white"
             }
            },
            "header": {
             "fill": {
              "color": "#C8D4E3"
             },
             "line": {
              "color": "white"
             }
            },
            "type": "table"
           }
          ]
         },
         "layout": {
          "annotationdefaults": {
           "arrowcolor": "#2a3f5f",
           "arrowhead": 0,
           "arrowwidth": 1
          },
          "autotypenumbers": "strict",
          "coloraxis": {
           "colorbar": {
            "outlinewidth": 0,
            "ticks": ""
           }
          },
          "colorscale": {
           "diverging": [
            [
             0,
             "#8e0152"
            ],
            [
             0.1,
             "#c51b7d"
            ],
            [
             0.2,
             "#de77ae"
            ],
            [
             0.3,
             "#f1b6da"
            ],
            [
             0.4,
             "#fde0ef"
            ],
            [
             0.5,
             "#f7f7f7"
            ],
            [
             0.6,
             "#e6f5d0"
            ],
            [
             0.7,
             "#b8e186"
            ],
            [
             0.8,
             "#7fbc41"
            ],
            [
             0.9,
             "#4d9221"
            ],
            [
             1,
             "#276419"
            ]
           ],
           "sequential": [
            [
             0,
             "#0d0887"
            ],
            [
             0.1111111111111111,
             "#46039f"
            ],
            [
             0.2222222222222222,
             "#7201a8"
            ],
            [
             0.3333333333333333,
             "#9c179e"
            ],
            [
             0.4444444444444444,
             "#bd3786"
            ],
            [
             0.5555555555555556,
             "#d8576b"
            ],
            [
             0.6666666666666666,
             "#ed7953"
            ],
            [
             0.7777777777777778,
             "#fb9f3a"
            ],
            [
             0.8888888888888888,
             "#fdca26"
            ],
            [
             1,
             "#f0f921"
            ]
           ],
           "sequentialminus": [
            [
             0,
             "#0d0887"
            ],
            [
             0.1111111111111111,
             "#46039f"
            ],
            [
             0.2222222222222222,
             "#7201a8"
            ],
            [
             0.3333333333333333,
             "#9c179e"
            ],
            [
             0.4444444444444444,
             "#bd3786"
            ],
            [
             0.5555555555555556,
             "#d8576b"
            ],
            [
             0.6666666666666666,
             "#ed7953"
            ],
            [
             0.7777777777777778,
             "#fb9f3a"
            ],
            [
             0.8888888888888888,
             "#fdca26"
            ],
            [
             1,
             "#f0f921"
            ]
           ]
          },
          "colorway": [
           "#636efa",
           "#EF553B",
           "#00cc96",
           "#ab63fa",
           "#FFA15A",
           "#19d3f3",
           "#FF6692",
           "#B6E880",
           "#FF97FF",
           "#FECB52"
          ],
          "font": {
           "color": "#2a3f5f"
          },
          "geo": {
           "bgcolor": "white",
           "lakecolor": "white",
           "landcolor": "#E5ECF6",
           "showlakes": true,
           "showland": true,
           "subunitcolor": "white"
          },
          "hoverlabel": {
           "align": "left"
          },
          "hovermode": "closest",
          "mapbox": {
           "style": "light"
          },
          "paper_bgcolor": "white",
          "plot_bgcolor": "#E5ECF6",
          "polar": {
           "angularaxis": {
            "gridcolor": "white",
            "linecolor": "white",
            "ticks": ""
           },
           "bgcolor": "#E5ECF6",
           "radialaxis": {
            "gridcolor": "white",
            "linecolor": "white",
            "ticks": ""
           }
          },
          "scene": {
           "xaxis": {
            "backgroundcolor": "#E5ECF6",
            "gridcolor": "white",
            "gridwidth": 2,
            "linecolor": "white",
            "showbackground": true,
            "ticks": "",
            "zerolinecolor": "white"
           },
           "yaxis": {
            "backgroundcolor": "#E5ECF6",
            "gridcolor": "white",
            "gridwidth": 2,
            "linecolor": "white",
            "showbackground": true,
            "ticks": "",
            "zerolinecolor": "white"
           },
           "zaxis": {
            "backgroundcolor": "#E5ECF6",
            "gridcolor": "white",
            "gridwidth": 2,
            "linecolor": "white",
            "showbackground": true,
            "ticks": "",
            "zerolinecolor": "white"
           }
          },
          "shapedefaults": {
           "line": {
            "color": "#2a3f5f"
           }
          },
          "ternary": {
           "aaxis": {
            "gridcolor": "white",
            "linecolor": "white",
            "ticks": ""
           },
           "baxis": {
            "gridcolor": "white",
            "linecolor": "white",
            "ticks": ""
           },
           "bgcolor": "#E5ECF6",
           "caxis": {
            "gridcolor": "white",
            "linecolor": "white",
            "ticks": ""
           }
          },
          "title": {
           "x": 0.05
          },
          "xaxis": {
           "automargin": true,
           "gridcolor": "white",
           "linecolor": "white",
           "ticks": "",
           "title": {
            "standoff": 15
           },
           "zerolinecolor": "white",
           "zerolinewidth": 2
          },
          "yaxis": {
           "automargin": true,
           "gridcolor": "white",
           "linecolor": "white",
           "ticks": "",
           "title": {
            "standoff": 15
           },
           "zerolinecolor": "white",
           "zerolinewidth": 2
          }
         }
        },
        "title": {
         "text": "3D RFM Cluster Visualization"
        },
        "width": 700
       }
      }
     },
     "metadata": {},
     "output_type": "display_data"
    }
   ],
   "source": [
    "import plotly.express as px\n",
    "\n",
    "# Use your RFM clustered DataFrame\n",
    "df = rfm_clean.copy()\n",
    "\n",
    "# 3D Scatter plot\n",
    "fig = px.scatter_3d(\n",
    "    df,\n",
    "    x=\"Recency\",\n",
    "    y=\"Frequency\",\n",
    "    z=\"Monetary\",\n",
    "    color=df[\"Cluster\"].astype(str),  # ensure clusters are treated as categories\n",
    "    category_orders={\"Cluster\": [str(c) for c in sorted(df[\"Cluster\"].unique())]},\n",
    "    width=700,\n",
    "    height=600,\n",
    "    title=\"3D RFM Cluster Visualization\",\n",
    "    labels={\"Recency\":\"Recency\", \"Frequency\":\"Frequency\", \"Monetary\":\"Monetary\", \"Cluster\":\"Cluster\"}\n",
    ")\n",
    "\n",
    "fig.update_traces(marker=dict(size=5))  # adjust marker size\n",
    "fig.show()\n"
   ]
  },
  {
   "cell_type": "code",
   "execution_count": 115,
   "id": "2dfb3338",
   "metadata": {},
   "outputs": [
    {
     "data": {
      "text/html": [
       "<div>\n",
       "<style scoped>\n",
       "    .dataframe tbody tr th:only-of-type {\n",
       "        vertical-align: middle;\n",
       "    }\n",
       "\n",
       "    .dataframe tbody tr th {\n",
       "        vertical-align: top;\n",
       "    }\n",
       "\n",
       "    .dataframe thead th {\n",
       "        text-align: right;\n",
       "    }\n",
       "</style>\n",
       "<table border=\"1\" class=\"dataframe\">\n",
       "  <thead>\n",
       "    <tr style=\"text-align: right;\">\n",
       "      <th></th>\n",
       "      <th>Recency</th>\n",
       "      <th>Frequency</th>\n",
       "      <th>Monetary</th>\n",
       "    </tr>\n",
       "    <tr>\n",
       "      <th>Cluster</th>\n",
       "      <th></th>\n",
       "      <th></th>\n",
       "      <th></th>\n",
       "    </tr>\n",
       "  </thead>\n",
       "  <tbody>\n",
       "    <tr>\n",
       "      <th>0</th>\n",
       "      <td>114.5</td>\n",
       "      <td>8.4</td>\n",
       "      <td>9762.8</td>\n",
       "    </tr>\n",
       "    <tr>\n",
       "      <th>1</th>\n",
       "      <td>288.3</td>\n",
       "      <td>5.0</td>\n",
       "      <td>1722.2</td>\n",
       "    </tr>\n",
       "    <tr>\n",
       "      <th>2</th>\n",
       "      <td>61.4</td>\n",
       "      <td>8.6</td>\n",
       "      <td>3459.4</td>\n",
       "    </tr>\n",
       "    <tr>\n",
       "      <th>3</th>\n",
       "      <td>64.9</td>\n",
       "      <td>4.8</td>\n",
       "      <td>1691.3</td>\n",
       "    </tr>\n",
       "  </tbody>\n",
       "</table>\n",
       "</div>"
      ],
      "text/plain": [
       "         Recency  Frequency  Monetary\n",
       "Cluster                              \n",
       "0          114.5        8.4    9762.8\n",
       "1          288.3        5.0    1722.2\n",
       "2           61.4        8.6    3459.4\n",
       "3           64.9        4.8    1691.3"
      ]
     },
     "execution_count": 115,
     "metadata": {},
     "output_type": "execute_result"
    }
   ],
   "source": [
    "rfm_clean.groupby('Cluster')[['Recency', 'Frequency', 'Monetary']].mean().round(1)\n"
   ]
  }
 ],
 "metadata": {
  "kernelspec": {
   "display_name": "Python (data_analysis)",
   "language": "python",
   "name": "data_analysis"
  },
  "language_info": {
   "codemirror_mode": {
    "name": "ipython",
    "version": 3
   },
   "file_extension": ".py",
   "mimetype": "text/x-python",
   "name": "python",
   "nbconvert_exporter": "python",
   "pygments_lexer": "ipython3",
   "version": "3.13.5"
  }
 },
 "nbformat": 4,
 "nbformat_minor": 5
}
