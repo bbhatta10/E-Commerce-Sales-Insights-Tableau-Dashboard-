{
 "cells": [
  {
   "cell_type": "markdown",
   "id": "c3741d2c",
   "metadata": {},
   "source": [
    "## E-Commerce Project : \n",
    "### This project is all about helping VS Group, a U.S.-based e-commerce company, grow smarter.  \n",
    "\n"
   ]
  },
  {
   "cell_type": "markdown",
   "id": "24bf88e0",
   "metadata": {},
   "source": [
    "To identify the encoding to read csv file install charded"
   ]
  },
  {
   "cell_type": "code",
   "execution_count": 3,
   "id": "de6754e4",
   "metadata": {},
   "outputs": [],
   "source": [
    "# pip install chardet\n"
   ]
  },
  {
   "cell_type": "code",
   "execution_count": 4,
   "id": "31c3e85a",
   "metadata": {},
   "outputs": [
    {
     "name": "stdout",
     "output_type": "stream",
     "text": [
      "{'encoding': 'Windows-1252', 'confidence': 0.73, 'language': ''}\n"
     ]
    }
   ],
   "source": [
    "import pandas as pd \n",
    "import chardet \n",
    "\n",
    "with open('Superstore.csv', 'rb') as f:\n",
    "    result = chardet.detect(f.read(50000))  \n",
    "    print(result)"
   ]
  },
  {
   "cell_type": "markdown",
   "id": "330c40bb",
   "metadata": {},
   "source": [
    "### loading csv file using encoding='Windows-1252'"
   ]
  },
  {
   "cell_type": "code",
   "execution_count": 5,
   "id": "fb04ec98",
   "metadata": {},
   "outputs": [],
   "source": [
    "\n",
    "business_data = pd.read_csv('Superstore.csv', encoding='Windows-1252')\n"
   ]
  },
  {
   "cell_type": "code",
   "execution_count": 6,
   "id": "51a87c87",
   "metadata": {},
   "outputs": [
    {
     "data": {
      "text/html": [
       "<div>\n",
       "<style scoped>\n",
       "    .dataframe tbody tr th:only-of-type {\n",
       "        vertical-align: middle;\n",
       "    }\n",
       "\n",
       "    .dataframe tbody tr th {\n",
       "        vertical-align: top;\n",
       "    }\n",
       "\n",
       "    .dataframe thead th {\n",
       "        text-align: right;\n",
       "    }\n",
       "</style>\n",
       "<table border=\"1\" class=\"dataframe\">\n",
       "  <thead>\n",
       "    <tr style=\"text-align: right;\">\n",
       "      <th></th>\n",
       "      <th>Row ID</th>\n",
       "      <th>Order ID</th>\n",
       "      <th>Order Date</th>\n",
       "      <th>Ship Date</th>\n",
       "      <th>Ship Mode</th>\n",
       "      <th>Customer ID</th>\n",
       "      <th>Customer Name</th>\n",
       "      <th>Segment</th>\n",
       "      <th>Country</th>\n",
       "      <th>City</th>\n",
       "      <th>...</th>\n",
       "      <th>Postal Code</th>\n",
       "      <th>Region</th>\n",
       "      <th>Product ID</th>\n",
       "      <th>Category</th>\n",
       "      <th>Sub-Category</th>\n",
       "      <th>Product Name</th>\n",
       "      <th>Sales</th>\n",
       "      <th>Quantity</th>\n",
       "      <th>Discount</th>\n",
       "      <th>Profit</th>\n",
       "    </tr>\n",
       "  </thead>\n",
       "  <tbody>\n",
       "    <tr>\n",
       "      <th>0</th>\n",
       "      <td>1</td>\n",
       "      <td>CA-2016-152156</td>\n",
       "      <td>11/8/2016</td>\n",
       "      <td>11/11/2016</td>\n",
       "      <td>Second Class</td>\n",
       "      <td>CG-12520</td>\n",
       "      <td>Claire Gute</td>\n",
       "      <td>Consumer</td>\n",
       "      <td>United States</td>\n",
       "      <td>Henderson</td>\n",
       "      <td>...</td>\n",
       "      <td>42420</td>\n",
       "      <td>South</td>\n",
       "      <td>FUR-BO-10001798</td>\n",
       "      <td>Furniture</td>\n",
       "      <td>Bookcases</td>\n",
       "      <td>Bush Somerset Collection Bookcase</td>\n",
       "      <td>261.9600</td>\n",
       "      <td>2</td>\n",
       "      <td>0.00</td>\n",
       "      <td>41.9136</td>\n",
       "    </tr>\n",
       "    <tr>\n",
       "      <th>1</th>\n",
       "      <td>2</td>\n",
       "      <td>CA-2016-152156</td>\n",
       "      <td>11/8/2016</td>\n",
       "      <td>11/11/2016</td>\n",
       "      <td>Second Class</td>\n",
       "      <td>CG-12520</td>\n",
       "      <td>Claire Gute</td>\n",
       "      <td>Consumer</td>\n",
       "      <td>United States</td>\n",
       "      <td>Henderson</td>\n",
       "      <td>...</td>\n",
       "      <td>42420</td>\n",
       "      <td>South</td>\n",
       "      <td>FUR-CH-10000454</td>\n",
       "      <td>Furniture</td>\n",
       "      <td>Chairs</td>\n",
       "      <td>Hon Deluxe Fabric Upholstered Stacking Chairs,...</td>\n",
       "      <td>731.9400</td>\n",
       "      <td>3</td>\n",
       "      <td>0.00</td>\n",
       "      <td>219.5820</td>\n",
       "    </tr>\n",
       "    <tr>\n",
       "      <th>2</th>\n",
       "      <td>3</td>\n",
       "      <td>CA-2016-138688</td>\n",
       "      <td>6/12/2016</td>\n",
       "      <td>6/16/2016</td>\n",
       "      <td>Second Class</td>\n",
       "      <td>DV-13045</td>\n",
       "      <td>Darrin Van Huff</td>\n",
       "      <td>Corporate</td>\n",
       "      <td>United States</td>\n",
       "      <td>Los Angeles</td>\n",
       "      <td>...</td>\n",
       "      <td>90036</td>\n",
       "      <td>West</td>\n",
       "      <td>OFF-LA-10000240</td>\n",
       "      <td>Office Supplies</td>\n",
       "      <td>Labels</td>\n",
       "      <td>Self-Adhesive Address Labels for Typewriters b...</td>\n",
       "      <td>14.6200</td>\n",
       "      <td>2</td>\n",
       "      <td>0.00</td>\n",
       "      <td>6.8714</td>\n",
       "    </tr>\n",
       "    <tr>\n",
       "      <th>3</th>\n",
       "      <td>4</td>\n",
       "      <td>US-2015-108966</td>\n",
       "      <td>10/11/2015</td>\n",
       "      <td>10/18/2015</td>\n",
       "      <td>Standard Class</td>\n",
       "      <td>SO-20335</td>\n",
       "      <td>Sean O'Donnell</td>\n",
       "      <td>Consumer</td>\n",
       "      <td>United States</td>\n",
       "      <td>Fort Lauderdale</td>\n",
       "      <td>...</td>\n",
       "      <td>33311</td>\n",
       "      <td>South</td>\n",
       "      <td>FUR-TA-10000577</td>\n",
       "      <td>Furniture</td>\n",
       "      <td>Tables</td>\n",
       "      <td>Bretford CR4500 Series Slim Rectangular Table</td>\n",
       "      <td>957.5775</td>\n",
       "      <td>5</td>\n",
       "      <td>0.45</td>\n",
       "      <td>-383.0310</td>\n",
       "    </tr>\n",
       "    <tr>\n",
       "      <th>4</th>\n",
       "      <td>5</td>\n",
       "      <td>US-2015-108966</td>\n",
       "      <td>10/11/2015</td>\n",
       "      <td>10/18/2015</td>\n",
       "      <td>Standard Class</td>\n",
       "      <td>SO-20335</td>\n",
       "      <td>Sean O'Donnell</td>\n",
       "      <td>Consumer</td>\n",
       "      <td>United States</td>\n",
       "      <td>Fort Lauderdale</td>\n",
       "      <td>...</td>\n",
       "      <td>33311</td>\n",
       "      <td>South</td>\n",
       "      <td>OFF-ST-10000760</td>\n",
       "      <td>Office Supplies</td>\n",
       "      <td>Storage</td>\n",
       "      <td>Eldon Fold 'N Roll Cart System</td>\n",
       "      <td>22.3680</td>\n",
       "      <td>2</td>\n",
       "      <td>0.20</td>\n",
       "      <td>2.5164</td>\n",
       "    </tr>\n",
       "    <tr>\n",
       "      <th>...</th>\n",
       "      <td>...</td>\n",
       "      <td>...</td>\n",
       "      <td>...</td>\n",
       "      <td>...</td>\n",
       "      <td>...</td>\n",
       "      <td>...</td>\n",
       "      <td>...</td>\n",
       "      <td>...</td>\n",
       "      <td>...</td>\n",
       "      <td>...</td>\n",
       "      <td>...</td>\n",
       "      <td>...</td>\n",
       "      <td>...</td>\n",
       "      <td>...</td>\n",
       "      <td>...</td>\n",
       "      <td>...</td>\n",
       "      <td>...</td>\n",
       "      <td>...</td>\n",
       "      <td>...</td>\n",
       "      <td>...</td>\n",
       "      <td>...</td>\n",
       "    </tr>\n",
       "    <tr>\n",
       "      <th>9989</th>\n",
       "      <td>9990</td>\n",
       "      <td>CA-2014-110422</td>\n",
       "      <td>1/21/2014</td>\n",
       "      <td>1/23/2014</td>\n",
       "      <td>Second Class</td>\n",
       "      <td>TB-21400</td>\n",
       "      <td>Tom Boeckenhauer</td>\n",
       "      <td>Consumer</td>\n",
       "      <td>United States</td>\n",
       "      <td>Miami</td>\n",
       "      <td>...</td>\n",
       "      <td>33180</td>\n",
       "      <td>South</td>\n",
       "      <td>FUR-FU-10001889</td>\n",
       "      <td>Furniture</td>\n",
       "      <td>Furnishings</td>\n",
       "      <td>Ultra Door Pull Handle</td>\n",
       "      <td>25.2480</td>\n",
       "      <td>3</td>\n",
       "      <td>0.20</td>\n",
       "      <td>4.1028</td>\n",
       "    </tr>\n",
       "    <tr>\n",
       "      <th>9990</th>\n",
       "      <td>9991</td>\n",
       "      <td>CA-2017-121258</td>\n",
       "      <td>2/26/2017</td>\n",
       "      <td>3/3/2017</td>\n",
       "      <td>Standard Class</td>\n",
       "      <td>DB-13060</td>\n",
       "      <td>Dave Brooks</td>\n",
       "      <td>Consumer</td>\n",
       "      <td>United States</td>\n",
       "      <td>Costa Mesa</td>\n",
       "      <td>...</td>\n",
       "      <td>92627</td>\n",
       "      <td>West</td>\n",
       "      <td>FUR-FU-10000747</td>\n",
       "      <td>Furniture</td>\n",
       "      <td>Furnishings</td>\n",
       "      <td>Tenex B1-RE Series Chair Mats for Low Pile Car...</td>\n",
       "      <td>91.9600</td>\n",
       "      <td>2</td>\n",
       "      <td>0.00</td>\n",
       "      <td>15.6332</td>\n",
       "    </tr>\n",
       "    <tr>\n",
       "      <th>9991</th>\n",
       "      <td>9992</td>\n",
       "      <td>CA-2017-121258</td>\n",
       "      <td>2/26/2017</td>\n",
       "      <td>3/3/2017</td>\n",
       "      <td>Standard Class</td>\n",
       "      <td>DB-13060</td>\n",
       "      <td>Dave Brooks</td>\n",
       "      <td>Consumer</td>\n",
       "      <td>United States</td>\n",
       "      <td>Costa Mesa</td>\n",
       "      <td>...</td>\n",
       "      <td>92627</td>\n",
       "      <td>West</td>\n",
       "      <td>TEC-PH-10003645</td>\n",
       "      <td>Technology</td>\n",
       "      <td>Phones</td>\n",
       "      <td>Aastra 57i VoIP phone</td>\n",
       "      <td>258.5760</td>\n",
       "      <td>2</td>\n",
       "      <td>0.20</td>\n",
       "      <td>19.3932</td>\n",
       "    </tr>\n",
       "    <tr>\n",
       "      <th>9992</th>\n",
       "      <td>9993</td>\n",
       "      <td>CA-2017-121258</td>\n",
       "      <td>2/26/2017</td>\n",
       "      <td>3/3/2017</td>\n",
       "      <td>Standard Class</td>\n",
       "      <td>DB-13060</td>\n",
       "      <td>Dave Brooks</td>\n",
       "      <td>Consumer</td>\n",
       "      <td>United States</td>\n",
       "      <td>Costa Mesa</td>\n",
       "      <td>...</td>\n",
       "      <td>92627</td>\n",
       "      <td>West</td>\n",
       "      <td>OFF-PA-10004041</td>\n",
       "      <td>Office Supplies</td>\n",
       "      <td>Paper</td>\n",
       "      <td>It's Hot Message Books with Stickers, 2 3/4\" x 5\"</td>\n",
       "      <td>29.6000</td>\n",
       "      <td>4</td>\n",
       "      <td>0.00</td>\n",
       "      <td>13.3200</td>\n",
       "    </tr>\n",
       "    <tr>\n",
       "      <th>9993</th>\n",
       "      <td>9994</td>\n",
       "      <td>CA-2017-119914</td>\n",
       "      <td>5/4/2017</td>\n",
       "      <td>5/9/2017</td>\n",
       "      <td>Second Class</td>\n",
       "      <td>CC-12220</td>\n",
       "      <td>Chris Cortes</td>\n",
       "      <td>Consumer</td>\n",
       "      <td>United States</td>\n",
       "      <td>Westminster</td>\n",
       "      <td>...</td>\n",
       "      <td>92683</td>\n",
       "      <td>West</td>\n",
       "      <td>OFF-AP-10002684</td>\n",
       "      <td>Office Supplies</td>\n",
       "      <td>Appliances</td>\n",
       "      <td>Acco 7-Outlet Masterpiece Power Center, Wihtou...</td>\n",
       "      <td>243.1600</td>\n",
       "      <td>2</td>\n",
       "      <td>0.00</td>\n",
       "      <td>72.9480</td>\n",
       "    </tr>\n",
       "  </tbody>\n",
       "</table>\n",
       "<p>9994 rows × 21 columns</p>\n",
       "</div>"
      ],
      "text/plain": [
       "      Row ID        Order ID  Order Date   Ship Date       Ship Mode  \\\n",
       "0          1  CA-2016-152156   11/8/2016  11/11/2016    Second Class   \n",
       "1          2  CA-2016-152156   11/8/2016  11/11/2016    Second Class   \n",
       "2          3  CA-2016-138688   6/12/2016   6/16/2016    Second Class   \n",
       "3          4  US-2015-108966  10/11/2015  10/18/2015  Standard Class   \n",
       "4          5  US-2015-108966  10/11/2015  10/18/2015  Standard Class   \n",
       "...      ...             ...         ...         ...             ...   \n",
       "9989    9990  CA-2014-110422   1/21/2014   1/23/2014    Second Class   \n",
       "9990    9991  CA-2017-121258   2/26/2017    3/3/2017  Standard Class   \n",
       "9991    9992  CA-2017-121258   2/26/2017    3/3/2017  Standard Class   \n",
       "9992    9993  CA-2017-121258   2/26/2017    3/3/2017  Standard Class   \n",
       "9993    9994  CA-2017-119914    5/4/2017    5/9/2017    Second Class   \n",
       "\n",
       "     Customer ID     Customer Name    Segment        Country             City  \\\n",
       "0       CG-12520       Claire Gute   Consumer  United States        Henderson   \n",
       "1       CG-12520       Claire Gute   Consumer  United States        Henderson   \n",
       "2       DV-13045   Darrin Van Huff  Corporate  United States      Los Angeles   \n",
       "3       SO-20335    Sean O'Donnell   Consumer  United States  Fort Lauderdale   \n",
       "4       SO-20335    Sean O'Donnell   Consumer  United States  Fort Lauderdale   \n",
       "...          ...               ...        ...            ...              ...   \n",
       "9989    TB-21400  Tom Boeckenhauer   Consumer  United States            Miami   \n",
       "9990    DB-13060       Dave Brooks   Consumer  United States       Costa Mesa   \n",
       "9991    DB-13060       Dave Brooks   Consumer  United States       Costa Mesa   \n",
       "9992    DB-13060       Dave Brooks   Consumer  United States       Costa Mesa   \n",
       "9993    CC-12220      Chris Cortes   Consumer  United States      Westminster   \n",
       "\n",
       "      ... Postal Code  Region       Product ID         Category Sub-Category  \\\n",
       "0     ...       42420   South  FUR-BO-10001798        Furniture    Bookcases   \n",
       "1     ...       42420   South  FUR-CH-10000454        Furniture       Chairs   \n",
       "2     ...       90036    West  OFF-LA-10000240  Office Supplies       Labels   \n",
       "3     ...       33311   South  FUR-TA-10000577        Furniture       Tables   \n",
       "4     ...       33311   South  OFF-ST-10000760  Office Supplies      Storage   \n",
       "...   ...         ...     ...              ...              ...          ...   \n",
       "9989  ...       33180   South  FUR-FU-10001889        Furniture  Furnishings   \n",
       "9990  ...       92627    West  FUR-FU-10000747        Furniture  Furnishings   \n",
       "9991  ...       92627    West  TEC-PH-10003645       Technology       Phones   \n",
       "9992  ...       92627    West  OFF-PA-10004041  Office Supplies        Paper   \n",
       "9993  ...       92683    West  OFF-AP-10002684  Office Supplies   Appliances   \n",
       "\n",
       "                                           Product Name     Sales  Quantity  \\\n",
       "0                     Bush Somerset Collection Bookcase  261.9600         2   \n",
       "1     Hon Deluxe Fabric Upholstered Stacking Chairs,...  731.9400         3   \n",
       "2     Self-Adhesive Address Labels for Typewriters b...   14.6200         2   \n",
       "3         Bretford CR4500 Series Slim Rectangular Table  957.5775         5   \n",
       "4                        Eldon Fold 'N Roll Cart System   22.3680         2   \n",
       "...                                                 ...       ...       ...   \n",
       "9989                             Ultra Door Pull Handle   25.2480         3   \n",
       "9990  Tenex B1-RE Series Chair Mats for Low Pile Car...   91.9600         2   \n",
       "9991                              Aastra 57i VoIP phone  258.5760         2   \n",
       "9992  It's Hot Message Books with Stickers, 2 3/4\" x 5\"   29.6000         4   \n",
       "9993  Acco 7-Outlet Masterpiece Power Center, Wihtou...  243.1600         2   \n",
       "\n",
       "      Discount    Profit  \n",
       "0         0.00   41.9136  \n",
       "1         0.00  219.5820  \n",
       "2         0.00    6.8714  \n",
       "3         0.45 -383.0310  \n",
       "4         0.20    2.5164  \n",
       "...        ...       ...  \n",
       "9989      0.20    4.1028  \n",
       "9990      0.00   15.6332  \n",
       "9991      0.20   19.3932  \n",
       "9992      0.00   13.3200  \n",
       "9993      0.00   72.9480  \n",
       "\n",
       "[9994 rows x 21 columns]"
      ]
     },
     "execution_count": 6,
     "metadata": {},
     "output_type": "execute_result"
    }
   ],
   "source": [
    "business_data"
   ]
  },
  {
   "cell_type": "code",
   "execution_count": 7,
   "id": "9d5082ac",
   "metadata": {},
   "outputs": [
    {
     "name": "stdout",
     "output_type": "stream",
     "text": [
      "<class 'pandas.core.frame.DataFrame'>\n",
      "RangeIndex: 9994 entries, 0 to 9993\n",
      "Data columns (total 21 columns):\n",
      " #   Column         Non-Null Count  Dtype  \n",
      "---  ------         --------------  -----  \n",
      " 0   Row ID         9994 non-null   int64  \n",
      " 1   Order ID       9994 non-null   object \n",
      " 2   Order Date     9994 non-null   object \n",
      " 3   Ship Date      9994 non-null   object \n",
      " 4   Ship Mode      9994 non-null   object \n",
      " 5   Customer ID    9994 non-null   object \n",
      " 6   Customer Name  9994 non-null   object \n",
      " 7   Segment        9994 non-null   object \n",
      " 8   Country        9994 non-null   object \n",
      " 9   City           9994 non-null   object \n",
      " 10  State          9994 non-null   object \n",
      " 11  Postal Code    9994 non-null   int64  \n",
      " 12  Region         9994 non-null   object \n",
      " 13  Product ID     9994 non-null   object \n",
      " 14  Category       9994 non-null   object \n",
      " 15  Sub-Category   9994 non-null   object \n",
      " 16  Product Name   9994 non-null   object \n",
      " 17  Sales          9994 non-null   float64\n",
      " 18  Quantity       9994 non-null   int64  \n",
      " 19  Discount       9994 non-null   float64\n",
      " 20  Profit         9994 non-null   float64\n",
      "dtypes: float64(3), int64(3), object(15)\n",
      "memory usage: 1.6+ MB\n"
     ]
    }
   ],
   "source": [
    "business_data.info()"
   ]
  },
  {
   "cell_type": "markdown",
   "id": "32b8fa75",
   "metadata": {},
   "source": [
    "### Remove the space from Column Header"
   ]
  },
  {
   "cell_type": "code",
   "execution_count": 8,
   "id": "bde49e5a",
   "metadata": {},
   "outputs": [
    {
     "data": {
      "text/html": [
       "<div>\n",
       "<style scoped>\n",
       "    .dataframe tbody tr th:only-of-type {\n",
       "        vertical-align: middle;\n",
       "    }\n",
       "\n",
       "    .dataframe tbody tr th {\n",
       "        vertical-align: top;\n",
       "    }\n",
       "\n",
       "    .dataframe thead th {\n",
       "        text-align: right;\n",
       "    }\n",
       "</style>\n",
       "<table border=\"1\" class=\"dataframe\">\n",
       "  <thead>\n",
       "    <tr style=\"text-align: right;\">\n",
       "      <th></th>\n",
       "      <th>RowID</th>\n",
       "      <th>OrderID</th>\n",
       "      <th>OrderDate</th>\n",
       "      <th>ShipDate</th>\n",
       "      <th>ShipMode</th>\n",
       "      <th>CustomerID</th>\n",
       "      <th>CustomerName</th>\n",
       "      <th>Segment</th>\n",
       "      <th>Country</th>\n",
       "      <th>City</th>\n",
       "      <th>...</th>\n",
       "      <th>PostalCode</th>\n",
       "      <th>Region</th>\n",
       "      <th>ProductID</th>\n",
       "      <th>Category</th>\n",
       "      <th>Sub-Category</th>\n",
       "      <th>ProductName</th>\n",
       "      <th>Sales</th>\n",
       "      <th>Quantity</th>\n",
       "      <th>Discount</th>\n",
       "      <th>Profit</th>\n",
       "    </tr>\n",
       "  </thead>\n",
       "  <tbody>\n",
       "    <tr>\n",
       "      <th>0</th>\n",
       "      <td>1</td>\n",
       "      <td>CA-2016-152156</td>\n",
       "      <td>11/8/2016</td>\n",
       "      <td>11/11/2016</td>\n",
       "      <td>Second Class</td>\n",
       "      <td>CG-12520</td>\n",
       "      <td>Claire Gute</td>\n",
       "      <td>Consumer</td>\n",
       "      <td>United States</td>\n",
       "      <td>Henderson</td>\n",
       "      <td>...</td>\n",
       "      <td>42420</td>\n",
       "      <td>South</td>\n",
       "      <td>FUR-BO-10001798</td>\n",
       "      <td>Furniture</td>\n",
       "      <td>Bookcases</td>\n",
       "      <td>Bush Somerset Collection Bookcase</td>\n",
       "      <td>261.9600</td>\n",
       "      <td>2</td>\n",
       "      <td>0.00</td>\n",
       "      <td>41.9136</td>\n",
       "    </tr>\n",
       "    <tr>\n",
       "      <th>1</th>\n",
       "      <td>2</td>\n",
       "      <td>CA-2016-152156</td>\n",
       "      <td>11/8/2016</td>\n",
       "      <td>11/11/2016</td>\n",
       "      <td>Second Class</td>\n",
       "      <td>CG-12520</td>\n",
       "      <td>Claire Gute</td>\n",
       "      <td>Consumer</td>\n",
       "      <td>United States</td>\n",
       "      <td>Henderson</td>\n",
       "      <td>...</td>\n",
       "      <td>42420</td>\n",
       "      <td>South</td>\n",
       "      <td>FUR-CH-10000454</td>\n",
       "      <td>Furniture</td>\n",
       "      <td>Chairs</td>\n",
       "      <td>Hon Deluxe Fabric Upholstered Stacking Chairs,...</td>\n",
       "      <td>731.9400</td>\n",
       "      <td>3</td>\n",
       "      <td>0.00</td>\n",
       "      <td>219.5820</td>\n",
       "    </tr>\n",
       "    <tr>\n",
       "      <th>2</th>\n",
       "      <td>3</td>\n",
       "      <td>CA-2016-138688</td>\n",
       "      <td>6/12/2016</td>\n",
       "      <td>6/16/2016</td>\n",
       "      <td>Second Class</td>\n",
       "      <td>DV-13045</td>\n",
       "      <td>Darrin Van Huff</td>\n",
       "      <td>Corporate</td>\n",
       "      <td>United States</td>\n",
       "      <td>Los Angeles</td>\n",
       "      <td>...</td>\n",
       "      <td>90036</td>\n",
       "      <td>West</td>\n",
       "      <td>OFF-LA-10000240</td>\n",
       "      <td>Office Supplies</td>\n",
       "      <td>Labels</td>\n",
       "      <td>Self-Adhesive Address Labels for Typewriters b...</td>\n",
       "      <td>14.6200</td>\n",
       "      <td>2</td>\n",
       "      <td>0.00</td>\n",
       "      <td>6.8714</td>\n",
       "    </tr>\n",
       "    <tr>\n",
       "      <th>3</th>\n",
       "      <td>4</td>\n",
       "      <td>US-2015-108966</td>\n",
       "      <td>10/11/2015</td>\n",
       "      <td>10/18/2015</td>\n",
       "      <td>Standard Class</td>\n",
       "      <td>SO-20335</td>\n",
       "      <td>Sean O'Donnell</td>\n",
       "      <td>Consumer</td>\n",
       "      <td>United States</td>\n",
       "      <td>Fort Lauderdale</td>\n",
       "      <td>...</td>\n",
       "      <td>33311</td>\n",
       "      <td>South</td>\n",
       "      <td>FUR-TA-10000577</td>\n",
       "      <td>Furniture</td>\n",
       "      <td>Tables</td>\n",
       "      <td>Bretford CR4500 Series Slim Rectangular Table</td>\n",
       "      <td>957.5775</td>\n",
       "      <td>5</td>\n",
       "      <td>0.45</td>\n",
       "      <td>-383.0310</td>\n",
       "    </tr>\n",
       "    <tr>\n",
       "      <th>4</th>\n",
       "      <td>5</td>\n",
       "      <td>US-2015-108966</td>\n",
       "      <td>10/11/2015</td>\n",
       "      <td>10/18/2015</td>\n",
       "      <td>Standard Class</td>\n",
       "      <td>SO-20335</td>\n",
       "      <td>Sean O'Donnell</td>\n",
       "      <td>Consumer</td>\n",
       "      <td>United States</td>\n",
       "      <td>Fort Lauderdale</td>\n",
       "      <td>...</td>\n",
       "      <td>33311</td>\n",
       "      <td>South</td>\n",
       "      <td>OFF-ST-10000760</td>\n",
       "      <td>Office Supplies</td>\n",
       "      <td>Storage</td>\n",
       "      <td>Eldon Fold 'N Roll Cart System</td>\n",
       "      <td>22.3680</td>\n",
       "      <td>2</td>\n",
       "      <td>0.20</td>\n",
       "      <td>2.5164</td>\n",
       "    </tr>\n",
       "    <tr>\n",
       "      <th>...</th>\n",
       "      <td>...</td>\n",
       "      <td>...</td>\n",
       "      <td>...</td>\n",
       "      <td>...</td>\n",
       "      <td>...</td>\n",
       "      <td>...</td>\n",
       "      <td>...</td>\n",
       "      <td>...</td>\n",
       "      <td>...</td>\n",
       "      <td>...</td>\n",
       "      <td>...</td>\n",
       "      <td>...</td>\n",
       "      <td>...</td>\n",
       "      <td>...</td>\n",
       "      <td>...</td>\n",
       "      <td>...</td>\n",
       "      <td>...</td>\n",
       "      <td>...</td>\n",
       "      <td>...</td>\n",
       "      <td>...</td>\n",
       "      <td>...</td>\n",
       "    </tr>\n",
       "    <tr>\n",
       "      <th>9989</th>\n",
       "      <td>9990</td>\n",
       "      <td>CA-2014-110422</td>\n",
       "      <td>1/21/2014</td>\n",
       "      <td>1/23/2014</td>\n",
       "      <td>Second Class</td>\n",
       "      <td>TB-21400</td>\n",
       "      <td>Tom Boeckenhauer</td>\n",
       "      <td>Consumer</td>\n",
       "      <td>United States</td>\n",
       "      <td>Miami</td>\n",
       "      <td>...</td>\n",
       "      <td>33180</td>\n",
       "      <td>South</td>\n",
       "      <td>FUR-FU-10001889</td>\n",
       "      <td>Furniture</td>\n",
       "      <td>Furnishings</td>\n",
       "      <td>Ultra Door Pull Handle</td>\n",
       "      <td>25.2480</td>\n",
       "      <td>3</td>\n",
       "      <td>0.20</td>\n",
       "      <td>4.1028</td>\n",
       "    </tr>\n",
       "    <tr>\n",
       "      <th>9990</th>\n",
       "      <td>9991</td>\n",
       "      <td>CA-2017-121258</td>\n",
       "      <td>2/26/2017</td>\n",
       "      <td>3/3/2017</td>\n",
       "      <td>Standard Class</td>\n",
       "      <td>DB-13060</td>\n",
       "      <td>Dave Brooks</td>\n",
       "      <td>Consumer</td>\n",
       "      <td>United States</td>\n",
       "      <td>Costa Mesa</td>\n",
       "      <td>...</td>\n",
       "      <td>92627</td>\n",
       "      <td>West</td>\n",
       "      <td>FUR-FU-10000747</td>\n",
       "      <td>Furniture</td>\n",
       "      <td>Furnishings</td>\n",
       "      <td>Tenex B1-RE Series Chair Mats for Low Pile Car...</td>\n",
       "      <td>91.9600</td>\n",
       "      <td>2</td>\n",
       "      <td>0.00</td>\n",
       "      <td>15.6332</td>\n",
       "    </tr>\n",
       "    <tr>\n",
       "      <th>9991</th>\n",
       "      <td>9992</td>\n",
       "      <td>CA-2017-121258</td>\n",
       "      <td>2/26/2017</td>\n",
       "      <td>3/3/2017</td>\n",
       "      <td>Standard Class</td>\n",
       "      <td>DB-13060</td>\n",
       "      <td>Dave Brooks</td>\n",
       "      <td>Consumer</td>\n",
       "      <td>United States</td>\n",
       "      <td>Costa Mesa</td>\n",
       "      <td>...</td>\n",
       "      <td>92627</td>\n",
       "      <td>West</td>\n",
       "      <td>TEC-PH-10003645</td>\n",
       "      <td>Technology</td>\n",
       "      <td>Phones</td>\n",
       "      <td>Aastra 57i VoIP phone</td>\n",
       "      <td>258.5760</td>\n",
       "      <td>2</td>\n",
       "      <td>0.20</td>\n",
       "      <td>19.3932</td>\n",
       "    </tr>\n",
       "    <tr>\n",
       "      <th>9992</th>\n",
       "      <td>9993</td>\n",
       "      <td>CA-2017-121258</td>\n",
       "      <td>2/26/2017</td>\n",
       "      <td>3/3/2017</td>\n",
       "      <td>Standard Class</td>\n",
       "      <td>DB-13060</td>\n",
       "      <td>Dave Brooks</td>\n",
       "      <td>Consumer</td>\n",
       "      <td>United States</td>\n",
       "      <td>Costa Mesa</td>\n",
       "      <td>...</td>\n",
       "      <td>92627</td>\n",
       "      <td>West</td>\n",
       "      <td>OFF-PA-10004041</td>\n",
       "      <td>Office Supplies</td>\n",
       "      <td>Paper</td>\n",
       "      <td>It's Hot Message Books with Stickers, 2 3/4\" x 5\"</td>\n",
       "      <td>29.6000</td>\n",
       "      <td>4</td>\n",
       "      <td>0.00</td>\n",
       "      <td>13.3200</td>\n",
       "    </tr>\n",
       "    <tr>\n",
       "      <th>9993</th>\n",
       "      <td>9994</td>\n",
       "      <td>CA-2017-119914</td>\n",
       "      <td>5/4/2017</td>\n",
       "      <td>5/9/2017</td>\n",
       "      <td>Second Class</td>\n",
       "      <td>CC-12220</td>\n",
       "      <td>Chris Cortes</td>\n",
       "      <td>Consumer</td>\n",
       "      <td>United States</td>\n",
       "      <td>Westminster</td>\n",
       "      <td>...</td>\n",
       "      <td>92683</td>\n",
       "      <td>West</td>\n",
       "      <td>OFF-AP-10002684</td>\n",
       "      <td>Office Supplies</td>\n",
       "      <td>Appliances</td>\n",
       "      <td>Acco 7-Outlet Masterpiece Power Center, Wihtou...</td>\n",
       "      <td>243.1600</td>\n",
       "      <td>2</td>\n",
       "      <td>0.00</td>\n",
       "      <td>72.9480</td>\n",
       "    </tr>\n",
       "  </tbody>\n",
       "</table>\n",
       "<p>9994 rows × 21 columns</p>\n",
       "</div>"
      ],
      "text/plain": [
       "      RowID         OrderID   OrderDate    ShipDate        ShipMode  \\\n",
       "0         1  CA-2016-152156   11/8/2016  11/11/2016    Second Class   \n",
       "1         2  CA-2016-152156   11/8/2016  11/11/2016    Second Class   \n",
       "2         3  CA-2016-138688   6/12/2016   6/16/2016    Second Class   \n",
       "3         4  US-2015-108966  10/11/2015  10/18/2015  Standard Class   \n",
       "4         5  US-2015-108966  10/11/2015  10/18/2015  Standard Class   \n",
       "...     ...             ...         ...         ...             ...   \n",
       "9989   9990  CA-2014-110422   1/21/2014   1/23/2014    Second Class   \n",
       "9990   9991  CA-2017-121258   2/26/2017    3/3/2017  Standard Class   \n",
       "9991   9992  CA-2017-121258   2/26/2017    3/3/2017  Standard Class   \n",
       "9992   9993  CA-2017-121258   2/26/2017    3/3/2017  Standard Class   \n",
       "9993   9994  CA-2017-119914    5/4/2017    5/9/2017    Second Class   \n",
       "\n",
       "     CustomerID      CustomerName    Segment        Country             City  \\\n",
       "0      CG-12520       Claire Gute   Consumer  United States        Henderson   \n",
       "1      CG-12520       Claire Gute   Consumer  United States        Henderson   \n",
       "2      DV-13045   Darrin Van Huff  Corporate  United States      Los Angeles   \n",
       "3      SO-20335    Sean O'Donnell   Consumer  United States  Fort Lauderdale   \n",
       "4      SO-20335    Sean O'Donnell   Consumer  United States  Fort Lauderdale   \n",
       "...         ...               ...        ...            ...              ...   \n",
       "9989   TB-21400  Tom Boeckenhauer   Consumer  United States            Miami   \n",
       "9990   DB-13060       Dave Brooks   Consumer  United States       Costa Mesa   \n",
       "9991   DB-13060       Dave Brooks   Consumer  United States       Costa Mesa   \n",
       "9992   DB-13060       Dave Brooks   Consumer  United States       Costa Mesa   \n",
       "9993   CC-12220      Chris Cortes   Consumer  United States      Westminster   \n",
       "\n",
       "      ... PostalCode  Region        ProductID         Category Sub-Category  \\\n",
       "0     ...      42420   South  FUR-BO-10001798        Furniture    Bookcases   \n",
       "1     ...      42420   South  FUR-CH-10000454        Furniture       Chairs   \n",
       "2     ...      90036    West  OFF-LA-10000240  Office Supplies       Labels   \n",
       "3     ...      33311   South  FUR-TA-10000577        Furniture       Tables   \n",
       "4     ...      33311   South  OFF-ST-10000760  Office Supplies      Storage   \n",
       "...   ...        ...     ...              ...              ...          ...   \n",
       "9989  ...      33180   South  FUR-FU-10001889        Furniture  Furnishings   \n",
       "9990  ...      92627    West  FUR-FU-10000747        Furniture  Furnishings   \n",
       "9991  ...      92627    West  TEC-PH-10003645       Technology       Phones   \n",
       "9992  ...      92627    West  OFF-PA-10004041  Office Supplies        Paper   \n",
       "9993  ...      92683    West  OFF-AP-10002684  Office Supplies   Appliances   \n",
       "\n",
       "                                            ProductName     Sales  Quantity  \\\n",
       "0                     Bush Somerset Collection Bookcase  261.9600         2   \n",
       "1     Hon Deluxe Fabric Upholstered Stacking Chairs,...  731.9400         3   \n",
       "2     Self-Adhesive Address Labels for Typewriters b...   14.6200         2   \n",
       "3         Bretford CR4500 Series Slim Rectangular Table  957.5775         5   \n",
       "4                        Eldon Fold 'N Roll Cart System   22.3680         2   \n",
       "...                                                 ...       ...       ...   \n",
       "9989                             Ultra Door Pull Handle   25.2480         3   \n",
       "9990  Tenex B1-RE Series Chair Mats for Low Pile Car...   91.9600         2   \n",
       "9991                              Aastra 57i VoIP phone  258.5760         2   \n",
       "9992  It's Hot Message Books with Stickers, 2 3/4\" x 5\"   29.6000         4   \n",
       "9993  Acco 7-Outlet Masterpiece Power Center, Wihtou...  243.1600         2   \n",
       "\n",
       "      Discount    Profit  \n",
       "0         0.00   41.9136  \n",
       "1         0.00  219.5820  \n",
       "2         0.00    6.8714  \n",
       "3         0.45 -383.0310  \n",
       "4         0.20    2.5164  \n",
       "...        ...       ...  \n",
       "9989      0.20    4.1028  \n",
       "9990      0.00   15.6332  \n",
       "9991      0.20   19.3932  \n",
       "9992      0.00   13.3200  \n",
       "9993      0.00   72.9480  \n",
       "\n",
       "[9994 rows x 21 columns]"
      ]
     },
     "execution_count": 8,
     "metadata": {},
     "output_type": "execute_result"
    }
   ],
   "source": [
    "business_data.columns = [col.replace(\" \", \"\") for col in business_data]\n",
    "business_data"
   ]
  },
  {
   "cell_type": "code",
   "execution_count": null,
   "id": "e0c172ce",
   "metadata": {},
   "outputs": [],
   "source": []
  },
  {
   "cell_type": "code",
   "execution_count": 9,
   "id": "2d229c4a",
   "metadata": {},
   "outputs": [
    {
     "data": {
      "text/html": [
       "<div>\n",
       "<style scoped>\n",
       "    .dataframe tbody tr th:only-of-type {\n",
       "        vertical-align: middle;\n",
       "    }\n",
       "\n",
       "    .dataframe tbody tr th {\n",
       "        vertical-align: top;\n",
       "    }\n",
       "\n",
       "    .dataframe thead th {\n",
       "        text-align: right;\n",
       "    }\n",
       "</style>\n",
       "<table border=\"1\" class=\"dataframe\">\n",
       "  <thead>\n",
       "    <tr style=\"text-align: right;\">\n",
       "      <th></th>\n",
       "      <th>RowID</th>\n",
       "      <th>OrderID</th>\n",
       "      <th>OrderDate</th>\n",
       "      <th>ShipDate</th>\n",
       "      <th>ShipMode</th>\n",
       "      <th>CustomerID</th>\n",
       "      <th>CustomerName</th>\n",
       "      <th>Segment</th>\n",
       "      <th>Country</th>\n",
       "      <th>City</th>\n",
       "      <th>...</th>\n",
       "      <th>Region</th>\n",
       "      <th>ProductID</th>\n",
       "      <th>Category</th>\n",
       "      <th>Sub-Category</th>\n",
       "      <th>ProductName</th>\n",
       "      <th>Sales</th>\n",
       "      <th>Quantity</th>\n",
       "      <th>Discount</th>\n",
       "      <th>Profit</th>\n",
       "      <th>LocationID</th>\n",
       "    </tr>\n",
       "  </thead>\n",
       "  <tbody>\n",
       "    <tr>\n",
       "      <th>0</th>\n",
       "      <td>1</td>\n",
       "      <td>CA-2016-152156</td>\n",
       "      <td>11/8/2016</td>\n",
       "      <td>11/11/2016</td>\n",
       "      <td>Second Class</td>\n",
       "      <td>CG-12520</td>\n",
       "      <td>Claire Gute</td>\n",
       "      <td>Consumer</td>\n",
       "      <td>United States</td>\n",
       "      <td>Henderson</td>\n",
       "      <td>...</td>\n",
       "      <td>South</td>\n",
       "      <td>FUR-BO-10001798</td>\n",
       "      <td>Furniture</td>\n",
       "      <td>Bookcases</td>\n",
       "      <td>Bush Somerset Collection Bookcase</td>\n",
       "      <td>261.9600</td>\n",
       "      <td>2</td>\n",
       "      <td>0.00</td>\n",
       "      <td>41.9136</td>\n",
       "      <td>L001</td>\n",
       "    </tr>\n",
       "    <tr>\n",
       "      <th>1</th>\n",
       "      <td>2</td>\n",
       "      <td>CA-2016-152156</td>\n",
       "      <td>11/8/2016</td>\n",
       "      <td>11/11/2016</td>\n",
       "      <td>Second Class</td>\n",
       "      <td>CG-12520</td>\n",
       "      <td>Claire Gute</td>\n",
       "      <td>Consumer</td>\n",
       "      <td>United States</td>\n",
       "      <td>Henderson</td>\n",
       "      <td>...</td>\n",
       "      <td>South</td>\n",
       "      <td>FUR-CH-10000454</td>\n",
       "      <td>Furniture</td>\n",
       "      <td>Chairs</td>\n",
       "      <td>Hon Deluxe Fabric Upholstered Stacking Chairs,...</td>\n",
       "      <td>731.9400</td>\n",
       "      <td>3</td>\n",
       "      <td>0.00</td>\n",
       "      <td>219.5820</td>\n",
       "      <td>L002</td>\n",
       "    </tr>\n",
       "    <tr>\n",
       "      <th>2</th>\n",
       "      <td>3</td>\n",
       "      <td>CA-2016-138688</td>\n",
       "      <td>6/12/2016</td>\n",
       "      <td>6/16/2016</td>\n",
       "      <td>Second Class</td>\n",
       "      <td>DV-13045</td>\n",
       "      <td>Darrin Van Huff</td>\n",
       "      <td>Corporate</td>\n",
       "      <td>United States</td>\n",
       "      <td>Los Angeles</td>\n",
       "      <td>...</td>\n",
       "      <td>West</td>\n",
       "      <td>OFF-LA-10000240</td>\n",
       "      <td>Office Supplies</td>\n",
       "      <td>Labels</td>\n",
       "      <td>Self-Adhesive Address Labels for Typewriters b...</td>\n",
       "      <td>14.6200</td>\n",
       "      <td>2</td>\n",
       "      <td>0.00</td>\n",
       "      <td>6.8714</td>\n",
       "      <td>L003</td>\n",
       "    </tr>\n",
       "    <tr>\n",
       "      <th>3</th>\n",
       "      <td>4</td>\n",
       "      <td>US-2015-108966</td>\n",
       "      <td>10/11/2015</td>\n",
       "      <td>10/18/2015</td>\n",
       "      <td>Standard Class</td>\n",
       "      <td>SO-20335</td>\n",
       "      <td>Sean O'Donnell</td>\n",
       "      <td>Consumer</td>\n",
       "      <td>United States</td>\n",
       "      <td>Fort Lauderdale</td>\n",
       "      <td>...</td>\n",
       "      <td>South</td>\n",
       "      <td>FUR-TA-10000577</td>\n",
       "      <td>Furniture</td>\n",
       "      <td>Tables</td>\n",
       "      <td>Bretford CR4500 Series Slim Rectangular Table</td>\n",
       "      <td>957.5775</td>\n",
       "      <td>5</td>\n",
       "      <td>0.45</td>\n",
       "      <td>-383.0310</td>\n",
       "      <td>L004</td>\n",
       "    </tr>\n",
       "    <tr>\n",
       "      <th>4</th>\n",
       "      <td>5</td>\n",
       "      <td>US-2015-108966</td>\n",
       "      <td>10/11/2015</td>\n",
       "      <td>10/18/2015</td>\n",
       "      <td>Standard Class</td>\n",
       "      <td>SO-20335</td>\n",
       "      <td>Sean O'Donnell</td>\n",
       "      <td>Consumer</td>\n",
       "      <td>United States</td>\n",
       "      <td>Fort Lauderdale</td>\n",
       "      <td>...</td>\n",
       "      <td>South</td>\n",
       "      <td>OFF-ST-10000760</td>\n",
       "      <td>Office Supplies</td>\n",
       "      <td>Storage</td>\n",
       "      <td>Eldon Fold 'N Roll Cart System</td>\n",
       "      <td>22.3680</td>\n",
       "      <td>2</td>\n",
       "      <td>0.20</td>\n",
       "      <td>2.5164</td>\n",
       "      <td>L005</td>\n",
       "    </tr>\n",
       "    <tr>\n",
       "      <th>...</th>\n",
       "      <td>...</td>\n",
       "      <td>...</td>\n",
       "      <td>...</td>\n",
       "      <td>...</td>\n",
       "      <td>...</td>\n",
       "      <td>...</td>\n",
       "      <td>...</td>\n",
       "      <td>...</td>\n",
       "      <td>...</td>\n",
       "      <td>...</td>\n",
       "      <td>...</td>\n",
       "      <td>...</td>\n",
       "      <td>...</td>\n",
       "      <td>...</td>\n",
       "      <td>...</td>\n",
       "      <td>...</td>\n",
       "      <td>...</td>\n",
       "      <td>...</td>\n",
       "      <td>...</td>\n",
       "      <td>...</td>\n",
       "      <td>...</td>\n",
       "    </tr>\n",
       "    <tr>\n",
       "      <th>9989</th>\n",
       "      <td>9990</td>\n",
       "      <td>CA-2014-110422</td>\n",
       "      <td>1/21/2014</td>\n",
       "      <td>1/23/2014</td>\n",
       "      <td>Second Class</td>\n",
       "      <td>TB-21400</td>\n",
       "      <td>Tom Boeckenhauer</td>\n",
       "      <td>Consumer</td>\n",
       "      <td>United States</td>\n",
       "      <td>Miami</td>\n",
       "      <td>...</td>\n",
       "      <td>South</td>\n",
       "      <td>FUR-FU-10001889</td>\n",
       "      <td>Furniture</td>\n",
       "      <td>Furnishings</td>\n",
       "      <td>Ultra Door Pull Handle</td>\n",
       "      <td>25.2480</td>\n",
       "      <td>3</td>\n",
       "      <td>0.20</td>\n",
       "      <td>4.1028</td>\n",
       "      <td>L9990</td>\n",
       "    </tr>\n",
       "    <tr>\n",
       "      <th>9990</th>\n",
       "      <td>9991</td>\n",
       "      <td>CA-2017-121258</td>\n",
       "      <td>2/26/2017</td>\n",
       "      <td>3/3/2017</td>\n",
       "      <td>Standard Class</td>\n",
       "      <td>DB-13060</td>\n",
       "      <td>Dave Brooks</td>\n",
       "      <td>Consumer</td>\n",
       "      <td>United States</td>\n",
       "      <td>Costa Mesa</td>\n",
       "      <td>...</td>\n",
       "      <td>West</td>\n",
       "      <td>FUR-FU-10000747</td>\n",
       "      <td>Furniture</td>\n",
       "      <td>Furnishings</td>\n",
       "      <td>Tenex B1-RE Series Chair Mats for Low Pile Car...</td>\n",
       "      <td>91.9600</td>\n",
       "      <td>2</td>\n",
       "      <td>0.00</td>\n",
       "      <td>15.6332</td>\n",
       "      <td>L9991</td>\n",
       "    </tr>\n",
       "    <tr>\n",
       "      <th>9991</th>\n",
       "      <td>9992</td>\n",
       "      <td>CA-2017-121258</td>\n",
       "      <td>2/26/2017</td>\n",
       "      <td>3/3/2017</td>\n",
       "      <td>Standard Class</td>\n",
       "      <td>DB-13060</td>\n",
       "      <td>Dave Brooks</td>\n",
       "      <td>Consumer</td>\n",
       "      <td>United States</td>\n",
       "      <td>Costa Mesa</td>\n",
       "      <td>...</td>\n",
       "      <td>West</td>\n",
       "      <td>TEC-PH-10003645</td>\n",
       "      <td>Technology</td>\n",
       "      <td>Phones</td>\n",
       "      <td>Aastra 57i VoIP phone</td>\n",
       "      <td>258.5760</td>\n",
       "      <td>2</td>\n",
       "      <td>0.20</td>\n",
       "      <td>19.3932</td>\n",
       "      <td>L9992</td>\n",
       "    </tr>\n",
       "    <tr>\n",
       "      <th>9992</th>\n",
       "      <td>9993</td>\n",
       "      <td>CA-2017-121258</td>\n",
       "      <td>2/26/2017</td>\n",
       "      <td>3/3/2017</td>\n",
       "      <td>Standard Class</td>\n",
       "      <td>DB-13060</td>\n",
       "      <td>Dave Brooks</td>\n",
       "      <td>Consumer</td>\n",
       "      <td>United States</td>\n",
       "      <td>Costa Mesa</td>\n",
       "      <td>...</td>\n",
       "      <td>West</td>\n",
       "      <td>OFF-PA-10004041</td>\n",
       "      <td>Office Supplies</td>\n",
       "      <td>Paper</td>\n",
       "      <td>It's Hot Message Books with Stickers, 2 3/4\" x 5\"</td>\n",
       "      <td>29.6000</td>\n",
       "      <td>4</td>\n",
       "      <td>0.00</td>\n",
       "      <td>13.3200</td>\n",
       "      <td>L9993</td>\n",
       "    </tr>\n",
       "    <tr>\n",
       "      <th>9993</th>\n",
       "      <td>9994</td>\n",
       "      <td>CA-2017-119914</td>\n",
       "      <td>5/4/2017</td>\n",
       "      <td>5/9/2017</td>\n",
       "      <td>Second Class</td>\n",
       "      <td>CC-12220</td>\n",
       "      <td>Chris Cortes</td>\n",
       "      <td>Consumer</td>\n",
       "      <td>United States</td>\n",
       "      <td>Westminster</td>\n",
       "      <td>...</td>\n",
       "      <td>West</td>\n",
       "      <td>OFF-AP-10002684</td>\n",
       "      <td>Office Supplies</td>\n",
       "      <td>Appliances</td>\n",
       "      <td>Acco 7-Outlet Masterpiece Power Center, Wihtou...</td>\n",
       "      <td>243.1600</td>\n",
       "      <td>2</td>\n",
       "      <td>0.00</td>\n",
       "      <td>72.9480</td>\n",
       "      <td>L9994</td>\n",
       "    </tr>\n",
       "  </tbody>\n",
       "</table>\n",
       "<p>9994 rows × 22 columns</p>\n",
       "</div>"
      ],
      "text/plain": [
       "      RowID         OrderID   OrderDate    ShipDate        ShipMode  \\\n",
       "0         1  CA-2016-152156   11/8/2016  11/11/2016    Second Class   \n",
       "1         2  CA-2016-152156   11/8/2016  11/11/2016    Second Class   \n",
       "2         3  CA-2016-138688   6/12/2016   6/16/2016    Second Class   \n",
       "3         4  US-2015-108966  10/11/2015  10/18/2015  Standard Class   \n",
       "4         5  US-2015-108966  10/11/2015  10/18/2015  Standard Class   \n",
       "...     ...             ...         ...         ...             ...   \n",
       "9989   9990  CA-2014-110422   1/21/2014   1/23/2014    Second Class   \n",
       "9990   9991  CA-2017-121258   2/26/2017    3/3/2017  Standard Class   \n",
       "9991   9992  CA-2017-121258   2/26/2017    3/3/2017  Standard Class   \n",
       "9992   9993  CA-2017-121258   2/26/2017    3/3/2017  Standard Class   \n",
       "9993   9994  CA-2017-119914    5/4/2017    5/9/2017    Second Class   \n",
       "\n",
       "     CustomerID      CustomerName    Segment        Country             City  \\\n",
       "0      CG-12520       Claire Gute   Consumer  United States        Henderson   \n",
       "1      CG-12520       Claire Gute   Consumer  United States        Henderson   \n",
       "2      DV-13045   Darrin Van Huff  Corporate  United States      Los Angeles   \n",
       "3      SO-20335    Sean O'Donnell   Consumer  United States  Fort Lauderdale   \n",
       "4      SO-20335    Sean O'Donnell   Consumer  United States  Fort Lauderdale   \n",
       "...         ...               ...        ...            ...              ...   \n",
       "9989   TB-21400  Tom Boeckenhauer   Consumer  United States            Miami   \n",
       "9990   DB-13060       Dave Brooks   Consumer  United States       Costa Mesa   \n",
       "9991   DB-13060       Dave Brooks   Consumer  United States       Costa Mesa   \n",
       "9992   DB-13060       Dave Brooks   Consumer  United States       Costa Mesa   \n",
       "9993   CC-12220      Chris Cortes   Consumer  United States      Westminster   \n",
       "\n",
       "      ... Region        ProductID         Category Sub-Category  \\\n",
       "0     ...  South  FUR-BO-10001798        Furniture    Bookcases   \n",
       "1     ...  South  FUR-CH-10000454        Furniture       Chairs   \n",
       "2     ...   West  OFF-LA-10000240  Office Supplies       Labels   \n",
       "3     ...  South  FUR-TA-10000577        Furniture       Tables   \n",
       "4     ...  South  OFF-ST-10000760  Office Supplies      Storage   \n",
       "...   ...    ...              ...              ...          ...   \n",
       "9989  ...  South  FUR-FU-10001889        Furniture  Furnishings   \n",
       "9990  ...   West  FUR-FU-10000747        Furniture  Furnishings   \n",
       "9991  ...   West  TEC-PH-10003645       Technology       Phones   \n",
       "9992  ...   West  OFF-PA-10004041  Office Supplies        Paper   \n",
       "9993  ...   West  OFF-AP-10002684  Office Supplies   Appliances   \n",
       "\n",
       "                                            ProductName     Sales Quantity  \\\n",
       "0                     Bush Somerset Collection Bookcase  261.9600        2   \n",
       "1     Hon Deluxe Fabric Upholstered Stacking Chairs,...  731.9400        3   \n",
       "2     Self-Adhesive Address Labels for Typewriters b...   14.6200        2   \n",
       "3         Bretford CR4500 Series Slim Rectangular Table  957.5775        5   \n",
       "4                        Eldon Fold 'N Roll Cart System   22.3680        2   \n",
       "...                                                 ...       ...      ...   \n",
       "9989                             Ultra Door Pull Handle   25.2480        3   \n",
       "9990  Tenex B1-RE Series Chair Mats for Low Pile Car...   91.9600        2   \n",
       "9991                              Aastra 57i VoIP phone  258.5760        2   \n",
       "9992  It's Hot Message Books with Stickers, 2 3/4\" x 5\"   29.6000        4   \n",
       "9993  Acco 7-Outlet Masterpiece Power Center, Wihtou...  243.1600        2   \n",
       "\n",
       "      Discount    Profit  LocationID  \n",
       "0         0.00   41.9136        L001  \n",
       "1         0.00  219.5820        L002  \n",
       "2         0.00    6.8714        L003  \n",
       "3         0.45 -383.0310        L004  \n",
       "4         0.20    2.5164        L005  \n",
       "...        ...       ...         ...  \n",
       "9989      0.20    4.1028       L9990  \n",
       "9990      0.00   15.6332       L9991  \n",
       "9991      0.20   19.3932       L9992  \n",
       "9992      0.00   13.3200       L9993  \n",
       "9993      0.00   72.9480       L9994  \n",
       "\n",
       "[9994 rows x 22 columns]"
      ]
     },
     "execution_count": 9,
     "metadata": {},
     "output_type": "execute_result"
    }
   ],
   "source": [
    "df_business_data_new = business_data.copy()\n",
    "\n",
    "# Generate sequential numbers starting from 1\n",
    "df_business_data_new['LocationID'] = range(1, len(df_business_data_new) + 1)\n",
    "\n",
    "# Format them as L001, L002, L003...\n",
    "df_business_data_new['LocationID'] = df_business_data_new['LocationID'].apply(lambda x: f\"L{x:03}\")\n",
    "\n",
    "# Save to CSV\n",
    "new_file = \"ecomm_data.csv\"\n",
    "df_business_data_new.to_csv(new_file, index=False)\n",
    "\n",
    "df_business_data_new\n"
   ]
  },
  {
   "cell_type": "markdown",
   "id": "cf733634",
   "metadata": {},
   "source": [
    "# Create Table"
   ]
  },
  {
   "cell_type": "code",
   "execution_count": 10,
   "id": "a2db93ac",
   "metadata": {},
   "outputs": [],
   "source": [
    "import sqlite3\n",
    "conn = sqlite3.connect('E-comm.db')\n",
    "cur = conn.cursor()\n",
    "\n",
    "cur.execute(\"PRAGMA foreign_keys = ON;\")\n",
    "\n",
    "cur.execute(\"\"\"\n",
    "CREATE TABLE IF NOT EXISTS Location (\n",
    "    LocationID TEXT PRIMARY KEY,\n",
    "    Country TEXT,\n",
    "    City TEXT,\n",
    "    State TEXT,\n",
    "    Region TEXT,\n",
    "    PostalCode TEXT\n",
    ")\n",
    "\"\"\")\n",
    "\n",
    "cur.execute(\"\"\"\n",
    "CREATE TABLE IF NOT EXISTS Customer (\n",
    "    CustomerID TEXT PRIMARY KEY,\n",
    "    LocationID TEXT NOT NULL,\n",
    "    CustomerName TEXT,\n",
    "    Segment TEXT,\n",
    "    FOREIGN KEY (LocationID) REFERENCES Location(LocationID)\n",
    ")\n",
    "\"\"\")\n",
    "\n",
    "cur.execute(\"\"\"\n",
    "CREATE TABLE IF NOT EXISTS Product (\n",
    "    ProductID TEXT PRIMARY KEY,\n",
    "    Category TEXT,\n",
    "    SubCategory TEXT,\n",
    "    ProductName TEXT\n",
    ")\n",
    "\"\"\")\n",
    "\n",
    "cur.execute(\"\"\"\n",
    "CREATE TABLE IF NOT EXISTS Orders (\n",
    "    OrderID TEXT PRIMARY KEY,\n",
    "    CustomerID TEXT NOT NULL,\n",
    "    OrderDate TIMESTAMP,\n",
    "    ShipMode TEXT,\n",
    "    FOREIGN KEY (CustomerID) REFERENCES Customer(CustomerID)\n",
    ")\n",
    "\"\"\")\n",
    "\n",
    "cur.execute(\"\"\"\n",
    "CREATE TABLE IF NOT EXISTS OrderDetails (\n",
    "    OrderID TEXT NOT NULL,\n",
    "    ProductID TEXT NOT NULL,\n",
    "    Sales REAL,\n",
    "    Quantity INTEGER,\n",
    "    Discount REAL,\n",
    "    Profit REAL,\n",
    "    PRIMARY KEY (OrderID, ProductID),\n",
    "    FOREIGN KEY (OrderID) REFERENCES Orders(OrderID),\n",
    "    FOREIGN KEY (ProductID) REFERENCES Product(ProductID)\n",
    ")\n",
    "\"\"\")\n",
    "\n",
    "conn.commit()\n",
    "cur.close()\n",
    "conn.close()\n"
   ]
  },
  {
   "cell_type": "code",
   "execution_count": 11,
   "id": "ff81464a",
   "metadata": {},
   "outputs": [
    {
     "name": "stdout",
     "output_type": "stream",
     "text": [
      "Tables in the database:\n",
      "Order\n",
      "Customer\n",
      "Location\n",
      "Orders\n",
      "OrderDetails\n",
      "Product\n"
     ]
    }
   ],
   "source": [
    "\n",
    "conn = sqlite3.connect(\"E-comm.db\")\n",
    "cur = conn.cursor()\n",
    "\n",
    "# List all tables\n",
    "cur.execute(\"SELECT name FROM sqlite_master WHERE type='table';\")\n",
    "tables = cur.fetchall()\n",
    "\n",
    "print(\"Tables in the database:\")\n",
    "for table in tables:\n",
    "    print(table[0])\n",
    "\n",
    "cur.close()\n",
    "conn.close()\n",
    "\n"
   ]
  },
  {
   "cell_type": "code",
   "execution_count": 12,
   "id": "2889d763",
   "metadata": {},
   "outputs": [],
   "source": [
    "df_business_data_new.drop_duplicates(inplace=True)\n",
    "#df_business_data_new"
   ]
  },
  {
   "cell_type": "markdown",
   "id": "0fca4851",
   "metadata": {},
   "source": [
    "# Create Sub categories"
   ]
  },
  {
   "cell_type": "code",
   "execution_count": 13,
   "id": "666285c6",
   "metadata": {},
   "outputs": [],
   "source": [
    "Customer = df_business_data_new[['CustomerID','LocationID','CustomerName','Segment']].copy()\n",
    "Customer.drop_duplicates(inplace=True)\n",
    "\n"
   ]
  },
  {
   "cell_type": "code",
   "execution_count": 14,
   "id": "ba3c4afb",
   "metadata": {},
   "outputs": [],
   "source": [
    "Location = df_business_data_new[['LocationID','Country','City','State','Region','PostalCode']].copy()\n",
    "Location.drop_duplicates(inplace=True)"
   ]
  },
  {
   "cell_type": "code",
   "execution_count": 15,
   "id": "0200226f",
   "metadata": {},
   "outputs": [],
   "source": [
    "Order = df_business_data_new[['OrderID','CustomerID','OrderDate','ShipMode']].copy()\n",
    "Order.drop_duplicates(inplace=True)"
   ]
  },
  {
   "cell_type": "code",
   "execution_count": 16,
   "id": "196df16e",
   "metadata": {},
   "outputs": [],
   "source": [
    "OrderDetails = df_business_data_new[['OrderID','ProductID','Sales','Quantity','Discount','Profit']].copy()\n",
    "OrderDetails.drop_duplicates(inplace=True)"
   ]
  },
  {
   "cell_type": "code",
   "execution_count": 17,
   "id": "0805b1cb",
   "metadata": {},
   "outputs": [],
   "source": [
    "Product = df_business_data_new[['ProductID','Category','Sub-Category','ProductName']].copy()\n",
    "Product.drop_duplicates(inplace=True)"
   ]
  },
  {
   "cell_type": "markdown",
   "id": "02d30844",
   "metadata": {},
   "source": [
    "# Populate"
   ]
  },
  {
   "cell_type": "code",
   "execution_count": 18,
   "id": "f457574f",
   "metadata": {},
   "outputs": [],
   "source": [
    "import sqlite3\n",
    "conn = sqlite3.connect(\"E-comm.db\")\n",
    "Customer.to_sql(\n",
    "   \"Customer\", # the name of the table\n",
    "   con=conn, # the connection variable\n",
    "   index=False, # whether to include the index column\n",
    "   if_exists=\"replace\" # drops the table first, then recreates it\n",
    ")\n",
    "\n",
    "conn.close()\n"
   ]
  },
  {
   "cell_type": "code",
   "execution_count": 19,
   "id": "7f9dc0fd",
   "metadata": {},
   "outputs": [],
   "source": [
    "conn = sqlite3.connect(\"E-comm.db\")\n",
    "Location.to_sql(\n",
    "   \"Location\", # the name of the table\n",
    "   con=conn, # the connection variable\n",
    "   index=False, # whether to include the index column\n",
    "   if_exists=\"replace\" # drops the table first, then recreates it\n",
    "   \n",
    ")\n",
    "\n",
    "conn.close()\n"
   ]
  },
  {
   "cell_type": "code",
   "execution_count": 20,
   "id": "a2154937",
   "metadata": {},
   "outputs": [],
   "source": [
    "\n",
    "conn = sqlite3.connect(\"E-comm.db\")\n",
    "Order.to_sql(\n",
    "   \"Orders\", # the name of the table\n",
    "   con=conn, # the connection variable\n",
    "   index=False, # whether to include the index column\n",
    "   if_exists=\"replace\" # define behavior if table already exists\n",
    ")\n",
    "\n",
    "conn.close()\n"
   ]
  },
  {
   "cell_type": "code",
   "execution_count": 21,
   "id": "ae919977",
   "metadata": {},
   "outputs": [],
   "source": [
    "conn = sqlite3.connect(\"E-comm.db\")\n",
    "OrderDetails.to_sql(\n",
    "   \"OrderDetails\", # the name of the table\n",
    "   con=conn, # the connection variable\n",
    "   index=False, # whether to include the index column\n",
    "   if_exists=\"replace\" \n",
    ")\n",
    "\n",
    "conn.close()"
   ]
  },
  {
   "cell_type": "code",
   "execution_count": 22,
   "id": "e0042d53",
   "metadata": {},
   "outputs": [],
   "source": [
    "conn = sqlite3.connect(\"E-comm.db\")\n",
    "Product.to_sql(\n",
    "   \"Product\", # the name of the table\n",
    "   con=conn, # the connection variable\n",
    "   index=False, # whether to include the index column\n",
    "   if_exists=\"replace\" \n",
    ")\n",
    "\n",
    "conn.close()"
   ]
  },
  {
   "cell_type": "markdown",
   "id": "6dfb5c90",
   "metadata": {},
   "source": [
    "# Queries"
   ]
  },
  {
   "cell_type": "code",
   "execution_count": 23,
   "id": "178c6f63",
   "metadata": {},
   "outputs": [
    {
     "name": "stdout",
     "output_type": "stream",
     "text": [
      "  CustomerID LocationID CustomerName\n",
      "0   CG-12520       L001  Claire Gute\n",
      "1   CG-12520       L002  Claire Gute\n",
      "2   CG-12520      L5492  Claire Gute\n",
      "3   CG-12520      L6878  Claire Gute\n",
      "4   CG-12520      L6879  Claire Gute\n"
     ]
    }
   ],
   "source": [
    "conn = sqlite3.connect(\"E-comm.db\")\n",
    "cur = conn.cursor()\n",
    "\n",
    "# query to fetch from Customer table\n",
    "query = \"\"\"\n",
    "SELECT CustomerID, LocationID, CustomerName\n",
    "FROM Customer\n",
    "WHERE CustomerID = 'CG-12520'\n",
    "\"\"\"\n",
    "\n",
    "cur.execute(query)\n",
    "rows = cur.fetchall()\n",
    "\n",
    "# Convert to DataFrame for easy viewing\n",
    "customer_df = pd.DataFrame(rows, columns=['CustomerID','LocationID','CustomerName'])\n",
    "print(customer_df)\n",
    "\n",
    "cur.close()\n",
    "conn.close()\n"
   ]
  },
  {
   "cell_type": "markdown",
   "id": "d6a6d858",
   "metadata": {},
   "source": [
    "### Customer Data"
   ]
  },
  {
   "cell_type": "code",
   "execution_count": 24,
   "id": "ea1404c6",
   "metadata": {},
   "outputs": [
    {
     "name": "stdout",
     "output_type": "stream",
     "text": [
      "  CustomerID LocationID     CustomerName    Segment\n",
      "0   CG-12520       L001      Claire Gute   Consumer\n",
      "1   CG-12520       L002      Claire Gute   Consumer\n",
      "2   DV-13045       L003  Darrin Van Huff  Corporate\n",
      "3   SO-20335       L004   Sean O'Donnell   Consumer\n",
      "4   SO-20335       L005   Sean O'Donnell   Consumer\n",
      "5   BH-11710       L006  Brosina Hoffman   Consumer\n",
      "6   BH-11710       L007  Brosina Hoffman   Consumer\n",
      "7   BH-11710       L008  Brosina Hoffman   Consumer\n",
      "8   BH-11710       L009  Brosina Hoffman   Consumer\n",
      "9   BH-11710       L010  Brosina Hoffman   Consumer\n"
     ]
    }
   ],
   "source": [
    "conn = sqlite3.connect(\"E-comm.db\")\n",
    "cur = conn.cursor()\n",
    "\n",
    "# query to fetch from Customer table\n",
    "query = \"\"\"\n",
    "SELECT *\n",
    "FROM Customer\n",
    "\"\"\"\n",
    "\n",
    "cur.execute(query)\n",
    "rows = cur.fetchall()\n",
    "column_names = [description[0] for description in cur.description]\n",
    "customer_df = pd.DataFrame (rows,columns= column_names )\n",
    "\n",
    "print(customer_df.head(10))\n",
    "cur.close()\n",
    "conn.close()"
   ]
  },
  {
   "cell_type": "markdown",
   "id": "42275e4e",
   "metadata": {},
   "source": [
    "### 1.  What is the category generating the maximum sales revenue? What about the profit in this category?\n",
    "### Are they making a loss in any categories or subcategories?"
   ]
  },
  {
   "cell_type": "code",
   "execution_count": 25,
   "id": "4a0d2383",
   "metadata": {},
   "outputs": [
    {
     "name": "stdout",
     "output_type": "stream",
     "text": [
      "          Sales    Profit         Category Sub-Category\n",
      "0      261.9600   41.9136        Furniture    Bookcases\n",
      "1      731.9400  219.5820        Furniture       Chairs\n",
      "2       14.6200    6.8714  Office Supplies       Labels\n",
      "3      957.5775 -383.0310        Furniture       Tables\n",
      "4       22.3680    2.5164  Office Supplies      Storage\n",
      "...         ...       ...              ...          ...\n",
      "10325   25.2480    4.1028        Furniture  Furnishings\n",
      "10326   91.9600   15.6332        Furniture  Furnishings\n",
      "10327  258.5760   19.3932       Technology       Phones\n",
      "10328   29.6000   13.3200  Office Supplies        Paper\n",
      "10329  243.1600   72.9480  Office Supplies   Appliances\n",
      "\n",
      "[10330 rows x 4 columns]\n"
     ]
    }
   ],
   "source": [
    "## Combine data from both table\n",
    "\n",
    "conn = sqlite3.connect(\"E-comm.db\")\n",
    "cur = conn.cursor()\n",
    "\n",
    "query = \"\"\"\n",
    "SELECT od.Sales, od.Profit, p.Category, p.\"Sub-Category\"\n",
    "FROM OrderDetails od\n",
    "INNER JOIN Product p\n",
    "ON od.ProductID = p.ProductID \n",
    "\"\"\"\n",
    "\n",
    "cur.execute(query)\n",
    "rows = cur.fetchall()\n",
    "\n",
    "column_names = [desc[0] for desc in cur.description]\n",
    "df = pd.DataFrame(rows, columns=column_names)\n",
    "\n",
    "print(df)\n",
    "\n",
    "cur.close()\n",
    "conn.close()\n"
   ]
  },
  {
   "cell_type": "markdown",
   "id": "d916da4a",
   "metadata": {},
   "source": [
    "# 1. Category with maximum sales revenue & Profit\n"
   ]
  },
  {
   "cell_type": "code",
   "execution_count": 26,
   "id": "d59a849c",
   "metadata": {},
   "outputs": [
    {
     "name": "stdout",
     "output_type": "stream",
     "text": [
      "Category with Maximum Sales Revenue\n",
      "Category: Technology\n",
      "Total Sales: 893633.28\n",
      "Total Profit: 153415.7\n"
     ]
    }
   ],
   "source": [
    "conn = sqlite3.connect(\"E-comm.db\")\n",
    "cur = conn.cursor()\n",
    "\n",
    "cur.execute(\"\"\"\n",
    "SELECT p.Category, SUM(od.Sales) AS TotalSales, SUM(od.Profit) AS TotalProfit\n",
    "FROM OrderDetails od\n",
    "JOIN Product p\n",
    "ON od.ProductID = p.ProductID\n",
    "GROUP BY p.Category\n",
    "ORDER BY TotalSales DESC\n",
    "LIMIT 1;\n",
    "\"\"\")\n",
    "\n",
    "top_category = cur.fetchone()\n",
    "\n",
    "print(\"Category with Maximum Sales Revenue\")\n",
    "print(\"Category:\", top_category[0])\n",
    "print(\"Total Sales:\", round(top_category[1], 2))\n",
    "print(\"Total Profit:\", round(top_category[2], 2))\n",
    "cur.close()\n",
    "conn.close()\n"
   ]
  },
  {
   "cell_type": "code",
   "execution_count": 27,
   "id": "a7868bdf",
   "metadata": {},
   "outputs": [
    {
     "name": "stdout",
     "output_type": "stream",
     "text": [
      "\n",
      " Categories with Loss \n",
      "None\n",
      "\n",
      "Subcategories with Loss \n",
      "Furniture : Bookcases : Profit: -3452.87\n",
      "Furniture : Tables : Profit: -17725.48\n",
      "Office Supplies : Supplies : Profit: -1189.1\n"
     ]
    }
   ],
   "source": [
    "conn = sqlite3.connect(\"E-comm.db\")\n",
    "cur = conn.cursor()\n",
    "\n",
    "\n",
    "# Categories with negative profit/loss\n",
    "cur.execute(\"\"\"\n",
    "SELECT p.Category, SUM(od.Profit) AS TotalProfit\n",
    "FROM OrderDetails od\n",
    "JOIN Product p\n",
    "ON od.ProductID = p.ProductID\n",
    "GROUP BY p.Category\n",
    "HAVING TotalProfit < 0;\n",
    "\"\"\")\n",
    "loss_categories = cur.fetchall()\n",
    "\n",
    "print(\"\\n Categories with Loss \")\n",
    "if loss_categories:\n",
    "    for row in loss_categories:\n",
    "        print(row[0], \": Profit:\", round(row[1], 2))\n",
    "else:\n",
    "    print(\"None\")\n",
    "\n",
    "# Subcategories with negative profit/loss \n",
    "cur.execute(\"\"\"\n",
    "SELECT p.Category, p.\"Sub-Category\", SUM(od.Profit) AS TotalProfit\n",
    "FROM OrderDetails od\n",
    "JOIN Product p\n",
    "ON od.ProductID = p.ProductID\n",
    "GROUP BY p.Category, p.\"Sub-Category\"\n",
    "HAVING TotalProfit < 0;\n",
    "\"\"\")\n",
    "loss_subcategories = cur.fetchall()\n",
    "\n",
    "print(\"\\nSubcategories with Loss \")\n",
    "if loss_subcategories:\n",
    "    for row in loss_subcategories:\n",
    "        print(row[0], \":\", row[1], \": Profit:\", round(row[2], 2))\n",
    "else:\n",
    "    print(\"None\")\n",
    "\n",
    "# Close the connection\n",
    "cur.close()\n",
    "conn.close()\n"
   ]
  },
  {
   "cell_type": "markdown",
   "id": "3b3c6598",
   "metadata": {},
   "source": [
    "### 2. What are 5 states generating the maximum and minimum sales revenue?\n"
   ]
  },
  {
   "cell_type": "code",
   "execution_count": 28,
   "id": "141251b8",
   "metadata": {},
   "outputs": [
    {
     "name": "stdout",
     "output_type": "stream",
     "text": [
      " Top 5 States by Sales \n",
      "California : 7033586.87\n",
      "New York : 4214982.64\n",
      "Texas : 3395068.85\n",
      "Pennsylvania : 2072147.9\n",
      "Washington : 1877345.49\n"
     ]
    }
   ],
   "source": [
    "conn = sqlite3.connect(\"E-comm.db\")\n",
    "cur = conn.cursor()\n",
    "\n",
    "# Top 5 states with maximum revenue\n",
    "query_top = \"\"\"\n",
    "SELECT l.State, SUM(od.Sales) AS TotalSales\n",
    "FROM OrderDetails od\n",
    "JOIN \"Order\" o ON od.OrderID = o.OrderID\n",
    "JOIN Customer c ON o.CustomerID = c.CustomerID\n",
    "JOIN Location l ON c.LocationID = l.LocationID\n",
    "GROUP BY l.State\n",
    "ORDER BY TotalSales DESC\n",
    "LIMIT 5;\n",
    "\"\"\"\n",
    "cur.execute(query_top)\n",
    "top_states = cur.fetchall()\n",
    "print(\" Top 5 States by Sales \")\n",
    "for row in top_states:\n",
    "    print(row[0], \":\", round(row[1],2))\n",
    "\n",
    "\n",
    "cur.close()\n",
    "conn.close()\n"
   ]
  },
  {
   "cell_type": "code",
   "execution_count": 29,
   "id": "df023044",
   "metadata": {},
   "outputs": [
    {
     "name": "stdout",
     "output_type": "stream",
     "text": [
      "\n",
      "Bottom 5 States by Sales \n",
      "Wyoming : 2453.28\n",
      "West Virginia : 17570.78\n",
      "North Dakota : 19610.74\n",
      "Vermont : 37330.11\n",
      "District of Columbia : 45812.66\n"
     ]
    }
   ],
   "source": [
    "conn = sqlite3.connect(\"E-comm.db\")\n",
    "cur = conn.cursor()\n",
    "\n",
    "# Bottom 5 states with minimum revinue \n",
    "query_bottom = \"\"\"\n",
    "SELECT l.State, SUM(od.Sales) AS TotalSales\n",
    "FROM OrderDetails od\n",
    "JOIN \"Order\" o ON od.OrderID = o.OrderID\n",
    "JOIN Customer c ON o.CustomerID = c.CustomerID\n",
    "JOIN Location l ON c.LocationID = l.LocationID\n",
    "GROUP BY l.State\n",
    "ORDER BY TotalSales ASC\n",
    "LIMIT 5;\n",
    "\"\"\"\n",
    "cur.execute(query_bottom)\n",
    "bottom_states = cur.fetchall()\n",
    "print(\"\\nBottom 5 States by Sales \")\n",
    "for row in bottom_states:\n",
    "    print(row[0], \":\", round(row[1],2))\n",
    "\n",
    "\n",
    "cur.close()\n",
    "conn.close()\n"
   ]
  },
  {
   "cell_type": "markdown",
   "id": "3f15a887",
   "metadata": {},
   "source": [
    "### 3. What are the 3 products in each product segment with the highest sales?\n",
    "### Are they the 3 most profitable products as well?"
   ]
  },
  {
   "cell_type": "code",
   "execution_count": 30,
   "id": "6f846078",
   "metadata": {},
   "outputs": [
    {
     "name": "stdout",
     "output_type": "stream",
     "text": [
      "\n",
      "Top 3 Products per Segment by Profit\n",
      "  CustomerSegment                                        ProductName  \\\n",
      "0        Consumer              Canon imageCLASS 2200 Advanced Copier   \n",
      "1        Consumer               Ibico EPK-21 Electric Binding System   \n",
      "2        Consumer   GBC Ibimaster 500 Manual ProClick Binding System   \n",
      "3       Corporate              Canon imageCLASS 2200 Advanced Copier   \n",
      "4       Corporate                  Zebra ZM400 Thermal Label Printer   \n",
      "5       Corporate                 Canon PC1060 Personal Laser Copier   \n",
      "6     Home Office               Hewlett Packard LaserJet 3310 Copier   \n",
      "7     Home Office  Fellowes PB500 Electric Punch Plastic Comb Bin...   \n",
      "8     Home Office              Canon imageCLASS 2200 Advanced Copier   \n",
      "\n",
      "   TotalSales  TotalProfit  \n",
      "0  459898.686  188719.4608  \n",
      "1  207898.900  101870.4610  \n",
      "2  287802.636   77011.1760  \n",
      "3  209999.400  100799.7120  \n",
      "4  130026.400   62412.6720  \n",
      "5   97998.600   46059.3420  \n",
      "6  119158.014   50831.1528  \n",
      "7  125828.010   40036.1850  \n",
      "8  111999.680   39199.8880  \n"
     ]
    },
    {
     "name": "stderr",
     "output_type": "stream",
     "text": [
      "/var/folders/tj/8m4f2hl545d85f9bhjg24z500000gn/T/ipykernel_79563/2359946498.py:28: FutureWarning: DataFrameGroupBy.apply operated on the grouping columns. This behavior is deprecated, and in a future version of pandas the grouping columns will be excluded from the operation. Either pass `include_groups=False` to exclude the groupings or explicitly select the grouping columns after groupby to silence this warning.\n",
      "  top3_profit = df_products.groupby(\"CustomerSegment\").apply(lambda x: x.nlargest(3, 'TotalProfit')).reset_index(drop=True)\n"
     ]
    }
   ],
   "source": [
    "conn = sqlite3.connect(\"E-comm.db\")\n",
    "cur = conn.cursor()\n",
    "\n",
    "#  combining sales and profit per product per customer segment\n",
    "query = \"\"\"\n",
    "SELECT c.Segment AS CustomerSegment,\n",
    "       p.ProductName,\n",
    "       SUM(od.Sales) AS TotalSales,\n",
    "       SUM(od.Profit) AS TotalProfit\n",
    "FROM OrderDetails od\n",
    "JOIN \"Order\" o ON od.OrderID = o.OrderID\n",
    "JOIN Customer c ON o.CustomerID = c.CustomerID\n",
    "JOIN Product p ON od.ProductID = p.ProductID\n",
    "GROUP BY c.Segment, p.ProductName\n",
    "ORDER BY c.Segment, TotalSales DESC;\n",
    "\"\"\"\n",
    "cur.execute(query)\n",
    "rows = cur.fetchall()\n",
    "\n",
    "# DataFrame\n",
    "column_names = [desc[0] for desc in cur.description]\n",
    "df_products = pd.DataFrame(rows, columns=column_names)\n",
    "\n",
    "# Top 3 products per customer segment by Sales\n",
    "top3_sales = df_products.groupby(\"CustomerSegment\").head(3).reset_index(drop=True)\n",
    "\n",
    "# Top 3 products per customer segment by Profit\n",
    "top3_profit = df_products.groupby(\"CustomerSegment\").apply(lambda x: x.nlargest(3, 'TotalProfit')).reset_index(drop=True)\n",
    "\n",
    "print('\\nTop 3 Products per Segment by Profit')\n",
    "print(top3_profit)\n",
    "\n",
    "\n",
    "cur.close()\n",
    "conn.close()"
   ]
  },
  {
   "cell_type": "markdown",
   "id": "d68eb75b",
   "metadata": {},
   "source": [
    "### Category wise from Product"
   ]
  },
  {
   "cell_type": "code",
   "execution_count": 31,
   "id": "7367bd9d",
   "metadata": {},
   "outputs": [
    {
     "name": "stdout",
     "output_type": "stream",
     "text": [
      "Top 3 Products per Segment by Sales\n",
      "              Segment                                        ProductName  \\\n",
      "0           Furniture       HON 5400 Series Task Chairs for Big and Tall   \n",
      "1           Furniture  Riverside Palais Royal Lawyers Bookcase, Royal...   \n",
      "2           Furniture         Bretford Rectangular Conference Table Tops   \n",
      "380   Office Supplies  Fellowes PB500 Electric Punch Plastic Comb Bin...   \n",
      "381   Office Supplies         GBC DocuBind TL300 Electric Binding System   \n",
      "382   Office Supplies   GBC Ibimaster 500 Manual ProClick Binding System   \n",
      "1438       Technology              Canon imageCLASS 2200 Advanced Copier   \n",
      "1439       Technology  Cisco TelePresence System EX90 Videoconferenci...   \n",
      "1440       Technology               Hewlett Packard LaserJet 3310 Copier   \n",
      "\n",
      "      TotalSales   TotalProfit  \n",
      "0     21870.5760  8.526513e-14  \n",
      "1     15610.9656 -6.695448e+02  \n",
      "2     12995.2915 -3.272331e+02  \n",
      "380   27453.3840  7.753039e+03  \n",
      "381   19823.4790  2.233505e+03  \n",
      "382   19024.5000  7.609800e+02  \n",
      "1438  61599.8240  2.519993e+04  \n",
      "1439  22638.4800 -1.811078e+03  \n",
      "1440  18839.6860  6.983884e+03  \n",
      "\n",
      "Top 3 Products per Segment by Profit\n",
      "           Segment                                        ProductName  \\\n",
      "0        Furniture  Hon Deluxe Fabric Upholstered Stacking Chairs,...   \n",
      "1        Furniture            Global Deluxe High-Back Manager's Chair   \n",
      "2        Furniture                         Hon Pagoda Stacking Chairs   \n",
      "3  Office Supplies  Fellowes PB500 Electric Punch Plastic Comb Bin...   \n",
      "4  Office Supplies               Ibico EPK-21 Electric Binding System   \n",
      "5  Office Supplies  Honeywell Enviracaire Portable HEPA Air Cleane...   \n",
      "6       Technology              Canon imageCLASS 2200 Advanced Copier   \n",
      "7       Technology               Hewlett Packard LaserJet 3310 Copier   \n",
      "8       Technology                 Canon PC1060 Personal Laser Copier   \n",
      "\n",
      "   TotalSales  TotalProfit  \n",
      "0   10637.528    1927.4420  \n",
      "1    8665.194    1558.5910  \n",
      "2    6483.796    1540.7040  \n",
      "3   27453.384    7753.0390  \n",
      "4   15875.916    3345.2823  \n",
      "5   11304.440    3247.0200  \n",
      "6   61599.824   25199.9280  \n",
      "7   18839.686    6983.8836  \n",
      "8   11619.834    4570.9347  \n"
     ]
    },
    {
     "name": "stderr",
     "output_type": "stream",
     "text": [
      "/var/folders/tj/8m4f2hl545d85f9bhjg24z500000gn/T/ipykernel_79563/3810192307.py:27: FutureWarning: DataFrameGroupBy.apply operated on the grouping columns. This behavior is deprecated, and in a future version of pandas the grouping columns will be excluded from the operation. Either pass `include_groups=False` to exclude the groupings or explicitly select the grouping columns after groupby to silence this warning.\n",
      "  top3_profit = df_products.groupby(\"Segment\").apply(lambda x: x.nlargest(3, 'TotalProfit')).reset_index(drop=True)\n"
     ]
    }
   ],
   "source": [
    "conn = sqlite3.connect(\"E-comm.db\")\n",
    "cur = conn.cursor()\n",
    "\n",
    "# all products with total Sales and Profit per segment\n",
    "query = \"\"\"\n",
    "SELECT p.Category AS Segment, p.ProductName, \n",
    "       SUM(od.Sales) AS TotalSales, \n",
    "       SUM(od.Profit) AS TotalProfit\n",
    "FROM OrderDetails od\n",
    "JOIN Product p ON od.ProductID = p.ProductID\n",
    "GROUP BY p.Category, p.ProductName\n",
    "ORDER BY p.Category, TotalSales DESC;\n",
    "\"\"\"\n",
    "cur.execute(query)\n",
    "rows = cur.fetchall()\n",
    "\n",
    "column_names = [desc[0] for desc in cur.description] \n",
    "df_products = pd.DataFrame(rows, columns=column_names)\n",
    "\n",
    "## Top 3 products per segment by Sales\n",
    "\n",
    "top3_sales = df_products.groupby('Segment').head(3)\n",
    "print('Top 3 Products per Segment by Sales')\n",
    "print(top3_sales)\n",
    "\n",
    "# Top 3 products per segment by Profit\n",
    "top3_profit = df_products.groupby(\"Segment\").apply(lambda x: x.nlargest(3, 'TotalProfit')).reset_index(drop=True)\n",
    "print('\\nTop 3 Products per Segment by Profit')\n",
    "print(top3_profit)\n",
    "\n",
    "cur.close()\n",
    "conn.close()\n"
   ]
  },
  {
   "cell_type": "markdown",
   "id": "4629311a",
   "metadata": {},
   "source": [
    "### Segment from Customer"
   ]
  },
  {
   "cell_type": "code",
   "execution_count": 32,
   "id": "06bd3de3",
   "metadata": {},
   "outputs": [
    {
     "name": "stdout",
     "output_type": "stream",
     "text": [
      "Top 3 Products per Segment by Sales\n",
      "           Segment                                        ProductName  \\\n",
      "0        Furniture       HON 5400 Series Task Chairs for Big and Tall   \n",
      "1        Furniture  Riverside Palais Royal Lawyers Bookcase, Royal...   \n",
      "2        Furniture         Bretford Rectangular Conference Table Tops   \n",
      "3  Office Supplies  Fellowes PB500 Electric Punch Plastic Comb Bin...   \n",
      "4  Office Supplies         GBC DocuBind TL300 Electric Binding System   \n",
      "5  Office Supplies   GBC Ibimaster 500 Manual ProClick Binding System   \n",
      "6       Technology              Canon imageCLASS 2200 Advanced Copier   \n",
      "7       Technology  Cisco TelePresence System EX90 Videoconferenci...   \n",
      "8       Technology               Hewlett Packard LaserJet 3310 Copier   \n",
      "\n",
      "   TotalSales   TotalProfit  TopProfit  \n",
      "0  21870.5760  8.526513e-14      False  \n",
      "1  15610.9656 -6.695448e+02      False  \n",
      "2  12995.2915 -3.272331e+02      False  \n",
      "3  27453.3840  7.753039e+03       True  \n",
      "4  19823.4790  2.233505e+03      False  \n",
      "5  19024.5000  7.609800e+02      False  \n",
      "6  61599.8240  2.519993e+04       True  \n",
      "7  22638.4800 -1.811078e+03      False  \n",
      "8  18839.6860  6.983884e+03       True  \n"
     ]
    },
    {
     "name": "stderr",
     "output_type": "stream",
     "text": [
      "/var/folders/tj/8m4f2hl545d85f9bhjg24z500000gn/T/ipykernel_79563/2598166380.py:25: FutureWarning: DataFrameGroupBy.apply operated on the grouping columns. This behavior is deprecated, and in a future version of pandas the grouping columns will be excluded from the operation. Either pass `include_groups=False` to exclude the groupings or explicitly select the grouping columns after groupby to silence this warning.\n",
      "  top3_profit = df_products.groupby(\"Segment\").apply(lambda x: x.nlargest(3, 'TotalProfit')).reset_index(drop=True)\n"
     ]
    }
   ],
   "source": [
    "conn = sqlite3.connect(\"E-comm.db\")\n",
    "cur = conn.cursor()\n",
    "\n",
    "# Aggregate sales and profit per product per segment\n",
    "query = \"\"\"\n",
    "SELECT p.Category AS Segment,\n",
    "       p.ProductName,\n",
    "       SUM(od.Sales) AS TotalSales,\n",
    "       SUM(od.Profit) AS TotalProfit\n",
    "FROM OrderDetails od\n",
    "JOIN Product p ON od.ProductID = p.ProductID\n",
    "GROUP BY p.Category, p.ProductName\n",
    "ORDER BY p.Category, TotalSales DESC;\n",
    "\"\"\"\n",
    "cur.execute(query)\n",
    "rows = cur.fetchall()\n",
    "\n",
    "column_names = [desc[0] for desc in cur.description]\n",
    "df_products = pd.DataFrame(rows, columns=column_names)\n",
    "\n",
    "# Top 3 products per segment by Sales\n",
    "top3_sales = df_products.groupby(\"Segment\").head(3).reset_index(drop=True)\n",
    "\n",
    "# Top 3 products per segment by Profit\n",
    "top3_profit = df_products.groupby(\"Segment\").apply(lambda x: x.nlargest(3, 'TotalProfit')).reset_index(drop=True)\n",
    "\n",
    "#  Mark if top sales products are also top profit products\n",
    "top3_sales['TopProfit'] = top3_sales.apply(\n",
    "    lambda row: row['ProductName'] in top3_profit[top3_profit['Segment']==row['Segment']]['ProductName'].values,\n",
    "    axis=1\n",
    ")\n",
    "\n",
    "# final table\n",
    "print(\"Top 3 Products per Segment by Sales\")\n",
    "print(top3_sales[['Segment', 'ProductName', 'TotalSales', 'TotalProfit', 'TopProfit']])\n",
    "\n",
    "cur.close()\n",
    "conn.close()\n"
   ]
  },
  {
   "cell_type": "markdown",
   "id": "58305058",
   "metadata": {},
   "source": [
    "4. What are the 3 best-seller products in each product segment? (Quantity-wise)\n"
   ]
  },
  {
   "cell_type": "code",
   "execution_count": 33,
   "id": "c72d1168",
   "metadata": {},
   "outputs": [
    {
     "name": "stdout",
     "output_type": "stream",
     "text": [
      "Top 3 Best-Selling Products per Segment (Quantity-wise)\n",
      "          Segment                             ProductName  TotalQuantity\n",
      "0        Consumer                         Staple envelope           1680\n",
      "1        Consumer                                 Staples           1596\n",
      "2        Consumer                 Staples in misc. colors           1145\n",
      "1709    Corporate                                 Staples           1608\n",
      "1710    Corporate                         Staple envelope           1043\n",
      "1711    Corporate                       Easy-staple paper            653\n",
      "3163  Home Office                       Easy-staple paper            677\n",
      "3164  Home Office  Global Stack Chair without Arms, Black            538\n",
      "3165  Home Office                              Xerox 1908            529\n"
     ]
    }
   ],
   "source": [
    "conn = sqlite3.connect(\"E-comm.db\")\n",
    "cur = conn.cursor()\n",
    "\n",
    "# 3 best-selling products by quantity in each segment\n",
    "query = \"\"\"\n",
    "SELECT c.Segment,\n",
    "       p.ProductName,\n",
    "       SUM(od.Quantity) AS TotalQuantity\n",
    "FROM OrderDetails od\n",
    "JOIN Orders o ON od.OrderID = o.OrderID\n",
    "JOIN Customer c ON o.CustomerID = c.CustomerID\n",
    "JOIN Product p ON od.ProductID = p.ProductID\n",
    "GROUP BY c.Segment, p.ProductName\n",
    "ORDER BY c.Segment, TotalQuantity DESC\n",
    "\"\"\"\n",
    "\n",
    "df_best_sellers = pd.read_sql_query(query, conn)\n",
    "\n",
    "# Get top 3 products per segment\n",
    "top3_per_segment = df_best_sellers.groupby(\"Segment\").head(3)\n",
    "\n",
    "print('Top 3 Best-Selling Products per Segment (Quantity-wise)')\n",
    "print(top3_per_segment)\n",
    "\n",
    "cur.close()\n",
    "conn.close()\n"
   ]
  },
  {
   "cell_type": "markdown",
   "id": "221ee7e6",
   "metadata": {},
   "source": [
    "5. What are the top 3 worst-selling products in every category? (Quantity-wise)\n"
   ]
  },
  {
   "cell_type": "code",
   "execution_count": 34,
   "id": "58118abd",
   "metadata": {},
   "outputs": [
    {
     "name": "stdout",
     "output_type": "stream",
     "text": [
      "Bottom 3 Worst-Selling Products per Product Category (Quantity-wise)\n",
      "   ProductCategory                                        ProductName  \\\n",
      "0        Furniture  Bush Saratoga Collection 5-Shelf Bookcase, Han...   \n",
      "1        Furniture  Global Enterprise Series Seating Low-Back Swiv...   \n",
      "2        Furniture  Barricks Non-Folding Utility Table with Steel ...   \n",
      "3  Office Supplies              Boston 1900 Electric Pencil Sharpener   \n",
      "4  Office Supplies                                           Xerox 20   \n",
      "5  Office Supplies                                            Avery 5   \n",
      "6       Technology                Penpower WorldCard Pro Card Scanner   \n",
      "7       Technology  Canon imageCLASS MF7460 Monochrome Digital Las...   \n",
      "8       Technology  Hewlett-Packard Deskjet F4180 All-in-One Color...   \n",
      "\n",
      "   TotalQuantity  TotalProfit  BottomProfit  \n",
      "0              1     -12.6882         False  \n",
      "1              1      25.8980         False  \n",
      "2              2      15.3522         False  \n",
      "3              1       4.4940         False  \n",
      "4              1       3.1104         False  \n",
      "5              2       2.8224         False  \n",
      "6              1      -1.8295         False  \n",
      "7              2    1995.9900         False  \n",
      "8              2     -71.3958         False  \n"
     ]
    },
    {
     "name": "stderr",
     "output_type": "stream",
     "text": [
      "/var/folders/tj/8m4f2hl545d85f9bhjg24z500000gn/T/ipykernel_79563/1747163646.py:22: FutureWarning: DataFrameGroupBy.apply operated on the grouping columns. This behavior is deprecated, and in a future version of pandas the grouping columns will be excluded from the operation. Either pass `include_groups=False` to exclude the groupings or explicitly select the grouping columns after groupby to silence this warning.\n",
      "  bottom3_profit = df_products.groupby(\"ProductCategory\").apply(lambda x: x.nsmallest(3, 'TotalProfit')).reset_index(drop=True)\n"
     ]
    }
   ],
   "source": [
    "\n",
    "conn = sqlite3.connect(\"E-comm.db\")\n",
    "cur = conn.cursor()\n",
    "\n",
    "query = \"\"\"\n",
    "SELECT p.Category AS ProductCategory,p.ProductName,SUM(od.Quantity) AS TotalQuantity,SUM(od.Profit) AS TotalProfit\n",
    "FROM OrderDetails od\n",
    "JOIN Product p ON od.ProductID = p.ProductID\n",
    "GROUP BY p.Category, p.ProductName\n",
    "ORDER BY p.Category, TotalQuantity ASC;\n",
    "\"\"\"\n",
    "cur.execute(query)\n",
    "rows = cur.fetchall()\n",
    "\n",
    "# dataframe\n",
    "column_names = [desc[0] for desc in cur.description]\n",
    "df_products = pd.DataFrame(rows, columns=column_names)\n",
    "\n",
    "# Bottom 3 products per category by Quantity\n",
    "bottom3_quantity = df_products.groupby(\"ProductCategory\").head(3).reset_index(drop=True)\n",
    "\n",
    "# Bottom 3 products per category by Profit\n",
    "bottom3_profit = df_products.groupby(\"ProductCategory\").apply(lambda x: x.nsmallest(3, 'TotalProfit')).reset_index(drop=True)\n",
    "\n",
    "# Mark if bottom quantity products are also bottom profit products\n",
    "bottom3_quantity['BottomProfit'] = bottom3_quantity.apply(\n",
    "    lambda row: row['ProductName'] in bottom3_profit[bottom3_profit['ProductCategory']==row['ProductCategory']]['ProductName'].values,\n",
    "    axis=1\n",
    ")\n",
    "\n",
    "# final result\n",
    "print(\"Bottom 3 Worst-Selling Products per Product Category (Quantity-wise)\")\n",
    "print(bottom3_quantity[['ProductCategory', 'ProductName', 'TotalQuantity', 'TotalProfit', 'BottomProfit']])\n",
    "\n",
    "cur.close()\n",
    "conn.close()\n"
   ]
  },
  {
   "cell_type": "markdown",
   "id": "7de261e4",
   "metadata": {},
   "source": [
    "### 6. How many unique customers per month are there for the year 2016.\n",
    "(There's a catch here: contrary to other 'heavier' RDBMS, SQLite does not support the functions YEAR() or MONTH() to extract the year or the month in a date. You will have to create two new columns: year and month.)"
   ]
  },
  {
   "cell_type": "code",
   "execution_count": 35,
   "id": "ba115466",
   "metadata": {},
   "outputs": [
    {
     "name": "stdout",
     "output_type": "stream",
     "text": [
      "Unique Customers per Month for 2016\n",
      "    Month  UniqueCustomers\n",
      "0       1               46\n",
      "1       2               42\n",
      "2       3               80\n",
      "3       4               83\n",
      "4       5               96\n",
      "5       6               90\n",
      "6       7               89\n",
      "7       8               86\n",
      "8       9              176\n",
      "9      10               95\n",
      "10     11              165\n",
      "11     12              157\n"
     ]
    }
   ],
   "source": [
    "\n",
    "# Connect to database\n",
    "conn = sqlite3.connect(\"E-comm.db\")\n",
    "\n",
    "# Fetch Orders table\n",
    "orders_df = pd.read_sql_query(\"SELECT * FROM Orders\", conn)\n",
    "\n",
    "# Create Year and Month columns from OrderDate\n",
    "orders_df['OrderDate'] = pd.to_datetime(orders_df['OrderDate'], errors='coerce')\n",
    "orders_df['Year'] = orders_df['OrderDate'].dt.year\n",
    "orders_df['Month'] = orders_df['OrderDate'].dt.month\n",
    "\n",
    "# Filter for 2016\n",
    "orders_2016 = orders_df[orders_df['Year'] == 2016]\n",
    "\n",
    "# Count unique customers per month\n",
    "unique_customers_per_month = (\n",
    "    orders_2016.groupby('Month')['CustomerID']\n",
    "    .nunique()\n",
    "    .reset_index(name='UniqueCustomers')\n",
    ")\n",
    "\n",
    "print('Unique Customers per Month for 2016')\n",
    "print(unique_customers_per_month)\n",
    "\n",
    "conn.close()\n"
   ]
  },
  {
   "cell_type": "markdown",
   "id": "57ae01e5",
   "metadata": {},
   "source": [
    "# EDA Begins \n",
    "####          Importing libraries "
   ]
  },
  {
   "cell_type": "code",
   "execution_count": 36,
   "id": "b0b861e4",
   "metadata": {},
   "outputs": [],
   "source": [
    "import pandas as pd\n",
    "import numpy as num\n",
    "import seaborn as sns \n",
    "import matplotlib.pyplot as plt \n",
    "import datetime as dt \n",
    "\n"
   ]
  },
  {
   "cell_type": "markdown",
   "id": "10c3a553",
   "metadata": {},
   "source": [
    "Rename column "
   ]
  },
  {
   "cell_type": "code",
   "execution_count": 37,
   "id": "6e74f172",
   "metadata": {},
   "outputs": [],
   "source": [
    "#df_business_data_new.columns = [col.replace(' ', '')for col in df_business_data_new]\n",
    "ecom_df_n = df_business_data_new.rename(columns= {'Sub-Category':'SubCategory'})\n"
   ]
  },
  {
   "cell_type": "markdown",
   "id": "eab46fde",
   "metadata": {},
   "source": [
    "### Data precprocessing and cleaning "
   ]
  },
  {
   "cell_type": "code",
   "execution_count": 38,
   "id": "fc86f349",
   "metadata": {},
   "outputs": [
    {
     "name": "stdout",
     "output_type": "stream",
     "text": [
      "<class 'pandas.core.frame.DataFrame'>\n",
      "RangeIndex: 9994 entries, 0 to 9993\n",
      "Data columns (total 22 columns):\n",
      " #   Column        Non-Null Count  Dtype  \n",
      "---  ------        --------------  -----  \n",
      " 0   RowID         9994 non-null   int64  \n",
      " 1   OrderID       9994 non-null   object \n",
      " 2   OrderDate     9994 non-null   object \n",
      " 3   ShipDate      9994 non-null   object \n",
      " 4   ShipMode      9994 non-null   object \n",
      " 5   CustomerID    9994 non-null   object \n",
      " 6   CustomerName  9994 non-null   object \n",
      " 7   Segment       9994 non-null   object \n",
      " 8   Country       9994 non-null   object \n",
      " 9   City          9994 non-null   object \n",
      " 10  State         9994 non-null   object \n",
      " 11  PostalCode    9994 non-null   int64  \n",
      " 12  Region        9994 non-null   object \n",
      " 13  ProductID     9994 non-null   object \n",
      " 14  Category      9994 non-null   object \n",
      " 15  SubCategory   9994 non-null   object \n",
      " 16  ProductName   9994 non-null   object \n",
      " 17  Sales         9994 non-null   float64\n",
      " 18  Quantity      9994 non-null   int64  \n",
      " 19  Discount      9994 non-null   float64\n",
      " 20  Profit        9994 non-null   float64\n",
      " 21  LocationID    9994 non-null   object \n",
      "dtypes: float64(3), int64(3), object(16)\n",
      "memory usage: 1.7+ MB\n"
     ]
    }
   ],
   "source": [
    "ecom_df_n.head(50)\n",
    "ecom_df_n.info()\n"
   ]
  },
  {
   "cell_type": "code",
   "execution_count": 39,
   "id": "f36720c1",
   "metadata": {},
   "outputs": [
    {
     "data": {
      "text/html": [
       "<div>\n",
       "<style scoped>\n",
       "    .dataframe tbody tr th:only-of-type {\n",
       "        vertical-align: middle;\n",
       "    }\n",
       "\n",
       "    .dataframe tbody tr th {\n",
       "        vertical-align: top;\n",
       "    }\n",
       "\n",
       "    .dataframe thead th {\n",
       "        text-align: right;\n",
       "    }\n",
       "</style>\n",
       "<table border=\"1\" class=\"dataframe\">\n",
       "  <thead>\n",
       "    <tr style=\"text-align: right;\">\n",
       "      <th></th>\n",
       "      <th>RowID</th>\n",
       "      <th>PostalCode</th>\n",
       "      <th>Sales</th>\n",
       "      <th>Quantity</th>\n",
       "      <th>Discount</th>\n",
       "      <th>Profit</th>\n",
       "    </tr>\n",
       "  </thead>\n",
       "  <tbody>\n",
       "    <tr>\n",
       "      <th>count</th>\n",
       "      <td>9994.000000</td>\n",
       "      <td>9994.000000</td>\n",
       "      <td>9994.000000</td>\n",
       "      <td>9994.000000</td>\n",
       "      <td>9994.000000</td>\n",
       "      <td>9994.000000</td>\n",
       "    </tr>\n",
       "    <tr>\n",
       "      <th>mean</th>\n",
       "      <td>4997.500000</td>\n",
       "      <td>55190.379428</td>\n",
       "      <td>229.858001</td>\n",
       "      <td>3.789574</td>\n",
       "      <td>0.156203</td>\n",
       "      <td>28.656896</td>\n",
       "    </tr>\n",
       "    <tr>\n",
       "      <th>std</th>\n",
       "      <td>2885.163629</td>\n",
       "      <td>32063.693350</td>\n",
       "      <td>623.245101</td>\n",
       "      <td>2.225110</td>\n",
       "      <td>0.206452</td>\n",
       "      <td>234.260108</td>\n",
       "    </tr>\n",
       "    <tr>\n",
       "      <th>min</th>\n",
       "      <td>1.000000</td>\n",
       "      <td>1040.000000</td>\n",
       "      <td>0.444000</td>\n",
       "      <td>1.000000</td>\n",
       "      <td>0.000000</td>\n",
       "      <td>-6599.978000</td>\n",
       "    </tr>\n",
       "    <tr>\n",
       "      <th>25%</th>\n",
       "      <td>2499.250000</td>\n",
       "      <td>23223.000000</td>\n",
       "      <td>17.280000</td>\n",
       "      <td>2.000000</td>\n",
       "      <td>0.000000</td>\n",
       "      <td>1.728750</td>\n",
       "    </tr>\n",
       "    <tr>\n",
       "      <th>50%</th>\n",
       "      <td>4997.500000</td>\n",
       "      <td>56430.500000</td>\n",
       "      <td>54.490000</td>\n",
       "      <td>3.000000</td>\n",
       "      <td>0.200000</td>\n",
       "      <td>8.666500</td>\n",
       "    </tr>\n",
       "    <tr>\n",
       "      <th>75%</th>\n",
       "      <td>7495.750000</td>\n",
       "      <td>90008.000000</td>\n",
       "      <td>209.940000</td>\n",
       "      <td>5.000000</td>\n",
       "      <td>0.200000</td>\n",
       "      <td>29.364000</td>\n",
       "    </tr>\n",
       "    <tr>\n",
       "      <th>max</th>\n",
       "      <td>9994.000000</td>\n",
       "      <td>99301.000000</td>\n",
       "      <td>22638.480000</td>\n",
       "      <td>14.000000</td>\n",
       "      <td>0.800000</td>\n",
       "      <td>8399.976000</td>\n",
       "    </tr>\n",
       "  </tbody>\n",
       "</table>\n",
       "</div>"
      ],
      "text/plain": [
       "             RowID    PostalCode         Sales     Quantity     Discount  \\\n",
       "count  9994.000000   9994.000000   9994.000000  9994.000000  9994.000000   \n",
       "mean   4997.500000  55190.379428    229.858001     3.789574     0.156203   \n",
       "std    2885.163629  32063.693350    623.245101     2.225110     0.206452   \n",
       "min       1.000000   1040.000000      0.444000     1.000000     0.000000   \n",
       "25%    2499.250000  23223.000000     17.280000     2.000000     0.000000   \n",
       "50%    4997.500000  56430.500000     54.490000     3.000000     0.200000   \n",
       "75%    7495.750000  90008.000000    209.940000     5.000000     0.200000   \n",
       "max    9994.000000  99301.000000  22638.480000    14.000000     0.800000   \n",
       "\n",
       "            Profit  \n",
       "count  9994.000000  \n",
       "mean     28.656896  \n",
       "std     234.260108  \n",
       "min   -6599.978000  \n",
       "25%       1.728750  \n",
       "50%       8.666500  \n",
       "75%      29.364000  \n",
       "max    8399.976000  "
      ]
     },
     "execution_count": 39,
     "metadata": {},
     "output_type": "execute_result"
    }
   ],
   "source": [
    "ecom_df_n.describe()"
   ]
  },
  {
   "cell_type": "code",
   "execution_count": 40,
   "id": "b7a5b6e1",
   "metadata": {},
   "outputs": [
    {
     "data": {
      "text/plain": [
       "RowID           0\n",
       "OrderID         0\n",
       "OrderDate       0\n",
       "ShipDate        0\n",
       "ShipMode        0\n",
       "CustomerID      0\n",
       "CustomerName    0\n",
       "Segment         0\n",
       "Country         0\n",
       "City            0\n",
       "State           0\n",
       "PostalCode      0\n",
       "Region          0\n",
       "ProductID       0\n",
       "Category        0\n",
       "SubCategory     0\n",
       "ProductName     0\n",
       "Sales           0\n",
       "Quantity        0\n",
       "Discount        0\n",
       "Profit          0\n",
       "LocationID      0\n",
       "dtype: int64"
      ]
     },
     "execution_count": 40,
     "metadata": {},
     "output_type": "execute_result"
    }
   ],
   "source": [
    "ecom_df_n.isnull().sum()\n"
   ]
  },
  {
   "cell_type": "markdown",
   "id": "b5d77c14",
   "metadata": {},
   "source": [
    "Converts the date column to proper datetime objects"
   ]
  },
  {
   "cell_type": "code",
   "execution_count": 41,
   "id": "7bd227ba",
   "metadata": {},
   "outputs": [],
   "source": [
    "ecom_df_n.loc[:, ['OrderDate', 'ShipDate']] = ecom_df_n[['OrderDate', 'ShipDate']].apply(\n",
    "lambda x: pd.to_datetime(x, errors='coerce').dt.date)\n",
    "\n",
    "#ecom_df_n.loc[: , ] = pd.to_datetime(ecom_df_n['ShipDate'], errors='coerce').dt.date"
   ]
  },
  {
   "cell_type": "code",
   "execution_count": 42,
   "id": "5c771533",
   "metadata": {},
   "outputs": [
    {
     "data": {
      "text/plain": [
       "np.int64(0)"
      ]
     },
     "execution_count": 42,
     "metadata": {},
     "output_type": "execute_result"
    }
   ],
   "source": [
    "ecom_df_n.duplicated().sum()"
   ]
  },
  {
   "cell_type": "markdown",
   "id": "86ac3591",
   "metadata": {},
   "source": [
    "### Data Visualization"
   ]
  },
  {
   "cell_type": "code",
   "execution_count": 43,
   "id": "dde66bb3",
   "metadata": {},
   "outputs": [
    {
     "name": "stdout",
     "output_type": "stream",
     "text": [
      "   RowID         OrderID   OrderDate    ShipDate        ShipMode CustomerID  \\\n",
      "0      1  CA-2016-152156  2016-11-08  2016-11-11    Second Class   CG-12520   \n",
      "1      2  CA-2016-152156  2016-11-08  2016-11-11    Second Class   CG-12520   \n",
      "2      3  CA-2016-138688  2016-06-12  2016-06-16    Second Class   DV-13045   \n",
      "3      4  US-2015-108966  2015-10-11  2015-10-18  Standard Class   SO-20335   \n",
      "4      5  US-2015-108966  2015-10-11  2015-10-18  Standard Class   SO-20335   \n",
      "\n",
      "      CustomerName    Segment        Country             City  ... Region  \\\n",
      "0      Claire Gute   Consumer  United States        Henderson  ...  South   \n",
      "1      Claire Gute   Consumer  United States        Henderson  ...  South   \n",
      "2  Darrin Van Huff  Corporate  United States      Los Angeles  ...   West   \n",
      "3   Sean O'Donnell   Consumer  United States  Fort Lauderdale  ...  South   \n",
      "4   Sean O'Donnell   Consumer  United States  Fort Lauderdale  ...  South   \n",
      "\n",
      "         ProductID         Category SubCategory  \\\n",
      "0  FUR-BO-10001798        Furniture   Bookcases   \n",
      "1  FUR-CH-10000454        Furniture      Chairs   \n",
      "2  OFF-LA-10000240  Office Supplies      Labels   \n",
      "3  FUR-TA-10000577        Furniture      Tables   \n",
      "4  OFF-ST-10000760  Office Supplies     Storage   \n",
      "\n",
      "                                         ProductName     Sales Quantity  \\\n",
      "0                  Bush Somerset Collection Bookcase  261.9600        2   \n",
      "1  Hon Deluxe Fabric Upholstered Stacking Chairs,...  731.9400        3   \n",
      "2  Self-Adhesive Address Labels for Typewriters b...   14.6200        2   \n",
      "3      Bretford CR4500 Series Slim Rectangular Table  957.5775        5   \n",
      "4                     Eldon Fold 'N Roll Cart System   22.3680        2   \n",
      "\n",
      "   Discount    Profit  LocationID  \n",
      "0      0.00   41.9136        L001  \n",
      "1      0.00  219.5820        L002  \n",
      "2      0.00    6.8714        L003  \n",
      "3      0.45 -383.0310        L004  \n",
      "4      0.20    2.5164        L005  \n",
      "\n",
      "[5 rows x 22 columns]\n"
     ]
    }
   ],
   "source": [
    "print(ecom_df_n.head(5))\n",
    "#print(ecom_df_n.info())\n"
   ]
  },
  {
   "cell_type": "markdown",
   "id": "46bc55c6",
   "metadata": {},
   "source": [
    "### Sales Trend Over Time"
   ]
  },
  {
   "cell_type": "code",
   "execution_count": 44,
   "id": "da69c8a2",
   "metadata": {},
   "outputs": [
    {
     "data": {
      "image/png": "[encoded data removed]",
      "text/plain": [
       "<Figure size 1200x600 with 1 Axes>"
      ]
     },
     "metadata": {},
     "output_type": "display_data"
    }
   ],
   "source": [
    "sales_trend = ecom_df_n.groupby('OrderDate')['Sales'].sum()\n",
    "plt.figure(figsize=(12, 6))\n",
    "plt.plot(sales_trend.index, sales_trend.values)\n",
    "plt.title('Sales Trend Over Time')\n",
    "plt.xlabel('Order Date')\n",
    "plt.ylabel('Total Sales')\n",
    "plt.grid(False)\n",
    "plt.show()\n"
   ]
  },
  {
   "cell_type": "markdown",
   "id": "1cb8013e",
   "metadata": {},
   "source": [
    "### Sales by Category "
   ]
  },
  {
   "cell_type": "code",
   "execution_count": 45,
   "id": "3bd3d36f",
   "metadata": {},
   "outputs": [
    {
     "data": {
      "image/png": "[encoded data removed]",
      "text/plain": [
       "<Figure size 800x500 with 1 Axes>"
      ]
     },
     "metadata": {},
     "output_type": "display_data"
    }
   ],
   "source": [
    "category_sales = ecom_df_n.groupby('Category')['Sales'].sum().sort_values()\n",
    "\n",
    "category_sales.plot(kind='barh', figsize=(8, 5))\n",
    "plt.title(\"Sales by Category\")\n",
    "plt.xlabel(\"Total Sales\")\n",
    "plt.ylabel(\"Category\")\n",
    "plt.show()\n",
    "\n"
   ]
  },
  {
   "cell_type": "code",
   "execution_count": 46,
   "id": "b88bfd08",
   "metadata": {},
   "outputs": [
    {
     "data": {
      "image/png": "[encoded data removed]",
      "text/plain": [
       "<Figure size 800x500 with 1 Axes>"
      ]
     },
     "metadata": {},
     "output_type": "display_data"
    }
   ],
   "source": [
    "plt.figure(figsize=(8, 5))\n",
    "plt.scatter(ecom_df_n['Sales'], ecom_df_n['Profit'], alpha=0.5)\n",
    "plt.title(\"Sales vs Profit\")\n",
    "plt.xlabel(\"Sales\")\n",
    "plt.ylabel(\"Profit\")\n",
    "plt.axhline(0, color='red', linestyle='--')  # mark zero profit line\n",
    "plt.show()\n"
   ]
  },
  {
   "cell_type": "markdown",
   "id": "19581962",
   "metadata": {},
   "source": [
    "### Sales by Region"
   ]
  },
  {
   "cell_type": "code",
   "execution_count": 47,
   "id": "99bf4ef1",
   "metadata": {},
   "outputs": [
    {
     "data": {
      "image/png": "[encoded data removed]",
      "text/plain": [
       "<Figure size 700x400 with 1 Axes>"
      ]
     },
     "metadata": {},
     "output_type": "display_data"
    }
   ],
   "source": [
    "region_sales = ecom_df_n.groupby('Region')['Sales'].sum()\n",
    "\n",
    "region_sales.plot(kind='bar', figsize=(7, 4))\n",
    "plt.title(\"Sales by Region\")\n",
    "plt.ylabel(\"Total Sales\")\n",
    "plt.show()\n"
   ]
  },
  {
   "cell_type": "markdown",
   "id": "22795e66",
   "metadata": {},
   "source": [
    "### Impact of Discount on profit "
   ]
  },
  {
   "cell_type": "code",
   "execution_count": 48,
   "id": "69beb355",
   "metadata": {},
   "outputs": [
    {
     "data": {
      "image/png": "[encoded data removed]",
      "text/plain": [
       "<Figure size 800x500 with 1 Axes>"
      ]
     },
     "metadata": {},
     "output_type": "display_data"
    }
   ],
   "source": [
    "plt.figure(figsize=(8, 5))\n",
    "plt.scatter(ecom_df_n['Discount'], ecom_df_n['Profit'], alpha=0.5)\n",
    "plt.title('Discount vs Profit')\n",
    "plt.xlabel('Discount')\n",
    "plt.ylabel('Profit')\n",
    "plt.axhline(0, color='red', linestyle='--')\n",
    "plt.show()\n"
   ]
  },
  {
   "cell_type": "markdown",
   "id": "ede7a993",
   "metadata": {},
   "source": [
    "What customer purchasing patterns can you discover? Such as activity on different days of the week, or weekly, monthly, quarterly, yearly, etc."
   ]
  },
  {
   "cell_type": "markdown",
   "id": "1343619a",
   "metadata": {},
   "source": [
    "### Prepare Date Columns"
   ]
  },
  {
   "cell_type": "code",
   "execution_count": 49,
   "id": "56c05c35",
   "metadata": {},
   "outputs": [],
   "source": [
    "## This clearly indicates weekdays are busiest for purchase\n",
    "# Ensure OrderDate is datetime\n",
    "ecom_df_n['OrderDate'] = pd.to_datetime(ecom_df_n['OrderDate'], errors='coerce')\n",
    "\n",
    "# Extract additional time features\n",
    "ecom_df_n['Year'] = ecom_df_n['OrderDate'].dt.year\n",
    "ecom_df_n['Quarter'] = ecom_df_n['OrderDate'].dt.to_period('Q')\n",
    "ecom_df_n['Month'] = ecom_df_n['OrderDate'].dt.month\n",
    "ecom_df_n['Week'] = ecom_df_n['OrderDate'].dt.isocalendar().week\n",
    "ecom_df_n['DayOfWeek'] = ecom_df_n['OrderDate'].dt.day_name()\n"
   ]
  },
  {
   "cell_type": "markdown",
   "id": "74dbd1c4",
   "metadata": {},
   "source": [
    "### Customers by Day of Week\n"
   ]
  },
  {
   "cell_type": "code",
   "execution_count": 50,
   "id": "c0b0d27d",
   "metadata": {},
   "outputs": [
    {
     "name": "stdout",
     "output_type": "stream",
     "text": [
      "Unique customers per day of week:\n",
      "DayOfWeek\n",
      "Monday       557\n",
      "Tuesday      398\n",
      "Wednesday    164\n",
      "Thursday     474\n",
      "Friday       544\n",
      "Saturday     513\n",
      "Sunday       535\n",
      "Name: CustomerID, dtype: int64\n"
     ]
    }
   ],
   "source": [
    "customers_by_day = ecom_df_n.groupby('DayOfWeek')['CustomerID'].nunique().reindex(\n",
    "    ['Monday','Tuesday','Wednesday','Thursday','Friday','Saturday','Sunday']\n",
    ")\n",
    "print(\"Unique customers per day of week:\")\n",
    "print(customers_by_day)\n"
   ]
  },
  {
   "cell_type": "markdown",
   "id": "f5c08f9d",
   "metadata": {},
   "source": [
    "### Customers by Month"
   ]
  },
  {
   "cell_type": "code",
   "execution_count": 51,
   "id": "0bb20607",
   "metadata": {},
   "outputs": [
    {
     "name": "stdout",
     "output_type": "stream",
     "text": [
      "\n",
      "Unique customers per year:\n",
      "Year\n",
      "2014    595\n",
      "2015    573\n",
      "2016    638\n",
      "2017    693\n",
      "Name: CustomerID, dtype: int64\n"
     ]
    }
   ],
   "source": [
    "customers_by_year = ecom_df_n.groupby('Year')['CustomerID'].nunique()\n",
    "print(\"\\nUnique customers per year:\")\n",
    "print(customers_by_year)\n"
   ]
  },
  {
   "cell_type": "markdown",
   "id": "253415b2",
   "metadata": {},
   "source": [
    "### Customers by Quarter"
   ]
  },
  {
   "cell_type": "code",
   "execution_count": 52,
   "id": "36f40642",
   "metadata": {},
   "outputs": [
    {
     "name": "stdout",
     "output_type": "stream",
     "text": [
      "\n",
      "Unique customers per quarter:\n",
      "Quarter\n",
      "2014Q1    121\n",
      "2014Q2    180\n",
      "2014Q3    228\n",
      "2014Q4    305\n",
      "2015Q1    135\n",
      "2015Q2    192\n",
      "2015Q3    233\n",
      "2015Q4    310\n",
      "2016Q1    162\n",
      "2016Q2    240\n",
      "2016Q3    300\n",
      "2016Q4    345\n",
      "2017Q1    218\n",
      "2017Q2    288\n",
      "2017Q3    343\n",
      "2017Q4    436\n",
      "Freq: Q-DEC, Name: CustomerID, dtype: int64\n"
     ]
    }
   ],
   "source": [
    "customers_by_quarter = ecom_df_n.groupby('Quarter')['CustomerID'].nunique()\n",
    "print(\"\\nUnique customers per quarter:\")\n",
    "print(customers_by_quarter)\n"
   ]
  },
  {
   "cell_type": "markdown",
   "id": "26704208",
   "metadata": {},
   "source": [
    "### Customers by Year"
   ]
  },
  {
   "cell_type": "code",
   "execution_count": 53,
   "id": "c9dbffdd",
   "metadata": {},
   "outputs": [
    {
     "name": "stdout",
     "output_type": "stream",
     "text": [
      "\n",
      "Unique customers per year:\n",
      "Year\n",
      "2014    595\n",
      "2015    573\n",
      "2016    638\n",
      "2017    693\n",
      "Name: CustomerID, dtype: int64\n"
     ]
    }
   ],
   "source": [
    "customers_by_year = ecom_df_n.groupby('Year')['CustomerID'].nunique()\n",
    "print(\"\\nUnique customers per year:\")\n",
    "print(customers_by_year)\n"
   ]
  },
  {
   "cell_type": "markdown",
   "id": "229202b2",
   "metadata": {},
   "source": [
    "### visualization of Dayily,Monthly,Quaterly and Yearly customer pattern"
   ]
  },
  {
   "cell_type": "code",
   "execution_count": 54,
   "id": "7fa3f360",
   "metadata": {},
   "outputs": [
    {
     "data": {
      "image/png": "[encoded data removed]",
      "text/plain": [
       "<Figure size 800x400 with 1 Axes>"
      ]
     },
     "metadata": {},
     "output_type": "display_data"
    },
    {
     "data": {
      "image/png": "[encoded data removed]",
      "text/plain": [
       "<Figure size 800x400 with 1 Axes>"
      ]
     },
     "metadata": {},
     "output_type": "display_data"
    },
    {
     "data": {
      "image/png": "[encoded data removed]",
      "text/plain": [
       "<Figure size 600x400 with 1 Axes>"
      ]
     },
     "metadata": {},
     "output_type": "display_data"
    },
    {
     "data": {
      "image/png": "[encoded data removed]",
      "text/plain": [
       "<Figure size 600x400 with 1 Axes>"
      ]
     },
     "metadata": {},
     "output_type": "display_data"
    }
   ],
   "source": [
    "# Day of Week\n",
    "customers_by_day.plot(kind='bar', title='Unique Customers by Day of Week', figsize=(8,4))\n",
    "plt.show()\n",
    "\n",
    "# Month\n",
    "customers_by_month = ecom_df_n.groupby('Month')['CustomerID'].nunique()\n",
    "customers_by_month.plot(kind='bar', title='Unique Customers by Month', figsize=(8,4))\n",
    "plt.show()\n",
    "\n",
    "# Quarter\n",
    "customers_by_quarter.plot(kind='bar', title='Unique Customers by Quarter', figsize=(6,4))\n",
    "plt.show()\n",
    "\n",
    "# Year\n",
    "customers_by_year.plot(kind='bar', title='Unique Customers by Year', figsize=(6,4))\n",
    "plt.show()\n"
   ]
  },
  {
   "cell_type": "code",
   "execution_count": 55,
   "id": "892f7909",
   "metadata": {},
   "outputs": [
    {
     "name": "stdout",
     "output_type": "stream",
     "text": [
      "DayOfWeek\n",
      "Monday       557\n",
      "Tuesday      398\n",
      "Wednesday    164\n",
      "Thursday     474\n",
      "Friday       544\n",
      "Saturday     513\n",
      "Sunday       535\n",
      "Name: CustomerID, dtype: int64\n",
      "Month\n",
      "1     159\n",
      "2     146\n",
      "3     290\n",
      "4     282\n",
      "5     301\n",
      "6     290\n",
      "7     281\n",
      "8     280\n",
      "9     459\n",
      "10    323\n",
      "11    483\n",
      "12    454\n",
      "Name: CustomerID, dtype: int64\n",
      "Quarter\n",
      "2014Q1    121\n",
      "2014Q2    180\n",
      "2014Q3    228\n",
      "2014Q4    305\n",
      "2015Q1    135\n",
      "2015Q2    192\n",
      "2015Q3    233\n",
      "2015Q4    310\n",
      "2016Q1    162\n",
      "2016Q2    240\n",
      "2016Q3    300\n",
      "2016Q4    345\n",
      "2017Q1    218\n",
      "2017Q2    288\n",
      "2017Q3    343\n",
      "2017Q4    436\n",
      "Freq: Q-DEC, Name: CustomerID, dtype: int64\n",
      "Year\n",
      "2014    595\n",
      "2015    573\n",
      "2016    638\n",
      "2017    693\n",
      "Name: CustomerID, dtype: int64\n"
     ]
    },
    {
     "data": {
      "image/png": "[encoded data removed]",
      "text/plain": [
       "<Figure size 800x550 with 1 Axes>"
      ]
     },
     "metadata": {},
     "output_type": "display_data"
    },
    {
     "data": {
      "image/png": "[encoded data removed]",
      "text/plain": [
       "<Figure size 800x550 with 1 Axes>"
      ]
     },
     "metadata": {},
     "output_type": "display_data"
    }
   ],
   "source": [
    "\n",
    "# Convert OrderDate to datetime\n",
    "ecom_df_n['OrderDate'] = pd.to_datetime(ecom_df_n['OrderDate'], errors='coerce')\n",
    "\n",
    "# Extract time features\n",
    "ecom_df_n['Year'] = ecom_df_n['OrderDate'].dt.year\n",
    "ecom_df_n['Quarter'] = ecom_df_n['OrderDate'].dt.to_period('Q')\n",
    "ecom_df_n['Month'] = ecom_df_n['OrderDate'].dt.month\n",
    "ecom_df_n['Week'] = ecom_df_n['OrderDate'].dt.isocalendar().week\n",
    "ecom_df_n['DayOfWeek'] = ecom_df_n['OrderDate'].dt.day_name()\n",
    "\n",
    "# Customers by Day of Week\n",
    "customers_by_day = ecom_df_n.groupby('DayOfWeek')['CustomerID'].nunique().reindex(\n",
    "    ['Monday','Tuesday','Wednesday','Thursday','Friday','Saturday','Sunday']\n",
    ")\n",
    "print(customers_by_day)\n",
    "\n",
    "# Customers by Month\n",
    "customers_by_month = ecom_df_n.groupby('Month')['CustomerID'].nunique()\n",
    "print(customers_by_month)\n",
    "\n",
    "# Customers by Quarter\n",
    "customers_by_quarter = ecom_df_n.groupby('Quarter')['CustomerID'].nunique()\n",
    "print(customers_by_quarter)\n",
    "\n",
    "# Customers by Year\n",
    "customers_by_year = ecom_df_n.groupby('Year')['CustomerID'].nunique()\n",
    "print(customers_by_year)\n",
    "\n",
    "# Optional: Simple plots\n",
    "customers_by_day.plot(kind='bar', title='Unique Customers by Day of Week')\n",
    "plt.show()\n",
    "\n",
    "customers_by_month.plot(kind='bar', title='Unique Customers by Month')\n",
    "plt.show()\n"
   ]
  },
  {
   "cell_type": "markdown",
   "id": "007f7e0d",
   "metadata": {},
   "source": [
    "State with Highest number of Order"
   ]
  },
  {
   "cell_type": "code",
   "execution_count": 56,
   "id": "ae0543de",
   "metadata": {},
   "outputs": [
    {
     "name": "stdout",
     "output_type": "stream",
     "text": [
      "\n",
      "Top 5 States by Number of Orders:\n",
      "          State  TotalOrders\n",
      "0    California         3982\n",
      "1      New York         2916\n",
      "2         Texas         2616\n",
      "3  Pennsylvania         1854\n",
      "4      Illinois         1717\n"
     ]
    }
   ],
   "source": [
    "conn = sqlite3.connect(\"E-comm.db\")\n",
    "cur = conn.cursor()\n",
    "\n",
    "# Top 5 states by number of orders\n",
    "cur.execute(\"\"\"\n",
    "SELECT l.State, COUNT(DISTINCT o.OrderID) AS TotalOrders\n",
    "FROM Orders o\n",
    "JOIN Customer c ON o.CustomerID = c.CustomerID\n",
    "JOIN Location l ON c.LocationID = l.LocationID\n",
    "GROUP BY l.State\n",
    "ORDER BY TotalOrders DESC\n",
    "LIMIT 5;\n",
    "\"\"\")\n",
    "\n",
    "top_states = pd.DataFrame(cur.fetchall(), columns=[\"State\", \"TotalOrders\"])\n",
    "print(\"\\nTop 5 States by Number of Orders:\")\n",
    "print(top_states)\n"
   ]
  },
  {
   "cell_type": "code",
   "execution_count": 57,
   "id": "940c4444",
   "metadata": {},
   "outputs": [
    {
     "name": "stdout",
     "output_type": "stream",
     "text": [
      "\n",
      "Top 5 Customers by Number of Orders:\n",
      "       CustomerName  TotalOrders\n",
      "0        Emily Phan           17\n",
      "1  Zuschuss Carroll           13\n",
      "2     Sally Hughsby           13\n",
      "3   Patrick Gardner           13\n",
      "4      Noel Staavos           13\n"
     ]
    }
   ],
   "source": [
    "# Top 5 customers by number of orders\n",
    "cur.execute(\"\"\"\n",
    "SELECT c.CustomerName, COUNT(DISTINCT o.OrderID) AS TotalOrders\n",
    "FROM Orders o\n",
    "JOIN Customer c ON o.CustomerID = c.CustomerID\n",
    "GROUP BY c.CustomerName\n",
    "ORDER BY TotalOrders DESC\n",
    "LIMIT 5;\n",
    "\"\"\")\n",
    "\n",
    "top_customers_orders = pd.DataFrame(cur.fetchall(), columns=[\"CustomerName\", \"TotalOrders\"])\n",
    "print(\"\\nTop 5 Customers by Number of Orders:\")\n",
    "print(top_customers_orders)\n"
   ]
  },
  {
   "cell_type": "code",
   "execution_count": 58,
   "id": "cc340ede",
   "metadata": {},
   "outputs": [
    {
     "name": "stdout",
     "output_type": "stream",
     "text": [
      "\n",
      "Top 5 Customers by Total Sales:\n",
      "   CustomerName  TotalSales\n",
      "0  Ken Lonsdale  411081.641\n",
      "1   Sean Miller  375645.750\n",
      "2   Seth Vernon  367070.400\n",
      "3     Greg Tran  342783.480\n",
      "4      John Lee  333197.382\n"
     ]
    }
   ],
   "source": [
    "# Top 5 customers by total spend\n",
    "cur.execute(\"\"\"\n",
    "SELECT c.CustomerName, SUM(od.Sales) AS TotalSales\n",
    "FROM OrderDetails od\n",
    "JOIN Orders o ON od.OrderID = o.OrderID\n",
    "JOIN Customer c ON o.CustomerID = c.CustomerID\n",
    "GROUP BY c.CustomerName\n",
    "ORDER BY TotalSales DESC\n",
    "LIMIT 5;\n",
    "\"\"\")\n",
    "\n",
    "top_customers_sales = pd.DataFrame(cur.fetchall(), columns=[\"CustomerName\", \"TotalSales\"])\n",
    "print(\"\\nTop 5 Customers by Total Sales:\")\n",
    "print(top_customers_sales)\n"
   ]
  },
  {
   "cell_type": "markdown",
   "id": "efc513db",
   "metadata": {},
   "source": [
    "## Top 5 States generating the most and least sales revenue?"
   ]
  },
  {
   "cell_type": "code",
   "execution_count": 59,
   "id": "411466a0",
   "metadata": {},
   "outputs": [
    {
     "name": "stdout",
     "output_type": "stream",
     "text": [
      "Data prepared and saved to top_bottom_state_sales.csv\n",
      "                   State    TotalSales     Group\n",
      "0             California  7.033587e+06     Top 5\n",
      "1               New York  4.214983e+06     Top 5\n",
      "2                  Texas  3.395069e+06     Top 5\n",
      "3           Pennsylvania  2.072148e+06     Top 5\n",
      "4             Washington  1.877345e+06     Top 5\n",
      "44  District of Columbia  4.581266e+04  Bottom 5\n",
      "45               Vermont  3.733011e+04  Bottom 5\n",
      "46          North Dakota  1.961074e+04  Bottom 5\n",
      "47         West Virginia  1.757078e+04  Bottom 5\n",
      "48               Wyoming  2.453284e+03  Bottom 5\n"
     ]
    }
   ],
   "source": [
    "\n",
    "#  Connect to database\n",
    "conn = sqlite3.connect(\"E-comm.db\")\n",
    "\n",
    "# Step 2: Query state-wise sales\n",
    "query = \"\"\"\n",
    "SELECT l.State, SUM(od.Sales) AS TotalSales\n",
    "FROM OrderDetails od\n",
    "JOIN Orders o ON od.OrderID = o.OrderID\n",
    "JOIN Customer c ON o.CustomerID = c.CustomerID\n",
    "JOIN Location l ON c.LocationID = l.LocationID\n",
    "GROUP BY l.State\n",
    "ORDER BY TotalSales DESC;\n",
    "\"\"\"\n",
    "state_sales = pd.read_sql_query(query, conn)\n",
    "conn.close()\n",
    "\n",
    "# Select Top 5 and Bottom 5\n",
    "top_5 = state_sales.head(5).copy()\n",
    "bottom_5 = state_sales.tail(5).copy()\n",
    "\n",
    "# Add a column to label group (for easy Tableau filtering)\n",
    "top_5[\"Group\"] = \"Top 5\"\n",
    "bottom_5[\"Group\"] = \"Bottom 5\"\n",
    "\n",
    "# Combine into one DataFrame\n",
    "final_data = pd.concat([top_5, bottom_5])\n",
    "\n",
    "# Export to CSV for Tableau or future visualization\n",
    "final_data.to_csv(\"top_bottom_state_sales.csv\", index=False)\n",
    "\n",
    "print(\"Data prepared and saved to top_bottom_state_sales.csv\")\n",
    "print(final_data)\n"
   ]
  },
  {
   "cell_type": "markdown",
   "id": "bf330586",
   "metadata": {},
   "source": [
    "Visualization of top 5 Sales revenue"
   ]
  },
  {
   "cell_type": "code",
   "execution_count": 60,
   "id": "d212ee69",
   "metadata": {},
   "outputs": [
    {
     "data": {
      "image/png": "[encoded data removed]",
      "text/plain": [
       "<Figure size 1000x600 with 1 Axes>"
      ]
     },
     "metadata": {},
     "output_type": "display_data"
    }
   ],
   "source": [
    "\n",
    "#  Load the prepared CSV\n",
    "data = pd.read_csv(\"top_bottom_state_sales.csv\")\n",
    "\n",
    "# Sort by TotalSales for better visualization\n",
    "data = data.sort_values(by=\"TotalSales\", ascending=True)\n",
    "\n",
    "plt.figure(figsize=(10, 6))\n",
    "colors = data[\"Group\"].map({\"Top 5\": \"green\", \"Bottom 5\": \"red\"})\n",
    "plt.barh(data[\"State\"], data[\"TotalSales\"], color=colors)\n",
    "plt.xlabel(\"Total Sales Revenue\")\n",
    "plt.title(\"Top 5 and Bottom 5 States by Sales Revenue\")\n",
    "plt.tight_layout()\n",
    "plt.show()\n"
   ]
  },
  {
   "cell_type": "code",
   "execution_count": 61,
   "id": "d8032507",
   "metadata": {},
   "outputs": [],
   "source": [
    "# #remove outliers\n",
    "# def remove_outliers(df, column):\n",
    "#     Q1 = df[column].quantile(0.25)\n",
    "#     Q3 = df[column].quantile(0.75)\n",
    "#     IQR = Q3 - Q1\n",
    "#     lower_bound = Q1 - 1.5 * IQR\n",
    "#     upper_bound = Q3 + 1.5 * IQR\n",
    "#     return df[(df[column] >= lower_bound) & (df[column] <= upper_bound)]    \n",
    "\n",
    "\n",
    "\n",
    "# all_wine "
   ]
  },
  {
   "cell_type": "markdown",
   "id": "f38a14b9",
   "metadata": {},
   "source": [
    "# ML Clustering with K-means"
   ]
  },
  {
   "cell_type": "markdown",
   "id": "d281c8af",
   "metadata": {},
   "source": [
    "Importing all the libraries "
   ]
  },
  {
   "cell_type": "code",
   "execution_count": 62,
   "id": "57331878",
   "metadata": {},
   "outputs": [],
   "source": [
    "from sklearn.datasets import make_blobs\n",
    "from sklearn.cluster import KMeans\n",
    "from sklearn.metrics import silhouette_score\n",
    "import pandas as pd\n",
    "import plotly.express as px\n",
    "from plotly.subplots import make_subplots\n",
    "import plotly.graph_objects as go\n",
    "from yellowbrick.cluster import SilhouetteVisualizer\n",
    "import numpy as np\n",
    "from sklearn.preprocessing import StandardScaler\n",
    "import matplotlib.pyplot as plt\n",
    "import seaborn as sns\n",
    "from sklearn.decomposition import PCA\n"
   ]
  },
  {
   "cell_type": "markdown",
   "id": "53b1ff93",
   "metadata": {},
   "source": [
    "To ensure proper data format"
   ]
  },
  {
   "cell_type": "code",
   "execution_count": 82,
   "id": "14a52fd2",
   "metadata": {},
   "outputs": [
    {
     "data": {
      "text/html": [
       "<div>\n",
       "<style scoped>\n",
       "    .dataframe tbody tr th:only-of-type {\n",
       "        vertical-align: middle;\n",
       "    }\n",
       "\n",
       "    .dataframe tbody tr th {\n",
       "        vertical-align: top;\n",
       "    }\n",
       "\n",
       "    .dataframe thead th {\n",
       "        text-align: right;\n",
       "    }\n",
       "</style>\n",
       "<table border=\"1\" class=\"dataframe\">\n",
       "  <thead>\n",
       "    <tr style=\"text-align: right;\">\n",
       "      <th></th>\n",
       "      <th>RowID</th>\n",
       "      <th>OrderID</th>\n",
       "      <th>OrderDate</th>\n",
       "      <th>ShipDate</th>\n",
       "      <th>ShipMode</th>\n",
       "      <th>CustomerID</th>\n",
       "      <th>CustomerName</th>\n",
       "      <th>Segment</th>\n",
       "      <th>Country</th>\n",
       "      <th>City</th>\n",
       "      <th>...</th>\n",
       "      <th>Sales</th>\n",
       "      <th>Quantity</th>\n",
       "      <th>Discount</th>\n",
       "      <th>Profit</th>\n",
       "      <th>LocationID</th>\n",
       "      <th>Year</th>\n",
       "      <th>Quarter</th>\n",
       "      <th>Month</th>\n",
       "      <th>Week</th>\n",
       "      <th>DayOfWeek</th>\n",
       "    </tr>\n",
       "  </thead>\n",
       "  <tbody>\n",
       "    <tr>\n",
       "      <th>0</th>\n",
       "      <td>1</td>\n",
       "      <td>CA-2016-152156</td>\n",
       "      <td>2016-11-08</td>\n",
       "      <td>2016-11-11</td>\n",
       "      <td>Second Class</td>\n",
       "      <td>CG-12520</td>\n",
       "      <td>Claire Gute</td>\n",
       "      <td>Consumer</td>\n",
       "      <td>United States</td>\n",
       "      <td>Henderson</td>\n",
       "      <td>...</td>\n",
       "      <td>261.9600</td>\n",
       "      <td>2</td>\n",
       "      <td>0.00</td>\n",
       "      <td>41.9136</td>\n",
       "      <td>L001</td>\n",
       "      <td>2016</td>\n",
       "      <td>2016Q4</td>\n",
       "      <td>11</td>\n",
       "      <td>45</td>\n",
       "      <td>Tuesday</td>\n",
       "    </tr>\n",
       "    <tr>\n",
       "      <th>1</th>\n",
       "      <td>2</td>\n",
       "      <td>CA-2016-152156</td>\n",
       "      <td>2016-11-08</td>\n",
       "      <td>2016-11-11</td>\n",
       "      <td>Second Class</td>\n",
       "      <td>CG-12520</td>\n",
       "      <td>Claire Gute</td>\n",
       "      <td>Consumer</td>\n",
       "      <td>United States</td>\n",
       "      <td>Henderson</td>\n",
       "      <td>...</td>\n",
       "      <td>731.9400</td>\n",
       "      <td>3</td>\n",
       "      <td>0.00</td>\n",
       "      <td>219.5820</td>\n",
       "      <td>L002</td>\n",
       "      <td>2016</td>\n",
       "      <td>2016Q4</td>\n",
       "      <td>11</td>\n",
       "      <td>45</td>\n",
       "      <td>Tuesday</td>\n",
       "    </tr>\n",
       "    <tr>\n",
       "      <th>2</th>\n",
       "      <td>3</td>\n",
       "      <td>CA-2016-138688</td>\n",
       "      <td>2016-06-12</td>\n",
       "      <td>2016-06-16</td>\n",
       "      <td>Second Class</td>\n",
       "      <td>DV-13045</td>\n",
       "      <td>Darrin Van Huff</td>\n",
       "      <td>Corporate</td>\n",
       "      <td>United States</td>\n",
       "      <td>Los Angeles</td>\n",
       "      <td>...</td>\n",
       "      <td>14.6200</td>\n",
       "      <td>2</td>\n",
       "      <td>0.00</td>\n",
       "      <td>6.8714</td>\n",
       "      <td>L003</td>\n",
       "      <td>2016</td>\n",
       "      <td>2016Q2</td>\n",
       "      <td>6</td>\n",
       "      <td>23</td>\n",
       "      <td>Sunday</td>\n",
       "    </tr>\n",
       "    <tr>\n",
       "      <th>3</th>\n",
       "      <td>4</td>\n",
       "      <td>US-2015-108966</td>\n",
       "      <td>2015-10-11</td>\n",
       "      <td>2015-10-18</td>\n",
       "      <td>Standard Class</td>\n",
       "      <td>SO-20335</td>\n",
       "      <td>Sean O'Donnell</td>\n",
       "      <td>Consumer</td>\n",
       "      <td>United States</td>\n",
       "      <td>Fort Lauderdale</td>\n",
       "      <td>...</td>\n",
       "      <td>957.5775</td>\n",
       "      <td>5</td>\n",
       "      <td>0.45</td>\n",
       "      <td>-383.0310</td>\n",
       "      <td>L004</td>\n",
       "      <td>2015</td>\n",
       "      <td>2015Q4</td>\n",
       "      <td>10</td>\n",
       "      <td>41</td>\n",
       "      <td>Sunday</td>\n",
       "    </tr>\n",
       "    <tr>\n",
       "      <th>4</th>\n",
       "      <td>5</td>\n",
       "      <td>US-2015-108966</td>\n",
       "      <td>2015-10-11</td>\n",
       "      <td>2015-10-18</td>\n",
       "      <td>Standard Class</td>\n",
       "      <td>SO-20335</td>\n",
       "      <td>Sean O'Donnell</td>\n",
       "      <td>Consumer</td>\n",
       "      <td>United States</td>\n",
       "      <td>Fort Lauderdale</td>\n",
       "      <td>...</td>\n",
       "      <td>22.3680</td>\n",
       "      <td>2</td>\n",
       "      <td>0.20</td>\n",
       "      <td>2.5164</td>\n",
       "      <td>L005</td>\n",
       "      <td>2015</td>\n",
       "      <td>2015Q4</td>\n",
       "      <td>10</td>\n",
       "      <td>41</td>\n",
       "      <td>Sunday</td>\n",
       "    </tr>\n",
       "    <tr>\n",
       "      <th>...</th>\n",
       "      <td>...</td>\n",
       "      <td>...</td>\n",
       "      <td>...</td>\n",
       "      <td>...</td>\n",
       "      <td>...</td>\n",
       "      <td>...</td>\n",
       "      <td>...</td>\n",
       "      <td>...</td>\n",
       "      <td>...</td>\n",
       "      <td>...</td>\n",
       "      <td>...</td>\n",
       "      <td>...</td>\n",
       "      <td>...</td>\n",
       "      <td>...</td>\n",
       "      <td>...</td>\n",
       "      <td>...</td>\n",
       "      <td>...</td>\n",
       "      <td>...</td>\n",
       "      <td>...</td>\n",
       "      <td>...</td>\n",
       "      <td>...</td>\n",
       "    </tr>\n",
       "    <tr>\n",
       "      <th>9989</th>\n",
       "      <td>9990</td>\n",
       "      <td>CA-2014-110422</td>\n",
       "      <td>2014-01-21</td>\n",
       "      <td>2014-01-23</td>\n",
       "      <td>Second Class</td>\n",
       "      <td>TB-21400</td>\n",
       "      <td>Tom Boeckenhauer</td>\n",
       "      <td>Consumer</td>\n",
       "      <td>United States</td>\n",
       "      <td>Miami</td>\n",
       "      <td>...</td>\n",
       "      <td>25.2480</td>\n",
       "      <td>3</td>\n",
       "      <td>0.20</td>\n",
       "      <td>4.1028</td>\n",
       "      <td>L9990</td>\n",
       "      <td>2014</td>\n",
       "      <td>2014Q1</td>\n",
       "      <td>1</td>\n",
       "      <td>4</td>\n",
       "      <td>Tuesday</td>\n",
       "    </tr>\n",
       "    <tr>\n",
       "      <th>9990</th>\n",
       "      <td>9991</td>\n",
       "      <td>CA-2017-121258</td>\n",
       "      <td>2017-02-26</td>\n",
       "      <td>2017-03-03</td>\n",
       "      <td>Standard Class</td>\n",
       "      <td>DB-13060</td>\n",
       "      <td>Dave Brooks</td>\n",
       "      <td>Consumer</td>\n",
       "      <td>United States</td>\n",
       "      <td>Costa Mesa</td>\n",
       "      <td>...</td>\n",
       "      <td>91.9600</td>\n",
       "      <td>2</td>\n",
       "      <td>0.00</td>\n",
       "      <td>15.6332</td>\n",
       "      <td>L9991</td>\n",
       "      <td>2017</td>\n",
       "      <td>2017Q1</td>\n",
       "      <td>2</td>\n",
       "      <td>8</td>\n",
       "      <td>Sunday</td>\n",
       "    </tr>\n",
       "    <tr>\n",
       "      <th>9991</th>\n",
       "      <td>9992</td>\n",
       "      <td>CA-2017-121258</td>\n",
       "      <td>2017-02-26</td>\n",
       "      <td>2017-03-03</td>\n",
       "      <td>Standard Class</td>\n",
       "      <td>DB-13060</td>\n",
       "      <td>Dave Brooks</td>\n",
       "      <td>Consumer</td>\n",
       "      <td>United States</td>\n",
       "      <td>Costa Mesa</td>\n",
       "      <td>...</td>\n",
       "      <td>258.5760</td>\n",
       "      <td>2</td>\n",
       "      <td>0.20</td>\n",
       "      <td>19.3932</td>\n",
       "      <td>L9992</td>\n",
       "      <td>2017</td>\n",
       "      <td>2017Q1</td>\n",
       "      <td>2</td>\n",
       "      <td>8</td>\n",
       "      <td>Sunday</td>\n",
       "    </tr>\n",
       "    <tr>\n",
       "      <th>9992</th>\n",
       "      <td>9993</td>\n",
       "      <td>CA-2017-121258</td>\n",
       "      <td>2017-02-26</td>\n",
       "      <td>2017-03-03</td>\n",
       "      <td>Standard Class</td>\n",
       "      <td>DB-13060</td>\n",
       "      <td>Dave Brooks</td>\n",
       "      <td>Consumer</td>\n",
       "      <td>United States</td>\n",
       "      <td>Costa Mesa</td>\n",
       "      <td>...</td>\n",
       "      <td>29.6000</td>\n",
       "      <td>4</td>\n",
       "      <td>0.00</td>\n",
       "      <td>13.3200</td>\n",
       "      <td>L9993</td>\n",
       "      <td>2017</td>\n",
       "      <td>2017Q1</td>\n",
       "      <td>2</td>\n",
       "      <td>8</td>\n",
       "      <td>Sunday</td>\n",
       "    </tr>\n",
       "    <tr>\n",
       "      <th>9993</th>\n",
       "      <td>9994</td>\n",
       "      <td>CA-2017-119914</td>\n",
       "      <td>2017-05-04</td>\n",
       "      <td>2017-05-09</td>\n",
       "      <td>Second Class</td>\n",
       "      <td>CC-12220</td>\n",
       "      <td>Chris Cortes</td>\n",
       "      <td>Consumer</td>\n",
       "      <td>United States</td>\n",
       "      <td>Westminster</td>\n",
       "      <td>...</td>\n",
       "      <td>243.1600</td>\n",
       "      <td>2</td>\n",
       "      <td>0.00</td>\n",
       "      <td>72.9480</td>\n",
       "      <td>L9994</td>\n",
       "      <td>2017</td>\n",
       "      <td>2017Q2</td>\n",
       "      <td>5</td>\n",
       "      <td>18</td>\n",
       "      <td>Thursday</td>\n",
       "    </tr>\n",
       "  </tbody>\n",
       "</table>\n",
       "<p>9994 rows × 27 columns</p>\n",
       "</div>"
      ],
      "text/plain": [
       "      RowID         OrderID  OrderDate    ShipDate        ShipMode CustomerID  \\\n",
       "0         1  CA-2016-152156 2016-11-08  2016-11-11    Second Class   CG-12520   \n",
       "1         2  CA-2016-152156 2016-11-08  2016-11-11    Second Class   CG-12520   \n",
       "2         3  CA-2016-138688 2016-06-12  2016-06-16    Second Class   DV-13045   \n",
       "3         4  US-2015-108966 2015-10-11  2015-10-18  Standard Class   SO-20335   \n",
       "4         5  US-2015-108966 2015-10-11  2015-10-18  Standard Class   SO-20335   \n",
       "...     ...             ...        ...         ...             ...        ...   \n",
       "9989   9990  CA-2014-110422 2014-01-21  2014-01-23    Second Class   TB-21400   \n",
       "9990   9991  CA-2017-121258 2017-02-26  2017-03-03  Standard Class   DB-13060   \n",
       "9991   9992  CA-2017-121258 2017-02-26  2017-03-03  Standard Class   DB-13060   \n",
       "9992   9993  CA-2017-121258 2017-02-26  2017-03-03  Standard Class   DB-13060   \n",
       "9993   9994  CA-2017-119914 2017-05-04  2017-05-09    Second Class   CC-12220   \n",
       "\n",
       "          CustomerName    Segment        Country             City  ...  \\\n",
       "0          Claire Gute   Consumer  United States        Henderson  ...   \n",
       "1          Claire Gute   Consumer  United States        Henderson  ...   \n",
       "2      Darrin Van Huff  Corporate  United States      Los Angeles  ...   \n",
       "3       Sean O'Donnell   Consumer  United States  Fort Lauderdale  ...   \n",
       "4       Sean O'Donnell   Consumer  United States  Fort Lauderdale  ...   \n",
       "...                ...        ...            ...              ...  ...   \n",
       "9989  Tom Boeckenhauer   Consumer  United States            Miami  ...   \n",
       "9990       Dave Brooks   Consumer  United States       Costa Mesa  ...   \n",
       "9991       Dave Brooks   Consumer  United States       Costa Mesa  ...   \n",
       "9992       Dave Brooks   Consumer  United States       Costa Mesa  ...   \n",
       "9993      Chris Cortes   Consumer  United States      Westminster  ...   \n",
       "\n",
       "         Sales  Quantity Discount    Profit LocationID  Year Quarter  Month  \\\n",
       "0     261.9600         2     0.00   41.9136       L001  2016  2016Q4     11   \n",
       "1     731.9400         3     0.00  219.5820       L002  2016  2016Q4     11   \n",
       "2      14.6200         2     0.00    6.8714       L003  2016  2016Q2      6   \n",
       "3     957.5775         5     0.45 -383.0310       L004  2015  2015Q4     10   \n",
       "4      22.3680         2     0.20    2.5164       L005  2015  2015Q4     10   \n",
       "...        ...       ...      ...       ...        ...   ...     ...    ...   \n",
       "9989   25.2480         3     0.20    4.1028      L9990  2014  2014Q1      1   \n",
       "9990   91.9600         2     0.00   15.6332      L9991  2017  2017Q1      2   \n",
       "9991  258.5760         2     0.20   19.3932      L9992  2017  2017Q1      2   \n",
       "9992   29.6000         4     0.00   13.3200      L9993  2017  2017Q1      2   \n",
       "9993  243.1600         2     0.00   72.9480      L9994  2017  2017Q2      5   \n",
       "\n",
       "      Week  DayOfWeek  \n",
       "0       45    Tuesday  \n",
       "1       45    Tuesday  \n",
       "2       23     Sunday  \n",
       "3       41     Sunday  \n",
       "4       41     Sunday  \n",
       "...    ...        ...  \n",
       "9989     4    Tuesday  \n",
       "9990     8     Sunday  \n",
       "9991     8     Sunday  \n",
       "9992     8     Sunday  \n",
       "9993    18   Thursday  \n",
       "\n",
       "[9994 rows x 27 columns]"
      ]
     },
     "execution_count": 82,
     "metadata": {},
     "output_type": "execute_result"
    }
   ],
   "source": [
    "ecom_df_n['OrderDate'] = pd.to_datetime(ecom_df_n['OrderDate'], errors='coerce')\n",
    "ecom_df_n\n"
   ]
  },
  {
   "cell_type": "markdown",
   "id": "f538312c",
   "metadata": {},
   "source": [
    "### Customer Segmentation\n",
    "Build RFM per customer (Mon, Freq, Rec)\n",
    "\n"
   ]
  },
  {
   "cell_type": "code",
   "execution_count": 87,
   "id": "dad361e9",
   "metadata": {},
   "outputs": [
    {
     "name": "stdout",
     "output_type": "stream",
     "text": [
      "  CustomerID  Recency  Frequency  Monetary\n",
      "0   AA-10315      185          5  5563.560\n",
      "1   AA-10375       20          9  1056.390\n",
      "2   AA-10480      260          4  1790.512\n",
      "3   AA-10645       56          6  5086.935\n",
      "4   AB-10015      416          3   886.156\n"
     ]
    }
   ],
   "source": [
    "# Reference date = max order date + 1\n",
    "reference_date = ecom_df_n['OrderDate'].max() + pd.Timedelta(days=1)\n",
    "\n",
    "# Build RFM\n",
    "rfm_df = ecom_df_n.groupby('CustomerID').agg({\n",
    "    'OrderDate': lambda x: (reference_date - x.max()).days,  # Recency\n",
    "    'OrderID': 'nunique',                                    # Frequency\n",
    "    'Sales': 'sum'                                           # Monetary\n",
    "}).reset_index()\n",
    "\n",
    "# Rename columns\n",
    "rfm_df.columns = ['CustomerID', 'Recency', 'Frequency', 'Monetary']\n",
    "\n",
    "print(rfm_df.head())\n"
   ]
  },
  {
   "cell_type": "markdown",
   "id": "52c61342",
   "metadata": {},
   "source": [
    "### Pre-Processing\n",
    "Outliers Check"
   ]
  },
  {
   "cell_type": "code",
   "execution_count": 98,
   "id": "6ee13950",
   "metadata": {},
   "outputs": [
    {
     "name": "stdout",
     "output_type": "stream",
     "text": [
      "Shape before outlier removal: (793, 4)\n"
     ]
    }
   ],
   "source": [
    "print(\"Shape before outlier removal:\", rfm_df.shape)\n"
   ]
  },
  {
   "cell_type": "code",
   "execution_count": null,
   "id": "550e7f98",
   "metadata": {},
   "outputs": [
    {
     "data": {
      "image/png": "[encoded data removed]",
      "text/plain": [
       "<Figure size 1500x500 with 3 Axes>"
      ]
     },
     "metadata": {},
     "output_type": "display_data"
    }
   ],
   "source": [
    "# Plot before removing outliers \n",
    "plt.figure(figsize=(15, 5))\n",
    "for i, col in enumerate(['Recency', 'Frequency', 'Monetary']):\n",
    "    plt.subplot(1, 3, i+1)\n",
    "    sns.boxplot(y=rfm_df[col])\n",
    "    plt.title(f'Before Outlier Removal - {col}')\n",
    "plt.tight_layout()\n",
    "plt.show()"
   ]
  },
  {
   "cell_type": "markdown",
   "id": "44d259e8",
   "metadata": {},
   "source": [
    "### Removing Outier using IQR method"
   ]
  },
  {
   "cell_type": "code",
   "execution_count": 96,
   "id": "b1286630",
   "metadata": {},
   "outputs": [
    {
     "name": "stdout",
     "output_type": "stream",
     "text": [
      "Shape after outlier removal: (719, 3)\n"
     ]
    }
   ],
   "source": [
    "# Select only the RFM features\n",
    "rfm = rfm_df[['Monetary', 'Frequency', 'Recency']].copy()\n",
    "\n",
    "# Step 2: Define a function for IQR outlier removal\n",
    "def remove_outliers_iqr(df, column):\n",
    "    Q1 = df[column].quantile(0.25)   # 25th percentile\n",
    "    Q3 = df[column].quantile(0.75)   # 75th percentile\n",
    "    IQR = Q3 - Q1                    # Interquartile range\n",
    "    \n",
    "    lower_bound = Q1 - 1.5 * IQR\n",
    "    upper_bound = Q3 + 1.5 * IQR\n",
    "    \n",
    "    return df[(df[column] >= lower_bound) & (df[column] <= upper_bound)]\n",
    "\n",
    "# Step 3: Apply the function to each column\n",
    "rfm_clean = rfm_df.copy()\n",
    "for col in ['Monetary', 'Frequency', 'Recency']:\n",
    "    rfm_clean = remove_outliers_iqr(rfm, col)\n",
    "\n",
    "print(\"Shape after outlier removal:\", rfm_clean.shape)\n"
   ]
  },
  {
   "cell_type": "code",
   "execution_count": 97,
   "id": "9469b3d6",
   "metadata": {},
   "outputs": [
    {
     "data": {
      "image/png": "[encoded data removed]",
      "text/plain": [
       "<Figure size 1500x500 with 3 Axes>"
      ]
     },
     "metadata": {},
     "output_type": "display_data"
    }
   ],
   "source": [
    "# ---- Plot after removing outliers ----\n",
    "plt.figure(figsize=(15, 5))\n",
    "for i, col in enumerate(['Recency', 'Frequency', 'Monetary']):\n",
    "    plt.subplot(1, 3, i+1)\n",
    "    sns.boxplot(y=rfm_clean[col])\n",
    "    plt.title(f'After Outlier Removal - {col}')\n",
    "plt.tight_layout()\n",
    "plt.show()"
   ]
  },
  {
   "cell_type": "code",
   "execution_count": null,
   "id": "f9d1fe6b",
   "metadata": {},
   "outputs": [],
   "source": [
    "def remove_outliers_iqr(df, columns):\n",
    "    df_clean = df.copy()\n",
    "    for col in columns:\n",
    "        Q1 = df_clean[col].quantile(0.25)\n",
    "        Q3 = df_clean[col].quantile(0.75)\n",
    "        IQR = Q3 - Q1\n",
    "        lower_bound = Q1 - 1.5 * IQR\n",
    "        upper_bound = Q3 + 1.5 * IQR\n",
    "        df_clean = df_clean[(df_clean[col] >= lower_bound) & (df_clean[col] <= upper_bound)]\n",
    "    return df_clean\n"
   ]
  },
  {
   "cell_type": "markdown",
   "id": "dc3020f2",
   "metadata": {},
   "source": [
    "Applying to data"
   ]
  },
  {
   "cell_type": "markdown",
   "id": "80540bf3",
   "metadata": {},
   "source": [
    "Enviroment creation"
   ]
  },
  {
   "cell_type": "code",
   "execution_count": 99,
   "id": "e36da126",
   "metadata": {},
   "outputs": [
    {
     "data": {
      "text/plain": [
       "False"
      ]
     },
     "execution_count": 99,
     "metadata": {},
     "output_type": "execute_result"
    }
   ],
   "source": [
    "from dotenv import load_dotenv\n",
    "load_dotenv()"
   ]
  },
  {
   "cell_type": "markdown",
   "id": "264650f0",
   "metadata": {},
   "source": [
    "### Arranging in 3 Dimensions "
   ]
  },
  {
   "cell_type": "markdown",
   "id": "0943bc17",
   "metadata": {},
   "source": [
    "### using StandardScaler for rescales"
   ]
  },
  {
   "cell_type": "code",
   "execution_count": 73,
   "id": "dd2915d2",
   "metadata": {},
   "outputs": [
    {
     "data": {
      "text/plain": [
       "(793, 3)"
      ]
     },
     "execution_count": 73,
     "metadata": {},
     "output_type": "execute_result"
    }
   ],
   "source": [
    "from sklearn.preprocessing import StandardScaler\n",
    "\n",
    "rfm_scaled_df = rfm_df[['Monetary', 'Frequency', 'Recency']].copy()\n",
    "\n",
    "# Instantiate StandardScaler\n",
    "scaler = StandardScaler()\n",
    "\n",
    "# Fit and transform\n",
    "rfm_scaled_array = scaler.fit_transform(rfm_scaled_df)\n",
    "rfm_scaled_array.shape\n"
   ]
  },
  {
   "cell_type": "code",
   "execution_count": 74,
   "id": "fd6b5e82",
   "metadata": {},
   "outputs": [
    {
     "name": "stdout",
     "output_type": "stream",
     "text": [
      "   Monetary  Frequency   Recency\n",
      "0  1.015112  -0.516429  0.199889\n",
      "1 -0.700590   1.052644 -0.686762\n",
      "2 -0.421139  -0.908697  0.602912\n",
      "3  0.833680  -0.124161 -0.493311\n",
      "4 -0.765391  -1.300965  1.441199\n"
     ]
    }
   ],
   "source": [
    "\n",
    "# Convert back to DataFrame\n",
    "rfm_scaled_df = pd.DataFrame(rfm_scaled_array, columns=['Monetary', 'Frequency', 'Recency'])\n",
    "\n",
    "# Preview\n",
    "print(rfm_scaled_df.head())\n"
   ]
  },
  {
   "cell_type": "markdown",
   "id": "b98e00c0",
   "metadata": {},
   "source": [
    "### Scale the Features"
   ]
  },
  {
   "cell_type": "code",
   "execution_count": 100,
   "id": "9daa8536",
   "metadata": {},
   "outputs": [
    {
     "data": {
      "text/html": [
       "<div>\n",
       "<style scoped>\n",
       "    .dataframe tbody tr th:only-of-type {\n",
       "        vertical-align: middle;\n",
       "    }\n",
       "\n",
       "    .dataframe tbody tr th {\n",
       "        vertical-align: top;\n",
       "    }\n",
       "\n",
       "    .dataframe thead th {\n",
       "        text-align: right;\n",
       "    }\n",
       "</style>\n",
       "<table border=\"1\" class=\"dataframe\">\n",
       "  <thead>\n",
       "    <tr style=\"text-align: right;\">\n",
       "      <th></th>\n",
       "      <th>Recency</th>\n",
       "      <th>Frequency</th>\n",
       "      <th>Monetary</th>\n",
       "    </tr>\n",
       "  </thead>\n",
       "  <tbody>\n",
       "    <tr>\n",
       "      <th>0</th>\n",
       "      <td>0.871106</td>\n",
       "      <td>-0.644938</td>\n",
       "      <td>0.961672</td>\n",
       "    </tr>\n",
       "    <tr>\n",
       "      <th>1</th>\n",
       "      <td>-0.807941</td>\n",
       "      <td>0.973598</td>\n",
       "      <td>-0.737685</td>\n",
       "    </tr>\n",
       "    <tr>\n",
       "      <th>2</th>\n",
       "      <td>1.634310</td>\n",
       "      <td>-1.049572</td>\n",
       "      <td>-0.460896</td>\n",
       "    </tr>\n",
       "    <tr>\n",
       "      <th>3</th>\n",
       "      <td>-0.441604</td>\n",
       "      <td>-0.240304</td>\n",
       "      <td>0.781968</td>\n",
       "    </tr>\n",
       "    <tr>\n",
       "      <th>4</th>\n",
       "      <td>-0.451780</td>\n",
       "      <td>0.568964</td>\n",
       "      <td>1.788153</td>\n",
       "    </tr>\n",
       "  </tbody>\n",
       "</table>\n",
       "</div>"
      ],
      "text/plain": [
       "    Recency  Frequency  Monetary\n",
       "0  0.871106  -0.644938  0.961672\n",
       "1 -0.807941   0.973598 -0.737685\n",
       "2  1.634310  -1.049572 -0.460896\n",
       "3 -0.441604  -0.240304  0.781968\n",
       "4 -0.451780   0.568964  1.788153"
      ]
     },
     "execution_count": 100,
     "metadata": {},
     "output_type": "execute_result"
    }
   ],
   "source": [
    "# Select only RFM features for scaling\n",
    "rfm_features = rfm_clean[['Recency', 'Frequency', 'Monetary']]\n",
    "\n",
    "scaler = StandardScaler()\n",
    "rfm_scaled = scaler.fit_transform(rfm_features)\n",
    "\n",
    "# Optional: convert back to DataFrame for easier inspection\n",
    "rfm_scaled_df = pd.DataFrame(rfm_scaled, columns=['Recency', 'Frequency', 'Monetary'])\n",
    "rfm_scaled_df.head()\n"
   ]
  },
  {
   "cell_type": "markdown",
   "id": "c7364d0e",
   "metadata": {},
   "source": [
    "### Building the model"
   ]
  },
  {
   "cell_type": "markdown",
   "id": "4a496206",
   "metadata": {},
   "source": [
    "finding the value of K(Optimal K using Elbow + Silhouette Method)"
   ]
  },
  {
   "cell_type": "code",
   "execution_count": 75,
   "id": "e8a1d31a",
   "metadata": {},
   "outputs": [
    {
     "data": {
      "text/plain": [
       "Text(0.5, 0, '# of Clusters')"
      ]
     },
     "execution_count": 75,
     "metadata": {},
     "output_type": "execute_result"
    },
    {
     "data": {
      "image/png": "[encoded data removed]",
      "text/plain": [
       "<Figure size 800x550 with 1 Axes>"
      ]
     },
     "metadata": {},
     "output_type": "display_data"
    }
   ],
   "source": [
    "# Elbow-curve /SSD\n",
    "ssd = []\n",
    "for num_clusters in range(1,10):\n",
    "    kmeans = KMeans(n_clusters=num_clusters, max_iter=50, random_state=42)\n",
    "    kmeans.fit(rfm_scaled_df)\n",
    "    ssd.append(kmeans.inertia_)\n",
    "\n",
    "# plot the SSDs for each n_clusters\n",
    "sns.lineplot(y=ssd, x=range(1,10))\n",
    "plt.ylabel('Sum of Square Distance (SSD)')\n",
    "plt.xlabel('# of Clusters')\n"
   ]
  },
  {
   "cell_type": "markdown",
   "id": "3b12a682",
   "metadata": {},
   "source": [
    "### Silhouette Analysis\n",
    "Distance of data point to other clusters. Ideally, we want a higher silhouette score, which indicates good separation between clusters, and tightness within clusters."
   ]
  },
  {
   "cell_type": "code",
   "execution_count": 76,
   "id": "f6bdbb4b",
   "metadata": {},
   "outputs": [
    {
     "name": "stdout",
     "output_type": "stream",
     "text": [
      "For 2 clusters, the silhouette score is: 0.3962405485337517\n",
      "For 3 clusters, the silhouette score is: 0.406837755112994\n",
      "For 4 clusters, the silhouette score is: 0.610201173847741\n",
      "For 5 clusters, the silhouette score is: 0.4662261516342544\n",
      "For 6 clusters, the silhouette score is: 0.534032504569155\n",
      "For 7 clusters, the silhouette score is: 0.5242073812730583\n",
      "For 8 clusters, the silhouette score is: 0.5510443286069485\n",
      "For 9 clusters, the silhouette score is: 0.5014453725603134\n"
     ]
    }
   ],
   "source": [
    "for num_clusters in range(2,10):\n",
    "    # initialize kmeans\n",
    "    kmeans = KMeans(n_clusters=num_clusters, max_iter=50, random_state=42)\n",
    "    kmeans.fit(rfm_scaled_df)\n",
    "    cluster_labels = kmeans.labels_\n",
    "    rfm_scaled_df['Cluster'] = kmeans.fit_predict(rfm_scaled_df)\n",
    "\n",
    "    # silhouette score\n",
    "    silhouette_avg = silhouette_score(rfm_scaled_df, cluster_labels)\n",
    "    print(f\"For {num_clusters} clusters, the silhouette score is: {silhouette_avg}\")\n"
   ]
  },
  {
   "cell_type": "markdown",
   "id": "ca57204c",
   "metadata": {},
   "source": [
    "### Train the model\n"
   ]
  },
  {
   "cell_type": "code",
   "execution_count": 77,
   "id": "42a9ae4c",
   "metadata": {},
   "outputs": [
    {
     "data": {
      "text/plain": [
       "Cluster\n",
       "1    322\n",
       "0    120\n",
       "2     90\n",
       "5     83\n",
       "7     50\n",
       "3     36\n",
       "4     33\n",
       "8     30\n",
       "6     29\n",
       "Name: count, dtype: int64"
      ]
     },
     "execution_count": 77,
     "metadata": {},
     "output_type": "execute_result"
    }
   ],
   "source": [
    "rfm_scaled_df['Cluster'].value_counts()\n",
    "#rfm_scaled_df['Cluster'].shape\n"
   ]
  },
  {
   "cell_type": "code",
   "execution_count": 78,
   "id": "b6966b5d",
   "metadata": {},
   "outputs": [
    {
     "data": {
      "text/html": [
       "<div>\n",
       "<style scoped>\n",
       "    .dataframe tbody tr th:only-of-type {\n",
       "        vertical-align: middle;\n",
       "    }\n",
       "\n",
       "    .dataframe tbody tr th {\n",
       "        vertical-align: top;\n",
       "    }\n",
       "\n",
       "    .dataframe thead th {\n",
       "        text-align: right;\n",
       "    }\n",
       "</style>\n",
       "<table border=\"1\" class=\"dataframe\">\n",
       "  <thead>\n",
       "    <tr style=\"text-align: right;\">\n",
       "      <th></th>\n",
       "      <th>Monetary</th>\n",
       "      <th>Frequency</th>\n",
       "      <th>Recency</th>\n",
       "      <th>Cluster</th>\n",
       "      <th>Cluster_Id</th>\n",
       "    </tr>\n",
       "  </thead>\n",
       "  <tbody>\n",
       "    <tr>\n",
       "      <th>0</th>\n",
       "      <td>1.015112</td>\n",
       "      <td>-0.516429</td>\n",
       "      <td>0.199889</td>\n",
       "      <td>1</td>\n",
       "      <td>1</td>\n",
       "    </tr>\n",
       "    <tr>\n",
       "      <th>1</th>\n",
       "      <td>-0.700590</td>\n",
       "      <td>1.052644</td>\n",
       "      <td>-0.686762</td>\n",
       "      <td>0</td>\n",
       "      <td>0</td>\n",
       "    </tr>\n",
       "    <tr>\n",
       "      <th>2</th>\n",
       "      <td>-0.421139</td>\n",
       "      <td>-0.908697</td>\n",
       "      <td>0.602912</td>\n",
       "      <td>5</td>\n",
       "      <td>5</td>\n",
       "    </tr>\n",
       "    <tr>\n",
       "      <th>3</th>\n",
       "      <td>0.833680</td>\n",
       "      <td>-0.124161</td>\n",
       "      <td>-0.493311</td>\n",
       "      <td>1</td>\n",
       "      <td>1</td>\n",
       "    </tr>\n",
       "    <tr>\n",
       "      <th>4</th>\n",
       "      <td>-0.765391</td>\n",
       "      <td>-1.300965</td>\n",
       "      <td>1.441199</td>\n",
       "      <td>3</td>\n",
       "      <td>3</td>\n",
       "    </tr>\n",
       "  </tbody>\n",
       "</table>\n",
       "</div>"
      ],
      "text/plain": [
       "   Monetary  Frequency   Recency  Cluster  Cluster_Id\n",
       "0  1.015112  -0.516429  0.199889        1           1\n",
       "1 -0.700590   1.052644 -0.686762        0           0\n",
       "2 -0.421139  -0.908697  0.602912        5           5\n",
       "3  0.833680  -0.124161 -0.493311        1           1\n",
       "4 -0.765391  -1.300965  1.441199        3           3"
      ]
     },
     "execution_count": 78,
     "metadata": {},
     "output_type": "execute_result"
    }
   ],
   "source": [
    "\n",
    "# assign the label\n",
    "rfm_scaled_df['Cluster_Id'] = kmeans.labels_\n",
    "rfm_scaled_df.head()\n"
   ]
  },
  {
   "cell_type": "code",
   "execution_count": 79,
   "id": "32a16c8c",
   "metadata": {},
   "outputs": [
    {
     "ename": "ValueError",
     "evalue": "Could not interpret value `Cluster_Id` for `x`. An entry with this name does not appear in `data`.",
     "output_type": "error",
     "traceback": [
      "\u001b[31m---------------------------------------------------------------------------\u001b[39m",
      "\u001b[31mValueError\u001b[39m                                Traceback (most recent call last)",
      "\u001b[36mCell\u001b[39m\u001b[36m \u001b[39m\u001b[32mIn[79]\u001b[39m\u001b[32m, line 2\u001b[39m\n\u001b[32m      1\u001b[39m \u001b[38;5;66;03m# Box plot to visualize Cluster Id vs Monetary\u001b[39;00m\n\u001b[32m----> \u001b[39m\u001b[32m2\u001b[39m sns.boxplot(x=\u001b[33m'\u001b[39m\u001b[33mCluster_Id\u001b[39m\u001b[33m'\u001b[39m, y=\u001b[33m'\u001b[39m\u001b[33mMonetary\u001b[39m\u001b[33m'\u001b[39m, data=rfm_df)\n\u001b[32m      3\u001b[39m plt.tight_layout()\n\u001b[32m      4\u001b[39m plt.show()\n",
      "\u001b[36mFile \u001b[39m\u001b[32m/opt/anaconda3/envs/data_analysis/lib/python3.13/site-packages/seaborn/categorical.py:1597\u001b[39m, in \u001b[36mboxplot\u001b[39m\u001b[34m(data, x, y, hue, order, hue_order, orient, color, palette, saturation, fill, dodge, width, gap, whis, linecolor, linewidth, fliersize, hue_norm, native_scale, log_scale, formatter, legend, ax, **kwargs)\u001b[39m\n\u001b[32m   1589\u001b[39m \u001b[38;5;28;01mdef\u001b[39;00m\u001b[38;5;250m \u001b[39m\u001b[34mboxplot\u001b[39m(\n\u001b[32m   1590\u001b[39m     data=\u001b[38;5;28;01mNone\u001b[39;00m, *, x=\u001b[38;5;28;01mNone\u001b[39;00m, y=\u001b[38;5;28;01mNone\u001b[39;00m, hue=\u001b[38;5;28;01mNone\u001b[39;00m, order=\u001b[38;5;28;01mNone\u001b[39;00m, hue_order=\u001b[38;5;28;01mNone\u001b[39;00m,\n\u001b[32m   1591\u001b[39m     orient=\u001b[38;5;28;01mNone\u001b[39;00m, color=\u001b[38;5;28;01mNone\u001b[39;00m, palette=\u001b[38;5;28;01mNone\u001b[39;00m, saturation=\u001b[32m.75\u001b[39m, fill=\u001b[38;5;28;01mTrue\u001b[39;00m,\n\u001b[32m   (...)\u001b[39m\u001b[32m   1594\u001b[39m     legend=\u001b[33m\"\u001b[39m\u001b[33mauto\u001b[39m\u001b[33m\"\u001b[39m, ax=\u001b[38;5;28;01mNone\u001b[39;00m, **kwargs\n\u001b[32m   1595\u001b[39m ):\n\u001b[32m-> \u001b[39m\u001b[32m1597\u001b[39m     p = _CategoricalPlotter(\n\u001b[32m   1598\u001b[39m         data=data,\n\u001b[32m   1599\u001b[39m         variables=\u001b[38;5;28mdict\u001b[39m(x=x, y=y, hue=hue),\n\u001b[32m   1600\u001b[39m         order=order,\n\u001b[32m   1601\u001b[39m         orient=orient,\n\u001b[32m   1602\u001b[39m         color=color,\n\u001b[32m   1603\u001b[39m         legend=legend,\n\u001b[32m   1604\u001b[39m     )\n\u001b[32m   1606\u001b[39m     \u001b[38;5;28;01mif\u001b[39;00m ax \u001b[38;5;129;01mis\u001b[39;00m \u001b[38;5;28;01mNone\u001b[39;00m:\n\u001b[32m   1607\u001b[39m         ax = plt.gca()\n",
      "\u001b[36mFile \u001b[39m\u001b[32m/opt/anaconda3/envs/data_analysis/lib/python3.13/site-packages/seaborn/categorical.py:67\u001b[39m, in \u001b[36m_CategoricalPlotter.__init__\u001b[39m\u001b[34m(self, data, variables, order, orient, require_numeric, color, legend)\u001b[39m\n\u001b[32m     56\u001b[39m \u001b[38;5;28;01mdef\u001b[39;00m\u001b[38;5;250m \u001b[39m\u001b[34m__init__\u001b[39m(\n\u001b[32m     57\u001b[39m     \u001b[38;5;28mself\u001b[39m,\n\u001b[32m     58\u001b[39m     data=\u001b[38;5;28;01mNone\u001b[39;00m,\n\u001b[32m   (...)\u001b[39m\u001b[32m     64\u001b[39m     legend=\u001b[33m\"\u001b[39m\u001b[33mauto\u001b[39m\u001b[33m\"\u001b[39m,\n\u001b[32m     65\u001b[39m ):\n\u001b[32m---> \u001b[39m\u001b[32m67\u001b[39m     \u001b[38;5;28msuper\u001b[39m().\u001b[34m__init__\u001b[39m(data=data, variables=variables)\n\u001b[32m     69\u001b[39m     \u001b[38;5;66;03m# This method takes care of some bookkeeping that is necessary because the\u001b[39;00m\n\u001b[32m     70\u001b[39m     \u001b[38;5;66;03m# original categorical plots (prior to the 2021 refactor) had some rules that\u001b[39;00m\n\u001b[32m     71\u001b[39m     \u001b[38;5;66;03m# don't fit exactly into VectorPlotter logic. It may be wise to have a second\u001b[39;00m\n\u001b[32m   (...)\u001b[39m\u001b[32m     76\u001b[39m     \u001b[38;5;66;03m# default VectorPlotter rules. If we do decide to make orient part of the\u001b[39;00m\n\u001b[32m     77\u001b[39m     \u001b[38;5;66;03m# _base variable assignment, we'll want to figure out how to express that.\u001b[39;00m\n\u001b[32m     78\u001b[39m     \u001b[38;5;28;01mif\u001b[39;00m \u001b[38;5;28mself\u001b[39m.input_format == \u001b[33m\"\u001b[39m\u001b[33mwide\u001b[39m\u001b[33m\"\u001b[39m \u001b[38;5;129;01mand\u001b[39;00m orient \u001b[38;5;129;01min\u001b[39;00m [\u001b[33m\"\u001b[39m\u001b[33mh\u001b[39m\u001b[33m\"\u001b[39m, \u001b[33m\"\u001b[39m\u001b[33my\u001b[39m\u001b[33m\"\u001b[39m]:\n",
      "\u001b[36mFile \u001b[39m\u001b[32m/opt/anaconda3/envs/data_analysis/lib/python3.13/site-packages/seaborn/_base.py:634\u001b[39m, in \u001b[36mVectorPlotter.__init__\u001b[39m\u001b[34m(self, data, variables)\u001b[39m\n\u001b[32m    629\u001b[39m \u001b[38;5;66;03m# var_ordered is relevant only for categorical axis variables, and may\u001b[39;00m\n\u001b[32m    630\u001b[39m \u001b[38;5;66;03m# be better handled by an internal axis information object that tracks\u001b[39;00m\n\u001b[32m    631\u001b[39m \u001b[38;5;66;03m# such information and is set up by the scale_* methods. The analogous\u001b[39;00m\n\u001b[32m    632\u001b[39m \u001b[38;5;66;03m# information for numeric axes would be information about log scales.\u001b[39;00m\n\u001b[32m    633\u001b[39m \u001b[38;5;28mself\u001b[39m._var_ordered = {\u001b[33m\"\u001b[39m\u001b[33mx\u001b[39m\u001b[33m\"\u001b[39m: \u001b[38;5;28;01mFalse\u001b[39;00m, \u001b[33m\"\u001b[39m\u001b[33my\u001b[39m\u001b[33m\"\u001b[39m: \u001b[38;5;28;01mFalse\u001b[39;00m}  \u001b[38;5;66;03m# alt., used DefaultDict\u001b[39;00m\n\u001b[32m--> \u001b[39m\u001b[32m634\u001b[39m \u001b[38;5;28mself\u001b[39m.assign_variables(data, variables)\n\u001b[32m    636\u001b[39m \u001b[38;5;66;03m# TODO Lots of tests assume that these are called to initialize the\u001b[39;00m\n\u001b[32m    637\u001b[39m \u001b[38;5;66;03m# mappings to default values on class initialization. I'd prefer to\u001b[39;00m\n\u001b[32m    638\u001b[39m \u001b[38;5;66;03m# move away from that and only have a mapping when explicitly called.\u001b[39;00m\n\u001b[32m    639\u001b[39m \u001b[38;5;28;01mfor\u001b[39;00m var \u001b[38;5;129;01min\u001b[39;00m [\u001b[33m\"\u001b[39m\u001b[33mhue\u001b[39m\u001b[33m\"\u001b[39m, \u001b[33m\"\u001b[39m\u001b[33msize\u001b[39m\u001b[33m\"\u001b[39m, \u001b[33m\"\u001b[39m\u001b[33mstyle\u001b[39m\u001b[33m\"\u001b[39m]:\n",
      "\u001b[36mFile \u001b[39m\u001b[32m/opt/anaconda3/envs/data_analysis/lib/python3.13/site-packages/seaborn/_base.py:679\u001b[39m, in \u001b[36mVectorPlotter.assign_variables\u001b[39m\u001b[34m(self, data, variables)\u001b[39m\n\u001b[32m    674\u001b[39m \u001b[38;5;28;01melse\u001b[39;00m:\n\u001b[32m    675\u001b[39m     \u001b[38;5;66;03m# When dealing with long-form input, use the newer PlotData\u001b[39;00m\n\u001b[32m    676\u001b[39m     \u001b[38;5;66;03m# object (internal but introduced for the objects interface)\u001b[39;00m\n\u001b[32m    677\u001b[39m     \u001b[38;5;66;03m# to centralize / standardize data consumption logic.\u001b[39;00m\n\u001b[32m    678\u001b[39m     \u001b[38;5;28mself\u001b[39m.input_format = \u001b[33m\"\u001b[39m\u001b[33mlong\u001b[39m\u001b[33m\"\u001b[39m\n\u001b[32m--> \u001b[39m\u001b[32m679\u001b[39m     plot_data = PlotData(data, variables)\n\u001b[32m    680\u001b[39m     frame = plot_data.frame\n\u001b[32m    681\u001b[39m     names = plot_data.names\n",
      "\u001b[36mFile \u001b[39m\u001b[32m/opt/anaconda3/envs/data_analysis/lib/python3.13/site-packages/seaborn/_core/data.py:58\u001b[39m, in \u001b[36mPlotData.__init__\u001b[39m\u001b[34m(self, data, variables)\u001b[39m\n\u001b[32m     51\u001b[39m \u001b[38;5;28;01mdef\u001b[39;00m\u001b[38;5;250m \u001b[39m\u001b[34m__init__\u001b[39m(\n\u001b[32m     52\u001b[39m     \u001b[38;5;28mself\u001b[39m,\n\u001b[32m     53\u001b[39m     data: DataSource,\n\u001b[32m     54\u001b[39m     variables: \u001b[38;5;28mdict\u001b[39m[\u001b[38;5;28mstr\u001b[39m, VariableSpec],\n\u001b[32m     55\u001b[39m ):\n\u001b[32m     57\u001b[39m     data = handle_data_source(data)\n\u001b[32m---> \u001b[39m\u001b[32m58\u001b[39m     frame, names, ids = \u001b[38;5;28mself\u001b[39m._assign_variables(data, variables)\n\u001b[32m     60\u001b[39m     \u001b[38;5;28mself\u001b[39m.frame = frame\n\u001b[32m     61\u001b[39m     \u001b[38;5;28mself\u001b[39m.names = names\n",
      "\u001b[36mFile \u001b[39m\u001b[32m/opt/anaconda3/envs/data_analysis/lib/python3.13/site-packages/seaborn/_core/data.py:232\u001b[39m, in \u001b[36mPlotData._assign_variables\u001b[39m\u001b[34m(self, data, variables)\u001b[39m\n\u001b[32m    230\u001b[39m     \u001b[38;5;28;01melse\u001b[39;00m:\n\u001b[32m    231\u001b[39m         err += \u001b[33m\"\u001b[39m\u001b[33mAn entry with this name does not appear in `data`.\u001b[39m\u001b[33m\"\u001b[39m\n\u001b[32m--> \u001b[39m\u001b[32m232\u001b[39m     \u001b[38;5;28;01mraise\u001b[39;00m \u001b[38;5;167;01mValueError\u001b[39;00m(err)\n\u001b[32m    234\u001b[39m \u001b[38;5;28;01melse\u001b[39;00m:\n\u001b[32m    235\u001b[39m \n\u001b[32m    236\u001b[39m     \u001b[38;5;66;03m# Otherwise, assume the value somehow represents data\u001b[39;00m\n\u001b[32m    237\u001b[39m \n\u001b[32m    238\u001b[39m     \u001b[38;5;66;03m# Ignore empty data structures\u001b[39;00m\n\u001b[32m    239\u001b[39m     \u001b[38;5;28;01mif\u001b[39;00m \u001b[38;5;28misinstance\u001b[39m(val, Sized) \u001b[38;5;129;01mand\u001b[39;00m \u001b[38;5;28mlen\u001b[39m(val) == \u001b[32m0\u001b[39m:\n",
      "\u001b[31mValueError\u001b[39m: Could not interpret value `Cluster_Id` for `x`. An entry with this name does not appear in `data`."
     ]
    }
   ],
   "source": [
    "# Box plot to visualize Cluster Id vs Monetary\n",
    "sns.boxplot(x='Cluster_Id', y='Monetary', data=rfm_df)\n",
    "plt.tight_layout()\n",
    "plt.show()\n"
   ]
  },
  {
   "cell_type": "code",
   "execution_count": null,
   "id": "fdd9f015",
   "metadata": {},
   "outputs": [
    {
     "data": {
      "text/plain": [
       "<Axes: xlabel='Cluster_Id', ylabel='Frequency'>"
      ]
     },
     "execution_count": 327,
     "metadata": {},
     "output_type": "execute_result"
    },
    {
     "data": {
      "image/png": "[encoded data removed]",
      "text/plain": [
       "<Figure size 800x550 with 1 Axes>"
      ]
     },
     "metadata": {},
     "output_type": "display_data"
    }
   ],
   "source": [
    "# Box plot to visualize Cluster Id vs Frequency\n",
    "sns.boxplot(x='Cluster_Id', y='Frequency', data=rfm_df)"
   ]
  },
  {
   "cell_type": "code",
   "execution_count": null,
   "id": "9bc400b7",
   "metadata": {},
   "outputs": [
    {
     "data": {
      "text/plain": [
       "<Axes: xlabel='Cluster_Id', ylabel='Recency'>"
      ]
     },
     "execution_count": 328,
     "metadata": {},
     "output_type": "execute_result"
    },
    {
     "data": {
      "image/png": "[encoded data removed]",
      "text/plain": [
       "<Figure size 800x550 with 1 Axes>"
      ]
     },
     "metadata": {},
     "output_type": "display_data"
    }
   ],
   "source": [
    "# Box plot to visualize Cluster Id vs Recency\n",
    "sns.boxplot(x='Cluster_Id', y='Recency', data=rfm_df)"
   ]
  },
  {
   "cell_type": "code",
   "execution_count": null,
   "id": "0e93792b",
   "metadata": {},
   "outputs": [
    {
     "ename": "SyntaxError",
     "evalue": "unterminated string literal (detected at line 3) (3721645698.py, line 3)",
     "output_type": "error",
     "traceback": [
      "  \u001b[36mCell\u001b[39m\u001b[36m \u001b[39m\u001b[32mIn[355]\u001b[39m\u001b[32m, line 3\u001b[39m\n\u001b[31m    \u001b[39m\u001b[31mCluster = list(rfm_scaled_df[\"Cluster].unique())\u001b[39m\n                                 ^\n\u001b[31mSyntaxError\u001b[39m\u001b[31m:\u001b[39m unterminated string literal (detected at line 3)\n"
     ]
    }
   ],
   "source": [
    "fig = make_subplots(rows=1, cols=3)\n",
    "\n",
    "Cluster = list(rfm_scaled_df[\"Cluster].unique())\n",
    "Cluster.sort()\n",
    "colors = px.colors.qualitative.Plotly\n",
    "\n",
    "# Subplot 1: 2 + 1\n",
    "for i, c in enumerate(Cluster):\n",
    "    subset = df[df['Cluster] == c]\n",
    "    fig.add_trace(go.Scatter(\n",
    "        x=subset[\"Monetary\"], \n",
    "        y=subset[\"Monetary\"], \n",
    "        mode='markers',\n",
    "        name=c,\n",
    "        legendgroup=c,\n",
    "        marker=dict(color=colors[i]),\n",
    "    ), row=1, col=1)\n",
    "    \n",
    "    \n",
    "fig.update_xaxes(title_text=\"Monetary\", row=1, col=1, title_standoff=10, showticklabels=False)\n",
    "fig.update_yaxes(title_text=\"Monetary\", row=1, col=1, title_standoff=5, showticklabels=False)\n",
    "\n",
    "# Subplot 2: 3 + 1\n",
    "for i, c in enumerate(Cluster):\n",
    "    subset = df[df['Cluster] == c]\n",
    "    fig.add_trace(go.Scatter(\n",
    "        x=subset[\"feature1\"], \n",
    "        y=subset[\"feature3\"], \n",
    "        mode='markers',\n",
    "        name=c,\n",
    "        legendgroup=c,\n",
    "        showlegend=False,\n",
    "        marker=dict(color=colors[i]),\n",
    "    ), row=1, col=2)\n",
    "    \n",
    "fig.update_xaxes(title_text=\"feature1\", row=1, col=2, title_standoff=10, showticklabels=False)\n",
    "fig.update_yaxes(title_text=\"feature3\", row=1, col=2, title_standoff=5, showticklabels=False)\n",
    "    \n",
    "# Subplot 3: 3 + 2\n",
    "for i, c in enumerate(Cluster):\n",
    "    subset = df[df['Cluster] == c]\n",
    "    fig.add_trace(go.Scatter(\n",
    "        x=subset[\"feature2\"], \n",
    "        y=subset[\"feature3\"],  \n",
    "        mode='markers',\n",
    "        name=c,\n",
    "        legendgroup=c,\n",
    "        showlegend=False,\n",
    "        marker=dict(color=colors[i]),\n",
    "    ), row=1, col=3)\n",
    "\n",
    "fig.update_xaxes(title_text=\"feature2\", row=1, col=3, title_standoff=10, showticklabels=False)\n",
    "fig.update_yaxes(title_text=\"feature3\", row=1, col=3, title_standoff=5, showticklabels=False)\n",
    "\n",
    "fig.update_layout(height=400, width=900, title_text=\"Feature Pairs Colored by Cluster)\n",
    "\n",
    "fig.show()"
   ]
  }
 ],
 "metadata": {
  "kernelspec": {
   "display_name": "Python (data_analysis)",
   "language": "python",
   "name": "data_analysis"
  },
  "language_info": {
   "codemirror_mode": {
    "name": "ipython",
    "version": 3
   },
   "file_extension": ".py",
   "mimetype": "text/x-python",
   "name": "python",
   "nbconvert_exporter": "python",
   "pygments_lexer": "ipython3",
   "version": "3.13.5"
  }
 },
 "nbformat": 4,
 "nbformat_minor": 5
}
